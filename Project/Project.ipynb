{
 "cells": [
  {
   "cell_type": "code",
   "execution_count": 1,
   "id": "cb44f65c",
   "metadata": {},
   "outputs": [],
   "source": [
    "using CSV\n",
    "using DataFrames\n",
    "\n",
    "include(\"functions.jl\")\n",
    "using Random"
   ]
  },
  {
   "cell_type": "code",
   "execution_count": 2,
   "metadata": {},
   "outputs": [],
   "source": [
    "using ScikitLearn\n",
    "\n",
    "@sk_import svm:SVC;\n",
    "@sk_import tree:DecisionTreeClassifier;\n",
    "@sk_import ensemble:VotingClassifier\n",
    "@sk_import neighbors: KNeighborsClassifier;\n"
   ]
  },
  {
   "cell_type": "markdown",
   "metadata": {},
   "source": [
    "## Read Data"
   ]
  },
  {
   "cell_type": "code",
   "execution_count": 3,
   "id": "d59fb985",
   "metadata": {},
   "outputs": [],
   "source": [
    "file_path = \"dataset/super_simplified_Android_Malware.csv\"\n",
    "\n",
    "data = CSV.File(file_path, header=true) |> DataFrame;"
   ]
  },
  {
   "cell_type": "code",
   "execution_count": 4,
   "id": "dc9fda2c",
   "metadata": {
    "scrolled": true
   },
   "outputs": [
    {
     "data": {
      "text/html": [
       "<div><div style = \"float: left;\"><span>85×16 DataFrame</span></div><div style = \"float: right;\"><span style = \"font-style: italic;\">60 rows omitted</span></div><div style = \"clear: both;\"></div></div><div class = \"data-frame\" style = \"overflow-x: scroll;\"><table class = \"data-frame\" style = \"margin-bottom: 6px;\"><thead><tr class = \"header\"><th class = \"rowNumber\" style = \"font-weight: bold; text-align: right;\">Row</th><th style = \"text-align: left;\">variable</th><th style = \"text-align: left;\">mean</th><th style = \"text-align: left;\">std</th><th style = \"text-align: left;\">min</th><th style = \"text-align: left;\">q25</th><th style = \"text-align: left;\">median</th><th style = \"text-align: left;\">q75</th><th style = \"text-align: left;\">max</th><th style = \"text-align: left;\">sum</th><th style = \"text-align: left;\">nunique</th><th style = \"text-align: left;\">nuniqueall</th><th style = \"text-align: left;\">nmissing</th><th style = \"text-align: left;\">nnonmissing</th><th style = \"text-align: left;\">first</th><th style = \"text-align: left;\">last</th><th style = \"text-align: left;\">eltype</th></tr><tr class = \"subheader headerLastRow\"><th class = \"rowNumber\" style = \"font-weight: bold; text-align: right;\"></th><th title = \"Symbol\" style = \"text-align: left;\">Symbol</th><th title = \"Union{Nothing, Float64}\" style = \"text-align: left;\">Union…</th><th title = \"Union{Nothing, Float64}\" style = \"text-align: left;\">Union…</th><th title = \"Any\" style = \"text-align: left;\">Any</th><th title = \"Union{Nothing, Float64}\" style = \"text-align: left;\">Union…</th><th title = \"Union{Nothing, Float64}\" style = \"text-align: left;\">Union…</th><th title = \"Union{Nothing, Float64}\" style = \"text-align: left;\">Union…</th><th title = \"Any\" style = \"text-align: left;\">Any</th><th title = \"Union{Nothing, Real}\" style = \"text-align: left;\">Union…</th><th title = \"Union{Nothing, Int64}\" style = \"text-align: left;\">Union…</th><th title = \"Int64\" style = \"text-align: left;\">Int64</th><th title = \"Int64\" style = \"text-align: left;\">Int64</th><th title = \"Int64\" style = \"text-align: left;\">Int64</th><th title = \"Any\" style = \"text-align: left;\">Any</th><th title = \"Any\" style = \"text-align: left;\">Any</th><th title = \"DataType\" style = \"text-align: left;\">DataType</th></tr></thead><tbody><tr><td class = \"rowNumber\" style = \"font-weight: bold; text-align: right;\">1</td><td style = \"text-align: left;\">Flow ID</td><td style = \"font-style: italic; text-align: left;\"></td><td style = \"font-style: italic; text-align: left;\"></td><td style = \"text-align: left;\">1.31.173.21-10.42.0.151-80-36854-6</td><td style = \"font-style: italic; text-align: left;\"></td><td style = \"font-style: italic; text-align: left;\"></td><td style = \"font-style: italic; text-align: left;\"></td><td style = \"text-align: left;\">8.8.8.8-10.42.0.211-53-3181-17</td><td style = \"font-style: italic; text-align: left;\"></td><td style = \"text-align: left;\">3502</td><td style = \"text-align: right;\">3502</td><td style = \"text-align: right;\">0</td><td style = \"text-align: right;\">3557</td><td style = \"text-align: left;\">157.240.0.36-10.42.0.211-443-55364-6</td><td style = \"text-align: left;\">10.42.0.211-10.42.0.1-3890-53-17</td><td style = \"text-align: left;\">String</td></tr><tr><td class = \"rowNumber\" style = \"font-weight: bold; text-align: right;\">2</td><td style = \"text-align: left;\"> Source IP</td><td style = \"font-style: italic; text-align: left;\"></td><td style = \"font-style: italic; text-align: left;\"></td><td style = \"text-align: left;\">0.0.0.0</td><td style = \"font-style: italic; text-align: left;\"></td><td style = \"font-style: italic; text-align: left;\"></td><td style = \"font-style: italic; text-align: left;\"></td><td style = \"text-align: left;\">96.6.164.184</td><td style = \"font-style: italic; text-align: left;\"></td><td style = \"text-align: left;\">246</td><td style = \"text-align: right;\">246</td><td style = \"text-align: right;\">0</td><td style = \"text-align: right;\">3557</td><td style = \"text-align: left;\">10.42.0.211</td><td style = \"text-align: left;\">10.42.0.211</td><td style = \"text-align: left;\">String15</td></tr><tr><td class = \"rowNumber\" style = \"font-weight: bold; text-align: right;\">3</td><td style = \"text-align: left;\"> Source Port</td><td style = \"text-align: left;\">39310.9</td><td style = \"text-align: left;\">17860.1</td><td style = \"text-align: left;\">0</td><td style = \"text-align: left;\">34948.0</td><td style = \"text-align: left;\">43520.0</td><td style = \"text-align: left;\">52110.0</td><td style = \"text-align: left;\">65400</td><td style = \"text-align: left;\">139828814</td><td style = \"font-style: italic; text-align: left;\"></td><td style = \"text-align: right;\">3013</td><td style = \"text-align: right;\">0</td><td style = \"text-align: right;\">3557</td><td style = \"text-align: left;\">55364</td><td style = \"text-align: left;\">3890</td><td style = \"text-align: left;\">Int64</td></tr><tr><td class = \"rowNumber\" style = \"font-weight: bold; text-align: right;\">4</td><td style = \"text-align: left;\"> Destination IP</td><td style = \"font-style: italic; text-align: left;\"></td><td style = \"font-style: italic; text-align: left;\"></td><td style = \"text-align: left;\">1.31.173.21</td><td style = \"font-style: italic; text-align: left;\"></td><td style = \"font-style: italic; text-align: left;\"></td><td style = \"font-style: italic; text-align: left;\"></td><td style = \"text-align: left;\">98.139.225.43</td><td style = \"font-style: italic; text-align: left;\"></td><td style = \"text-align: left;\">826</td><td style = \"text-align: right;\">826</td><td style = \"text-align: right;\">0</td><td style = \"text-align: right;\">3557</td><td style = \"text-align: left;\">157.240.0.36</td><td style = \"text-align: left;\">10.42.0.1</td><td style = \"text-align: left;\">String15</td></tr><tr><td class = \"rowNumber\" style = \"font-weight: bold; text-align: right;\">5</td><td style = \"text-align: left;\"> Destination Port</td><td style = \"text-align: left;\">5390.09</td><td style = \"text-align: left;\">14590.5</td><td style = \"text-align: left;\">0.0</td><td style = \"text-align: left;\">80.0</td><td style = \"text-align: left;\">443.0</td><td style = \"text-align: left;\">443.0</td><td style = \"text-align: left;\">60729.0</td><td style = \"text-align: left;\">1.91725e7</td><td style = \"font-style: italic; text-align: left;\"></td><td style = \"text-align: right;\">400</td><td style = \"text-align: right;\">0</td><td style = \"text-align: right;\">3557</td><td style = \"text-align: left;\">443.0</td><td style = \"text-align: left;\">53.0</td><td style = \"text-align: left;\">Float64</td></tr><tr><td class = \"rowNumber\" style = \"font-weight: bold; text-align: right;\">6</td><td style = \"text-align: left;\"> Protocol</td><td style = \"text-align: left;\">8.26061</td><td style = \"text-align: left;\">4.51586</td><td style = \"text-align: left;\">0.0</td><td style = \"text-align: left;\">6.0</td><td style = \"text-align: left;\">6.0</td><td style = \"text-align: left;\">6.0</td><td style = \"text-align: left;\">17.0</td><td style = \"text-align: left;\">29383.0</td><td style = \"font-style: italic; text-align: left;\"></td><td style = \"text-align: right;\">3</td><td style = \"text-align: right;\">0</td><td style = \"text-align: right;\">3557</td><td style = \"text-align: left;\">6.0</td><td style = \"text-align: left;\">17.0</td><td style = \"text-align: left;\">Float64</td></tr><tr><td class = \"rowNumber\" style = \"font-weight: bold; text-align: right;\">7</td><td style = \"text-align: left;\"> Timestamp</td><td style = \"font-style: italic; text-align: left;\"></td><td style = \"font-style: italic; text-align: left;\"></td><td style = \"text-align: left;\">04/07/2017 10:08:16</td><td style = \"font-style: italic; text-align: left;\"></td><td style = \"font-style: italic; text-align: left;\"></td><td style = \"font-style: italic; text-align: left;\"></td><td style = \"text-align: left;\">30/06/2017 12:59:10</td><td style = \"font-style: italic; text-align: left;\"></td><td style = \"text-align: left;\">3332</td><td style = \"text-align: right;\">3332</td><td style = \"text-align: right;\">0</td><td style = \"text-align: right;\">3557</td><td style = \"text-align: left;\">26/06/2017 12:43:14</td><td style = \"text-align: left;\">13/06/2017 08:39:01</td><td style = \"text-align: left;\">String31</td></tr><tr><td class = \"rowNumber\" style = \"font-weight: bold; text-align: right;\">8</td><td style = \"text-align: left;\"> Flow Duration</td><td style = \"text-align: left;\">1.11761e7</td><td style = \"text-align: left;\">2.19812e7</td><td style = \"text-align: left;\">2</td><td style = \"text-align: left;\">48777.0</td><td style = \"text-align: left;\">557126.0</td><td style = \"text-align: left;\">1.08321e7</td><td style = \"text-align: left;\">119977227</td><td style = \"text-align: left;\">39753215647</td><td style = \"font-style: italic; text-align: left;\"></td><td style = \"text-align: right;\">3442</td><td style = \"text-align: right;\">0</td><td style = \"text-align: right;\">3557</td><td style = \"text-align: left;\">65319091</td><td style = \"text-align: left;\">48681</td><td style = \"text-align: left;\">Int64</td></tr><tr><td class = \"rowNumber\" style = \"font-weight: bold; text-align: right;\">9</td><td style = \"text-align: left;\"> Total Fwd Packets</td><td style = \"text-align: left;\">7.5932</td><td style = \"text-align: left;\">59.0075</td><td style = \"text-align: left;\">1</td><td style = \"text-align: left;\">1.0</td><td style = \"text-align: left;\">2.0</td><td style = \"text-align: left;\">5.0</td><td style = \"text-align: left;\">3246</td><td style = \"text-align: left;\">27009</td><td style = \"font-style: italic; text-align: left;\"></td><td style = \"text-align: right;\">97</td><td style = \"text-align: right;\">0</td><td style = \"text-align: right;\">3557</td><td style = \"text-align: left;\">9</td><td style = \"text-align: left;\">1</td><td style = \"text-align: left;\">Int64</td></tr><tr><td class = \"rowNumber\" style = \"font-weight: bold; text-align: right;\">10</td><td style = \"text-align: left;\"> Total Backward Packets</td><td style = \"text-align: left;\">11.0748</td><td style = \"text-align: left;\">159.416</td><td style = \"text-align: left;\">0</td><td style = \"text-align: left;\">0.0</td><td style = \"text-align: left;\">1.0</td><td style = \"text-align: left;\">4.0</td><td style = \"text-align: left;\">8452</td><td style = \"text-align: left;\">39393</td><td style = \"font-style: italic; text-align: left;\"></td><td style = \"text-align: right;\">117</td><td style = \"text-align: right;\">0</td><td style = \"text-align: right;\">3557</td><td style = \"text-align: left;\">9</td><td style = \"text-align: left;\">1</td><td style = \"text-align: left;\">Int64</td></tr><tr><td class = \"rowNumber\" style = \"font-weight: bold; text-align: right;\">11</td><td style = \"text-align: left;\">Total Length of Fwd Packets</td><td style = \"text-align: left;\">665.05</td><td style = \"text-align: left;\">3221.59</td><td style = \"text-align: left;\">0.0</td><td style = \"text-align: left;\">0.0</td><td style = \"text-align: left;\">31.0</td><td style = \"text-align: left;\">424.0</td><td style = \"text-align: left;\">110678.0</td><td style = \"text-align: left;\">2.36558e6</td><td style = \"font-style: italic; text-align: left;\"></td><td style = \"text-align: right;\">824</td><td style = \"text-align: right;\">0</td><td style = \"text-align: right;\">3557</td><td style = \"text-align: left;\">1307.0</td><td style = \"text-align: left;\">30.0</td><td style = \"text-align: left;\">Float64</td></tr><tr><td class = \"rowNumber\" style = \"font-weight: bold; text-align: right;\">12</td><td style = \"text-align: left;\"> Total Length of Bwd Packets</td><td style = \"text-align: left;\">12084.5</td><td style = \"text-align: left;\">2.29701e5</td><td style = \"text-align: left;\">0.0</td><td style = \"text-align: left;\">0.0</td><td style = \"text-align: left;\">17.0</td><td style = \"text-align: left;\">318.0</td><td style = \"text-align: left;\">1.22247e7</td><td style = \"text-align: left;\">4.29846e7</td><td style = \"font-style: italic; text-align: left;\"></td><td style = \"text-align: right;\">989</td><td style = \"text-align: right;\">0</td><td style = \"text-align: right;\">3557</td><td style = \"text-align: left;\">744.0</td><td style = \"text-align: left;\">140.0</td><td style = \"text-align: left;\">Float64</td></tr><tr><td class = \"rowNumber\" style = \"font-weight: bold; text-align: right;\">13</td><td style = \"text-align: left;\"> Fwd Packet Length Max</td><td style = \"text-align: left;\">218.112</td><td style = \"text-align: left;\">380.199</td><td style = \"text-align: left;\">0.0</td><td style = \"text-align: left;\">0.0</td><td style = \"text-align: left;\">31.0</td><td style = \"text-align: left;\">342.0</td><td style = \"text-align: left;\">1460.0</td><td style = \"text-align: left;\">775824.0</td><td style = \"font-style: italic; text-align: left;\"></td><td style = \"text-align: right;\">525</td><td style = \"text-align: right;\">0</td><td style = \"text-align: right;\">3557</td><td style = \"text-align: left;\">981.0</td><td style = \"text-align: left;\">30.0</td><td style = \"text-align: left;\">Float64</td></tr><tr><td style = \"text-align: right;\">&vellip;</td><td style = \"text-align: right;\">&vellip;</td><td style = \"text-align: right;\">&vellip;</td><td style = \"text-align: right;\">&vellip;</td><td style = \"text-align: right;\">&vellip;</td><td style = \"text-align: right;\">&vellip;</td><td style = \"text-align: right;\">&vellip;</td><td style = \"text-align: right;\">&vellip;</td><td style = \"text-align: right;\">&vellip;</td><td style = \"text-align: right;\">&vellip;</td><td style = \"text-align: right;\">&vellip;</td><td style = \"text-align: right;\">&vellip;</td><td style = \"text-align: right;\">&vellip;</td><td style = \"text-align: right;\">&vellip;</td><td style = \"text-align: right;\">&vellip;</td><td style = \"text-align: right;\">&vellip;</td><td style = \"text-align: right;\">&vellip;</td></tr><tr><td class = \"rowNumber\" style = \"font-weight: bold; text-align: right;\">74</td><td style = \"text-align: left;\"> Init_Win_bytes_backward</td><td style = \"text-align: left;\">2316.0</td><td style = \"text-align: left;\">9279.88</td><td style = \"text-align: left;\">-1.0</td><td style = \"text-align: left;\">-1.0</td><td style = \"text-align: left;\">-1.0</td><td style = \"text-align: left;\">370.0</td><td style = \"text-align: left;\">65535.0</td><td style = \"text-align: left;\">8.23802e6</td><td style = \"font-style: italic; text-align: left;\"></td><td style = \"text-align: right;\">469</td><td style = \"text-align: right;\">0</td><td style = \"text-align: right;\">3557</td><td style = \"text-align: left;\">122.0</td><td style = \"text-align: left;\">-1.0</td><td style = \"text-align: left;\">Float64</td></tr><tr><td class = \"rowNumber\" style = \"font-weight: bold; text-align: right;\">75</td><td style = \"text-align: left;\"> act_data_pkt_fwd</td><td style = \"text-align: left;\">1.52713</td><td style = \"text-align: left;\">6.31718</td><td style = \"text-align: left;\">0.0</td><td style = \"text-align: left;\">0.0</td><td style = \"text-align: left;\">0.0</td><td style = \"text-align: left;\">1.0</td><td style = \"text-align: left;\">176.0</td><td style = \"text-align: left;\">5432.0</td><td style = \"font-style: italic; text-align: left;\"></td><td style = \"text-align: right;\">42</td><td style = \"text-align: right;\">0</td><td style = \"text-align: right;\">3557</td><td style = \"text-align: left;\">3.0</td><td style = \"text-align: left;\">0.0</td><td style = \"text-align: left;\">Float64</td></tr><tr><td class = \"rowNumber\" style = \"font-weight: bold; text-align: right;\">76</td><td style = \"text-align: left;\"> min_seg_size_forward</td><td style = \"text-align: left;\">26.9474</td><td style = \"text-align: left;\">6.84316</td><td style = \"text-align: left;\">0.0</td><td style = \"text-align: left;\">20.0</td><td style = \"text-align: left;\">32.0</td><td style = \"text-align: left;\">32.0</td><td style = \"text-align: left;\">44.0</td><td style = \"text-align: left;\">95852.0</td><td style = \"font-style: italic; text-align: left;\"></td><td style = \"text-align: right;\">6</td><td style = \"text-align: right;\">0</td><td style = \"text-align: right;\">3557</td><td style = \"text-align: left;\">32.0</td><td style = \"text-align: left;\">32.0</td><td style = \"text-align: left;\">Float64</td></tr><tr><td class = \"rowNumber\" style = \"font-weight: bold; text-align: right;\">77</td><td style = \"text-align: left;\">Active Mean</td><td style = \"text-align: left;\">1.78008e5</td><td style = \"text-align: left;\">8.92184e5</td><td style = \"text-align: left;\">0.0</td><td style = \"text-align: left;\">0.0</td><td style = \"text-align: left;\">0.0</td><td style = \"text-align: left;\">0.0</td><td style = \"text-align: left;\">1.18162e7</td><td style = \"text-align: left;\">6.33175e8</td><td style = \"font-style: italic; text-align: left;\"></td><td style = \"text-align: right;\">411</td><td style = \"text-align: right;\">0</td><td style = \"text-align: right;\">3557</td><td style = \"text-align: left;\">548872.0</td><td style = \"text-align: left;\">0.0</td><td style = \"text-align: left;\">Float64</td></tr><tr><td class = \"rowNumber\" style = \"font-weight: bold; text-align: right;\">78</td><td style = \"text-align: left;\"> Active Std</td><td style = \"text-align: left;\">15975.8</td><td style = \"text-align: left;\">2.13277e5</td><td style = \"text-align: left;\">0.0</td><td style = \"text-align: left;\">0.0</td><td style = \"text-align: left;\">0.0</td><td style = \"text-align: left;\">0.0</td><td style = \"text-align: left;\">6.65146e6</td><td style = \"text-align: left;\">5.6826e7</td><td style = \"font-style: italic; text-align: left;\"></td><td style = \"text-align: right;\">62</td><td style = \"text-align: right;\">0</td><td style = \"text-align: right;\">3557</td><td style = \"text-align: left;\">0.0</td><td style = \"text-align: left;\">0.0</td><td style = \"text-align: left;\">Float64</td></tr><tr><td class = \"rowNumber\" style = \"font-weight: bold; text-align: right;\">79</td><td style = \"text-align: left;\"> Active Max</td><td style = \"text-align: left;\">1.93012e5</td><td style = \"text-align: left;\">9.57958e5</td><td style = \"text-align: left;\">0.0</td><td style = \"text-align: left;\">0.0</td><td style = \"text-align: left;\">0.0</td><td style = \"text-align: left;\">0.0</td><td style = \"text-align: left;\">1.30253e7</td><td style = \"text-align: left;\">6.86543e8</td><td style = \"font-style: italic; text-align: left;\"></td><td style = \"text-align: right;\">411</td><td style = \"text-align: right;\">0</td><td style = \"text-align: right;\">3557</td><td style = \"text-align: left;\">548872.0</td><td style = \"text-align: left;\">0.0</td><td style = \"text-align: left;\">Float64</td></tr><tr><td class = \"rowNumber\" style = \"font-weight: bold; text-align: right;\">80</td><td style = \"text-align: left;\"> Active Min</td><td style = \"text-align: left;\">1.64973e5</td><td style = \"text-align: left;\">8.73663e5</td><td style = \"text-align: left;\">0.0</td><td style = \"text-align: left;\">0.0</td><td style = \"text-align: left;\">0.0</td><td style = \"text-align: left;\">0.0</td><td style = \"text-align: left;\">1.18162e7</td><td style = \"text-align: left;\">5.8681e8</td><td style = \"font-style: italic; text-align: left;\"></td><td style = \"text-align: right;\">411</td><td style = \"text-align: right;\">0</td><td style = \"text-align: right;\">3557</td><td style = \"text-align: left;\">548872.0</td><td style = \"text-align: left;\">0.0</td><td style = \"text-align: left;\">Float64</td></tr><tr><td class = \"rowNumber\" style = \"font-weight: bold; text-align: right;\">81</td><td style = \"text-align: left;\">Idle Mean</td><td style = \"text-align: left;\">4.20531e6</td><td style = \"text-align: left;\">1.46331e7</td><td style = \"text-align: left;\">0.0</td><td style = \"text-align: left;\">0.0</td><td style = \"text-align: left;\">0.0</td><td style = \"text-align: left;\">0.0</td><td style = \"text-align: left;\">1.19525e8</td><td style = \"text-align: left;\">1.49583e10</td><td style = \"font-style: italic; text-align: left;\"></td><td style = \"text-align: right;\">436</td><td style = \"text-align: right;\">0</td><td style = \"text-align: right;\">3557</td><td style = \"text-align: left;\">6.47702e7</td><td style = \"text-align: left;\">0.0</td><td style = \"text-align: left;\">Float64</td></tr><tr><td class = \"rowNumber\" style = \"font-weight: bold; text-align: right;\">82</td><td style = \"text-align: left;\"> Idle Std</td><td style = \"text-align: left;\">3.39545e5</td><td style = \"text-align: left;\">2.76935e6</td><td style = \"text-align: left;\">0.0</td><td style = \"text-align: left;\">0.0</td><td style = \"text-align: left;\">0.0</td><td style = \"text-align: left;\">0.0</td><td style = \"text-align: left;\">5.97173e7</td><td style = \"text-align: left;\">1.20776e9</td><td style = \"font-style: italic; text-align: left;\"></td><td style = \"text-align: right;\">102</td><td style = \"text-align: right;\">0</td><td style = \"text-align: right;\">3557</td><td style = \"text-align: left;\">0.0</td><td style = \"text-align: left;\">0.0</td><td style = \"text-align: left;\">Float64</td></tr><tr><td class = \"rowNumber\" style = \"font-weight: bold; text-align: right;\">83</td><td style = \"text-align: left;\"> Idle Max</td><td style = \"text-align: left;\">4.50714e6</td><td style = \"text-align: left;\">1.53714e7</td><td style = \"text-align: left;\">0.0</td><td style = \"text-align: left;\">0.0</td><td style = \"text-align: left;\">0.0</td><td style = \"text-align: left;\">0.0</td><td style = \"text-align: left;\">1.19525e8</td><td style = \"text-align: left;\">1.60319e10</td><td style = \"font-style: italic; text-align: left;\"></td><td style = \"text-align: right;\">436</td><td style = \"text-align: right;\">0</td><td style = \"text-align: right;\">3557</td><td style = \"text-align: left;\">6.47702e7</td><td style = \"text-align: left;\">0.0</td><td style = \"text-align: left;\">Float64</td></tr><tr><td class = \"rowNumber\" style = \"font-weight: bold; text-align: right;\">84</td><td style = \"text-align: left;\"> Idle Min</td><td style = \"text-align: left;\">3.94013e6</td><td style = \"text-align: left;\">1.42761e7</td><td style = \"text-align: left;\">0.0</td><td style = \"text-align: left;\">0.0</td><td style = \"text-align: left;\">0.0</td><td style = \"text-align: left;\">0.0</td><td style = \"text-align: left;\">1.19525e8</td><td style = \"text-align: left;\">1.4015e10</td><td style = \"font-style: italic; text-align: left;\"></td><td style = \"text-align: right;\">436</td><td style = \"text-align: right;\">0</td><td style = \"text-align: right;\">3557</td><td style = \"text-align: left;\">6.47702e7</td><td style = \"text-align: left;\">0.0</td><td style = \"text-align: left;\">Float64</td></tr><tr><td class = \"rowNumber\" style = \"font-weight: bold; text-align: right;\">85</td><td style = \"text-align: left;\">Label</td><td style = \"font-style: italic; text-align: left;\"></td><td style = \"font-style: italic; text-align: left;\"></td><td style = \"text-align: left;\">Android_Adware</td><td style = \"font-style: italic; text-align: left;\"></td><td style = \"font-style: italic; text-align: left;\"></td><td style = \"font-style: italic; text-align: left;\"></td><td style = \"text-align: left;\">Benign</td><td style = \"font-style: italic; text-align: left;\"></td><td style = \"text-align: left;\">4</td><td style = \"text-align: right;\">4</td><td style = \"text-align: right;\">0</td><td style = \"text-align: right;\">3557</td><td style = \"text-align: left;\">Android_Scareware</td><td style = \"text-align: left;\">Android_Adware</td><td style = \"text-align: left;\">String31</td></tr></tbody></table></div>"
      ],
      "text/latex": [
       "\\begin{tabular}{r|ccccc}\n",
       "\t& variable & mean & std & min & \\\\\n",
       "\t\\hline\n",
       "\t& Symbol & Union… & Union… & Any & \\\\\n",
       "\t\\hline\n",
       "\t1 & Flow ID &  &  & 1.31.173.21-10.42.0.151-80-36854-6 & $\\dots$ \\\\\n",
       "\t2 &  Source IP &  &  & 0.0.0.0 & $\\dots$ \\\\\n",
       "\t3 &  Source Port & 39310.9 & 17860.1 & 0 & $\\dots$ \\\\\n",
       "\t4 &  Destination IP &  &  & 1.31.173.21 & $\\dots$ \\\\\n",
       "\t5 &  Destination Port & 5390.09 & 14590.5 & 0.0 & $\\dots$ \\\\\n",
       "\t6 &  Protocol & 8.26061 & 4.51586 & 0.0 & $\\dots$ \\\\\n",
       "\t7 &  Timestamp &  &  & 04/07/2017 10:08:16 & $\\dots$ \\\\\n",
       "\t8 &  Flow Duration & 1.11761e7 & 2.19812e7 & 2 & $\\dots$ \\\\\n",
       "\t9 &  Total Fwd Packets & 7.5932 & 59.0075 & 1 & $\\dots$ \\\\\n",
       "\t10 &  Total Backward Packets & 11.0748 & 159.416 & 0 & $\\dots$ \\\\\n",
       "\t11 & Total Length of Fwd Packets & 665.05 & 3221.59 & 0.0 & $\\dots$ \\\\\n",
       "\t12 &  Total Length of Bwd Packets & 12084.5 & 2.29701e5 & 0.0 & $\\dots$ \\\\\n",
       "\t13 &  Fwd Packet Length Max & 218.112 & 380.199 & 0.0 & $\\dots$ \\\\\n",
       "\t14 &  Fwd Packet Length Min & 11.5516 & 49.0984 & 0.0 & $\\dots$ \\\\\n",
       "\t15 &  Fwd Packet Length Mean & 61.798 & 121.927 & 0.0 & $\\dots$ \\\\\n",
       "\t16 &  Fwd Packet Length Std & 83.1331 & 162.312 & 0.0 & $\\dots$ \\\\\n",
       "\t17 & Bwd Packet Length Max & 322.012 & 540.796 & 0.0 & $\\dots$ \\\\\n",
       "\t18 &  Bwd Packet Length Min & 22.6356 & 54.7526 & 0.0 & $\\dots$ \\\\\n",
       "\t19 &  Bwd Packet Length Mean & 168.154 & 309.932 & 0.0 & $\\dots$ \\\\\n",
       "\t20 &  Bwd Packet Length Std & 123.701 & 229.445 & 0.0 & $\\dots$ \\\\\n",
       "\t21 & Flow Bytes/s & 69412.5 & 5.49234e5 & 0.0 & $\\dots$ \\\\\n",
       "\t22 &  Flow Packets/s & 4549.4 & 30499.7 & 0.023608 & $\\dots$ \\\\\n",
       "\t23 &  Flow IAT Mean & 3.09521e6 & 7.85211e6 & 2.0 & $\\dots$ \\\\\n",
       "\t24 &  Flow IAT Std & 2.52525e6 & 6.32145e6 & 0.0 & $\\dots$ \\\\\n",
       "\t25 &  Flow IAT Max & 9.63644e6 & 1.84513e7 & 2.0 & $\\dots$ \\\\\n",
       "\t26 &  Flow IAT Min & 1.9164e6 & 7.18232e6 & -6.0 & $\\dots$ \\\\\n",
       "\t27 & Fwd IAT Total & 7.63331e6 & 1.84059e7 & 0.0 & $\\dots$ \\\\\n",
       "\t28 &  Fwd IAT Mean & 3.12538e6 & 8.22853e6 & 0.0 & $\\dots$ \\\\\n",
       "\t29 &  Fwd IAT Std & 2.01196e6 & 6.24099e6 & 0.0 & $\\dots$ \\\\\n",
       "\t30 &  Fwd IAT Max & 6.30073e6 & 1.43886e7 & 0.0 & $\\dots$ \\\\\n",
       "\t$\\dots$ & $\\dots$ & $\\dots$ & $\\dots$ & $\\dots$ &  \\\\\n",
       "\\end{tabular}\n"
      ],
      "text/plain": [
       "\u001b[1m85×16 DataFrame\u001b[0m\n",
       "\u001b[1m Row \u001b[0m│\u001b[1m variable                     \u001b[0m\u001b[1m mean      \u001b[0m\u001b[1m std       \u001b[0m\u001b[1m min                \u001b[0m ⋯\n",
       "     │\u001b[90m Symbol                       \u001b[0m\u001b[90m Union…    \u001b[0m\u001b[90m Union…    \u001b[0m\u001b[90m Any                \u001b[0m ⋯\n",
       "─────┼──────────────────────────────────────────────────────────────────────────\n",
       "   1 │ Flow ID                      \u001b[90m           \u001b[0m\u001b[90m           \u001b[0m 1.31.173.21-10.42.0 ⋯\n",
       "   2 │  Source IP                   \u001b[90m           \u001b[0m\u001b[90m           \u001b[0m 0.0.0.0\n",
       "   3 │  Source Port                  39310.9    17860.1    0\n",
       "   4 │  Destination IP              \u001b[90m           \u001b[0m\u001b[90m           \u001b[0m 1.31.173.21\n",
       "   5 │  Destination Port             5390.09    14590.5    0.0                 ⋯\n",
       "   6 │  Protocol                     8.26061    4.51586    0.0\n",
       "   7 │  Timestamp                   \u001b[90m           \u001b[0m\u001b[90m           \u001b[0m 04/07/2017 10:08:16\n",
       "   8 │  Flow Duration                1.11761e7  2.19812e7  2\n",
       "   9 │  Total Fwd Packets            7.5932     59.0075    1                   ⋯\n",
       "  10 │  Total Backward Packets       11.0748    159.416    0\n",
       "  11 │ Total Length of Fwd Packets   665.05     3221.59    0.0\n",
       "  ⋮  │              ⋮                    ⋮          ⋮                      ⋮   ⋱\n",
       "  76 │  min_seg_size_forward         26.9474    6.84316    0.0\n",
       "  77 │ Active Mean                   1.78008e5  8.92184e5  0.0                 ⋯\n",
       "  78 │  Active Std                   15975.8    2.13277e5  0.0\n",
       "  79 │  Active Max                   1.93012e5  9.57958e5  0.0\n",
       "  80 │  Active Min                   1.64973e5  8.73663e5  0.0\n",
       "  81 │ Idle Mean                     4.20531e6  1.46331e7  0.0                 ⋯\n",
       "  82 │  Idle Std                     3.39545e5  2.76935e6  0.0\n",
       "  83 │  Idle Max                     4.50714e6  1.53714e7  0.0\n",
       "  84 │  Idle Min                     3.94013e6  1.42761e7  0.0\n",
       "  85 │ Label                        \u001b[90m           \u001b[0m\u001b[90m           \u001b[0m Android_Adware      ⋯\n",
       "\u001b[36m                                                  13 columns and 64 rows omitted\u001b[0m"
      ]
     },
     "execution_count": 4,
     "metadata": {},
     "output_type": "execute_result"
    }
   ],
   "source": [
    "describe(data, :all)"
   ]
  },
  {
   "cell_type": "code",
   "execution_count": 5,
   "metadata": {},
   "outputs": [
    {
     "name": "stdout",
     "output_type": "stream",
     "text": [
      "Size of dataframe before dropping columns (3557, 85)\n",
      "Adding column  Bwd PSH Flags\n",
      "Adding column  Fwd URG Flags\n",
      "Adding column  Bwd URG Flags\n",
      "Adding column  RST Flag Count\n",
      "Adding column  CWE Flag Count\n",
      "Adding column  ECE Flag Count\n",
      "Adding column Fwd Avg Bytes/Bulk\n",
      "Adding column  Fwd Avg Packets/Bulk\n",
      "Adding column  Fwd Avg Bulk Rate\n",
      "Adding column  Bwd Avg Bytes/Bulk\n",
      "Adding column  Bwd Avg Packets/Bulk\n",
      "Adding column Bwd Avg Bulk Rate\n",
      "Size of dataframe after dropping columns (3557, 71)\n",
      "Size of dataframe after dropping nulls (3557, 71)\n",
      "Size of dataframe after dropping duplicating rows (3557, 71)\n"
     ]
    }
   ],
   "source": [
    "import StatsBase: countmap\n",
    "\n",
    "columns_to_drop = [\"Flow ID\", \" Timestamp\"]\n",
    "columns = names(data)\n",
    "\n",
    "println(\"Size of dataframe before dropping columns $(size(data))\")\n",
    "for column in 1:size(data, 2)\n",
    "    unique_values = countmap(data[:, column])\n",
    "\n",
    "    if length(unique_values) == 1\n",
    "        println(\"Adding column $(columns[column])\")\n",
    "        # println(unique_values)\n",
    "        push!(columns_to_drop, columns[column])\n",
    "    end\n",
    "    \n",
    "end\n",
    "\n",
    "select!(data, Not(columns_to_drop))\n",
    "\n",
    "println(\"Size of dataframe after dropping columns $(size(data))\")\n",
    "\n",
    "dropmissing!(data)\n",
    "\n",
    "println(\"Size of dataframe after dropping nulls $(size(data))\")\n",
    "\n",
    "unique_data = unique(data)\n",
    "\n",
    "println(\"Size of dataframe after dropping duplicating rows $(size(data))\")"
   ]
  },
  {
   "cell_type": "code",
   "execution_count": 6,
   "metadata": {},
   "outputs": [],
   "source": [
    "function ip_to_decimal(ip)\n",
    "    # Split the IP address into octets\n",
    "    octets = split(ip, '.')\n",
    "    # Convert each octet to binary and combine them into a single 32-bit number\n",
    "    binary = join([string(parse(Int, octet, base=10), base=2, pad=8) for octet in octets])\n",
    "    decimal = parse(Int, binary, base=2) # Convert binary to decimal\n",
    "    return decimal\n",
    "end\n",
    "\n",
    "source_ips = data[!, :\" Source IP\"];\n",
    "destination_ips = data[!, :\" Destination IP\"];\n",
    "\n",
    "data[!, :\"Source IP Decimal\"] = map(ip -> ip_to_decimal(ip), source_ips);\n",
    "data[!, :\"Destination IP Decimal\"] = map(ip -> ip_to_decimal(ip), destination_ips);\n",
    "\n",
    "select!(data, Not([\" Source IP\", \" Destination IP\"]));\n"
   ]
  },
  {
   "cell_type": "code",
   "execution_count": 7,
   "metadata": {},
   "outputs": [
    {
     "data": {
      "text/html": [
       "<div><div style = \"float: left;\"><span>71×7 DataFrame</span></div><div style = \"float: right;\"><span style = \"font-style: italic;\">46 rows omitted</span></div><div style = \"clear: both;\"></div></div><div class = \"data-frame\" style = \"overflow-x: scroll;\"><table class = \"data-frame\" style = \"margin-bottom: 6px;\"><thead><tr class = \"header\"><th class = \"rowNumber\" style = \"font-weight: bold; text-align: right;\">Row</th><th style = \"text-align: left;\">variable</th><th style = \"text-align: left;\">mean</th><th style = \"text-align: left;\">min</th><th style = \"text-align: left;\">median</th><th style = \"text-align: left;\">max</th><th style = \"text-align: left;\">nmissing</th><th style = \"text-align: left;\">eltype</th></tr><tr class = \"subheader headerLastRow\"><th class = \"rowNumber\" style = \"font-weight: bold; text-align: right;\"></th><th title = \"Symbol\" style = \"text-align: left;\">Symbol</th><th title = \"Union{Nothing, Float64}\" style = \"text-align: left;\">Union…</th><th title = \"Any\" style = \"text-align: left;\">Any</th><th title = \"Union{Nothing, Float64}\" style = \"text-align: left;\">Union…</th><th title = \"Any\" style = \"text-align: left;\">Any</th><th title = \"Int64\" style = \"text-align: left;\">Int64</th><th title = \"DataType\" style = \"text-align: left;\">DataType</th></tr></thead><tbody><tr><td class = \"rowNumber\" style = \"font-weight: bold; text-align: right;\">1</td><td style = \"text-align: left;\"> Source Port</td><td style = \"text-align: left;\">39310.9</td><td style = \"text-align: left;\">0</td><td style = \"text-align: left;\">43520.0</td><td style = \"text-align: left;\">65400</td><td style = \"text-align: right;\">0</td><td style = \"text-align: left;\">Int64</td></tr><tr><td class = \"rowNumber\" style = \"font-weight: bold; text-align: right;\">2</td><td style = \"text-align: left;\"> Destination Port</td><td style = \"text-align: left;\">5390.09</td><td style = \"text-align: left;\">0.0</td><td style = \"text-align: left;\">443.0</td><td style = \"text-align: left;\">60729.0</td><td style = \"text-align: right;\">0</td><td style = \"text-align: left;\">Float64</td></tr><tr><td class = \"rowNumber\" style = \"font-weight: bold; text-align: right;\">3</td><td style = \"text-align: left;\"> Protocol</td><td style = \"text-align: left;\">8.26061</td><td style = \"text-align: left;\">0.0</td><td style = \"text-align: left;\">6.0</td><td style = \"text-align: left;\">17.0</td><td style = \"text-align: right;\">0</td><td style = \"text-align: left;\">Float64</td></tr><tr><td class = \"rowNumber\" style = \"font-weight: bold; text-align: right;\">4</td><td style = \"text-align: left;\"> Flow Duration</td><td style = \"text-align: left;\">1.11761e7</td><td style = \"text-align: left;\">2</td><td style = \"text-align: left;\">557126.0</td><td style = \"text-align: left;\">119977227</td><td style = \"text-align: right;\">0</td><td style = \"text-align: left;\">Int64</td></tr><tr><td class = \"rowNumber\" style = \"font-weight: bold; text-align: right;\">5</td><td style = \"text-align: left;\"> Total Fwd Packets</td><td style = \"text-align: left;\">7.5932</td><td style = \"text-align: left;\">1</td><td style = \"text-align: left;\">2.0</td><td style = \"text-align: left;\">3246</td><td style = \"text-align: right;\">0</td><td style = \"text-align: left;\">Int64</td></tr><tr><td class = \"rowNumber\" style = \"font-weight: bold; text-align: right;\">6</td><td style = \"text-align: left;\"> Total Backward Packets</td><td style = \"text-align: left;\">11.0748</td><td style = \"text-align: left;\">0</td><td style = \"text-align: left;\">1.0</td><td style = \"text-align: left;\">8452</td><td style = \"text-align: right;\">0</td><td style = \"text-align: left;\">Int64</td></tr><tr><td class = \"rowNumber\" style = \"font-weight: bold; text-align: right;\">7</td><td style = \"text-align: left;\">Total Length of Fwd Packets</td><td style = \"text-align: left;\">665.05</td><td style = \"text-align: left;\">0.0</td><td style = \"text-align: left;\">31.0</td><td style = \"text-align: left;\">110678.0</td><td style = \"text-align: right;\">0</td><td style = \"text-align: left;\">Float64</td></tr><tr><td class = \"rowNumber\" style = \"font-weight: bold; text-align: right;\">8</td><td style = \"text-align: left;\"> Total Length of Bwd Packets</td><td style = \"text-align: left;\">12084.5</td><td style = \"text-align: left;\">0.0</td><td style = \"text-align: left;\">17.0</td><td style = \"text-align: left;\">1.22247e7</td><td style = \"text-align: right;\">0</td><td style = \"text-align: left;\">Float64</td></tr><tr><td class = \"rowNumber\" style = \"font-weight: bold; text-align: right;\">9</td><td style = \"text-align: left;\"> Fwd Packet Length Max</td><td style = \"text-align: left;\">218.112</td><td style = \"text-align: left;\">0.0</td><td style = \"text-align: left;\">31.0</td><td style = \"text-align: left;\">1460.0</td><td style = \"text-align: right;\">0</td><td style = \"text-align: left;\">Float64</td></tr><tr><td class = \"rowNumber\" style = \"font-weight: bold; text-align: right;\">10</td><td style = \"text-align: left;\"> Fwd Packet Length Min</td><td style = \"text-align: left;\">11.5516</td><td style = \"text-align: left;\">0.0</td><td style = \"text-align: left;\">0.0</td><td style = \"text-align: left;\">1460.0</td><td style = \"text-align: right;\">0</td><td style = \"text-align: left;\">Float64</td></tr><tr><td class = \"rowNumber\" style = \"font-weight: bold; text-align: right;\">11</td><td style = \"text-align: left;\"> Fwd Packet Length Mean</td><td style = \"text-align: left;\">61.798</td><td style = \"text-align: left;\">0.0</td><td style = \"text-align: left;\">27.5</td><td style = \"text-align: left;\">1460.0</td><td style = \"text-align: right;\">0</td><td style = \"text-align: left;\">Float64</td></tr><tr><td class = \"rowNumber\" style = \"font-weight: bold; text-align: right;\">12</td><td style = \"text-align: left;\"> Fwd Packet Length Std</td><td style = \"text-align: left;\">83.1331</td><td style = \"text-align: left;\">0.0</td><td style = \"text-align: left;\">0.0</td><td style = \"text-align: left;\">842.931</td><td style = \"text-align: right;\">0</td><td style = \"text-align: left;\">Float64</td></tr><tr><td class = \"rowNumber\" style = \"font-weight: bold; text-align: right;\">13</td><td style = \"text-align: left;\">Bwd Packet Length Max</td><td style = \"text-align: left;\">322.012</td><td style = \"text-align: left;\">0.0</td><td style = \"text-align: left;\">17.0</td><td style = \"text-align: left;\">1460.0</td><td style = \"text-align: right;\">0</td><td style = \"text-align: left;\">Float64</td></tr><tr><td style = \"text-align: right;\">&vellip;</td><td style = \"text-align: right;\">&vellip;</td><td style = \"text-align: right;\">&vellip;</td><td style = \"text-align: right;\">&vellip;</td><td style = \"text-align: right;\">&vellip;</td><td style = \"text-align: right;\">&vellip;</td><td style = \"text-align: right;\">&vellip;</td><td style = \"text-align: right;\">&vellip;</td></tr><tr><td class = \"rowNumber\" style = \"font-weight: bold; text-align: right;\">60</td><td style = \"text-align: left;\"> min_seg_size_forward</td><td style = \"text-align: left;\">26.9474</td><td style = \"text-align: left;\">0.0</td><td style = \"text-align: left;\">32.0</td><td style = \"text-align: left;\">44.0</td><td style = \"text-align: right;\">0</td><td style = \"text-align: left;\">Float64</td></tr><tr><td class = \"rowNumber\" style = \"font-weight: bold; text-align: right;\">61</td><td style = \"text-align: left;\">Active Mean</td><td style = \"text-align: left;\">1.78008e5</td><td style = \"text-align: left;\">0.0</td><td style = \"text-align: left;\">0.0</td><td style = \"text-align: left;\">1.18162e7</td><td style = \"text-align: right;\">0</td><td style = \"text-align: left;\">Float64</td></tr><tr><td class = \"rowNumber\" style = \"font-weight: bold; text-align: right;\">62</td><td style = \"text-align: left;\"> Active Std</td><td style = \"text-align: left;\">15975.8</td><td style = \"text-align: left;\">0.0</td><td style = \"text-align: left;\">0.0</td><td style = \"text-align: left;\">6.65146e6</td><td style = \"text-align: right;\">0</td><td style = \"text-align: left;\">Float64</td></tr><tr><td class = \"rowNumber\" style = \"font-weight: bold; text-align: right;\">63</td><td style = \"text-align: left;\"> Active Max</td><td style = \"text-align: left;\">1.93012e5</td><td style = \"text-align: left;\">0.0</td><td style = \"text-align: left;\">0.0</td><td style = \"text-align: left;\">1.30253e7</td><td style = \"text-align: right;\">0</td><td style = \"text-align: left;\">Float64</td></tr><tr><td class = \"rowNumber\" style = \"font-weight: bold; text-align: right;\">64</td><td style = \"text-align: left;\"> Active Min</td><td style = \"text-align: left;\">1.64973e5</td><td style = \"text-align: left;\">0.0</td><td style = \"text-align: left;\">0.0</td><td style = \"text-align: left;\">1.18162e7</td><td style = \"text-align: right;\">0</td><td style = \"text-align: left;\">Float64</td></tr><tr><td class = \"rowNumber\" style = \"font-weight: bold; text-align: right;\">65</td><td style = \"text-align: left;\">Idle Mean</td><td style = \"text-align: left;\">4.20531e6</td><td style = \"text-align: left;\">0.0</td><td style = \"text-align: left;\">0.0</td><td style = \"text-align: left;\">1.19525e8</td><td style = \"text-align: right;\">0</td><td style = \"text-align: left;\">Float64</td></tr><tr><td class = \"rowNumber\" style = \"font-weight: bold; text-align: right;\">66</td><td style = \"text-align: left;\"> Idle Std</td><td style = \"text-align: left;\">3.39545e5</td><td style = \"text-align: left;\">0.0</td><td style = \"text-align: left;\">0.0</td><td style = \"text-align: left;\">5.97173e7</td><td style = \"text-align: right;\">0</td><td style = \"text-align: left;\">Float64</td></tr><tr><td class = \"rowNumber\" style = \"font-weight: bold; text-align: right;\">67</td><td style = \"text-align: left;\"> Idle Max</td><td style = \"text-align: left;\">4.50714e6</td><td style = \"text-align: left;\">0.0</td><td style = \"text-align: left;\">0.0</td><td style = \"text-align: left;\">1.19525e8</td><td style = \"text-align: right;\">0</td><td style = \"text-align: left;\">Float64</td></tr><tr><td class = \"rowNumber\" style = \"font-weight: bold; text-align: right;\">68</td><td style = \"text-align: left;\"> Idle Min</td><td style = \"text-align: left;\">3.94013e6</td><td style = \"text-align: left;\">0.0</td><td style = \"text-align: left;\">0.0</td><td style = \"text-align: left;\">1.19525e8</td><td style = \"text-align: right;\">0</td><td style = \"text-align: left;\">Float64</td></tr><tr><td class = \"rowNumber\" style = \"font-weight: bold; text-align: right;\">69</td><td style = \"text-align: left;\">Label</td><td style = \"font-style: italic; text-align: left;\"></td><td style = \"text-align: left;\">Android_Adware</td><td style = \"font-style: italic; text-align: left;\"></td><td style = \"text-align: left;\">Benign</td><td style = \"text-align: right;\">0</td><td style = \"text-align: left;\">String31</td></tr><tr><td class = \"rowNumber\" style = \"font-weight: bold; text-align: right;\">70</td><td style = \"text-align: left;\">Source IP Decimal</td><td style = \"text-align: left;\">3.7389e8</td><td style = \"text-align: left;\">0</td><td style = \"text-align: left;\">1.70525e8</td><td style = \"text-align: left;\">3706972955</td><td style = \"text-align: right;\">0</td><td style = \"text-align: left;\">Int64</td></tr><tr><td class = \"rowNumber\" style = \"font-weight: bold; text-align: right;\">71</td><td style = \"text-align: left;\">Destination IP Decimal</td><td style = \"text-align: left;\">1.65266e9</td><td style = \"text-align: left;\">18853141</td><td style = \"text-align: left;\">1.76149e9</td><td style = \"text-align: left;\">4294967295</td><td style = \"text-align: right;\">0</td><td style = \"text-align: left;\">Int64</td></tr></tbody></table></div>"
      ],
      "text/latex": [
       "\\begin{tabular}{r|ccccccc}\n",
       "\t& variable & mean & min & median & max & nmissing & \\\\\n",
       "\t\\hline\n",
       "\t& Symbol & Union… & Any & Union… & Any & Int64 & \\\\\n",
       "\t\\hline\n",
       "\t1 &  Source Port & 39310.9 & 0 & 43520.0 & 65400 & 0 & $\\dots$ \\\\\n",
       "\t2 &  Destination Port & 5390.09 & 0.0 & 443.0 & 60729.0 & 0 & $\\dots$ \\\\\n",
       "\t3 &  Protocol & 8.26061 & 0.0 & 6.0 & 17.0 & 0 & $\\dots$ \\\\\n",
       "\t4 &  Flow Duration & 1.11761e7 & 2 & 557126.0 & 119977227 & 0 & $\\dots$ \\\\\n",
       "\t5 &  Total Fwd Packets & 7.5932 & 1 & 2.0 & 3246 & 0 & $\\dots$ \\\\\n",
       "\t6 &  Total Backward Packets & 11.0748 & 0 & 1.0 & 8452 & 0 & $\\dots$ \\\\\n",
       "\t7 & Total Length of Fwd Packets & 665.05 & 0.0 & 31.0 & 110678.0 & 0 & $\\dots$ \\\\\n",
       "\t8 &  Total Length of Bwd Packets & 12084.5 & 0.0 & 17.0 & 1.22247e7 & 0 & $\\dots$ \\\\\n",
       "\t9 &  Fwd Packet Length Max & 218.112 & 0.0 & 31.0 & 1460.0 & 0 & $\\dots$ \\\\\n",
       "\t10 &  Fwd Packet Length Min & 11.5516 & 0.0 & 0.0 & 1460.0 & 0 & $\\dots$ \\\\\n",
       "\t11 &  Fwd Packet Length Mean & 61.798 & 0.0 & 27.5 & 1460.0 & 0 & $\\dots$ \\\\\n",
       "\t12 &  Fwd Packet Length Std & 83.1331 & 0.0 & 0.0 & 842.931 & 0 & $\\dots$ \\\\\n",
       "\t13 & Bwd Packet Length Max & 322.012 & 0.0 & 17.0 & 1460.0 & 0 & $\\dots$ \\\\\n",
       "\t14 &  Bwd Packet Length Min & 22.6356 & 0.0 & 0.0 & 443.0 & 0 & $\\dots$ \\\\\n",
       "\t15 &  Bwd Packet Length Mean & 168.154 & 0.0 & 7.75 & 1446.37 & 0 & $\\dots$ \\\\\n",
       "\t16 &  Bwd Packet Length Std & 123.701 & 0.0 & 0.0 & 794.229 & 0 & $\\dots$ \\\\\n",
       "\t17 & Flow Bytes/s & 69412.5 & 0.0 & 74.025 & 1.51429e7 & 0 & $\\dots$ \\\\\n",
       "\t18 &  Flow Packets/s & 4549.4 & 0.023608 & 7.75254 & 1.0e6 & 0 & $\\dots$ \\\\\n",
       "\t19 &  Flow IAT Mean & 3.09521e6 & 2.0 & 223009.0 & 8.47169e7 & 0 & $\\dots$ \\\\\n",
       "\t20 &  Flow IAT Std & 2.52525e6 & 0.0 & 0.0 & 7.34131e7 & 0 & $\\dots$ \\\\\n",
       "\t21 &  Flow IAT Max & 9.63644e6 & 2.0 & 334527.0 & 1.19525e8 & 0 & $\\dots$ \\\\\n",
       "\t22 &  Flow IAT Min & 1.9164e6 & -6.0 & 3064.0 & 8.47169e7 & 0 & $\\dots$ \\\\\n",
       "\t23 & Fwd IAT Total & 7.63331e6 & 0.0 & 260574.0 & 1.19977e8 & 0 & $\\dots$ \\\\\n",
       "\t24 &  Fwd IAT Mean & 3.12538e6 & 0.0 & 47083.7 & 8.47169e7 & 0 & $\\dots$ \\\\\n",
       "\t25 &  Fwd IAT Std & 2.01196e6 & 0.0 & 0.0 & 7.34131e7 & 0 & $\\dots$ \\\\\n",
       "\t26 &  Fwd IAT Max & 6.30073e6 & 0.0 & 134623.0 & 1.19525e8 & 0 & $\\dots$ \\\\\n",
       "\t27 &  Fwd IAT Min & 1.94588e6 & 0.0 & 102.0 & 8.47169e7 & 0 & $\\dots$ \\\\\n",
       "\t28 & Bwd IAT Total & 5.7944e6 & 0.0 & 0.0 & 1.19483e8 & 0 & $\\dots$ \\\\\n",
       "\t29 &  Bwd IAT Mean & 9.55921e5 & 0.0 & 0.0 & 7.21132e7 & 0 & $\\dots$ \\\\\n",
       "\t30 &  Bwd IAT Std & 1.37297e6 & 0.0 & 0.0 & 5.23257e7 & 0 & $\\dots$ \\\\\n",
       "\t$\\dots$ & $\\dots$ & $\\dots$ & $\\dots$ & $\\dots$ & $\\dots$ & $\\dots$ &  \\\\\n",
       "\\end{tabular}\n"
      ],
      "text/plain": [
       "\u001b[1m71×7 DataFrame\u001b[0m\n",
       "\u001b[1m Row \u001b[0m│\u001b[1m variable                     \u001b[0m\u001b[1m mean      \u001b[0m\u001b[1m min            \u001b[0m\u001b[1m median    \u001b[0m\u001b[1m max\u001b[0m ⋯\n",
       "     │\u001b[90m Symbol                       \u001b[0m\u001b[90m Union…    \u001b[0m\u001b[90m Any            \u001b[0m\u001b[90m Union…    \u001b[0m\u001b[90m Any\u001b[0m ⋯\n",
       "─────┼──────────────────────────────────────────────────────────────────────────\n",
       "   1 │  Source Port                  39310.9    0               43520.0    654 ⋯\n",
       "   2 │  Destination Port             5390.09    0.0             443.0      607\n",
       "   3 │  Protocol                     8.26061    0.0             6.0        17.\n",
       "   4 │  Flow Duration                1.11761e7  2               557126.0   119\n",
       "   5 │  Total Fwd Packets            7.5932     1               2.0        324 ⋯\n",
       "   6 │  Total Backward Packets       11.0748    0               1.0        845\n",
       "   7 │ Total Length of Fwd Packets   665.05     0.0             31.0       110\n",
       "   8 │  Total Length of Bwd Packets  12084.5    0.0             17.0       1.2\n",
       "   9 │  Fwd Packet Length Max        218.112    0.0             31.0       146 ⋯\n",
       "  10 │  Fwd Packet Length Min        11.5516    0.0             0.0        146\n",
       "  11 │  Fwd Packet Length Mean       61.798     0.0             27.5       146\n",
       "  ⋮  │              ⋮                    ⋮            ⋮             ⋮          ⋱\n",
       "  62 │  Active Std                   15975.8    0.0             0.0        6.6\n",
       "  63 │  Active Max                   1.93012e5  0.0             0.0        1.3 ⋯\n",
       "  64 │  Active Min                   1.64973e5  0.0             0.0        1.1\n",
       "  65 │ Idle Mean                     4.20531e6  0.0             0.0        1.1\n",
       "  66 │  Idle Std                     3.39545e5  0.0             0.0        5.9\n",
       "  67 │  Idle Max                     4.50714e6  0.0             0.0        1.1 ⋯\n",
       "  68 │  Idle Min                     3.94013e6  0.0             0.0        1.1\n",
       "  69 │ Label                        \u001b[90m           \u001b[0m Android_Adware \u001b[90m           \u001b[0m Ben\n",
       "  70 │ Source IP Decimal             3.7389e8   0               1.70525e8  370\n",
       "  71 │ Destination IP Decimal        1.65266e9  18853141        1.76149e9  429 ⋯\n",
       "\u001b[36m                                                   3 columns and 50 rows omitted\u001b[0m"
      ]
     },
     "execution_count": 7,
     "metadata": {},
     "output_type": "execute_result"
    }
   ],
   "source": [
    "describe(data)"
   ]
  },
  {
   "cell_type": "markdown",
   "id": "686acd66",
   "metadata": {},
   "source": [
    "## First approach: binary classification"
   ]
  },
  {
   "cell_type": "code",
   "execution_count": 8,
   "id": "d2856c53",
   "metadata": {},
   "outputs": [],
   "source": [
    "function transform_binary_class(output_data)\n",
    "    binary_labels = output_data .!= \"Benign\"\n",
    "    return binary_labels\n",
    "end\n",
    "\n",
    "output_data = data[!, :Label];\n",
    "select!(data, Not(:Label))\n",
    "\n",
    "input_data = Matrix(data[!, 1:size(data, 2)]);\n",
    "\n",
    "binary_labels = transform_binary_class(output_data)\n",
    "@assert binary_labels isa BitVector\n",
    "@assert input_data isa Matrix"
   ]
  },
  {
   "cell_type": "markdown",
   "metadata": {},
   "source": [
    "### Preprocessing"
   ]
  },
  {
   "cell_type": "code",
   "execution_count": 9,
   "id": "58b7af8e",
   "metadata": {},
   "outputs": [],
   "source": [
    "Random.seed!(42)\n",
    "\n",
    "train_indexes, test_indexes = holdOut(size(input_data, 1), 0.2)\n",
    "\n",
    "train_input = convert(Array{Float32, 2}, input_data[train_indexes, :])\n",
    "train_output = binary_labels[train_indexes]\n",
    "\n",
    "normalizationParameters = calculateMinMaxNormalizationParameters(train_input)\n",
    "\n",
    "normalizeMinMax!(train_input, normalizationParameters)\n",
    "\n",
    "test_input = convert(Array{Float32, 2}, input_data[test_indexes, :])\n",
    "test_output = binary_labels[test_indexes]\n",
    "\n",
    "normalizeMinMax!(test_input, normalizationParameters)\n",
    "\n",
    "@assert size(test_input, 1) == size(test_output, 1)\n",
    "@assert size(train_input, 1) == size(train_output, 1)"
   ]
  },
  {
   "cell_type": "code",
   "execution_count": 10,
   "metadata": {},
   "outputs": [],
   "source": [
    "Random.seed!(42)\n",
    "\n",
    "kFolds = 10\n",
    "crossValidationIndexes = crossvalidation(train_output, kFolds);"
   ]
  },
  {
   "cell_type": "code",
   "execution_count": 11,
   "metadata": {},
   "outputs": [
    {
     "data": {
      "text/plain": [
       "generate_latex_table (generic function with 1 method)"
      ]
     },
     "execution_count": 11,
     "metadata": {},
     "output_type": "execute_result"
    }
   ],
   "source": [
    "function generate_latex_table(metrics::Dict{String, <: Any}, final::Bool)\n",
    "    \n",
    "    topology = metrics[\"topology\"]\n",
    "    accuracy = metrics[\"accuracy\"]\n",
    "    recall = metrics[\"recall\"]\n",
    "    specificity = metrics[\"specificity\"]\n",
    "    f1_score = metrics[\"f1_score\"]\n",
    "    \n",
    "    if final\n",
    "        confusion_matrix = metrics[\"confusion_matrix\"]\n",
    "        println(\"$topology & $(round(accuracy*100, digits=2))\\\\%  & $(round(recall*100, digits=2))\\\\%  & $(round(specificity*100, digits=2))\\\\%  & $(round(f1_score*100, digits=2))\\\\% & $confusion_matrix \\\\\\\\\")\n",
    "    else\n",
    "        std_accuracy = metrics[\"std_accuracy\"]\n",
    "        std_recall = metrics[\"std_recall\"]\n",
    "        std_specificity = metrics[\"std_specificity\"]\n",
    "        std_f1_score = metrics[\"std_f1_score\"]\n",
    "        println(\"$topology & $(round(accuracy*100, digits=2))\\\\% \\\\textit{($(round(std_accuracy, digits = 2)))} & $(round(recall*100, digits=2))\\\\% \\\\textit{($(round(std_recall, digits = 2)))} & $(round(specificity*100, digits=2))\\\\% \\\\textit{($(round(std_specificity, digits = 2)))} & $(round(f1_score*100, digits=2))\\\\% \\\\textit{($(round(std_f1_score, digits = 2)))} \\\\\\\\\")\n",
    "    end\n",
    "    \n",
    "end"
   ]
  },
  {
   "cell_type": "markdown",
   "metadata": {},
   "source": [
    "### kNN"
   ]
  },
  {
   "cell_type": "code",
   "execution_count": 12,
   "metadata": {},
   "outputs": [
    {
     "name": "stdout",
     "output_type": "stream",
     "text": [
      "3 & 92.79\\% \\textit{(0.01)} & 98.95\\% \\textit{(0.01)} & 1.14\\% \\textit{(0.02)} & 96.26\\% \\textit{(0.0)} \\\\\n",
      "5 & 93.43\\% \\textit{(0.0)} & 99.7\\% \\textit{(0.0)} & 0.0\\% \\textit{(0.0)} & 96.6\\% \\textit{(0.0)} \\\\\n",
      "7 & 93.57\\% \\textit{(0.0)} & 99.85\\% \\textit{(0.0)} & 0.0\\% \\textit{(0.0)} & 96.68\\% \\textit{(0.0)} \\\\\n",
      "10 & 93.67\\% \\textit{(0.0)} & 99.96\\% \\textit{(0.0)} & 0.0\\% \\textit{(0.0)} & 96.73\\% \\textit{(0.0)} \\\\\n",
      "15 & 93.71\\% \\textit{(0.0)} & 100.0\\% \\textit{(0.0)} & 0.0\\% \\textit{(0.0)} & 96.75\\% \\textit{(0.0)} \\\\\n",
      "20 & 93.71\\% \\textit{(0.0)} & 100.0\\% \\textit{(0.0)} & 0.0\\% \\textit{(0.0)} & 96.75\\% \\textit{(0.0)} \\\\\n",
      "----------------------------------------------------------------\n",
      "3 & 90.03\\%  & 97.86\\%  & 1.72\\%  & 94.74\\% & [640 57; 14 1] \\\\\n",
      "5 & 91.43\\%  & 99.54\\%  & 0.0\\%  & 95.52\\% & [651 58; 3 0] \\\\\n",
      "7 & 91.85\\%  & 100.0\\%  & 0.0\\%  & 95.75\\% & [654 58; 0 0] \\\\\n",
      "10 & 91.85\\%  & 100.0\\%  & 0.0\\%  & 95.75\\% & [654 58; 0 0] \\\\\n",
      "15 & 91.85\\%  & 100.0\\%  & 0.0\\%  & 95.75\\% & [654 58; 0 0] \\\\\n",
      "20 & 91.85\\%  & 100.0\\%  & 0.0\\%  & 95.75\\% & [654 58; 0 0] \\\\\n"
     ]
    }
   ],
   "source": [
    "include(\"functions.jl\")\n",
    "knnParameters = Dict(\"modelType\" => :kNN, \"numNeighboors\" => 0)\n",
    "\n",
    "ks = [3 , 5, 7, 10, 15, 20]\n",
    "for k in ks\n",
    "    knnParameters[\"numNeighboors\"] = k\n",
    "    metricsCV = (modelCrossValidation(knnParameters[\"modelType\"], knnParameters, train_input, train_output, crossValidationIndexes))\n",
    "    metricsCV[\"topology\"] = k\n",
    "\n",
    "    generate_latex_table(metricsCV, false)\n",
    "end\n",
    "\n",
    "println(\"----------------------------------------------------------------\")\n",
    "for k in ks\n",
    "    knnParameters[\"numNeighboors\"] = k\n",
    "    metrics = createAndTrainFinalModel(knnParameters[\"modelType\"], knnParameters, train_input, train_output, test_input, test_output)\n",
    "    metrics[\"topology\"] = k\n",
    "\n",
    "    generate_latex_table(metrics, true)\n",
    "end"
   ]
  },
  {
   "cell_type": "markdown",
   "metadata": {},
   "source": [
    "### Decision Tree"
   ]
  },
  {
   "cell_type": "code",
   "execution_count": 13,
   "metadata": {},
   "outputs": [
    {
     "name": "stdout",
     "output_type": "stream",
     "text": [
      "3 & 93.22\\% \\textit{(0.01)} & 99.47\\% \\textit{(0.01)} & 0.0\\% \\textit{(0.0)} & 96.49\\% \\textit{(0.0)} \\\\\n",
      "5 & 92.8\\% \\textit{(0.01)} & 98.99\\% \\textit{(0.01)} & 0.56\\% \\textit{(0.02)} & 96.26\\% \\textit{(0.0)} \\\\\n",
      "7 & 91.88\\% \\textit{(0.01)} & 97.94\\% \\textit{(0.01)} & 1.7\\% \\textit{(0.03)} & 95.76\\% \\textit{(0.01)} \\\\\n",
      "10 & 90.37\\% \\textit{(0.02)} & 96.14\\% \\textit{(0.02)} & 4.48\\% \\textit{(0.04)} & 94.92\\% \\textit{(0.01)} \\\\\n",
      "15 & 88.33\\% \\textit{(0.02)} & 93.93\\% \\textit{(0.02)} & 5.03\\% \\textit{(0.05)} & 93.77\\% \\textit{(0.01)} \\\\\n",
      "9223372036854775807 & 87.07\\% \\textit{(0.02)} & 92.5\\% \\textit{(0.02)} & 6.21\\% \\textit{(0.06)} & 93.05\\% \\textit{(0.01)} \\\\\n",
      "----------------------------------------------------------------\n",
      "3 & 83.43\\%  & 90.83\\%  & 0.0\\%  & 90.96\\% & [594 58; 60 0] \\\\\n",
      "5 & 84.55\\%  & 91.74\\%  & 3.45\\%  & 91.6\\% & [600 56; 54 2] \\\\\n",
      "7 & 84.55\\%  & 91.9\\%  & 1.72\\%  & 91.62\\% & [601 57; 53 1] \\\\\n",
      "10 & 83.85\\%  & 91.13\\%  & 1.72\\%  & 91.2\\% & [596 57; 58 1] \\\\\n",
      "15 & 83.71\\%  & 90.98\\%  & 1.72\\%  & 91.12\\% & [595 57; 59 1] \\\\\n",
      "9223372036854775807 & 83.99\\%  & 91.28\\%  & 1.72\\%  & 91.28\\% & [597 57; 57 1] \\\\\n"
     ]
    }
   ],
   "source": [
    "include(\"functions.jl\")\n",
    "dtParameters = Dict(\"modelType\" => :DecisionTree, \"maxDepth\" => 1)\n",
    "\n",
    "depths = [3, 5, 7, 10, 15, typemax(Int)]\n",
    "for depth in depths\n",
    "    dtParameters[\"maxDepth\"] = depth\n",
    "    metricsCV = (modelCrossValidation(dtParameters[\"modelType\"], dtParameters, train_input, train_output, crossValidationIndexes))\n",
    "    metricsCV[\"topology\"] = depth\n",
    "\n",
    "    generate_latex_table(metricsCV, false)\n",
    "\n",
    "end\n",
    "\n",
    "println(\"----------------------------------------------------------------\")\n",
    "\n",
    "for depth in depths\n",
    "    dtParameters[\"maxDepth\"] = depth\n",
    "    metrics = createAndTrainFinalModel(dtParameters[\"modelType\"], dtParameters, train_input, train_output, test_input, test_output)\n",
    "    metrics[\"topology\"] = depth\n",
    "\n",
    "    generate_latex_table(metrics, true)\n",
    "\n",
    "end\n"
   ]
  },
  {
   "cell_type": "markdown",
   "metadata": {},
   "source": [
    "### SVM"
   ]
  },
  {
   "cell_type": "code",
   "execution_count": 14,
   "metadata": {},
   "outputs": [
    {
     "name": "stdout",
     "output_type": "stream",
     "text": [
      "rbf0.1 & 93.71\\% \\textit{(0.0)} & 100.0\\% \\textit{(0.0)} & 0.0\\% \\textit{(0.0)} & 96.75\\% \\textit{(0.0)} \\\\\n",
      "rbf1.0 & 93.71\\% \\textit{(0.0)} & 100.0\\% \\textit{(0.0)} & 0.0\\% \\textit{(0.0)} & 96.75\\% \\textit{(0.0)} \\\\\n",
      "rbf10.0 & 93.64\\% \\textit{(0.0)} & 99.93\\% \\textit{(0.0)} & 0.0\\% \\textit{(0.0)} & 96.71\\% \\textit{(0.0)} \\\\\n",
      "poly0.1 & 93.71\\% \\textit{(0.0)} & 100.0\\% \\textit{(0.0)} & 0.0\\% \\textit{(0.0)} & 96.75\\% \\textit{(0.0)} \\\\\n",
      "poly1.0 & 93.67\\% \\textit{(0.0)} & 99.96\\% \\textit{(0.0)} & 0.0\\% \\textit{(0.0)} & 96.73\\% \\textit{(0.0)} \\\\\n",
      "linear0.1 & 93.71\\% \\textit{(0.0)} & 100.0\\% \\textit{(0.0)} & 0.0\\% \\textit{(0.0)} & 96.75\\% \\textit{(0.0)} \\\\\n",
      "linear1.0 & 93.71\\% \\textit{(0.0)} & 100.0\\% \\textit{(0.0)} & 0.0\\% \\textit{(0.0)} & 96.75\\% \\textit{(0.0)} \\\\\n",
      "linear10.0 & 93.71\\% \\textit{(0.0)} & 100.0\\% \\textit{(0.0)} & 0.0\\% \\textit{(0.0)} & 96.75\\% \\textit{(0.0)} \\\\\n",
      "----------------------------------------------------------------\n",
      "rbf0.1 & 91.85\\%  & 100.0\\%  & 0.0\\%  & 95.75\\% & [654 58; 0 0] \\\\\n",
      "rbf1.0 & 91.85\\%  & 100.0\\%  & 0.0\\%  & 95.75\\% & [654 58; 0 0] \\\\\n",
      "rbf10.0 & 91.71\\%  & 99.85\\%  & 0.0\\%  & 95.68\\% & [653 58; 1 0] \\\\\n",
      "poly0.1 & 91.85\\%  & 100.0\\%  & 0.0\\%  & 95.75\\% & [654 58; 0 0] \\\\\n",
      "poly1.0 & 91.71\\%  & 99.85\\%  & 0.0\\%  & 95.68\\% & [653 58; 1 0] \\\\\n",
      "linear0.1 & 91.85\\%  & 100.0\\%  & 0.0\\%  & 95.75\\% & [654 58; 0 0] \\\\\n",
      "linear1.0 & 91.85\\%  & 100.0\\%  & 0.0\\%  & 95.75\\% & [654 58; 0 0] \\\\\n",
      "linear10.0 & 91.85\\%  & 100.0\\%  & 0.0\\%  & 95.75\\% & [654 58; 0 0] \\\\\n"
     ]
    }
   ],
   "source": [
    "include(\"functions.jl\")\n",
    "svmParameters = Dict(\"modelType\" => :SVM, \"C\" => 1, \"kernel\" => \"linear\", \"degree\" => 3, \"gamma\" => \"scale\")\n",
    "\n",
    "svms = [\n",
    "    (\"rbf\", 0.1),\n",
    "    (\"rbf\", 1.0),\n",
    "    (\"rbf\", 10.0),\n",
    "    (\"poly\", 0.1),\n",
    "    (\"poly\", 1.0),\n",
    "    (\"linear\", 0.1),\n",
    "    (\"linear\", 1.0),\n",
    "    (\"linear\", 10.0),\n",
    "]\n",
    "\n",
    "for (kernel, C) in svms\n",
    "    svmParameters[\"kernel\"] = kernel\n",
    "    svmParameters[\"C\"] = C\n",
    "    metricsCV = (modelCrossValidation(svmParameters[\"modelType\"], svmParameters, train_input, train_output, crossValidationIndexes))\n",
    "    metricsCV[\"topology\"] = kernel * string(C)\n",
    "\n",
    "    generate_latex_table(metricsCV, false)\n",
    "\n",
    "end\n",
    "\n",
    "println(\"----------------------------------------------------------------\")\n",
    "\n",
    "for (kernel, C) in svms\n",
    "    svmParameters[\"kernel\"] = kernel\n",
    "    svmParameters[\"C\"] = C\n",
    "    metrics = createAndTrainFinalModel(svmParameters[\"modelType\"], svmParameters, train_input, train_output, test_input, test_output)\n",
    "    metrics[\"topology\"] = kernel * string(C)\n",
    "\n",
    "    generate_latex_table(metrics, true)\n",
    "\n",
    "end\n"
   ]
  },
  {
   "cell_type": "markdown",
   "metadata": {},
   "source": [
    "### ANN"
   ]
  },
  {
   "cell_type": "code",
   "execution_count": 15,
   "metadata": {},
   "outputs": [
    {
     "name": "stdout",
     "output_type": "stream",
     "text": [
      "[60, 120] & 93.71\\% \\textit{(0.0)} & 100.0\\% \\textit{(0.0)} & 0.0\\% \\textit{(0.0)} & 96.75\\% \\textit{(0.0)} \\\\\n",
      "[80, 50] & 93.71\\% \\textit{(0.0)} & 100.0\\% \\textit{(0.0)} & 0.0\\% \\textit{(0.0)} & 96.75\\% \\textit{(0.0)} \\\\\n",
      "[80, 100] & 93.71\\% \\textit{(0.0)} & 100.0\\% \\textit{(0.0)} & 0.0\\% \\textit{(0.0)} & 96.75\\% \\textit{(0.0)} \\\\\n",
      "[100, 40] & 93.71\\% \\textit{(0.0)} & 100.0\\% \\textit{(0.0)} & 0.0\\% \\textit{(0.0)} & 96.75\\% \\textit{(0.0)} \\\\\n",
      "[60, 120] & 91.85\\%  & 100.0\\%  & 0.0\\%  & 95.75\\% & [654 58; 0 0] \\\\\n",
      "[80, 50] & 91.85\\%  & 100.0\\%  & 0.0\\%  & 95.75\\% & [654 58; 0 0] \\\\\n",
      "[80, 100] & 91.85\\%  & 100.0\\%  & 0.0\\%  & 95.75\\% & [654 58; 0 0] \\\\\n",
      "[100, 40] & 91.85\\%  & 100.0\\%  & 0.0\\%  & 95.75\\% & [654 58; 0 0] \\\\\n"
     ]
    }
   ],
   "source": [
    "include(\"functions.jl\")\n",
    "\n",
    "#topologies = [[20], [40], [80], [100]]\n",
    "topologies = [[60, 120], [80, 50], [80, 100], [100, 40]]\n",
    "annParameters = Dict(\"modelType\" => :ANN, \"maxEpochs\" => 200,\n",
    "    \"learningRate\" => 0.01, \"maxEpochsVal\" => 30,\n",
    "    \"repetitions\" => 30, \"validationRatio\" => 0.1,\n",
    "    \"transferFunctions\" => fill(σ, 2))\n",
    "\n",
    "for topology in topologies\n",
    "    annParameters[\"topology\"] = topology\n",
    "    metricsCV = modelCrossValidation(annParameters[\"modelType\"], annParameters, train_input, train_output, crossValidationIndexes)\n",
    "    metricsCV[\"topology\"] = topology \n",
    "\n",
    "    generate_latex_table(metricsCV, false)\n",
    "end\n",
    "\n",
    "for topology in topologies\n",
    "    annParameters[\"topology\"] = topology\n",
    "    metrics = createAndTrainFinalModel(annParameters[\"modelType\"], annParameters, train_input, train_output, test_input, test_output)\n",
    "    metrics[\"topology\"] = topology \n",
    "\n",
    "    generate_latex_table(metrics, true)\n",
    "end"
   ]
  },
  {
   "cell_type": "markdown",
   "metadata": {},
   "source": [
    "### Ensembles"
   ]
  },
  {
   "cell_type": "code",
   "execution_count": 21,
   "metadata": {},
   "outputs": [
    {
     "data": {
      "text/plain": [
       "PyObject <class 'sklearn.ensemble._stacking.StackingClassifier'>"
      ]
     },
     "execution_count": 21,
     "metadata": {},
     "output_type": "execute_result"
    }
   ],
   "source": [
    "@sk_import ensemble:StackingClassifier\n"
   ]
  },
  {
   "cell_type": "code",
   "execution_count": 25,
   "metadata": {},
   "outputs": [
    {
     "data": {
      "text/plain": [
       "Dict{String, Any} with 10 entries:\n",
       "  \"std_recall\"      => 0.0856939\n",
       "  \"std_specificity\" => 0.0825274\n",
       "  \"std_precision\"   => 0.00707432\n",
       "  \"f1_score\"        => 0.698131\n",
       "  \"specificity\"     => 0.384967\n",
       "  \"std_accuracy\"    => 0.0764194\n",
       "  \"std_f1_score\"    => 0.0690458\n",
       "  \"accuracy\"        => 0.551542\n",
       "  \"recall\"          => 0.56265\n",
       "  \"precision\"       => 0.931225"
      ]
     },
     "execution_count": 25,
     "metadata": {},
     "output_type": "execute_result"
    }
   ],
   "source": [
    "include(\"functions.jl\")\n",
    "\n",
    "dtParameters = Dict(\"maxDepth\" => 8)\n",
    "knnParameters = Dict(\"numNeighboors\" => 7)\n",
    "svmParameters = Dict(\"kernel\" => \"rbf\", \"C\" => 0.1, \"degree\" => 3, \"gamma\" => 2)\n",
    "Random.seed!(42)\n",
    "\n",
    "trainClassEnsemble([:DecisionTree, :kNN, :SVM], [dtParameters, knnParameters, svmParameters], (train_input, train_output), crossValidationIndexes)\n"
   ]
  },
  {
   "cell_type": "markdown",
   "metadata": {},
   "source": [
    "## Third approach: multiclass classification"
   ]
  },
  {
   "cell_type": "code",
   "execution_count": 11,
   "metadata": {},
   "outputs": [],
   "source": [
    "Random.seed!(42)\n",
    "\n",
    "train_indexes, test_indexes = holdOut(size(input_data, 1), 0.2)\n",
    "\n",
    "train_input = convert(Array{Float32, 2}, input_data[train_indexes, :])\n",
    "train_output = output_data[train_indexes]\n",
    "\n",
    "normalizationParameters = calculateMinMaxNormalizationParameters(train_input)\n",
    "\n",
    "normalizeMinMax!(train_input, normalizationParameters)\n",
    "\n",
    "test_input = convert(Array{Float32, 2}, input_data[test_indexes, :])\n",
    "test_output = output_data[test_indexes]\n",
    "\n",
    "normalizeMinMax!(test_input, normalizationParameters)\n",
    "\n",
    "@assert size(test_input, 1) == size(test_output, 1)\n",
    "@assert size(train_input, 1) == size(train_output, 1)"
   ]
  },
  {
   "cell_type": "code",
   "execution_count": 15,
   "metadata": {},
   "outputs": [
    {
     "name": "stdout",
     "output_type": "stream",
     "text": [
      "3 & 40.81\\% \\textit{(0.04)} & 40.81\\% \\textit{(0.04)} & 61.26\\% \\textit{(0.03)} & 30.85\\% \\textit{(0.04)} \\\\\n",
      "5 & 41.76\\% \\textit{(0.03)} & 41.76\\% \\textit{(0.03)} & 63.33\\% \\textit{(0.03)} & 34.26\\% \\textit{(0.05)} \\\\\n",
      "7 & 40.88\\% \\textit{(0.03)} & 40.88\\% \\textit{(0.03)} & 64.42\\% \\textit{(0.02)} & 35.53\\% \\textit{(0.03)} \\\\\n",
      "10 & 41.41\\% \\textit{(0.03)} & 41.41\\% \\textit{(0.03)} & 66.5\\% \\textit{(0.02)} & 37.61\\% \\textit{(0.03)} \\\\\n",
      "15 & 40.56\\% \\textit{(0.03)} & 40.56\\% \\textit{(0.03)} & 68.93\\% \\textit{(0.03)} & 38.95\\% \\textit{(0.03)} \\\\\n",
      "9223372036854775807 & 39.23\\% \\textit{(0.02)} & 39.23\\% \\textit{(0.02)} & 71.47\\% \\textit{(0.02)} & 39.21\\% \\textit{(0.02)} \\\\\n",
      "----------------------------------------------------------------\n",
      "3 & 40.59\\%  & 40.59\\%  & 61.36\\%  & 32.37\\% & [32 191 0 9; 43 246 0 10; 16 38 0 4; 21 91 0 11] \\\\\n",
      "5 & 44.8\\%  & 44.8\\%  & 64.75\\%  & 37.39\\% & [65 161 0 6; 46 248 1 4; 17 38 0 3; 46 71 0 6] \\\\\n",
      "7 & 43.4\\%  & 43.4\\%  & 67.15\\%  & 40.0\\% & [92 129 0 11; 87 195 1 16; 26 25 0 7; 52 49 0 22] \\\\\n",
      "10 & 42.84\\%  & 42.84\\%  & 68.53\\%  & 40.22\\% & [90 110 4 28; 85 189 3 22; 20 31 1 6; 50 48 0 25] \\\\\n",
      "15 & 37.64\\%  & 37.64\\%  & 69.47\\%  & 36.71\\% & [80 97 9 46; 85 159 8 47; 20 28 2 8; 61 33 2 27] \\\\\n",
      "9223372036854775807 & 37.36\\%  & 37.36\\%  & 72.09\\%  & 37.48\\% & [84 82 13 53; 76 143 17 63; 15 25 3 15; 47 33 7 36] \\\\\n"
     ]
    }
   ],
   "source": [
    "include(\"functions.jl\")\n",
    "dtParameters = Dict(\"modelType\" => :DecisionTree, \"maxDepth\" => 1)\n",
    "\n",
    "depths = [3, 5, 7, 10, 15, typemax(Int)]\n",
    "for depth in depths\n",
    "    dtParameters[\"maxDepth\"] = depth\n",
    "    metricsCV = (modelCrossValidation(dtParameters[\"modelType\"], dtParameters, train_input, train_output, crossValidationIndexes))\n",
    "    metricsCV[\"topology\"] = depth\n",
    "\n",
    "    generate_latex_table(metricsCV, false)\n",
    "\n",
    "end\n",
    "\n",
    "println(\"----------------------------------------------------------------\")\n",
    "\n",
    "for depth in depths\n",
    "    dtParameters[\"maxDepth\"] = depth\n",
    "    metrics = createAndTrainFinalModel(dtParameters[\"modelType\"], dtParameters, train_input, train_output, test_input, test_output)\n",
    "    metrics[\"topology\"] = depth\n",
    "\n",
    "    generate_latex_table(metrics, true)\n",
    "\n",
    "end\n"
   ]
  },
  {
   "cell_type": "code",
   "execution_count": 16,
   "metadata": {},
   "outputs": [
    {
     "data": {
      "text/plain": [
       "PyObject <class 'sklearn.decomposition._pca.PCA'>"
      ]
     },
     "execution_count": 16,
     "metadata": {},
     "output_type": "execute_result"
    }
   ],
   "source": [
    "@sk_import decomposition:PCA\n"
   ]
  },
  {
   "cell_type": "code",
   "execution_count": 17,
   "metadata": {},
   "outputs": [],
   "source": [
    "\n",
    "# pcas = 1:20:4\n",
    "pca = PCA(2)\n",
    "\n",
    "#Ajust the matrix acording to the train data\n",
    "fit!(pca, train_input)\n",
    "\n",
    "#Once it is ajusted it can be used to transform the data\n",
    "pca_train = pca.transform(train_input)\n",
    "pca_test = pca.transform(test_input)\n",
    "\n",
    "@assert (size(train_input)[1],2) == size(pca_train)\n",
    "@assert (size(test_input)[1],2) == size(pca_test)"
   ]
  },
  {
   "cell_type": "code",
   "execution_count": 24,
   "metadata": {},
   "outputs": [
    {
     "data": {
      "text/plain": [
       "7-element Vector{Int64}:\n",
       "  2\n",
       "  6\n",
       " 10\n",
       " 15\n",
       " 20\n",
       " 25\n",
       " 30"
      ]
     },
     "execution_count": 24,
     "metadata": {},
     "output_type": "execute_result"
    }
   ],
   "source": [
    "pcas = [2, 6, 10, 15, 20, 25, 30]"
   ]
  },
  {
   "cell_type": "code",
   "execution_count": 25,
   "metadata": {},
   "outputs": [
    {
     "name": "stdout",
     "output_type": "stream",
     "text": [
      "---------------------------2-------------------------------------\n",
      "3 & 39.97\\% \\textit{(0.03)} & 39.97\\% \\textit{(0.03)} & 58.94\\% \\textit{(0.03)} & 25.67\\% \\textit{(0.04)} \\\\\n",
      "5 & 39.93\\% \\textit{(0.04)} & 39.93\\% \\textit{(0.04)} & 59.9\\% \\textit{(0.03)} & 28.78\\% \\textit{(0.04)} \\\\\n",
      "7 & 38.53\\% \\textit{(0.03)} & 38.53\\% \\textit{(0.03)} & 61.07\\% \\textit{(0.02)} & 30.63\\% \\textit{(0.04)} \\\\\n",
      "10 & 38.7\\% \\textit{(0.04)} & 38.7\\% \\textit{(0.04)} & 63.19\\% \\textit{(0.02)} & 33.62\\% \\textit{(0.03)} \\\\\n",
      "15 & 36.59\\% \\textit{(0.03)} & 36.59\\% \\textit{(0.03)} & 65.51\\% \\textit{(0.02)} & 34.52\\% \\textit{(0.03)} \\\\\n",
      "9223372036854775807 & 34.83\\% \\textit{(0.02)} & 34.83\\% \\textit{(0.02)} & 70.0\\% \\textit{(0.02)} & 35.01\\% \\textit{(0.02)} \\\\\n",
      "----------------------------------------------------------------\n",
      "3 & 41.99\\%  & 41.99\\%  & 58.01\\%  & 24.84\\% & [0 232 0 0; 0 299 0 0; 0 58 0 0; 0 123 0 0] \\\\\n",
      "5 & 42.42\\%  & 42.42\\%  & 63.85\\%  & 36.35\\% & [87 144 0 1; 84 211 0 4; 20 36 1 1; 47 73 0 3] \\\\\n",
      "7 & 41.15\\%  & 41.15\\%  & 64.41\\%  & 36.18\\% & [98 129 0 5; 98 190 0 11; 21 33 1 3; 48 71 0 4] \\\\\n",
      "10 & 39.04\\%  & 39.04\\%  & 65.12\\%  & 35.67\\% & [65 145 0 22; 61 194 4 40; 10 36 2 10; 38 68 0 17] \\\\\n",
      "15 & 34.83\\%  & 34.83\\%  & 65.03\\%  & 32.8\\% & [67 127 5 33; 77 166 9 47; 15 32 4 7; 33 74 5 11] \\\\\n",
      "9223372036854775807 & 33.99\\%  & 33.99\\%  & 70.01\\%  & 34.25\\% & [83 87 14 48; 84 124 24 67; 20 21 5 12; 32 54 7 30] \\\\\n",
      "---------------------------6-------------------------------------\n",
      "3 & 40.46\\% \\textit{(0.03)} & 40.46\\% \\textit{(0.03)} & 61.91\\% \\textit{(0.02)} & 31.75\\% \\textit{(0.04)} \\\\\n",
      "5 & 40.28\\% \\textit{(0.03)} & 40.28\\% \\textit{(0.03)} & 62.03\\% \\textit{(0.02)} & 32.42\\% \\textit{(0.05)} \\\\\n",
      "7 & 40.21\\% \\textit{(0.03)} & 40.21\\% \\textit{(0.03)} & 62.98\\% \\textit{(0.02)} & 34.07\\% \\textit{(0.03)} \\\\\n",
      "10 & 38.88\\% \\textit{(0.03)} & 38.88\\% \\textit{(0.03)} & 64.42\\% \\textit{(0.02)} & 34.93\\% \\textit{(0.03)} \\\\\n",
      "15 & 37.15\\% \\textit{(0.02)} & 37.15\\% \\textit{(0.02)} & 66.07\\% \\textit{(0.02)} & 34.97\\% \\textit{(0.02)} \\\\\n",
      "9223372036854775807 & 35.99\\% \\textit{(0.03)} & 35.99\\% \\textit{(0.03)} & 69.45\\% \\textit{(0.02)} & 35.79\\% \\textit{(0.03)} \\\\\n",
      "----------------------------------------------------------------\n",
      "3 & 42.7\\%  & 42.7\\%  & 62.83\\%  & 35.45\\% & [67 163 0 2; 64 233 0 2; 18 40 0 0; 37 82 0 4] \\\\\n",
      "5 & 40.59\\%  & 40.59\\%  & 63.04\\%  & 33.64\\% & [43 171 0 18; 42 236 0 21; 13 41 0 4; 32 81 0 10] \\\\\n",
      "7 & 39.61\\%  & 39.61\\%  & 64.06\\%  & 34.36\\% & [45 161 0 26; 49 217 0 33; 16 36 0 6; 26 77 0 20] \\\\\n",
      "10 & 38.9\\%  & 38.9\\%  & 65.19\\%  & 35.65\\% & [76 135 1 20; 81 185 1 32; 25 26 1 6; 38 68 2 15] \\\\\n",
      "15 & 39.89\\%  & 39.89\\%  & 69.74\\%  & 38.67\\% & [92 96 6 38; 75 163 10 51; 22 24 2 10; 36 58 2 27] \\\\\n",
      "9223372036854775807 & 36.24\\%  & 36.24\\%  & 71.17\\%  & 36.36\\% & [91 83 13 45; 90 131 18 60; 22 17 4 15; 41 42 8 32] \\\\\n",
      "---------------------------10-------------------------------------\n",
      "3 & 40.92\\% \\textit{(0.02)} & 40.92\\% \\textit{(0.02)} & 61.83\\% \\textit{(0.03)} & 32.38\\% \\textit{(0.03)} \\\\\n",
      "5 & 40.0\\% \\textit{(0.03)} & 40.0\\% \\textit{(0.03)} & 61.63\\% \\textit{(0.02)} & 31.4\\% \\textit{(0.03)} \\\\\n",
      "7 & 38.6\\% \\textit{(0.03)} & 38.6\\% \\textit{(0.03)} & 62.86\\% \\textit{(0.02)} & 32.88\\% \\textit{(0.04)} \\\\\n",
      "10 & 38.98\\% \\textit{(0.03)} & 38.98\\% \\textit{(0.03)} & 64.98\\% \\textit{(0.02)} & 35.11\\% \\textit{(0.03)} \\\\\n",
      "15 & 35.96\\% \\textit{(0.03)} & 35.96\\% \\textit{(0.03)} & 67.3\\% \\textit{(0.01)} & 34.89\\% \\textit{(0.03)} \\\\\n",
      "9223372036854775807 & 35.04\\% \\textit{(0.03)} & 35.04\\% \\textit{(0.03)} & 69.24\\% \\textit{(0.02)} & 34.98\\% \\textit{(0.03)} \\\\\n",
      "----------------------------------------------------------------\n",
      "3 & 43.4\\%  & 43.4\\%  & 62.23\\%  & 34.42\\% & [43 184 0 5; 31 260 0 8; 7 50 0 1; 27 90 0 6] \\\\\n",
      "5 & 42.7\\%  & 42.7\\%  & 63.95\\%  & 36.56\\% & [77 150 0 5; 70 221 0 8; 16 41 0 1; 45 72 0 6] \\\\\n",
      "7 & 41.43\\%  & 41.43\\%  & 64.11\\%  & 36.15\\% & [78 146 1 7; 76 209 0 14; 17 40 0 1; 50 65 0 8] \\\\\n",
      "10 & 39.19\\%  & 39.19\\%  & 64.76\\%  & 35.42\\% & [73 138 4 17; 84 192 3 20; 23 33 0 2; 51 58 0 14] \\\\\n",
      "15 & 38.62\\%  & 38.62\\%  & 69.0\\%  & 37.31\\% & [87 97 16 32; 88 163 10 38; 27 23 1 7; 41 55 3 24] \\\\\n",
      "9223372036854775807 & 36.38\\%  & 36.38\\%  & 71.68\\%  & 36.63\\% & [76 86 24 46; 84 146 16 53; 25 14 5 14; 42 39 10 32] \\\\\n",
      "---------------------------15-------------------------------------\n",
      "3 & 40.6\\% \\textit{(0.04)} & 40.6\\% \\textit{(0.04)} & 60.93\\% \\textit{(0.02)} & 31.58\\% \\textit{(0.03)} \\\\\n",
      "5 & 40.21\\% \\textit{(0.02)} & 40.21\\% \\textit{(0.02)} & 62.17\\% \\textit{(0.03)} & 32.56\\% \\textit{(0.03)} \\\\\n",
      "7 & 41.09\\% \\textit{(0.02)} & 41.09\\% \\textit{(0.02)} & 63.47\\% \\textit{(0.03)} & 35.01\\% \\textit{(0.02)} \\\\\n",
      "10 & 39.58\\% \\textit{(0.02)} & 39.58\\% \\textit{(0.02)} & 63.99\\% \\textit{(0.02)} & 34.77\\% \\textit{(0.03)} \\\\\n",
      "15 & 37.92\\% \\textit{(0.02)} & 37.92\\% \\textit{(0.02)} & 66.81\\% \\textit{(0.02)} & 35.93\\% \\textit{(0.02)} \\\\\n",
      "9223372036854775807 & 36.31\\% \\textit{(0.02)} & 36.31\\% \\textit{(0.02)} & 70.34\\% \\textit{(0.01)} & 36.35\\% \\textit{(0.02)} \\\\\n",
      "----------------------------------------------------------------\n",
      "3 & 41.99\\%  & 41.99\\%  & 60.41\\%  & 31.37\\% & [34 197 0 1; 34 264 0 1; 9 49 0 0; 24 98 0 1] \\\\\n",
      "5 & 41.71\\%  & 41.71\\%  & 63.34\\%  & 34.82\\% & [49 167 0 16; 46 238 0 15; 10 45 0 3; 35 78 0 10] \\\\\n",
      "7 & 42.28\\%  & 42.28\\%  & 63.97\\%  & 36.37\\% & [50 165 1 16; 48 232 1 18; 13 42 0 3; 25 79 0 19] \\\\\n",
      "10 & 41.85\\%  & 41.85\\%  & 64.93\\%  & 36.75\\% & [54 157 3 18; 48 225 3 23; 9 43 1 5; 26 75 4 18] \\\\\n",
      "15 & 40.31\\%  & 40.31\\%  & 65.8\\%  & 36.46\\% & [55 146 5 26; 59 207 4 29; 11 38 1 8; 25 69 5 24] \\\\\n",
      "9223372036854775807 & 37.08\\%  & 37.08\\%  & 72.04\\%  & 37.39\\% & [87 79 18 48; 89 139 18 53; 12 22 5 19; 36 42 12 33] \\\\\n",
      "---------------------------20-------------------------------------\n",
      "3 & 41.51\\% \\textit{(0.03)} & 41.51\\% \\textit{(0.03)} & 61.51\\% \\textit{(0.02)} & 32.36\\% \\textit{(0.03)} \\\\\n",
      "5 & 41.02\\% \\textit{(0.03)} & 41.02\\% \\textit{(0.03)} & 62.35\\% \\textit{(0.03)} & 33.09\\% \\textit{(0.04)} \\\\\n",
      "7 & 39.86\\% \\textit{(0.03)} & 39.86\\% \\textit{(0.03)} & 62.94\\% \\textit{(0.02)} & 33.65\\% \\textit{(0.03)} \\\\\n",
      "10 & 39.44\\% \\textit{(0.03)} & 39.44\\% \\textit{(0.03)} & 65.53\\% \\textit{(0.02)} & 36.06\\% \\textit{(0.03)} \\\\\n",
      "15 & 38.87\\% \\textit{(0.02)} & 38.87\\% \\textit{(0.02)} & 68.6\\% \\textit{(0.02)} & 37.7\\% \\textit{(0.02)} \\\\\n",
      "9223372036854775807 & 37.36\\% \\textit{(0.03)} & 37.36\\% \\textit{(0.03)} & 71.01\\% \\textit{(0.01)} & 37.41\\% \\textit{(0.03)} \\\\\n",
      "----------------------------------------------------------------\n",
      "3 & 41.29\\%  & 41.29\\%  & 60.04\\%  & 30.5\\% & [30 201 0 1; 35 263 0 1; 10 48 0 0; 26 96 0 1] \\\\\n",
      "5 & 42.28\\%  & 42.28\\%  & 63.43\\%  & 34.73\\% & [41 175 0 16; 35 248 0 16; 9 44 0 5; 26 83 2 12] \\\\\n",
      "7 & 41.01\\%  & 41.01\\%  & 62.47\\%  & 32.46\\% & [26 187 3 16; 28 252 0 19; 9 46 0 3; 19 87 3 14] \\\\\n",
      "10 & 38.06\\%  & 38.06\\%  & 63.74\\%  & 34.45\\% & [60 153 5 14; 75 193 7 24; 17 36 2 3; 32 71 4 16] \\\\\n",
      "15 & 36.94\\%  & 36.94\\%  & 67.82\\%  & 35.94\\% & [90 108 10 24; 101 147 11 40; 23 24 5 6; 51 44 7 21] \\\\\n",
      "9223372036854775807 & 35.67\\%  & 35.67\\%  & 70.91\\%  & 36.0\\% & [83 89 15 45; 86 129 20 64; 22 16 10 10; 41 42 8 32] \\\\\n",
      "---------------------------25-------------------------------------\n",
      "3 & 41.37\\% \\textit{(0.04)} & 41.37\\% \\textit{(0.04)} & 61.54\\% \\textit{(0.02)} & 32.47\\% \\textit{(0.03)} \\\\\n",
      "5 & 40.88\\% \\textit{(0.04)} & 40.88\\% \\textit{(0.04)} & 62.29\\% \\textit{(0.02)} & 32.58\\% \\textit{(0.04)} \\\\\n",
      "7 & 39.61\\% \\textit{(0.02)} & 39.61\\% \\textit{(0.02)} & 63.36\\% \\textit{(0.02)} & 33.77\\% \\textit{(0.03)} \\\\\n",
      "10 & 39.69\\% \\textit{(0.02)} & 39.69\\% \\textit{(0.02)} & 65.42\\% \\textit{(0.02)} & 35.81\\% \\textit{(0.03)} \\\\\n",
      "15 & 38.84\\% \\textit{(0.03)} & 38.84\\% \\textit{(0.03)} & 67.83\\% \\textit{(0.01)} & 37.21\\% \\textit{(0.03)} \\\\\n",
      "9223372036854775807 & 36.31\\% \\textit{(0.02)} & 36.31\\% \\textit{(0.02)} & 70.05\\% \\textit{(0.02)} & 36.2\\% \\textit{(0.02)} \\\\\n",
      "----------------------------------------------------------------\n",
      "3 & 41.29\\%  & 41.29\\%  & 60.04\\%  & 30.5\\% & [30 201 0 1; 35 263 0 1; 10 48 0 0; 26 96 0 1] \\\\\n",
      "5 & 41.71\\%  & 41.71\\%  & 63.46\\%  & 34.11\\% & [39 171 0 22; 32 247 0 20; 11 43 0 4; 26 86 0 11] \\\\\n",
      "7 & 40.45\\%  & 40.45\\%  & 62.17\\%  & 31.96\\% & [31 182 1 18; 30 249 0 20; 8 45 0 5; 21 93 1 8] \\\\\n",
      "10 & 40.03\\%  & 40.03\\%  & 63.35\\%  & 33.76\\% & [43 168 2 19; 41 230 4 24; 11 43 1 3; 26 83 3 11] \\\\\n",
      "15 & 34.13\\%  & 34.13\\%  & 65.15\\%  & 32.43\\% & [63 133 7 29; 79 159 6 55; 13 29 3 13; 38 64 3 18] \\\\\n",
      "9223372036854775807 & 35.53\\%  & 35.53\\%  & 70.7\\%  & 35.76\\% & [87 86 12 47; 85 130 21 63; 17 24 7 10; 47 39 8 29] \\\\\n",
      "---------------------------30-------------------------------------\n",
      "3 & 41.41\\% \\textit{(0.03)} & 41.41\\% \\textit{(0.03)} & 61.6\\% \\textit{(0.03)} & 32.19\\% \\textit{(0.04)} \\\\\n",
      "5 & 41.2\\% \\textit{(0.03)} & 41.2\\% \\textit{(0.03)} & 62.52\\% \\textit{(0.03)} & 33.22\\% \\textit{(0.04)} \\\\\n",
      "7 & 39.89\\% \\textit{(0.03)} & 39.89\\% \\textit{(0.03)} & 64.13\\% \\textit{(0.02)} & 34.51\\% \\textit{(0.04)} \\\\\n",
      "10 & 39.23\\% \\textit{(0.04)} & 39.23\\% \\textit{(0.04)} & 66.1\\% \\textit{(0.03)} & 35.77\\% \\textit{(0.04)} \\\\\n",
      "15 & 37.79\\% \\textit{(0.04)} & 37.79\\% \\textit{(0.04)} & 68.24\\% \\textit{(0.02)} & 36.55\\% \\textit{(0.03)} \\\\\n",
      "9223372036854775807 & 36.31\\% \\textit{(0.04)} & 36.31\\% \\textit{(0.04)} & 71.3\\% \\textit{(0.02)} & 36.73\\% \\textit{(0.04)} \\\\\n",
      "----------------------------------------------------------------\n",
      "3 & 40.59\\%  & 40.59\\%  & 60.54\\%  & 31.43\\% & [35 189 0 8; 43 250 0 6; 7 51 0 0; 25 94 0 4] \\\\\n",
      "5 & 43.12\\%  & 43.12\\%  & 63.05\\%  & 35.55\\% & [52 169 0 11; 41 247 0 11; 9 49 0 0; 28 87 0 8] \\\\\n",
      "7 & 41.99\\%  & 41.99\\%  & 63.57\\%  & 35.64\\% & [42 170 1 19; 42 237 1 19; 10 46 1 1; 24 80 0 19] \\\\\n",
      "10 & 40.59\\%  & 40.59\\%  & 66.31\\%  & 37.09\\% & [82 128 3 19; 74 192 2 31; 19 33 0 6; 47 60 1 15] \\\\\n",
      "15 & 35.81\\%  & 35.81\\%  & 67.02\\%  & 34.52\\% & [69 120 10 33; 79 160 13 47; 22 25 4 7; 38 58 5 22] \\\\\n",
      "9223372036854775807 & 34.13\\%  & 34.13\\%  & 69.72\\%  & 34.25\\% & [80 91 20 41; 106 123 16 54; 26 19 4 9; 39 38 10 36] \\\\\n"
     ]
    }
   ],
   "source": [
    "include(\"functions.jl\")\n",
    "dtParameters = Dict(\"modelType\" => :DecisionTree, \"maxDepth\" => 1)\n",
    "\n",
    "for pca_value in pcas\n",
    "    pca = PCA(pca_value)\n",
    "\n",
    "    #Ajust the matrix acording to the train data\n",
    "    fit!(pca, train_input)\n",
    "\n",
    "    #Once it is ajusted it can be used to transform the data\n",
    "    pca_train = pca.transform(train_input)\n",
    "    pca_test = pca.transform(test_input)\n",
    "\n",
    "    println(\"---------------------------$pca_value-------------------------------------\")\n",
    "\n",
    "\n",
    "    depths = [3, 5, 7, 10, 15, typemax(Int)]\n",
    "    for depth in depths\n",
    "        dtParameters[\"maxDepth\"] = depth\n",
    "        metricsCV = (modelCrossValidation(dtParameters[\"modelType\"], dtParameters, pca_train, train_output, crossValidationIndexes))\n",
    "        metricsCV[\"topology\"] = depth\n",
    "\n",
    "        generate_latex_table(metricsCV, false)\n",
    "\n",
    "    end\n",
    "\n",
    "    println(\"----------------------------------------------------------------\")\n",
    "\n",
    "    for depth in depths\n",
    "        dtParameters[\"maxDepth\"] = depth\n",
    "        metrics = createAndTrainFinalModel(dtParameters[\"modelType\"], dtParameters, pca_train, train_output, pca_test, test_output)\n",
    "        metrics[\"topology\"] = depth\n",
    "\n",
    "        generate_latex_table(metrics, true)\n",
    "\n",
    "    end\n",
    "end"
   ]
  }
 ],
 "metadata": {
  "kernelspec": {
   "display_name": "Julia 1.9.3",
   "language": "julia",
   "name": "julia-1.9"
  },
  "language_info": {
   "file_extension": ".jl",
   "mimetype": "application/julia",
   "name": "julia",
   "version": "1.9.3"
  }
 },
 "nbformat": 4,
 "nbformat_minor": 5
}
