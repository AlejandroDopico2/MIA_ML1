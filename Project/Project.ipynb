{
 "cells": [
  {
   "cell_type": "code",
   "execution_count": 1,
   "id": "cb44f65c",
   "metadata": {},
   "outputs": [],
   "source": [
    "using CSV\n",
    "using DataFrames\n",
    "using Random\n",
    "\n",
    "include(\"functions.jl\");\n"
   ]
  },
  {
   "cell_type": "code",
   "execution_count": 2,
   "metadata": {},
   "outputs": [
    {
     "name": "stderr",
     "output_type": "stream",
     "text": [
      "\u001b[36m\u001b[1m[ \u001b[22m\u001b[39m\u001b[36m\u001b[1mInfo: \u001b[22m\u001b[39mmkl not found, proceeding to installing non-mkl versions of sci-kit learn via Conda\n",
      "\u001b[36m\u001b[1m[ \u001b[22m\u001b[39m\u001b[36m\u001b[1mInfo: \u001b[22m\u001b[39mRunning `conda install -y -c conda-forge 'scikit-learn>=1.2,<1.3'` in root environment\n"
     ]
    },
    {
     "name": "stdout",
     "output_type": "stream",
     "text": [
      "Collecting package metadata (current_repodata.json): ...working... done\n",
      "Solving environment: ...working... done\n",
      "\n",
      "# All requested packages already installed.\n",
      "\n"
     ]
    },
    {
     "name": "stderr",
     "output_type": "stream",
     "text": [
      "\n",
      "\n",
      "==> WARNING: A newer version of conda exists. <==\n",
      "  current version: 4.12.0\n",
      "  latest version: 23.11.0\n",
      "\n",
      "Please update conda by running\n",
      "\n",
      "    $ conda update -n base conda\n",
      "\n",
      "\n"
     ]
    }
   ],
   "source": [
    "using ScikitLearn\n",
    "\n",
    "@sk_import svm:SVC;\n",
    "@sk_import tree:DecisionTreeClassifier;\n",
    "@sk_import ensemble:VotingClassifier\n",
    "@sk_import neighbors: KNeighborsClassifier;\n"
   ]
  },
  {
   "cell_type": "markdown",
   "metadata": {},
   "source": [
    "## Read Data"
   ]
  },
  {
   "cell_type": "code",
   "execution_count": 3,
   "id": "d59fb985",
   "metadata": {},
   "outputs": [],
   "source": [
    "file_path = \"dataset/super_simplified_Android_Malware.csv\"\n",
    "\n",
    "data = CSV.File(file_path, header=true) |> DataFrame;"
   ]
  },
  {
   "cell_type": "code",
   "execution_count": 4,
   "id": "dc9fda2c",
   "metadata": {
    "scrolled": true
   },
   "outputs": [
    {
     "data": {
      "text/html": [
       "<div><div style = \"float: left;\"><span>85×16 DataFrame</span></div><div style = \"float: right;\"><span style = \"font-style: italic;\">60 rows omitted</span></div><div style = \"clear: both;\"></div></div><div class = \"data-frame\" style = \"overflow-x: scroll;\"><table class = \"data-frame\" style = \"margin-bottom: 6px;\"><thead><tr class = \"header\"><th class = \"rowNumber\" style = \"font-weight: bold; text-align: right;\">Row</th><th style = \"text-align: left;\">variable</th><th style = \"text-align: left;\">mean</th><th style = \"text-align: left;\">std</th><th style = \"text-align: left;\">min</th><th style = \"text-align: left;\">q25</th><th style = \"text-align: left;\">median</th><th style = \"text-align: left;\">q75</th><th style = \"text-align: left;\">max</th><th style = \"text-align: left;\">sum</th><th style = \"text-align: left;\">nunique</th><th style = \"text-align: left;\">nuniqueall</th><th style = \"text-align: left;\">nmissing</th><th style = \"text-align: left;\">nnonmissing</th><th style = \"text-align: left;\">first</th><th style = \"text-align: left;\">last</th><th style = \"text-align: left;\">eltype</th></tr><tr class = \"subheader headerLastRow\"><th class = \"rowNumber\" style = \"font-weight: bold; text-align: right;\"></th><th title = \"Symbol\" style = \"text-align: left;\">Symbol</th><th title = \"Union{Nothing, Float64}\" style = \"text-align: left;\">Union…</th><th title = \"Union{Nothing, Float64}\" style = \"text-align: left;\">Union…</th><th title = \"Any\" style = \"text-align: left;\">Any</th><th title = \"Union{Nothing, Float64}\" style = \"text-align: left;\">Union…</th><th title = \"Union{Nothing, Float64}\" style = \"text-align: left;\">Union…</th><th title = \"Union{Nothing, Float64}\" style = \"text-align: left;\">Union…</th><th title = \"Any\" style = \"text-align: left;\">Any</th><th title = \"Union{Nothing, Real}\" style = \"text-align: left;\">Union…</th><th title = \"Union{Nothing, Int64}\" style = \"text-align: left;\">Union…</th><th title = \"Int64\" style = \"text-align: left;\">Int64</th><th title = \"Int64\" style = \"text-align: left;\">Int64</th><th title = \"Int64\" style = \"text-align: left;\">Int64</th><th title = \"Any\" style = \"text-align: left;\">Any</th><th title = \"Any\" style = \"text-align: left;\">Any</th><th title = \"DataType\" style = \"text-align: left;\">DataType</th></tr></thead><tbody><tr><td class = \"rowNumber\" style = \"font-weight: bold; text-align: right;\">1</td><td style = \"text-align: left;\">Flow ID</td><td style = \"font-style: italic; text-align: left;\"></td><td style = \"font-style: italic; text-align: left;\"></td><td style = \"text-align: left;\">1.31.173.21-10.42.0.151-80-36854-6</td><td style = \"font-style: italic; text-align: left;\"></td><td style = \"font-style: italic; text-align: left;\"></td><td style = \"font-style: italic; text-align: left;\"></td><td style = \"text-align: left;\">8.8.8.8-10.42.0.211-53-3181-17</td><td style = \"font-style: italic; text-align: left;\"></td><td style = \"text-align: left;\">3502</td><td style = \"text-align: right;\">3502</td><td style = \"text-align: right;\">0</td><td style = \"text-align: right;\">3557</td><td style = \"text-align: left;\">157.240.0.36-10.42.0.211-443-55364-6</td><td style = \"text-align: left;\">10.42.0.211-10.42.0.1-3890-53-17</td><td style = \"text-align: left;\">String</td></tr><tr><td class = \"rowNumber\" style = \"font-weight: bold; text-align: right;\">2</td><td style = \"text-align: left;\"> Source IP</td><td style = \"font-style: italic; text-align: left;\"></td><td style = \"font-style: italic; text-align: left;\"></td><td style = \"text-align: left;\">0.0.0.0</td><td style = \"font-style: italic; text-align: left;\"></td><td style = \"font-style: italic; text-align: left;\"></td><td style = \"font-style: italic; text-align: left;\"></td><td style = \"text-align: left;\">96.6.164.184</td><td style = \"font-style: italic; text-align: left;\"></td><td style = \"text-align: left;\">246</td><td style = \"text-align: right;\">246</td><td style = \"text-align: right;\">0</td><td style = \"text-align: right;\">3557</td><td style = \"text-align: left;\">10.42.0.211</td><td style = \"text-align: left;\">10.42.0.211</td><td style = \"text-align: left;\">String15</td></tr><tr><td class = \"rowNumber\" style = \"font-weight: bold; text-align: right;\">3</td><td style = \"text-align: left;\"> Source Port</td><td style = \"text-align: left;\">39310.9</td><td style = \"text-align: left;\">17860.1</td><td style = \"text-align: left;\">0</td><td style = \"text-align: left;\">34948.0</td><td style = \"text-align: left;\">43520.0</td><td style = \"text-align: left;\">52110.0</td><td style = \"text-align: left;\">65400</td><td style = \"text-align: left;\">139828814</td><td style = \"font-style: italic; text-align: left;\"></td><td style = \"text-align: right;\">3013</td><td style = \"text-align: right;\">0</td><td style = \"text-align: right;\">3557</td><td style = \"text-align: left;\">55364</td><td style = \"text-align: left;\">3890</td><td style = \"text-align: left;\">Int64</td></tr><tr><td class = \"rowNumber\" style = \"font-weight: bold; text-align: right;\">4</td><td style = \"text-align: left;\"> Destination IP</td><td style = \"font-style: italic; text-align: left;\"></td><td style = \"font-style: italic; text-align: left;\"></td><td style = \"text-align: left;\">1.31.173.21</td><td style = \"font-style: italic; text-align: left;\"></td><td style = \"font-style: italic; text-align: left;\"></td><td style = \"font-style: italic; text-align: left;\"></td><td style = \"text-align: left;\">98.139.225.43</td><td style = \"font-style: italic; text-align: left;\"></td><td style = \"text-align: left;\">826</td><td style = \"text-align: right;\">826</td><td style = \"text-align: right;\">0</td><td style = \"text-align: right;\">3557</td><td style = \"text-align: left;\">157.240.0.36</td><td style = \"text-align: left;\">10.42.0.1</td><td style = \"text-align: left;\">String15</td></tr><tr><td class = \"rowNumber\" style = \"font-weight: bold; text-align: right;\">5</td><td style = \"text-align: left;\"> Destination Port</td><td style = \"text-align: left;\">5390.09</td><td style = \"text-align: left;\">14590.5</td><td style = \"text-align: left;\">0.0</td><td style = \"text-align: left;\">80.0</td><td style = \"text-align: left;\">443.0</td><td style = \"text-align: left;\">443.0</td><td style = \"text-align: left;\">60729.0</td><td style = \"text-align: left;\">1.91725e7</td><td style = \"font-style: italic; text-align: left;\"></td><td style = \"text-align: right;\">400</td><td style = \"text-align: right;\">0</td><td style = \"text-align: right;\">3557</td><td style = \"text-align: left;\">443.0</td><td style = \"text-align: left;\">53.0</td><td style = \"text-align: left;\">Float64</td></tr><tr><td class = \"rowNumber\" style = \"font-weight: bold; text-align: right;\">6</td><td style = \"text-align: left;\"> Protocol</td><td style = \"text-align: left;\">8.26061</td><td style = \"text-align: left;\">4.51586</td><td style = \"text-align: left;\">0.0</td><td style = \"text-align: left;\">6.0</td><td style = \"text-align: left;\">6.0</td><td style = \"text-align: left;\">6.0</td><td style = \"text-align: left;\">17.0</td><td style = \"text-align: left;\">29383.0</td><td style = \"font-style: italic; text-align: left;\"></td><td style = \"text-align: right;\">3</td><td style = \"text-align: right;\">0</td><td style = \"text-align: right;\">3557</td><td style = \"text-align: left;\">6.0</td><td style = \"text-align: left;\">17.0</td><td style = \"text-align: left;\">Float64</td></tr><tr><td class = \"rowNumber\" style = \"font-weight: bold; text-align: right;\">7</td><td style = \"text-align: left;\"> Timestamp</td><td style = \"font-style: italic; text-align: left;\"></td><td style = \"font-style: italic; text-align: left;\"></td><td style = \"text-align: left;\">04/07/2017 10:08:16</td><td style = \"font-style: italic; text-align: left;\"></td><td style = \"font-style: italic; text-align: left;\"></td><td style = \"font-style: italic; text-align: left;\"></td><td style = \"text-align: left;\">30/06/2017 12:59:10</td><td style = \"font-style: italic; text-align: left;\"></td><td style = \"text-align: left;\">3332</td><td style = \"text-align: right;\">3332</td><td style = \"text-align: right;\">0</td><td style = \"text-align: right;\">3557</td><td style = \"text-align: left;\">26/06/2017 12:43:14</td><td style = \"text-align: left;\">13/06/2017 08:39:01</td><td style = \"text-align: left;\">String31</td></tr><tr><td class = \"rowNumber\" style = \"font-weight: bold; text-align: right;\">8</td><td style = \"text-align: left;\"> Flow Duration</td><td style = \"text-align: left;\">1.11761e7</td><td style = \"text-align: left;\">2.19812e7</td><td style = \"text-align: left;\">2</td><td style = \"text-align: left;\">48777.0</td><td style = \"text-align: left;\">557126.0</td><td style = \"text-align: left;\">1.08321e7</td><td style = \"text-align: left;\">119977227</td><td style = \"text-align: left;\">39753215647</td><td style = \"font-style: italic; text-align: left;\"></td><td style = \"text-align: right;\">3442</td><td style = \"text-align: right;\">0</td><td style = \"text-align: right;\">3557</td><td style = \"text-align: left;\">65319091</td><td style = \"text-align: left;\">48681</td><td style = \"text-align: left;\">Int64</td></tr><tr><td class = \"rowNumber\" style = \"font-weight: bold; text-align: right;\">9</td><td style = \"text-align: left;\"> Total Fwd Packets</td><td style = \"text-align: left;\">7.5932</td><td style = \"text-align: left;\">59.0075</td><td style = \"text-align: left;\">1</td><td style = \"text-align: left;\">1.0</td><td style = \"text-align: left;\">2.0</td><td style = \"text-align: left;\">5.0</td><td style = \"text-align: left;\">3246</td><td style = \"text-align: left;\">27009</td><td style = \"font-style: italic; text-align: left;\"></td><td style = \"text-align: right;\">97</td><td style = \"text-align: right;\">0</td><td style = \"text-align: right;\">3557</td><td style = \"text-align: left;\">9</td><td style = \"text-align: left;\">1</td><td style = \"text-align: left;\">Int64</td></tr><tr><td class = \"rowNumber\" style = \"font-weight: bold; text-align: right;\">10</td><td style = \"text-align: left;\"> Total Backward Packets</td><td style = \"text-align: left;\">11.0748</td><td style = \"text-align: left;\">159.416</td><td style = \"text-align: left;\">0</td><td style = \"text-align: left;\">0.0</td><td style = \"text-align: left;\">1.0</td><td style = \"text-align: left;\">4.0</td><td style = \"text-align: left;\">8452</td><td style = \"text-align: left;\">39393</td><td style = \"font-style: italic; text-align: left;\"></td><td style = \"text-align: right;\">117</td><td style = \"text-align: right;\">0</td><td style = \"text-align: right;\">3557</td><td style = \"text-align: left;\">9</td><td style = \"text-align: left;\">1</td><td style = \"text-align: left;\">Int64</td></tr><tr><td class = \"rowNumber\" style = \"font-weight: bold; text-align: right;\">11</td><td style = \"text-align: left;\">Total Length of Fwd Packets</td><td style = \"text-align: left;\">665.05</td><td style = \"text-align: left;\">3221.59</td><td style = \"text-align: left;\">0.0</td><td style = \"text-align: left;\">0.0</td><td style = \"text-align: left;\">31.0</td><td style = \"text-align: left;\">424.0</td><td style = \"text-align: left;\">110678.0</td><td style = \"text-align: left;\">2.36558e6</td><td style = \"font-style: italic; text-align: left;\"></td><td style = \"text-align: right;\">824</td><td style = \"text-align: right;\">0</td><td style = \"text-align: right;\">3557</td><td style = \"text-align: left;\">1307.0</td><td style = \"text-align: left;\">30.0</td><td style = \"text-align: left;\">Float64</td></tr><tr><td class = \"rowNumber\" style = \"font-weight: bold; text-align: right;\">12</td><td style = \"text-align: left;\"> Total Length of Bwd Packets</td><td style = \"text-align: left;\">12084.5</td><td style = \"text-align: left;\">2.29701e5</td><td style = \"text-align: left;\">0.0</td><td style = \"text-align: left;\">0.0</td><td style = \"text-align: left;\">17.0</td><td style = \"text-align: left;\">318.0</td><td style = \"text-align: left;\">1.22247e7</td><td style = \"text-align: left;\">4.29846e7</td><td style = \"font-style: italic; text-align: left;\"></td><td style = \"text-align: right;\">989</td><td style = \"text-align: right;\">0</td><td style = \"text-align: right;\">3557</td><td style = \"text-align: left;\">744.0</td><td style = \"text-align: left;\">140.0</td><td style = \"text-align: left;\">Float64</td></tr><tr><td class = \"rowNumber\" style = \"font-weight: bold; text-align: right;\">13</td><td style = \"text-align: left;\"> Fwd Packet Length Max</td><td style = \"text-align: left;\">218.112</td><td style = \"text-align: left;\">380.199</td><td style = \"text-align: left;\">0.0</td><td style = \"text-align: left;\">0.0</td><td style = \"text-align: left;\">31.0</td><td style = \"text-align: left;\">342.0</td><td style = \"text-align: left;\">1460.0</td><td style = \"text-align: left;\">775824.0</td><td style = \"font-style: italic; text-align: left;\"></td><td style = \"text-align: right;\">525</td><td style = \"text-align: right;\">0</td><td style = \"text-align: right;\">3557</td><td style = \"text-align: left;\">981.0</td><td style = \"text-align: left;\">30.0</td><td style = \"text-align: left;\">Float64</td></tr><tr><td style = \"text-align: right;\">&vellip;</td><td style = \"text-align: right;\">&vellip;</td><td style = \"text-align: right;\">&vellip;</td><td style = \"text-align: right;\">&vellip;</td><td style = \"text-align: right;\">&vellip;</td><td style = \"text-align: right;\">&vellip;</td><td style = \"text-align: right;\">&vellip;</td><td style = \"text-align: right;\">&vellip;</td><td style = \"text-align: right;\">&vellip;</td><td style = \"text-align: right;\">&vellip;</td><td style = \"text-align: right;\">&vellip;</td><td style = \"text-align: right;\">&vellip;</td><td style = \"text-align: right;\">&vellip;</td><td style = \"text-align: right;\">&vellip;</td><td style = \"text-align: right;\">&vellip;</td><td style = \"text-align: right;\">&vellip;</td><td style = \"text-align: right;\">&vellip;</td></tr><tr><td class = \"rowNumber\" style = \"font-weight: bold; text-align: right;\">74</td><td style = \"text-align: left;\"> Init_Win_bytes_backward</td><td style = \"text-align: left;\">2316.0</td><td style = \"text-align: left;\">9279.88</td><td style = \"text-align: left;\">-1.0</td><td style = \"text-align: left;\">-1.0</td><td style = \"text-align: left;\">-1.0</td><td style = \"text-align: left;\">370.0</td><td style = \"text-align: left;\">65535.0</td><td style = \"text-align: left;\">8.23802e6</td><td style = \"font-style: italic; text-align: left;\"></td><td style = \"text-align: right;\">469</td><td style = \"text-align: right;\">0</td><td style = \"text-align: right;\">3557</td><td style = \"text-align: left;\">122.0</td><td style = \"text-align: left;\">-1.0</td><td style = \"text-align: left;\">Float64</td></tr><tr><td class = \"rowNumber\" style = \"font-weight: bold; text-align: right;\">75</td><td style = \"text-align: left;\"> act_data_pkt_fwd</td><td style = \"text-align: left;\">1.52713</td><td style = \"text-align: left;\">6.31718</td><td style = \"text-align: left;\">0.0</td><td style = \"text-align: left;\">0.0</td><td style = \"text-align: left;\">0.0</td><td style = \"text-align: left;\">1.0</td><td style = \"text-align: left;\">176.0</td><td style = \"text-align: left;\">5432.0</td><td style = \"font-style: italic; text-align: left;\"></td><td style = \"text-align: right;\">42</td><td style = \"text-align: right;\">0</td><td style = \"text-align: right;\">3557</td><td style = \"text-align: left;\">3.0</td><td style = \"text-align: left;\">0.0</td><td style = \"text-align: left;\">Float64</td></tr><tr><td class = \"rowNumber\" style = \"font-weight: bold; text-align: right;\">76</td><td style = \"text-align: left;\"> min_seg_size_forward</td><td style = \"text-align: left;\">26.9474</td><td style = \"text-align: left;\">6.84316</td><td style = \"text-align: left;\">0.0</td><td style = \"text-align: left;\">20.0</td><td style = \"text-align: left;\">32.0</td><td style = \"text-align: left;\">32.0</td><td style = \"text-align: left;\">44.0</td><td style = \"text-align: left;\">95852.0</td><td style = \"font-style: italic; text-align: left;\"></td><td style = \"text-align: right;\">6</td><td style = \"text-align: right;\">0</td><td style = \"text-align: right;\">3557</td><td style = \"text-align: left;\">32.0</td><td style = \"text-align: left;\">32.0</td><td style = \"text-align: left;\">Float64</td></tr><tr><td class = \"rowNumber\" style = \"font-weight: bold; text-align: right;\">77</td><td style = \"text-align: left;\">Active Mean</td><td style = \"text-align: left;\">1.78008e5</td><td style = \"text-align: left;\">8.92184e5</td><td style = \"text-align: left;\">0.0</td><td style = \"text-align: left;\">0.0</td><td style = \"text-align: left;\">0.0</td><td style = \"text-align: left;\">0.0</td><td style = \"text-align: left;\">1.18162e7</td><td style = \"text-align: left;\">6.33175e8</td><td style = \"font-style: italic; text-align: left;\"></td><td style = \"text-align: right;\">411</td><td style = \"text-align: right;\">0</td><td style = \"text-align: right;\">3557</td><td style = \"text-align: left;\">548872.0</td><td style = \"text-align: left;\">0.0</td><td style = \"text-align: left;\">Float64</td></tr><tr><td class = \"rowNumber\" style = \"font-weight: bold; text-align: right;\">78</td><td style = \"text-align: left;\"> Active Std</td><td style = \"text-align: left;\">15975.8</td><td style = \"text-align: left;\">2.13277e5</td><td style = \"text-align: left;\">0.0</td><td style = \"text-align: left;\">0.0</td><td style = \"text-align: left;\">0.0</td><td style = \"text-align: left;\">0.0</td><td style = \"text-align: left;\">6.65146e6</td><td style = \"text-align: left;\">5.6826e7</td><td style = \"font-style: italic; text-align: left;\"></td><td style = \"text-align: right;\">62</td><td style = \"text-align: right;\">0</td><td style = \"text-align: right;\">3557</td><td style = \"text-align: left;\">0.0</td><td style = \"text-align: left;\">0.0</td><td style = \"text-align: left;\">Float64</td></tr><tr><td class = \"rowNumber\" style = \"font-weight: bold; text-align: right;\">79</td><td style = \"text-align: left;\"> Active Max</td><td style = \"text-align: left;\">1.93012e5</td><td style = \"text-align: left;\">9.57958e5</td><td style = \"text-align: left;\">0.0</td><td style = \"text-align: left;\">0.0</td><td style = \"text-align: left;\">0.0</td><td style = \"text-align: left;\">0.0</td><td style = \"text-align: left;\">1.30253e7</td><td style = \"text-align: left;\">6.86543e8</td><td style = \"font-style: italic; text-align: left;\"></td><td style = \"text-align: right;\">411</td><td style = \"text-align: right;\">0</td><td style = \"text-align: right;\">3557</td><td style = \"text-align: left;\">548872.0</td><td style = \"text-align: left;\">0.0</td><td style = \"text-align: left;\">Float64</td></tr><tr><td class = \"rowNumber\" style = \"font-weight: bold; text-align: right;\">80</td><td style = \"text-align: left;\"> Active Min</td><td style = \"text-align: left;\">1.64973e5</td><td style = \"text-align: left;\">8.73663e5</td><td style = \"text-align: left;\">0.0</td><td style = \"text-align: left;\">0.0</td><td style = \"text-align: left;\">0.0</td><td style = \"text-align: left;\">0.0</td><td style = \"text-align: left;\">1.18162e7</td><td style = \"text-align: left;\">5.8681e8</td><td style = \"font-style: italic; text-align: left;\"></td><td style = \"text-align: right;\">411</td><td style = \"text-align: right;\">0</td><td style = \"text-align: right;\">3557</td><td style = \"text-align: left;\">548872.0</td><td style = \"text-align: left;\">0.0</td><td style = \"text-align: left;\">Float64</td></tr><tr><td class = \"rowNumber\" style = \"font-weight: bold; text-align: right;\">81</td><td style = \"text-align: left;\">Idle Mean</td><td style = \"text-align: left;\">4.20531e6</td><td style = \"text-align: left;\">1.46331e7</td><td style = \"text-align: left;\">0.0</td><td style = \"text-align: left;\">0.0</td><td style = \"text-align: left;\">0.0</td><td style = \"text-align: left;\">0.0</td><td style = \"text-align: left;\">1.19525e8</td><td style = \"text-align: left;\">1.49583e10</td><td style = \"font-style: italic; text-align: left;\"></td><td style = \"text-align: right;\">436</td><td style = \"text-align: right;\">0</td><td style = \"text-align: right;\">3557</td><td style = \"text-align: left;\">6.47702e7</td><td style = \"text-align: left;\">0.0</td><td style = \"text-align: left;\">Float64</td></tr><tr><td class = \"rowNumber\" style = \"font-weight: bold; text-align: right;\">82</td><td style = \"text-align: left;\"> Idle Std</td><td style = \"text-align: left;\">3.39545e5</td><td style = \"text-align: left;\">2.76935e6</td><td style = \"text-align: left;\">0.0</td><td style = \"text-align: left;\">0.0</td><td style = \"text-align: left;\">0.0</td><td style = \"text-align: left;\">0.0</td><td style = \"text-align: left;\">5.97173e7</td><td style = \"text-align: left;\">1.20776e9</td><td style = \"font-style: italic; text-align: left;\"></td><td style = \"text-align: right;\">102</td><td style = \"text-align: right;\">0</td><td style = \"text-align: right;\">3557</td><td style = \"text-align: left;\">0.0</td><td style = \"text-align: left;\">0.0</td><td style = \"text-align: left;\">Float64</td></tr><tr><td class = \"rowNumber\" style = \"font-weight: bold; text-align: right;\">83</td><td style = \"text-align: left;\"> Idle Max</td><td style = \"text-align: left;\">4.50714e6</td><td style = \"text-align: left;\">1.53714e7</td><td style = \"text-align: left;\">0.0</td><td style = \"text-align: left;\">0.0</td><td style = \"text-align: left;\">0.0</td><td style = \"text-align: left;\">0.0</td><td style = \"text-align: left;\">1.19525e8</td><td style = \"text-align: left;\">1.60319e10</td><td style = \"font-style: italic; text-align: left;\"></td><td style = \"text-align: right;\">436</td><td style = \"text-align: right;\">0</td><td style = \"text-align: right;\">3557</td><td style = \"text-align: left;\">6.47702e7</td><td style = \"text-align: left;\">0.0</td><td style = \"text-align: left;\">Float64</td></tr><tr><td class = \"rowNumber\" style = \"font-weight: bold; text-align: right;\">84</td><td style = \"text-align: left;\"> Idle Min</td><td style = \"text-align: left;\">3.94013e6</td><td style = \"text-align: left;\">1.42761e7</td><td style = \"text-align: left;\">0.0</td><td style = \"text-align: left;\">0.0</td><td style = \"text-align: left;\">0.0</td><td style = \"text-align: left;\">0.0</td><td style = \"text-align: left;\">1.19525e8</td><td style = \"text-align: left;\">1.4015e10</td><td style = \"font-style: italic; text-align: left;\"></td><td style = \"text-align: right;\">436</td><td style = \"text-align: right;\">0</td><td style = \"text-align: right;\">3557</td><td style = \"text-align: left;\">6.47702e7</td><td style = \"text-align: left;\">0.0</td><td style = \"text-align: left;\">Float64</td></tr><tr><td class = \"rowNumber\" style = \"font-weight: bold; text-align: right;\">85</td><td style = \"text-align: left;\">Label</td><td style = \"font-style: italic; text-align: left;\"></td><td style = \"font-style: italic; text-align: left;\"></td><td style = \"text-align: left;\">Android_Adware</td><td style = \"font-style: italic; text-align: left;\"></td><td style = \"font-style: italic; text-align: left;\"></td><td style = \"font-style: italic; text-align: left;\"></td><td style = \"text-align: left;\">Benign</td><td style = \"font-style: italic; text-align: left;\"></td><td style = \"text-align: left;\">4</td><td style = \"text-align: right;\">4</td><td style = \"text-align: right;\">0</td><td style = \"text-align: right;\">3557</td><td style = \"text-align: left;\">Android_Scareware</td><td style = \"text-align: left;\">Android_Adware</td><td style = \"text-align: left;\">String31</td></tr></tbody></table></div>"
      ],
      "text/latex": [
       "\\begin{tabular}{r|ccccc}\n",
       "\t& variable & mean & std & min & \\\\\n",
       "\t\\hline\n",
       "\t& Symbol & Union… & Union… & Any & \\\\\n",
       "\t\\hline\n",
       "\t1 & Flow ID &  &  & 1.31.173.21-10.42.0.151-80-36854-6 & $\\dots$ \\\\\n",
       "\t2 &  Source IP &  &  & 0.0.0.0 & $\\dots$ \\\\\n",
       "\t3 &  Source Port & 39310.9 & 17860.1 & 0 & $\\dots$ \\\\\n",
       "\t4 &  Destination IP &  &  & 1.31.173.21 & $\\dots$ \\\\\n",
       "\t5 &  Destination Port & 5390.09 & 14590.5 & 0.0 & $\\dots$ \\\\\n",
       "\t6 &  Protocol & 8.26061 & 4.51586 & 0.0 & $\\dots$ \\\\\n",
       "\t7 &  Timestamp &  &  & 04/07/2017 10:08:16 & $\\dots$ \\\\\n",
       "\t8 &  Flow Duration & 1.11761e7 & 2.19812e7 & 2 & $\\dots$ \\\\\n",
       "\t9 &  Total Fwd Packets & 7.5932 & 59.0075 & 1 & $\\dots$ \\\\\n",
       "\t10 &  Total Backward Packets & 11.0748 & 159.416 & 0 & $\\dots$ \\\\\n",
       "\t11 & Total Length of Fwd Packets & 665.05 & 3221.59 & 0.0 & $\\dots$ \\\\\n",
       "\t12 &  Total Length of Bwd Packets & 12084.5 & 2.29701e5 & 0.0 & $\\dots$ \\\\\n",
       "\t13 &  Fwd Packet Length Max & 218.112 & 380.199 & 0.0 & $\\dots$ \\\\\n",
       "\t14 &  Fwd Packet Length Min & 11.5516 & 49.0984 & 0.0 & $\\dots$ \\\\\n",
       "\t15 &  Fwd Packet Length Mean & 61.798 & 121.927 & 0.0 & $\\dots$ \\\\\n",
       "\t16 &  Fwd Packet Length Std & 83.1331 & 162.312 & 0.0 & $\\dots$ \\\\\n",
       "\t17 & Bwd Packet Length Max & 322.012 & 540.796 & 0.0 & $\\dots$ \\\\\n",
       "\t18 &  Bwd Packet Length Min & 22.6356 & 54.7526 & 0.0 & $\\dots$ \\\\\n",
       "\t19 &  Bwd Packet Length Mean & 168.154 & 309.932 & 0.0 & $\\dots$ \\\\\n",
       "\t20 &  Bwd Packet Length Std & 123.701 & 229.445 & 0.0 & $\\dots$ \\\\\n",
       "\t21 & Flow Bytes/s & 69412.5 & 5.49234e5 & 0.0 & $\\dots$ \\\\\n",
       "\t22 &  Flow Packets/s & 4549.4 & 30499.7 & 0.023608 & $\\dots$ \\\\\n",
       "\t23 &  Flow IAT Mean & 3.09521e6 & 7.85211e6 & 2.0 & $\\dots$ \\\\\n",
       "\t24 &  Flow IAT Std & 2.52525e6 & 6.32145e6 & 0.0 & $\\dots$ \\\\\n",
       "\t25 &  Flow IAT Max & 9.63644e6 & 1.84513e7 & 2.0 & $\\dots$ \\\\\n",
       "\t26 &  Flow IAT Min & 1.9164e6 & 7.18232e6 & -6.0 & $\\dots$ \\\\\n",
       "\t27 & Fwd IAT Total & 7.63331e6 & 1.84059e7 & 0.0 & $\\dots$ \\\\\n",
       "\t28 &  Fwd IAT Mean & 3.12538e6 & 8.22853e6 & 0.0 & $\\dots$ \\\\\n",
       "\t29 &  Fwd IAT Std & 2.01196e6 & 6.24099e6 & 0.0 & $\\dots$ \\\\\n",
       "\t30 &  Fwd IAT Max & 6.30073e6 & 1.43886e7 & 0.0 & $\\dots$ \\\\\n",
       "\t$\\dots$ & $\\dots$ & $\\dots$ & $\\dots$ & $\\dots$ &  \\\\\n",
       "\\end{tabular}\n"
      ],
      "text/plain": [
       "\u001b[1m85×16 DataFrame\u001b[0m\n",
       "\u001b[1m Row \u001b[0m│\u001b[1m variable                     \u001b[0m\u001b[1m mean      \u001b[0m\u001b[1m std       \u001b[0m\u001b[1m min                \u001b[0m ⋯\n",
       "     │\u001b[90m Symbol                       \u001b[0m\u001b[90m Union…    \u001b[0m\u001b[90m Union…    \u001b[0m\u001b[90m Any                \u001b[0m ⋯\n",
       "─────┼──────────────────────────────────────────────────────────────────────────\n",
       "   1 │ Flow ID                      \u001b[90m           \u001b[0m\u001b[90m           \u001b[0m 1.31.173.21-10.42.0 ⋯\n",
       "   2 │  Source IP                   \u001b[90m           \u001b[0m\u001b[90m           \u001b[0m 0.0.0.0\n",
       "   3 │  Source Port                  39310.9    17860.1    0\n",
       "   4 │  Destination IP              \u001b[90m           \u001b[0m\u001b[90m           \u001b[0m 1.31.173.21\n",
       "   5 │  Destination Port             5390.09    14590.5    0.0                 ⋯\n",
       "   6 │  Protocol                     8.26061    4.51586    0.0\n",
       "   7 │  Timestamp                   \u001b[90m           \u001b[0m\u001b[90m           \u001b[0m 04/07/2017 10:08:16\n",
       "   8 │  Flow Duration                1.11761e7  2.19812e7  2\n",
       "   9 │  Total Fwd Packets            7.5932     59.0075    1                   ⋯\n",
       "  10 │  Total Backward Packets       11.0748    159.416    0\n",
       "  11 │ Total Length of Fwd Packets   665.05     3221.59    0.0\n",
       "  ⋮  │              ⋮                    ⋮          ⋮                      ⋮   ⋱\n",
       "  76 │  min_seg_size_forward         26.9474    6.84316    0.0\n",
       "  77 │ Active Mean                   1.78008e5  8.92184e5  0.0                 ⋯\n",
       "  78 │  Active Std                   15975.8    2.13277e5  0.0\n",
       "  79 │  Active Max                   1.93012e5  9.57958e5  0.0\n",
       "  80 │  Active Min                   1.64973e5  8.73663e5  0.0\n",
       "  81 │ Idle Mean                     4.20531e6  1.46331e7  0.0                 ⋯\n",
       "  82 │  Idle Std                     3.39545e5  2.76935e6  0.0\n",
       "  83 │  Idle Max                     4.50714e6  1.53714e7  0.0\n",
       "  84 │  Idle Min                     3.94013e6  1.42761e7  0.0\n",
       "  85 │ Label                        \u001b[90m           \u001b[0m\u001b[90m           \u001b[0m Android_Adware      ⋯\n",
       "\u001b[36m                                                  13 columns and 64 rows omitted\u001b[0m"
      ]
     },
     "execution_count": 4,
     "metadata": {},
     "output_type": "execute_result"
    }
   ],
   "source": [
    "describe(data, :all)"
   ]
  },
  {
   "cell_type": "code",
   "execution_count": 5,
   "metadata": {},
   "outputs": [
    {
     "name": "stdout",
     "output_type": "stream",
     "text": [
      "Size of dataframe before dropping columns (3557, 85)\n",
      "Adding column  Bwd PSH Flags\n",
      "Adding column  Fwd URG Flags\n",
      "Adding column  Bwd URG Flags\n",
      "Adding column  RST Flag Count\n",
      "Adding column  CWE Flag Count\n",
      "Adding column  ECE Flag Count\n",
      "Adding column Fwd Avg Bytes/Bulk\n",
      "Adding column  Fwd Avg Packets/Bulk\n",
      "Adding column  Fwd Avg Bulk Rate\n",
      "Adding column  Bwd Avg Bytes/Bulk\n",
      "Adding column  Bwd Avg Packets/Bulk\n",
      "Adding column Bwd Avg Bulk Rate\n",
      "Size of dataframe after dropping columns (3557, 71)\n",
      "Size of dataframe after dropping nulls (3557, 71)\n",
      "Size of dataframe after dropping duplicating rows (3557, 71)\n"
     ]
    }
   ],
   "source": [
    "import StatsBase: countmap\n",
    "\n",
    "columns_to_drop = [\"Flow ID\", \" Timestamp\"]\n",
    "columns = names(data)\n",
    "\n",
    "println(\"Size of dataframe before dropping columns $(size(data))\")\n",
    "for column in 1:size(data, 2)\n",
    "    unique_values = countmap(data[:, column])\n",
    "\n",
    "    if length(unique_values) == 1\n",
    "        println(\"Adding column $(columns[column])\")\n",
    "        # println(unique_values)\n",
    "        push!(columns_to_drop, columns[column])\n",
    "    end\n",
    "    \n",
    "end\n",
    "\n",
    "select!(data, Not(columns_to_drop))\n",
    "\n",
    "println(\"Size of dataframe after dropping columns $(size(data))\")\n",
    "\n",
    "dropmissing!(data)\n",
    "\n",
    "println(\"Size of dataframe after dropping nulls $(size(data))\")\n",
    "\n",
    "unique_data = unique(data)\n",
    "\n",
    "println(\"Size of dataframe after dropping duplicating rows $(size(data))\")"
   ]
  },
  {
   "cell_type": "code",
   "execution_count": 6,
   "metadata": {},
   "outputs": [
    {
     "data": {
      "text/plain": [
       "Dict{String31, Int64} with 4 entries:\n",
       "  \"Benign\"              => 237\n",
       "  \"Android_Scareware\"   => 1171\n",
       "  \"Android_SMS_Malware\" => 674\n",
       "  \"Android_Adware\"      => 1475"
      ]
     },
     "execution_count": 6,
     "metadata": {},
     "output_type": "execute_result"
    }
   ],
   "source": [
    "countmap(data[:, :Label])"
   ]
  },
  {
   "cell_type": "code",
   "execution_count": 7,
   "metadata": {},
   "outputs": [],
   "source": [
    "function ip_to_decimal(ip)\n",
    "    # Split the IP address into octets\n",
    "    octets = split(ip, '.')\n",
    "    # Convert each octet to binary and combine them into a single 32-bit number\n",
    "    binary = join([string(parse(Int, octet, base=10), base=2, pad=8) for octet in octets])\n",
    "    decimal = parse(Int, binary, base=2) # Convert binary to decimal\n",
    "    return decimal\n",
    "end\n",
    "\n",
    "source_ips = data[!, :\" Source IP\"];\n",
    "destination_ips = data[!, :\" Destination IP\"];\n",
    "\n",
    "data[!, :\"Source IP Decimal\"] = map(ip -> ip_to_decimal(ip), source_ips);\n",
    "data[!, :\"Destination IP Decimal\"] = map(ip -> ip_to_decimal(ip), destination_ips);\n",
    "\n",
    "select!(data, Not([\" Source IP\", \" Destination IP\"]));"
   ]
  },
  {
   "cell_type": "code",
   "execution_count": 8,
   "metadata": {},
   "outputs": [
    {
     "data": {
      "text/html": [
       "<div><div style = \"float: left;\"><span>71×7 DataFrame</span></div><div style = \"float: right;\"><span style = \"font-style: italic;\">46 rows omitted</span></div><div style = \"clear: both;\"></div></div><div class = \"data-frame\" style = \"overflow-x: scroll;\"><table class = \"data-frame\" style = \"margin-bottom: 6px;\"><thead><tr class = \"header\"><th class = \"rowNumber\" style = \"font-weight: bold; text-align: right;\">Row</th><th style = \"text-align: left;\">variable</th><th style = \"text-align: left;\">mean</th><th style = \"text-align: left;\">min</th><th style = \"text-align: left;\">median</th><th style = \"text-align: left;\">max</th><th style = \"text-align: left;\">nmissing</th><th style = \"text-align: left;\">eltype</th></tr><tr class = \"subheader headerLastRow\"><th class = \"rowNumber\" style = \"font-weight: bold; text-align: right;\"></th><th title = \"Symbol\" style = \"text-align: left;\">Symbol</th><th title = \"Union{Nothing, Float64}\" style = \"text-align: left;\">Union…</th><th title = \"Any\" style = \"text-align: left;\">Any</th><th title = \"Union{Nothing, Float64}\" style = \"text-align: left;\">Union…</th><th title = \"Any\" style = \"text-align: left;\">Any</th><th title = \"Int64\" style = \"text-align: left;\">Int64</th><th title = \"DataType\" style = \"text-align: left;\">DataType</th></tr></thead><tbody><tr><td class = \"rowNumber\" style = \"font-weight: bold; text-align: right;\">1</td><td style = \"text-align: left;\"> Source Port</td><td style = \"text-align: left;\">39310.9</td><td style = \"text-align: left;\">0</td><td style = \"text-align: left;\">43520.0</td><td style = \"text-align: left;\">65400</td><td style = \"text-align: right;\">0</td><td style = \"text-align: left;\">Int64</td></tr><tr><td class = \"rowNumber\" style = \"font-weight: bold; text-align: right;\">2</td><td style = \"text-align: left;\"> Destination Port</td><td style = \"text-align: left;\">5390.09</td><td style = \"text-align: left;\">0.0</td><td style = \"text-align: left;\">443.0</td><td style = \"text-align: left;\">60729.0</td><td style = \"text-align: right;\">0</td><td style = \"text-align: left;\">Float64</td></tr><tr><td class = \"rowNumber\" style = \"font-weight: bold; text-align: right;\">3</td><td style = \"text-align: left;\"> Protocol</td><td style = \"text-align: left;\">8.26061</td><td style = \"text-align: left;\">0.0</td><td style = \"text-align: left;\">6.0</td><td style = \"text-align: left;\">17.0</td><td style = \"text-align: right;\">0</td><td style = \"text-align: left;\">Float64</td></tr><tr><td class = \"rowNumber\" style = \"font-weight: bold; text-align: right;\">4</td><td style = \"text-align: left;\"> Flow Duration</td><td style = \"text-align: left;\">1.11761e7</td><td style = \"text-align: left;\">2</td><td style = \"text-align: left;\">557126.0</td><td style = \"text-align: left;\">119977227</td><td style = \"text-align: right;\">0</td><td style = \"text-align: left;\">Int64</td></tr><tr><td class = \"rowNumber\" style = \"font-weight: bold; text-align: right;\">5</td><td style = \"text-align: left;\"> Total Fwd Packets</td><td style = \"text-align: left;\">7.5932</td><td style = \"text-align: left;\">1</td><td style = \"text-align: left;\">2.0</td><td style = \"text-align: left;\">3246</td><td style = \"text-align: right;\">0</td><td style = \"text-align: left;\">Int64</td></tr><tr><td class = \"rowNumber\" style = \"font-weight: bold; text-align: right;\">6</td><td style = \"text-align: left;\"> Total Backward Packets</td><td style = \"text-align: left;\">11.0748</td><td style = \"text-align: left;\">0</td><td style = \"text-align: left;\">1.0</td><td style = \"text-align: left;\">8452</td><td style = \"text-align: right;\">0</td><td style = \"text-align: left;\">Int64</td></tr><tr><td class = \"rowNumber\" style = \"font-weight: bold; text-align: right;\">7</td><td style = \"text-align: left;\">Total Length of Fwd Packets</td><td style = \"text-align: left;\">665.05</td><td style = \"text-align: left;\">0.0</td><td style = \"text-align: left;\">31.0</td><td style = \"text-align: left;\">110678.0</td><td style = \"text-align: right;\">0</td><td style = \"text-align: left;\">Float64</td></tr><tr><td class = \"rowNumber\" style = \"font-weight: bold; text-align: right;\">8</td><td style = \"text-align: left;\"> Total Length of Bwd Packets</td><td style = \"text-align: left;\">12084.5</td><td style = \"text-align: left;\">0.0</td><td style = \"text-align: left;\">17.0</td><td style = \"text-align: left;\">1.22247e7</td><td style = \"text-align: right;\">0</td><td style = \"text-align: left;\">Float64</td></tr><tr><td class = \"rowNumber\" style = \"font-weight: bold; text-align: right;\">9</td><td style = \"text-align: left;\"> Fwd Packet Length Max</td><td style = \"text-align: left;\">218.112</td><td style = \"text-align: left;\">0.0</td><td style = \"text-align: left;\">31.0</td><td style = \"text-align: left;\">1460.0</td><td style = \"text-align: right;\">0</td><td style = \"text-align: left;\">Float64</td></tr><tr><td class = \"rowNumber\" style = \"font-weight: bold; text-align: right;\">10</td><td style = \"text-align: left;\"> Fwd Packet Length Min</td><td style = \"text-align: left;\">11.5516</td><td style = \"text-align: left;\">0.0</td><td style = \"text-align: left;\">0.0</td><td style = \"text-align: left;\">1460.0</td><td style = \"text-align: right;\">0</td><td style = \"text-align: left;\">Float64</td></tr><tr><td class = \"rowNumber\" style = \"font-weight: bold; text-align: right;\">11</td><td style = \"text-align: left;\"> Fwd Packet Length Mean</td><td style = \"text-align: left;\">61.798</td><td style = \"text-align: left;\">0.0</td><td style = \"text-align: left;\">27.5</td><td style = \"text-align: left;\">1460.0</td><td style = \"text-align: right;\">0</td><td style = \"text-align: left;\">Float64</td></tr><tr><td class = \"rowNumber\" style = \"font-weight: bold; text-align: right;\">12</td><td style = \"text-align: left;\"> Fwd Packet Length Std</td><td style = \"text-align: left;\">83.1331</td><td style = \"text-align: left;\">0.0</td><td style = \"text-align: left;\">0.0</td><td style = \"text-align: left;\">842.931</td><td style = \"text-align: right;\">0</td><td style = \"text-align: left;\">Float64</td></tr><tr><td class = \"rowNumber\" style = \"font-weight: bold; text-align: right;\">13</td><td style = \"text-align: left;\">Bwd Packet Length Max</td><td style = \"text-align: left;\">322.012</td><td style = \"text-align: left;\">0.0</td><td style = \"text-align: left;\">17.0</td><td style = \"text-align: left;\">1460.0</td><td style = \"text-align: right;\">0</td><td style = \"text-align: left;\">Float64</td></tr><tr><td style = \"text-align: right;\">&vellip;</td><td style = \"text-align: right;\">&vellip;</td><td style = \"text-align: right;\">&vellip;</td><td style = \"text-align: right;\">&vellip;</td><td style = \"text-align: right;\">&vellip;</td><td style = \"text-align: right;\">&vellip;</td><td style = \"text-align: right;\">&vellip;</td><td style = \"text-align: right;\">&vellip;</td></tr><tr><td class = \"rowNumber\" style = \"font-weight: bold; text-align: right;\">60</td><td style = \"text-align: left;\"> min_seg_size_forward</td><td style = \"text-align: left;\">26.9474</td><td style = \"text-align: left;\">0.0</td><td style = \"text-align: left;\">32.0</td><td style = \"text-align: left;\">44.0</td><td style = \"text-align: right;\">0</td><td style = \"text-align: left;\">Float64</td></tr><tr><td class = \"rowNumber\" style = \"font-weight: bold; text-align: right;\">61</td><td style = \"text-align: left;\">Active Mean</td><td style = \"text-align: left;\">1.78008e5</td><td style = \"text-align: left;\">0.0</td><td style = \"text-align: left;\">0.0</td><td style = \"text-align: left;\">1.18162e7</td><td style = \"text-align: right;\">0</td><td style = \"text-align: left;\">Float64</td></tr><tr><td class = \"rowNumber\" style = \"font-weight: bold; text-align: right;\">62</td><td style = \"text-align: left;\"> Active Std</td><td style = \"text-align: left;\">15975.8</td><td style = \"text-align: left;\">0.0</td><td style = \"text-align: left;\">0.0</td><td style = \"text-align: left;\">6.65146e6</td><td style = \"text-align: right;\">0</td><td style = \"text-align: left;\">Float64</td></tr><tr><td class = \"rowNumber\" style = \"font-weight: bold; text-align: right;\">63</td><td style = \"text-align: left;\"> Active Max</td><td style = \"text-align: left;\">1.93012e5</td><td style = \"text-align: left;\">0.0</td><td style = \"text-align: left;\">0.0</td><td style = \"text-align: left;\">1.30253e7</td><td style = \"text-align: right;\">0</td><td style = \"text-align: left;\">Float64</td></tr><tr><td class = \"rowNumber\" style = \"font-weight: bold; text-align: right;\">64</td><td style = \"text-align: left;\"> Active Min</td><td style = \"text-align: left;\">1.64973e5</td><td style = \"text-align: left;\">0.0</td><td style = \"text-align: left;\">0.0</td><td style = \"text-align: left;\">1.18162e7</td><td style = \"text-align: right;\">0</td><td style = \"text-align: left;\">Float64</td></tr><tr><td class = \"rowNumber\" style = \"font-weight: bold; text-align: right;\">65</td><td style = \"text-align: left;\">Idle Mean</td><td style = \"text-align: left;\">4.20531e6</td><td style = \"text-align: left;\">0.0</td><td style = \"text-align: left;\">0.0</td><td style = \"text-align: left;\">1.19525e8</td><td style = \"text-align: right;\">0</td><td style = \"text-align: left;\">Float64</td></tr><tr><td class = \"rowNumber\" style = \"font-weight: bold; text-align: right;\">66</td><td style = \"text-align: left;\"> Idle Std</td><td style = \"text-align: left;\">3.39545e5</td><td style = \"text-align: left;\">0.0</td><td style = \"text-align: left;\">0.0</td><td style = \"text-align: left;\">5.97173e7</td><td style = \"text-align: right;\">0</td><td style = \"text-align: left;\">Float64</td></tr><tr><td class = \"rowNumber\" style = \"font-weight: bold; text-align: right;\">67</td><td style = \"text-align: left;\"> Idle Max</td><td style = \"text-align: left;\">4.50714e6</td><td style = \"text-align: left;\">0.0</td><td style = \"text-align: left;\">0.0</td><td style = \"text-align: left;\">1.19525e8</td><td style = \"text-align: right;\">0</td><td style = \"text-align: left;\">Float64</td></tr><tr><td class = \"rowNumber\" style = \"font-weight: bold; text-align: right;\">68</td><td style = \"text-align: left;\"> Idle Min</td><td style = \"text-align: left;\">3.94013e6</td><td style = \"text-align: left;\">0.0</td><td style = \"text-align: left;\">0.0</td><td style = \"text-align: left;\">1.19525e8</td><td style = \"text-align: right;\">0</td><td style = \"text-align: left;\">Float64</td></tr><tr><td class = \"rowNumber\" style = \"font-weight: bold; text-align: right;\">69</td><td style = \"text-align: left;\">Label</td><td style = \"font-style: italic; text-align: left;\"></td><td style = \"text-align: left;\">Android_Adware</td><td style = \"font-style: italic; text-align: left;\"></td><td style = \"text-align: left;\">Benign</td><td style = \"text-align: right;\">0</td><td style = \"text-align: left;\">String31</td></tr><tr><td class = \"rowNumber\" style = \"font-weight: bold; text-align: right;\">70</td><td style = \"text-align: left;\">Source IP Decimal</td><td style = \"text-align: left;\">3.7389e8</td><td style = \"text-align: left;\">0</td><td style = \"text-align: left;\">1.70525e8</td><td style = \"text-align: left;\">3706972955</td><td style = \"text-align: right;\">0</td><td style = \"text-align: left;\">Int64</td></tr><tr><td class = \"rowNumber\" style = \"font-weight: bold; text-align: right;\">71</td><td style = \"text-align: left;\">Destination IP Decimal</td><td style = \"text-align: left;\">1.65266e9</td><td style = \"text-align: left;\">18853141</td><td style = \"text-align: left;\">1.76149e9</td><td style = \"text-align: left;\">4294967295</td><td style = \"text-align: right;\">0</td><td style = \"text-align: left;\">Int64</td></tr></tbody></table></div>"
      ],
      "text/latex": [
       "\\begin{tabular}{r|ccccccc}\n",
       "\t& variable & mean & min & median & max & nmissing & \\\\\n",
       "\t\\hline\n",
       "\t& Symbol & Union… & Any & Union… & Any & Int64 & \\\\\n",
       "\t\\hline\n",
       "\t1 &  Source Port & 39310.9 & 0 & 43520.0 & 65400 & 0 & $\\dots$ \\\\\n",
       "\t2 &  Destination Port & 5390.09 & 0.0 & 443.0 & 60729.0 & 0 & $\\dots$ \\\\\n",
       "\t3 &  Protocol & 8.26061 & 0.0 & 6.0 & 17.0 & 0 & $\\dots$ \\\\\n",
       "\t4 &  Flow Duration & 1.11761e7 & 2 & 557126.0 & 119977227 & 0 & $\\dots$ \\\\\n",
       "\t5 &  Total Fwd Packets & 7.5932 & 1 & 2.0 & 3246 & 0 & $\\dots$ \\\\\n",
       "\t6 &  Total Backward Packets & 11.0748 & 0 & 1.0 & 8452 & 0 & $\\dots$ \\\\\n",
       "\t7 & Total Length of Fwd Packets & 665.05 & 0.0 & 31.0 & 110678.0 & 0 & $\\dots$ \\\\\n",
       "\t8 &  Total Length of Bwd Packets & 12084.5 & 0.0 & 17.0 & 1.22247e7 & 0 & $\\dots$ \\\\\n",
       "\t9 &  Fwd Packet Length Max & 218.112 & 0.0 & 31.0 & 1460.0 & 0 & $\\dots$ \\\\\n",
       "\t10 &  Fwd Packet Length Min & 11.5516 & 0.0 & 0.0 & 1460.0 & 0 & $\\dots$ \\\\\n",
       "\t11 &  Fwd Packet Length Mean & 61.798 & 0.0 & 27.5 & 1460.0 & 0 & $\\dots$ \\\\\n",
       "\t12 &  Fwd Packet Length Std & 83.1331 & 0.0 & 0.0 & 842.931 & 0 & $\\dots$ \\\\\n",
       "\t13 & Bwd Packet Length Max & 322.012 & 0.0 & 17.0 & 1460.0 & 0 & $\\dots$ \\\\\n",
       "\t14 &  Bwd Packet Length Min & 22.6356 & 0.0 & 0.0 & 443.0 & 0 & $\\dots$ \\\\\n",
       "\t15 &  Bwd Packet Length Mean & 168.154 & 0.0 & 7.75 & 1446.37 & 0 & $\\dots$ \\\\\n",
       "\t16 &  Bwd Packet Length Std & 123.701 & 0.0 & 0.0 & 794.229 & 0 & $\\dots$ \\\\\n",
       "\t17 & Flow Bytes/s & 69412.5 & 0.0 & 74.025 & 1.51429e7 & 0 & $\\dots$ \\\\\n",
       "\t18 &  Flow Packets/s & 4549.4 & 0.023608 & 7.75254 & 1.0e6 & 0 & $\\dots$ \\\\\n",
       "\t19 &  Flow IAT Mean & 3.09521e6 & 2.0 & 223009.0 & 8.47169e7 & 0 & $\\dots$ \\\\\n",
       "\t20 &  Flow IAT Std & 2.52525e6 & 0.0 & 0.0 & 7.34131e7 & 0 & $\\dots$ \\\\\n",
       "\t21 &  Flow IAT Max & 9.63644e6 & 2.0 & 334527.0 & 1.19525e8 & 0 & $\\dots$ \\\\\n",
       "\t22 &  Flow IAT Min & 1.9164e6 & -6.0 & 3064.0 & 8.47169e7 & 0 & $\\dots$ \\\\\n",
       "\t23 & Fwd IAT Total & 7.63331e6 & 0.0 & 260574.0 & 1.19977e8 & 0 & $\\dots$ \\\\\n",
       "\t24 &  Fwd IAT Mean & 3.12538e6 & 0.0 & 47083.7 & 8.47169e7 & 0 & $\\dots$ \\\\\n",
       "\t25 &  Fwd IAT Std & 2.01196e6 & 0.0 & 0.0 & 7.34131e7 & 0 & $\\dots$ \\\\\n",
       "\t26 &  Fwd IAT Max & 6.30073e6 & 0.0 & 134623.0 & 1.19525e8 & 0 & $\\dots$ \\\\\n",
       "\t27 &  Fwd IAT Min & 1.94588e6 & 0.0 & 102.0 & 8.47169e7 & 0 & $\\dots$ \\\\\n",
       "\t28 & Bwd IAT Total & 5.7944e6 & 0.0 & 0.0 & 1.19483e8 & 0 & $\\dots$ \\\\\n",
       "\t29 &  Bwd IAT Mean & 9.55921e5 & 0.0 & 0.0 & 7.21132e7 & 0 & $\\dots$ \\\\\n",
       "\t30 &  Bwd IAT Std & 1.37297e6 & 0.0 & 0.0 & 5.23257e7 & 0 & $\\dots$ \\\\\n",
       "\t$\\dots$ & $\\dots$ & $\\dots$ & $\\dots$ & $\\dots$ & $\\dots$ & $\\dots$ &  \\\\\n",
       "\\end{tabular}\n"
      ],
      "text/plain": [
       "\u001b[1m71×7 DataFrame\u001b[0m\n",
       "\u001b[1m Row \u001b[0m│\u001b[1m variable                     \u001b[0m\u001b[1m mean      \u001b[0m\u001b[1m min            \u001b[0m\u001b[1m median    \u001b[0m\u001b[1m max\u001b[0m ⋯\n",
       "     │\u001b[90m Symbol                       \u001b[0m\u001b[90m Union…    \u001b[0m\u001b[90m Any            \u001b[0m\u001b[90m Union…    \u001b[0m\u001b[90m Any\u001b[0m ⋯\n",
       "─────┼──────────────────────────────────────────────────────────────────────────\n",
       "   1 │  Source Port                  39310.9    0               43520.0    654 ⋯\n",
       "   2 │  Destination Port             5390.09    0.0             443.0      607\n",
       "   3 │  Protocol                     8.26061    0.0             6.0        17.\n",
       "   4 │  Flow Duration                1.11761e7  2               557126.0   119\n",
       "   5 │  Total Fwd Packets            7.5932     1               2.0        324 ⋯\n",
       "   6 │  Total Backward Packets       11.0748    0               1.0        845\n",
       "   7 │ Total Length of Fwd Packets   665.05     0.0             31.0       110\n",
       "   8 │  Total Length of Bwd Packets  12084.5    0.0             17.0       1.2\n",
       "   9 │  Fwd Packet Length Max        218.112    0.0             31.0       146 ⋯\n",
       "  10 │  Fwd Packet Length Min        11.5516    0.0             0.0        146\n",
       "  11 │  Fwd Packet Length Mean       61.798     0.0             27.5       146\n",
       "  ⋮  │              ⋮                    ⋮            ⋮             ⋮          ⋱\n",
       "  62 │  Active Std                   15975.8    0.0             0.0        6.6\n",
       "  63 │  Active Max                   1.93012e5  0.0             0.0        1.3 ⋯\n",
       "  64 │  Active Min                   1.64973e5  0.0             0.0        1.1\n",
       "  65 │ Idle Mean                     4.20531e6  0.0             0.0        1.1\n",
       "  66 │  Idle Std                     3.39545e5  0.0             0.0        5.9\n",
       "  67 │  Idle Max                     4.50714e6  0.0             0.0        1.1 ⋯\n",
       "  68 │  Idle Min                     3.94013e6  0.0             0.0        1.1\n",
       "  69 │ Label                        \u001b[90m           \u001b[0m Android_Adware \u001b[90m           \u001b[0m Ben\n",
       "  70 │ Source IP Decimal             3.7389e8   0               1.70525e8  370\n",
       "  71 │ Destination IP Decimal        1.65266e9  18853141        1.76149e9  429 ⋯\n",
       "\u001b[36m                                                   3 columns and 50 rows omitted\u001b[0m"
      ]
     },
     "execution_count": 8,
     "metadata": {},
     "output_type": "execute_result"
    }
   ],
   "source": [
    "describe(data)"
   ]
  },
  {
   "cell_type": "code",
   "execution_count": 9,
   "metadata": {},
   "outputs": [],
   "source": [
    "output_data = data[!, :Label];\n",
    "select!(data, Not(:Label))\n",
    "input_data = Matrix(data[!, 1:size(data, 2)]);"
   ]
  },
  {
   "cell_type": "markdown",
   "id": "686acd66",
   "metadata": {},
   "source": [
    "## First approach: binary classification"
   ]
  },
  {
   "cell_type": "code",
   "execution_count": 10,
   "id": "d2856c53",
   "metadata": {},
   "outputs": [],
   "source": [
    "function transform_binary_class(output_data)\n",
    "    binary_labels = output_data .!= \"Benign\"\n",
    "    return binary_labels\n",
    "end\n",
    "\n",
    "binary_labels = transform_binary_class(output_data)\n",
    "@assert binary_labels isa BitVector\n",
    "@assert input_data isa Matrix"
   ]
  },
  {
   "cell_type": "markdown",
   "metadata": {},
   "source": [
    "### Preprocessing"
   ]
  },
  {
   "cell_type": "code",
   "execution_count": 12,
   "id": "58b7af8e",
   "metadata": {},
   "outputs": [],
   "source": [
    "Random.seed!(42)\n",
    "\n",
    "train_indexes, test_indexes = holdOut(size(input_data, 1), 0.2)\n",
    "\n",
    "train_input = convert(Array{Float32, 2}, input_data[train_indexes, :])\n",
    "train_binary_output = binary_labels[train_indexes]\n",
    "\n",
    "normalizationParameters = calculateMinMaxNormalizationParameters(train_input)\n",
    "\n",
    "normalizeMinMax!(train_input, normalizationParameters)\n",
    "\n",
    "test_input = convert(Array{Float32, 2}, input_data[test_indexes, :])\n",
    "test_binary_output = binary_labels[test_indexes]\n",
    "\n",
    "normalizeMinMax!(test_input, normalizationParameters)\n",
    "\n",
    "@assert size(test_input, 1) == size(test_binary_output, 1)\n",
    "@assert size(train_input, 1) == size(train_binary_output, 1)"
   ]
  },
  {
   "cell_type": "code",
   "execution_count": 14,
   "metadata": {},
   "outputs": [],
   "source": [
    "Random.seed!(42)\n",
    "\n",
    "kFolds = 10\n",
    "crossValidationIndexes = crossvalidation(train_binary_output, kFolds);"
   ]
  },
  {
   "cell_type": "code",
   "execution_count": 15,
   "metadata": {},
   "outputs": [
    {
     "data": {
      "text/plain": [
       "generate_latex_table (generic function with 1 method)"
      ]
     },
     "execution_count": 15,
     "metadata": {},
     "output_type": "execute_result"
    }
   ],
   "source": [
    "function generate_latex_table(metrics::Dict{String, <: Any}, final::Bool)\n",
    "    \n",
    "    topology = metrics[\"topology\"]\n",
    "    accuracy = metrics[\"accuracy\"]\n",
    "    recall = metrics[\"recall\"]\n",
    "    specificity = metrics[\"specificity\"]\n",
    "    f1_score = metrics[\"f1_score\"]\n",
    "    \n",
    "    if final\n",
    "        confusion_matrix = metrics[\"confusion_matrix\"]\n",
    "        println(\"$topology & $(round(accuracy*100, digits=2))\\\\%  & $(round(recall*100, digits=2))\\\\%  & $(round(specificity*100, digits=2))\\\\%  & $(round(f1_score*100, digits=2))\\\\% & $confusion_matrix \\\\\\\\\")\n",
    "    else\n",
    "        std_accuracy = metrics[\"std_accuracy\"]\n",
    "        std_recall = metrics[\"std_recall\"]\n",
    "        std_specificity = metrics[\"std_specificity\"]\n",
    "        std_f1_score = metrics[\"std_f1_score\"]\n",
    "        println(\"$topology & $(round(accuracy*100, digits=2))\\\\% \\\\textit{($(round(std_accuracy, digits = 2)))} & $(round(recall*100, digits=2))\\\\% \\\\textit{($(round(std_recall, digits = 2)))} & $(round(specificity*100, digits=2))\\\\% \\\\textit{($(round(std_specificity, digits = 2)))} & $(round(f1_score*100, digits=2))\\\\% \\\\textit{($(round(std_f1_score, digits = 2)))} \\\\\\\\\")\n",
    "    end\n",
    "    \n",
    "end"
   ]
  },
  {
   "cell_type": "markdown",
   "metadata": {},
   "source": [
    "### kNN"
   ]
  },
  {
   "cell_type": "code",
   "execution_count": 16,
   "metadata": {},
   "outputs": [
    {
     "name": "stdout",
     "output_type": "stream",
     "text": [
      "3 & 92.79\\% \\textit{(0.01)} & 98.95\\% \\textit{(0.01)} & 1.14\\% \\textit{(0.02)} & 96.26\\% \\textit{(0.0)} \\\\\n",
      "5 & 93.43\\% \\textit{(0.0)} & 99.7\\% \\textit{(0.0)} & 0.0\\% \\textit{(0.0)} & 96.6\\% \\textit{(0.0)} \\\\\n",
      "7 & 93.57\\% \\textit{(0.0)} & 99.85\\% \\textit{(0.0)} & 0.0\\% \\textit{(0.0)} & 96.68\\% \\textit{(0.0)} \\\\\n",
      "10 & 93.67\\% \\textit{(0.0)} & 99.96\\% \\textit{(0.0)} & 0.0\\% \\textit{(0.0)} & 96.73\\% \\textit{(0.0)} \\\\\n",
      "15 & 93.71\\% \\textit{(0.0)} & 100.0\\% \\textit{(0.0)} & 0.0\\% \\textit{(0.0)} & 96.75\\% \\textit{(0.0)} \\\\\n",
      "20 & 93.71\\% \\textit{(0.0)} & 100.0\\% \\textit{(0.0)} & 0.0\\% \\textit{(0.0)} & 96.75\\% \\textit{(0.0)} \\\\\n",
      "----------------------------------------------------------------\n",
      "3 & 90.03\\%  & 97.86\\%  & 1.72\\%  & 94.74\\% & [640 57; 14 1] \\\\\n",
      "5 & 91.43\\%  & 99.54\\%  & 0.0\\%  & 95.52\\% & [651 58; 3 0] \\\\\n",
      "7 & 91.85\\%  & 100.0\\%  & 0.0\\%  & 95.75\\% & [654 58; 0 0] \\\\\n",
      "10 & 91.85\\%  & 100.0\\%  & 0.0\\%  & 95.75\\% & [654 58; 0 0] \\\\\n",
      "15 & 91.85\\%  & 100.0\\%  & 0.0\\%  & 95.75\\% & [654 58; 0 0] \\\\\n",
      "20 & 91.85\\%  & 100.0\\%  & 0.0\\%  & 95.75\\% & [654 58; 0 0] \\\\\n"
     ]
    }
   ],
   "source": [
    "include(\"functions.jl\")\n",
    "knnParameters = Dict(\"modelType\" => :kNN, \"numNeighboors\" => 0)\n",
    "\n",
    "ks = [3 , 5, 7, 10, 15, 20]\n",
    "for k in ks\n",
    "    knnParameters[\"numNeighboors\"] = k\n",
    "    metricsCV = (modelCrossValidation(knnParameters[\"modelType\"], knnParameters, train_input, train_binary_output, crossValidationIndexes))\n",
    "    metricsCV[\"topology\"] = k\n",
    "\n",
    "    generate_latex_table(metricsCV, false)\n",
    "end\n",
    "\n",
    "println(\"----------------------------------------------------------------\")\n",
    "for k in ks\n",
    "    knnParameters[\"numNeighboors\"] = k\n",
    "    metrics = createAndTrainFinalModel(knnParameters[\"modelType\"], knnParameters, train_input, train_binary_output, test_input, test_binary_output)\n",
    "    metrics[\"topology\"] = k\n",
    "\n",
    "    generate_latex_table(metrics, true)\n",
    "end"
   ]
  },
  {
   "cell_type": "markdown",
   "metadata": {},
   "source": [
    "### Decision Tree"
   ]
  },
  {
   "cell_type": "code",
   "execution_count": 17,
   "metadata": {},
   "outputs": [
    {
     "name": "stdout",
     "output_type": "stream",
     "text": [
      "3 & 93.22\\% \\textit{(0.01)} & 99.47\\% \\textit{(0.01)} & 0.0\\% \\textit{(0.0)} & 96.49\\% \\textit{(0.0)} \\\\\n",
      "5 & 92.9\\% \\textit{(0.01)} & 99.06\\% \\textit{(0.01)} & 1.11\\% \\textit{(0.02)} & 96.32\\% \\textit{(0.0)} \\\\\n",
      "7 & 92.02\\% \\textit{(0.01)} & 98.09\\% \\textit{(0.01)} & 1.67\\% \\textit{(0.03)} & 95.84\\% \\textit{(0.01)} \\\\\n",
      "10 & 90.65\\% \\textit{(0.01)} & 96.51\\% \\textit{(0.02)} & 3.37\\% \\textit{(0.04)} & 95.08\\% \\textit{(0.01)} \\\\\n",
      "15 & 88.02\\% \\textit{(0.02)} & 93.66\\% \\textit{(0.03)} & 3.89\\% \\textit{(0.05)} & 93.59\\% \\textit{(0.01)} \\\\\n",
      "9223372036854775807 & 86.93\\% \\textit{(0.02)} & 92.39\\% \\textit{(0.02)} & 5.59\\% \\textit{(0.06)} & 92.97\\% \\textit{(0.01)} \\\\\n",
      "----------------------------------------------------------------\n",
      "3 & 91.85\\%  & 100.0\\%  & 0.0\\%  & 95.75\\% & [654 58; 0 0] \\\\\n",
      "5 & 91.71\\%  & 99.85\\%  & 0.0\\%  & 95.68\\% & [653 58; 1 0] \\\\\n",
      "7 & 89.61\\%  & 97.55\\%  & 0.0\\%  & 94.52\\% & [638 58; 16 0] \\\\\n",
      "10 & 88.06\\%  & 95.72\\%  & 1.72\\%  & 93.64\\% & [626 57; 28 1] \\\\\n",
      "15 & 85.25\\%  & 92.66\\%  & 1.72\\%  & 92.03\\% & [606 57; 48 1] \\\\\n",
      "9223372036854775807 & 84.55\\%  & 91.9\\%  & 1.72\\%  & 91.62\\% & [601 57; 53 1] \\\\\n"
     ]
    }
   ],
   "source": [
    "include(\"functions.jl\")\n",
    "dtParameters = Dict(\"modelType\" => :DecisionTree, \"maxDepth\" => 1)\n",
    "\n",
    "depths = [3, 5, 7, 10, 15, typemax(Int)]\n",
    "for depth in depths\n",
    "    dtParameters[\"maxDepth\"] = depth\n",
    "    metricsCV = (modelCrossValidation(dtParameters[\"modelType\"], dtParameters, train_input, train_binary_output, crossValidationIndexes))\n",
    "    metricsCV[\"topology\"] = depth\n",
    "\n",
    "    generate_latex_table(metricsCV, false)\n",
    "\n",
    "end\n",
    "\n",
    "println(\"----------------------------------------------------------------\")\n",
    "\n",
    "for depth in depths\n",
    "    dtParameters[\"maxDepth\"] = depth\n",
    "    metrics = createAndTrainFinalModel(dtParameters[\"modelType\"], dtParameters, train_input, train_binary_output, test_input, test_binary_output)\n",
    "    metrics[\"topology\"] = depth\n",
    "\n",
    "    generate_latex_table(metrics, true)\n",
    "\n",
    "end\n"
   ]
  },
  {
   "cell_type": "markdown",
   "metadata": {},
   "source": [
    "### SVM"
   ]
  },
  {
   "cell_type": "code",
   "execution_count": 14,
   "metadata": {},
   "outputs": [
    {
     "name": "stdout",
     "output_type": "stream",
     "text": [
      "rbf0.1 & 93.71\\% \\textit{(0.0)} & 100.0\\% \\textit{(0.0)} & 0.0\\% \\textit{(0.0)} & 96.75\\% \\textit{(0.0)} \\\\\n",
      "rbf1.0 & 93.71\\% \\textit{(0.0)} & 100.0\\% \\textit{(0.0)} & 0.0\\% \\textit{(0.0)} & 96.75\\% \\textit{(0.0)} \\\\\n",
      "rbf10.0 & 93.64\\% \\textit{(0.0)} & 99.93\\% \\textit{(0.0)} & 0.0\\% \\textit{(0.0)} & 96.71\\% \\textit{(0.0)} \\\\\n",
      "poly0.1 & 93.71\\% \\textit{(0.0)} & 100.0\\% \\textit{(0.0)} & 0.0\\% \\textit{(0.0)} & 96.75\\% \\textit{(0.0)} \\\\\n",
      "poly1.0 & 93.67\\% \\textit{(0.0)} & 99.96\\% \\textit{(0.0)} & 0.0\\% \\textit{(0.0)} & 96.73\\% \\textit{(0.0)} \\\\\n",
      "linear0.1 & 93.71\\% \\textit{(0.0)} & 100.0\\% \\textit{(0.0)} & 0.0\\% \\textit{(0.0)} & 96.75\\% \\textit{(0.0)} \\\\\n",
      "linear1.0 & 93.71\\% \\textit{(0.0)} & 100.0\\% \\textit{(0.0)} & 0.0\\% \\textit{(0.0)} & 96.75\\% \\textit{(0.0)} \\\\\n",
      "linear10.0 & 93.71\\% \\textit{(0.0)} & 100.0\\% \\textit{(0.0)} & 0.0\\% \\textit{(0.0)} & 96.75\\% \\textit{(0.0)} \\\\\n",
      "----------------------------------------------------------------\n",
      "rbf0.1 & 91.85\\%  & 100.0\\%  & 0.0\\%  & 95.75\\% & [654 58; 0 0] \\\\\n",
      "rbf1.0 & 91.85\\%  & 100.0\\%  & 0.0\\%  & 95.75\\% & [654 58; 0 0] \\\\\n",
      "rbf10.0 & 91.71\\%  & 99.85\\%  & 0.0\\%  & 95.68\\% & [653 58; 1 0] \\\\\n",
      "poly0.1 & 91.85\\%  & 100.0\\%  & 0.0\\%  & 95.75\\% & [654 58; 0 0] \\\\\n",
      "poly1.0 & 91.71\\%  & 99.85\\%  & 0.0\\%  & 95.68\\% & [653 58; 1 0] \\\\\n",
      "linear0.1 & 91.85\\%  & 100.0\\%  & 0.0\\%  & 95.75\\% & [654 58; 0 0] \\\\\n",
      "linear1.0 & 91.85\\%  & 100.0\\%  & 0.0\\%  & 95.75\\% & [654 58; 0 0] \\\\\n",
      "linear10.0 & 91.85\\%  & 100.0\\%  & 0.0\\%  & 95.75\\% & [654 58; 0 0] \\\\\n"
     ]
    }
   ],
   "source": [
    "include(\"functions.jl\")\n",
    "svmParameters = Dict(\"modelType\" => :SVM, \"C\" => 1, \"kernel\" => \"linear\", \"degree\" => 3, \"gamma\" => \"scale\")\n",
    "\n",
    "svms = [\n",
    "    (\"rbf\", 0.1),\n",
    "    (\"rbf\", 1.0),\n",
    "    (\"rbf\", 10.0),\n",
    "    (\"poly\", 0.1),\n",
    "    (\"poly\", 1.0),\n",
    "    (\"linear\", 0.1),\n",
    "    (\"linear\", 1.0),\n",
    "    (\"linear\", 10.0),\n",
    "]\n",
    "\n",
    "for (kernel, C) in svms\n",
    "    svmParameters[\"kernel\"] = kernel\n",
    "    svmParameters[\"C\"] = C\n",
    "    metricsCV = (modelCrossValidation(svmParameters[\"modelType\"], svmParameters, train_input, train_binary_output, crossValidationIndexes))\n",
    "    metricsCV[\"topology\"] = kernel * string(C)\n",
    "\n",
    "    generate_latex_table(metricsCV, false)\n",
    "\n",
    "end\n",
    "\n",
    "println(\"----------------------------------------------------------------\")\n",
    "\n",
    "for (kernel, C) in svms\n",
    "    svmParameters[\"kernel\"] = kernel\n",
    "    svmParameters[\"C\"] = C\n",
    "    metrics = createAndTrainFinalModel(svmParameters[\"modelType\"], svmParameters, train_input, train_binary_output, test_input, test_binary_output)\n",
    "    metrics[\"topology\"] = kernel * string(C)\n",
    "\n",
    "    generate_latex_table(metrics, true)\n",
    "\n",
    "end\n"
   ]
  },
  {
   "cell_type": "markdown",
   "metadata": {},
   "source": [
    "### ANN"
   ]
  },
  {
   "cell_type": "code",
   "execution_count": 15,
   "metadata": {},
   "outputs": [
    {
     "name": "stdout",
     "output_type": "stream",
     "text": [
      "[60, 120] & 93.71\\% \\textit{(0.0)} & 100.0\\% \\textit{(0.0)} & 0.0\\% \\textit{(0.0)} & 96.75\\% \\textit{(0.0)} \\\\\n",
      "[80, 50] & 93.71\\% \\textit{(0.0)} & 100.0\\% \\textit{(0.0)} & 0.0\\% \\textit{(0.0)} & 96.75\\% \\textit{(0.0)} \\\\\n",
      "[80, 100] & 93.71\\% \\textit{(0.0)} & 100.0\\% \\textit{(0.0)} & 0.0\\% \\textit{(0.0)} & 96.75\\% \\textit{(0.0)} \\\\\n",
      "[100, 40] & 93.71\\% \\textit{(0.0)} & 100.0\\% \\textit{(0.0)} & 0.0\\% \\textit{(0.0)} & 96.75\\% \\textit{(0.0)} \\\\\n",
      "[60, 120] & 91.85\\%  & 100.0\\%  & 0.0\\%  & 95.75\\% & [654 58; 0 0] \\\\\n",
      "[80, 50] & 91.85\\%  & 100.0\\%  & 0.0\\%  & 95.75\\% & [654 58; 0 0] \\\\\n",
      "[80, 100] & 91.85\\%  & 100.0\\%  & 0.0\\%  & 95.75\\% & [654 58; 0 0] \\\\\n",
      "[100, 40] & 91.85\\%  & 100.0\\%  & 0.0\\%  & 95.75\\% & [654 58; 0 0] \\\\\n"
     ]
    }
   ],
   "source": [
    "include(\"functions.jl\")\n",
    "\n",
    "#topologies = [[20], [40], [80], [100]]\n",
    "topologies = [[60, 120], [80, 50], [80, 100], [100, 40]]\n",
    "annParameters = Dict(\"modelType\" => :ANN, \"maxEpochs\" => 200,\n",
    "    \"learningRate\" => 0.01, \"maxEpochsVal\" => 30,\n",
    "    \"repetitions\" => 30, \"validationRatio\" => 0.1,\n",
    "    \"transferFunctions\" => fill(σ, 2))\n",
    "\n",
    "for topology in topologies\n",
    "    annParameters[\"topology\"] = topology\n",
    "    metricsCV = modelCrossValidation(annParameters[\"modelType\"], annParameters, train_input, train_binary_output, crossValidationIndexes)\n",
    "    metricsCV[\"topology\"] = topology \n",
    "\n",
    "    generate_latex_table(metricsCV, false)\n",
    "end\n",
    "\n",
    "for topology in topologies\n",
    "    annParameters[\"topology\"] = topology\n",
    "    metrics = createAndTrainFinalModel(annParameters[\"modelType\"], annParameters, train_input, train_binary_output, test_input, test_binary_output)\n",
    "    metrics[\"topology\"] = topology \n",
    "\n",
    "    generate_latex_table(metrics, true)\n",
    "end"
   ]
  },
  {
   "cell_type": "markdown",
   "metadata": {},
   "source": [
    "### Ensembles"
   ]
  },
  {
   "cell_type": "code",
   "execution_count": 19,
   "metadata": {},
   "outputs": [
    {
     "name": "stderr",
     "output_type": "stream",
     "text": [
      "WARNING: redefinition of constant VotingClassifier. This may fail, cause incorrect answers, or produce other errors.\n"
     ]
    },
    {
     "data": {
      "text/plain": [
       "PyObject <class 'sklearn.ensemble._voting.VotingClassifier'>"
      ]
     },
     "execution_count": 19,
     "metadata": {},
     "output_type": "execute_result"
    }
   ],
   "source": [
    "@sk_import ensemble:StackingClassifier\n",
    "@sk_import ensemble:VotingClassifier\n"
   ]
  },
  {
   "cell_type": "code",
   "execution_count": 20,
   "metadata": {},
   "outputs": [
    {
     "name": "stdout",
     "output_type": "stream",
     "text": [
      "Dict{String, Any}(\"modelType\" => :DecisionTree, \"maxDepth\" => 5) & 93.67\\% \\textit{(0.0)} & 99.96\\% \\textit{(0.0)} & 0.0\\% \\textit{(0.0)} & 96.73\\% \\textit{(0.0)} \\\\\n",
      "Dict{String, Any}(\"modelType\" => :kNN, \"numNeighboors\" => 3) & 93.67\\% \\textit{(0.0)} & 99.96\\% \\textit{(0.0)} & 0.0\\% \\textit{(0.0)} & 96.73\\% \\textit{(0.0)} \\\\\n",
      "Dict{String, Any}(\"modelType\" => :SVM, \"C\" => 10, \"kernel\" => \"rbf\") & 93.67\\% \\textit{(0.0)} & 99.96\\% \\textit{(0.0)} & 0.0\\% \\textit{(0.0)} & 96.73\\% \\textit{(0.0)} \\\\\n",
      "Dict{String, Any}(\"modelType\" => :DecisionTree, \"maxDepth\" => 5) & 93.04\\% \\textit{(0.01)} & 99.21\\% \\textit{(0.01)} & 1.11\\% \\textit{(0.02)} & 96.39\\% \\textit{(0.01)} \\\\\n",
      "Dict{String, Any}(\"modelType\" => :kNN, \"numNeighboors\" => 3) & 92.62\\% \\textit{(0.01)} & 98.8\\% \\textit{(0.01)} & 0.56\\% \\textit{(0.02)} & 96.16\\% \\textit{(0.01)} \\\\\n",
      "Dict{String, Any}(\"modelType\" => :SVM, \"C\" => 10, \"kernel\" => \"rbf\") & 93.71\\% \\textit{(0.0)} & 100.0\\% \\textit{(0.0)} & 0.0\\% \\textit{(0.0)} & 96.75\\% \\textit{(0.0)} \\\\\n",
      "Dict{String, Any}(\"modelType\" => :DecisionTree, \"maxDepth\" => 5) & 91.85\\%  & 100.0\\%  & 0.0\\%  & 95.75\\% & [654 58; 0 0] \\\\\n",
      "Dict{String, Any}(\"modelType\" => :kNN, \"numNeighboors\" => 3) & 91.85\\%  & 100.0\\%  & 0.0\\%  & 95.75\\% & [654 58; 0 0] \\\\\n",
      "Dict{String, Any}(\"modelType\" => :SVM, \"C\" => 10, \"kernel\" => \"rbf\") & 91.85\\%  & 100.0\\%  & 0.0\\%  & 95.75\\% & [654 58; 0 0] \\\\\n",
      "Dict{String, Any}(\"modelType\" => :DecisionTree, \"maxDepth\" => 5) & 91.71\\%  & 99.85\\%  & 0.0\\%  & 95.68\\% & [653 58; 1 0] \\\\\n",
      "Dict{String, Any}(\"modelType\" => :kNN, \"numNeighboors\" => 3) & 91.15\\%  & 99.24\\%  & 0.0\\%  & 95.37\\% & [649 58; 5 0] \\\\\n",
      "Dict{String, Any}(\"modelType\" => :SVM, \"C\" => 10, \"kernel\" => \"rbf\") & 91.85\\%  & 100.0\\%  & 0.0\\%  & 95.75\\% & [654 58; 0 0] \\\\\n"
     ]
    }
   ],
   "source": [
    "include(\"functions.jl\")\n",
    "\n",
    "dtParameters = Dict(\"modelType\" => :DecisionTree, \"maxDepth\" => 5)\n",
    "knnParameters = Dict(\"modelType\" => :kNN, \"numNeighboors\" => 3)\n",
    "svmParameters = Dict(\"modelType\" => :SVM, \"kernel\" => \"rbf\", \"C\" => 10)\n",
    "Random.seed!(42)\n",
    "\n",
    "ensemble_types = [:VotingHard, :Stacking]\n",
    "final_estimators = [dtParameters, knnParameters, svmParameters]\n",
    "\n",
    "for ensemble_type in ensemble_types\n",
    "    for final_estimator in final_estimators\n",
    "        metricsCV = trainClassEnsemble([:DecisionTree, :kNN, :SVM], [dtParameters, knnParameters, svmParameters], (train_input, train_binary_output), crossValidationIndexes; ensembleType = ensemble_type, final_estimator = final_estimator)\n",
    "        metricsCV[\"topology\"] = final_estimator\n",
    "        generate_latex_table(metricsCV, false)\n",
    "\n",
    "    end\n",
    "end\n",
    "\n",
    "\n",
    "for ensemble_type in ensemble_types\n",
    "    for final_estimator in final_estimators\n",
    "        metrics = createAndTrainFinalEnsemble([:DecisionTree, :kNN, :SVM], [dtParameters, knnParameters, svmParameters], (train_input, train_binary_output), (test_input, test_binary_output); ensembleType = ensemble_type, final_estimator = final_estimator)\n",
    "        metrics[\"topology\"] = final_estimator\n",
    "        generate_latex_table(metrics, true)\n",
    "    end\n",
    "end\n"
   ]
  },
  {
   "cell_type": "markdown",
   "metadata": {},
   "source": [
    "## Second Approach"
   ]
  },
  {
   "cell_type": "markdown",
   "metadata": {},
   "source": [
    "### Data balancing"
   ]
  },
  {
   "cell_type": "code",
   "execution_count": 21,
   "metadata": {},
   "outputs": [
    {
     "data": {
      "text/plain": [
       "6640-element BitVector:\n",
       " 1\n",
       " 1\n",
       " 1\n",
       " 0\n",
       " 0\n",
       " 0\n",
       " 1\n",
       " 1\n",
       " 1\n",
       " 1\n",
       " 1\n",
       " 0\n",
       " 0\n",
       " ⋮\n",
       " 1\n",
       " 0\n",
       " 0\n",
       " 0\n",
       " 0\n",
       " 1\n",
       " 1\n",
       " 1\n",
       " 0\n",
       " 1\n",
       " 1\n",
       " 0"
      ]
     },
     "execution_count": 21,
     "metadata": {},
     "output_type": "execute_result"
    }
   ],
   "source": [
    "using MLDataPattern;\n",
    "Random.seed!(42)\n",
    "X_bal, y_bal = oversample((input_data', binary_labels), shuffle = true)\n",
    "X_bal = getobs(X_bal)'\n",
    "y_bal = getobs(y_bal)"
   ]
  },
  {
   "cell_type": "code",
   "execution_count": 27,
   "metadata": {},
   "outputs": [
    {
     "data": {
      "text/plain": [
       "Dict{Bool, Int64} with 2 entries:\n",
       "  0 => 3320\n",
       "  1 => 3320"
      ]
     },
     "execution_count": 27,
     "metadata": {},
     "output_type": "execute_result"
    }
   ],
   "source": [
    "countmap(y_bal)"
   ]
  },
  {
   "cell_type": "code",
   "execution_count": 24,
   "metadata": {},
   "outputs": [],
   "source": [
    "Random.seed!(42)\n",
    "\n",
    "train_indexes, test_indexes = holdOut(size(X_bal, 1), 0.2)\n",
    "\n",
    "train_input = convert(Array{Float32, 2}, X_bal[train_indexes, :])\n",
    "train_balanced_binary_output = y_bal[train_indexes]\n",
    "\n",
    "normalizationParameters = calculateMinMaxNormalizationParameters(train_input)\n",
    "\n",
    "normalizeMinMax!(train_input, normalizationParameters)\n",
    "\n",
    "test_input = convert(Array{Float32, 2}, X_bal[test_indexes, :])\n",
    "test_balanced_binary_output = y_bal[test_indexes]\n",
    "\n",
    "normalizeMinMax!(test_input, normalizationParameters)\n",
    "\n",
    "@assert size(test_input, 1) == size(test_balanced_binary_output, 1)\n",
    "@assert size(train_input, 1) == size(train_balanced_binary_output, 1)"
   ]
  },
  {
   "cell_type": "code",
   "execution_count": 25,
   "metadata": {},
   "outputs": [],
   "source": [
    "Random.seed!(42)\n",
    "\n",
    "kFolds = 10\n",
    "crossValidationIndexes = crossvalidation(train_balanced_binary_output, kFolds);"
   ]
  },
  {
   "cell_type": "markdown",
   "metadata": {},
   "source": [
    "### kNN"
   ]
  },
  {
   "cell_type": "code",
   "execution_count": 26,
   "metadata": {},
   "outputs": [
    {
     "name": "stdout",
     "output_type": "stream",
     "text": [
      "3 & 90.98\\% \\textit{(0.01)} & 82.02\\% \\textit{(0.01)} & 100.0\\% \\textit{(0.0)} & 90.11\\% \\textit{(0.01)} \\\\\n",
      "5 & 87.71\\% \\textit{(0.01)} & 75.49\\% \\textit{(0.01)} & 100.0\\% \\textit{(0.0)} & 86.03\\% \\textit{(0.01)} \\\\\n",
      "7 & 84.38\\% \\textit{(0.01)} & 68.85\\% \\textit{(0.02)} & 100.0\\% \\textit{(0.0)} & 81.54\\% \\textit{(0.01)} \\\\\n",
      "10 & 78.56\\% \\textit{(0.01)} & 57.24\\% \\textit{(0.01)} & 100.0\\% \\textit{(0.0)} & 72.8\\% \\textit{(0.01)} \\\\\n",
      "15 & 71.95\\% \\textit{(0.01)} & 50.71\\% \\textit{(0.03)} & 93.32\\% \\textit{(0.02)} & 64.42\\% \\textit{(0.02)} \\\\\n",
      "20 & 66.51\\% \\textit{(0.02)} & 48.99\\% \\textit{(0.02)} & 84.14\\% \\textit{(0.02)} & 59.46\\% \\textit{(0.02)} \\\\\n",
      "----------------------------------------------------------------\n",
      "3 & 91.94\\%  & 83.69\\%  & 100.0\\%  & 91.12\\% & [549 0; 107 672] \\\\\n",
      "5 & 88.33\\%  & 76.37\\%  & 100.0\\%  & 86.6\\% & [501 0; 155 672] \\\\\n",
      "7 & 85.17\\%  & 69.97\\%  & 100.0\\%  & 82.33\\% & [459 0; 197 672] \\\\\n",
      "10 & 80.72\\%  & 60.98\\%  & 100.0\\%  & 75.76\\% & [400 0; 256 672] \\\\\n",
      "15 & 74.47\\%  & 51.52\\%  & 96.88\\%  & 66.6\\% & [338 21; 318 651] \\\\\n",
      "20 & 66.11\\%  & 44.36\\%  & 87.35\\%  & 56.4\\% & [291 85; 365 587] \\\\\n"
     ]
    }
   ],
   "source": [
    "include(\"functions.jl\")\n",
    "knnParameters = Dict(\"modelType\" => :kNN, \"numNeighboors\" => 0)\n",
    "\n",
    "ks = [3 , 5, 7, 10, 15, 20]\n",
    "for k in ks\n",
    "    knnParameters[\"numNeighboors\"] = k\n",
    "    metricsCV = (modelCrossValidation(knnParameters[\"modelType\"], knnParameters, train_input, train_balanced_binary_output, crossValidationIndexes))\n",
    "    metricsCV[\"topology\"] = k\n",
    "\n",
    "    generate_latex_table(metricsCV, false)\n",
    "end\n",
    "\n",
    "println(\"----------------------------------------------------------------\")\n",
    "for k in ks\n",
    "    knnParameters[\"numNeighboors\"] = k\n",
    "    metrics = createAndTrainFinalModel(knnParameters[\"modelType\"], knnParameters, train_input, train_balanced_binary_output, test_input, test_balanced_binary_output)\n",
    "    metrics[\"topology\"] = k\n",
    "\n",
    "    generate_latex_table(metrics, true)\n",
    "end"
   ]
  },
  {
   "cell_type": "markdown",
   "metadata": {},
   "source": [
    "### Decision Tree"
   ]
  },
  {
   "cell_type": "code",
   "execution_count": 172,
   "metadata": {},
   "outputs": [
    {
     "name": "stdout",
     "output_type": "stream",
     "text": [
      "3 & 58.06\\% \\textit{(0.03)} & 39.6\\% \\textit{(0.19)} & 76.62\\% \\textit{(0.15)} & 46.11\\% \\textit{(0.14)} \\\\\n",
      "5 & 64.25\\% \\textit{(0.03)} & 48.35\\% \\textit{(0.14)} & 80.25\\% \\textit{(0.13)} & 56.43\\% \\textit{(0.09)} \\\\\n",
      "7 & 71.89\\% \\textit{(0.02)} & 58.19\\% \\textit{(0.09)} & 85.69\\% \\textit{(0.11)} & 67.25\\% \\textit{(0.04)} \\\\\n",
      "10 & 80.97\\% \\textit{(0.02)} & 71.25\\% \\textit{(0.05)} & 90.75\\% \\textit{(0.04)} & 78.9\\% \\textit{(0.03)} \\\\\n",
      "15 & 90.0\\% \\textit{(0.02)} & 81.05\\% \\textit{(0.04)} & 99.02\\% \\textit{(0.02)} & 89.0\\% \\textit{(0.02)} \\\\\n",
      "nothing & 95.5\\% \\textit{(0.01)} & 91.03\\% \\textit{(0.02)} & 100.0\\% \\textit{(0.0)} & 95.3\\% \\textit{(0.01)} \\\\\n",
      "----------------------------------------------------------------\n",
      "3 & 56.4\\%  & 16.46\\%  & 95.39\\%  & 27.17\\% & [108 31; 548 641] \\\\\n",
      "5 & 62.5\\%  & 28.05\\%  & 96.13\\%  & 42.49\\% & [184 26; 472 646] \\\\\n",
      "7 & 69.95\\%  & 74.85\\%  & 65.18\\%  & 71.11\\% & [491 234; 165 438] \\\\\n",
      "10 & 78.09\\%  & 70.12\\%  & 85.86\\%  & 75.97\\% & [460 95; 196 577] \\\\\n",
      "15 & 88.48\\%  & 78.35\\%  & 98.36\\%  & 87.04\\% & [514 11; 142 661] \\\\\n",
      "nothing & 95.48\\%  & 90.85\\%  & 100.0\\%  & 95.21\\% & [596 0; 60 672] \\\\\n"
     ]
    }
   ],
   "source": [
    "include(\"functions.jl\")\n",
    "dtParameters = Dict(\"modelType\" => :DecisionTree, \"maxDepth\" => 1)\n",
    "\n",
    "depths = [3, 5, 7, 10, 15, nothing]\n",
    "for depth in depths\n",
    "    dtParameters[\"maxDepth\"] = depth\n",
    "    metricsCV = (modelCrossValidation(dtParameters[\"modelType\"], dtParameters, train_input, train_balanced_binary_output, crossValidationIndexes))\n",
    "    metricsCV[\"topology\"] = depth\n",
    "\n",
    "    generate_latex_table(metricsCV, false)\n",
    "\n",
    "end\n",
    "\n",
    "println(\"----------------------------------------------------------------\")\n",
    "\n",
    "for depth in depths\n",
    "    dtParameters[\"maxDepth\"] = depth\n",
    "    metrics = createAndTrainFinalModel(dtParameters[\"modelType\"], dtParameters, train_input, train_balanced_binary_output, test_input, test_balanced_binary_output)\n",
    "    metrics[\"topology\"] = depth\n",
    "\n",
    "    generate_latex_table(metrics, true)\n",
    "\n",
    "end\n"
   ]
  },
  {
   "cell_type": "markdown",
   "metadata": {},
   "source": [
    "### SVM"
   ]
  },
  {
   "cell_type": "code",
   "execution_count": 167,
   "metadata": {},
   "outputs": [
    {
     "name": "stdout",
     "output_type": "stream",
     "text": [
      "rbf0.1 & 55.87\\% \\textit{(0.02)} & 58.0\\% \\textit{(0.05)} & 53.74\\% \\textit{(0.07)} & 56.8\\% \\textit{(0.02)} \\\\\n",
      "rbf1.0 & 60.54\\% \\textit{(0.03)} & 59.99\\% \\textit{(0.03)} & 61.1\\% \\textit{(0.03)} & 60.38\\% \\textit{(0.03)} \\\\\n",
      "rbf10.0 & 66.83\\% \\textit{(0.03)} & 61.34\\% \\textit{(0.03)} & 72.35\\% \\textit{(0.05)} & 64.98\\% \\textit{(0.03)} \\\\\n",
      "poly0.1 & 57.98\\% \\textit{(0.02)} & 73.65\\% \\textit{(0.03)} & 42.22\\% \\textit{(0.05)} & 63.73\\% \\textit{(0.02)} \\\\\n",
      "poly1.0 & 61.56\\% \\textit{(0.03)} & 65.65\\% \\textit{(0.03)} & 57.44\\% \\textit{(0.05)} & 63.14\\% \\textit{(0.02)} \\\\\n",
      "linear0.1 & 54.82\\% \\textit{(0.02)} & 61.04\\% \\textit{(0.04)} & 48.57\\% \\textit{(0.05)} & 57.49\\% \\textit{(0.02)} \\\\\n",
      "linear1.0 & 56.46\\% \\textit{(0.03)} & 65.09\\% \\textit{(0.03)} & 47.77\\% \\textit{(0.04)} & 59.99\\% \\textit{(0.02)} \\\\\n",
      "linear10.0 & 57.59\\% \\textit{(0.02)} & 66.78\\% \\textit{(0.04)} & 48.34\\% \\textit{(0.05)} & 61.21\\% \\textit{(0.02)} \\\\\n",
      "----------------------------------------------------------------\n",
      "rbf0.1 & 60.09\\%  & 58.84\\%  & 61.31\\%  & 59.29\\% & [386 260; 270 412] \\\\\n",
      "rbf1.0 & 62.5\\%  & 61.43\\%  & 63.54\\%  & 61.81\\% & [403 245; 253 427] \\\\\n",
      "rbf10.0 & 69.35\\%  & 60.67\\%  & 77.83\\%  & 66.17\\% & [398 149; 258 523] \\\\\n",
      "poly0.1 & 60.32\\%  & 74.24\\%  & 46.73\\%  & 64.89\\% & [487 358; 169 314] \\\\\n",
      "poly1.0 & 63.33\\%  & 67.68\\%  & 59.08\\%  & 64.58\\% & [444 275; 212 397] \\\\\n",
      "linear0.1 & 57.23\\%  & 62.35\\%  & 52.23\\%  & 59.02\\% & [409 321; 247 351] \\\\\n",
      "linear1.0 & 57.53\\%  & 66.77\\%  & 48.51\\%  & 60.83\\% & [438 346; 218 326] \\\\\n",
      "linear10.0 & 60.02\\%  & 69.97\\%  & 50.3\\%  & 63.35\\% & [459 334; 197 338] \\\\\n"
     ]
    }
   ],
   "source": [
    "include(\"functions.jl\")\n",
    "svmParameters = Dict(\"modelType\" => :SVM, \"C\" => 1, \"kernel\" => \"linear\", \"degree\" => 3, \"gamma\" => \"scale\")\n",
    "\n",
    "svms = [\n",
    "    (\"rbf\", 0.1),\n",
    "    (\"rbf\", 1.0),\n",
    "    (\"rbf\", 10.0),\n",
    "    (\"poly\", 0.1),\n",
    "    (\"poly\", 1.0),\n",
    "    (\"linear\", 0.1),\n",
    "    (\"linear\", 1.0),\n",
    "    (\"linear\", 10.0),\n",
    "]\n",
    "\n",
    "for (kernel, C) in svms\n",
    "    svmParameters[\"kernel\"] = kernel\n",
    "    svmParameters[\"C\"] = C\n",
    "    metricsCV = (modelCrossValidation(svmParameters[\"modelType\"], svmParameters, train_input, train_balanced_binary_output, crossValidationIndexes))\n",
    "    metricsCV[\"topology\"] = kernel * \" & \" * string(C)\n",
    "\n",
    "    generate_latex_table(metricsCV, false)\n",
    "\n",
    "end\n",
    "\n",
    "println(\"----------------------------------------------------------------\")\n",
    "\n",
    "for (kernel, C) in svms\n",
    "    svmParameters[\"kernel\"] = kernel\n",
    "    svmParameters[\"C\"] = C\n",
    "    metrics = createAndTrainFinalModel(svmParameters[\"modelType\"], svmParameters, train_input, train_balanced_binary_output, test_input, test_balanced_binary_output)\n",
    "    metrics[\"topology\"] = kernel * \" & \" * string(C)\n",
    "\n",
    "    generate_latex_table(metrics, true)\n",
    "\n",
    "end\n"
   ]
  },
  {
   "cell_type": "markdown",
   "metadata": {},
   "source": [
    "### ANN"
   ]
  },
  {
   "cell_type": "code",
   "execution_count": 113,
   "metadata": {},
   "outputs": [
    {
     "name": "stdout",
     "output_type": "stream",
     "text": [
      "[20] & 52.58\\% \\textit{(0.01)} & 54.52\\% \\textit{(0.08)} & 50.63\\% \\textit{(0.08)} & 49.1\\% \\textit{(0.05)} \\\\\n",
      "[40] & 51.29\\% \\textit{(0.0)} & 55.18\\% \\textit{(0.06)} & 47.37\\% \\textit{(0.05)} & 43.84\\% \\textit{(0.04)} \\\\\n",
      "[80] & 50.78\\% \\textit{(0.0)} & 56.05\\% \\textit{(0.07)} & 45.48\\% \\textit{(0.07)} & 42.0\\% \\textit{(0.04)} \\\\\n",
      "[100] & 50.54\\% \\textit{(0.0)} & 47.15\\% \\textit{(0.08)} & 53.95\\% \\textit{(0.07)} & 35.51\\% \\textit{(0.05)} \\\\\n",
      "[60, 120] & 50.4\\% \\textit{(0.0)} & 49.59\\% \\textit{(0.08)} & 51.21\\% \\textit{(0.08)} & 35.54\\% \\textit{(0.05)} \\\\\n",
      "[80, 50] & 50.68\\% \\textit{(0.0)} & 51.98\\% \\textit{(0.1)} & 49.37\\% \\textit{(0.1)} & 36.93\\% \\textit{(0.07)} \\\\\n",
      "[80, 100] & 50.34\\% \\textit{(0.0)} & 51.99\\% \\textit{(0.13)} & 48.69\\% \\textit{(0.13)} & 36.53\\% \\textit{(0.09)} \\\\\n",
      "[100, 40] & 50.68\\% \\textit{(0.0)} & 47.42\\% \\textit{(0.11)} & 53.96\\% \\textit{(0.11)} & 33.57\\% \\textit{(0.07)} \\\\\n",
      "[20] & 51.2\\%  & 88.26\\%  & 15.03\\%  & 64.12\\% & [579 571; 77 101] \\\\\n",
      "[40] & 49.32\\%  & 98.32\\%  & 1.49\\%  & 65.72\\% & [645 662; 11 10] \\\\\n",
      "[80] & 52.11\\%  & 3.51\\%  & 99.55\\%  & 6.74\\% & [23 3; 633 669] \\\\\n",
      "[100] & 49.25\\%  & 99.7\\%  & 0.0\\%  & 65.99\\% & [654 672; 2 0] \\\\\n",
      "[60, 120] & 51.51\\%  & 2.29\\%  & 99.55\\%  & 4.45\\% & [15 3; 641 669] \\\\\n",
      "[80, 50] & 51.51\\%  & 2.29\\%  & 99.55\\%  & 4.45\\% & [15 3; 641 669] \\\\\n",
      "[80, 100] & 51.51\\%  & 2.29\\%  & 99.55\\%  & 4.45\\% & [15 3; 641 669] \\\\\n",
      "[100, 40] & 49.4\\%  & 100.0\\%  & 0.0\\%  & 66.13\\% & [656 672; 0 0] \\\\\n"
     ]
    }
   ],
   "source": [
    "include(\"functions.jl\")\n",
    "\n",
    "topologies = [[20], [40], [80], [100], [60, 120], [80, 50], [80, 100], [100, 40]]\n",
    "annParameters = Dict(\"modelType\" => :ANN, \"maxEpochs\" => 200,\n",
    "    \"learningRate\" => 0.01, \"maxEpochsVal\" => 30,\n",
    "    \"repetitions\" => 30, \"validationRatio\" => 0.1,\n",
    "    \"transferFunctions\" => fill(σ, 2))\n",
    "\n",
    "for topology in topologies\n",
    "    annParameters[\"topology\"] = topology\n",
    "    metricsCV = modelCrossValidation(annParameters[\"modelType\"], annParameters, train_input, train_balanced_binary_output, crossValidationIndexes)\n",
    "    metricsCV[\"topology\"] = topology \n",
    "\n",
    "    generate_latex_table(metricsCV, false)\n",
    "end\n",
    "\n",
    "for topology in topologies\n",
    "    annParameters[\"topology\"] = topology\n",
    "    metrics = createAndTrainFinalModel(annParameters[\"modelType\"], annParameters, train_input, train_balanced_binary_output, test_input, test_balanced_binary_output)\n",
    "    metrics[\"topology\"] = topology \n",
    "\n",
    "    generate_latex_table(metrics, true)\n",
    "end"
   ]
  },
  {
   "cell_type": "markdown",
   "metadata": {},
   "source": [
    "### Ensembles"
   ]
  },
  {
   "cell_type": "code",
   "execution_count": 115,
   "metadata": {},
   "outputs": [
    {
     "name": "stdout",
     "output_type": "stream",
     "text": [
      "Dict{String, Any}(\"modelType\" => :DecisionTree, \"maxDepth\" => 9223372036854775807) & 92.32\\% \\textit{(0.01)} & 84.69\\% \\textit{(0.01)} & 100.0\\% \\textit{(0.0)} & 91.7\\% \\textit{(0.01)} \\\\\n",
      "Dict{String, Any}(\"modelType\" => :DecisionTree, \"maxDepth\" => 9223372036854775807) & 95.9\\% \\textit{(0.01)} & 97.82\\% \\textit{(0.01)} & 93.96\\% \\textit{(0.03)} & 96.0\\% \\textit{(0.01)} \\\\\n",
      "Dict{String, Any}(\"modelType\" => :kNN, \"numNeighboors\" => 3) & 98.19\\% \\textit{(0.01)} & 97.75\\% \\textit{(0.01)} & 98.64\\% \\textit{(0.01)} & 98.19\\% \\textit{(0.01)} \\\\\n",
      "Dict{String, Any}(\"modelType\" => :SVM, \"C\" => 10, \"kernel\" => \"rbf\") & 98.87\\% \\textit{(0.0)} & 97.75\\% \\textit{(0.01)} & 100.0\\% \\textit{(0.0)} & 98.86\\% \\textit{(0.0)} \\\\\n",
      "Dict{String, Any}(\"modelType\" => :DecisionTree, \"maxDepth\" => 9223372036854775807) & 93.83\\%  & 87.5\\%  & 100.0\\%  & 93.33\\% & [574 0; 82 672] \\\\\n",
      "Dict{String, Any}(\"modelType\" => :DecisionTree, \"maxDepth\" => 9223372036854775807) & 94.28\\%  & 97.87\\%  & 90.77\\%  & 94.41\\% & [642 62; 14 610] \\\\\n",
      "Dict{String, Any}(\"modelType\" => :kNN, \"numNeighboors\" => 3) & 97.74\\%  & 97.71\\%  & 97.77\\%  & 97.71\\% & [641 15; 15 657] \\\\\n",
      "Dict{String, Any}(\"modelType\" => :SVM, \"C\" => 10, \"kernel\" => \"rbf\") & 98.64\\%  & 97.26\\%  & 100.0\\%  & 98.61\\% & [638 0; 18 672] \\\\\n"
     ]
    }
   ],
   "source": [
    "include(\"functions.jl\")\n",
    "\n",
    "dtParameters = Dict(\"modelType\" => :DecisionTree, \"maxDepth\" => typemax(Int))\n",
    "knnParameters = Dict(\"modelType\" => :kNN, \"numNeighboors\" => 3)\n",
    "svmParameters = Dict(\"modelType\" => :SVM, \"kernel\" => \"rbf\", \"C\" => 10)\n",
    "Random.seed!(42)\n",
    "\n",
    "ensemble_types = [:VotingHard, :Stacking]\n",
    "final_estimators = [dtParameters, knnParameters, svmParameters]\n",
    "\n",
    "for ensemble_type in ensemble_types\n",
    "    for final_estimator in final_estimators\n",
    "        metricsCV = trainClassEnsemble([:DecisionTree, :kNN, :SVM], [dtParameters, knnParameters, svmParameters], (train_input, train_balanced_binary_output), crossValidationIndexes; ensembleType = ensemble_type, final_estimator = final_estimator)\n",
    "        metricsCV[\"topology\"] = final_estimator\n",
    "        generate_latex_table(metricsCV, false)\n",
    "\n",
    "        if ensemble_type == :VotingHard\n",
    "            break\n",
    "        end\n",
    "\n",
    "    end\n",
    "end\n",
    "\n",
    "\n",
    "for ensemble_type in ensemble_types\n",
    "    for final_estimator in final_estimators\n",
    "        metrics = createAndTrainFinalEnsemble([:DecisionTree, :kNN, :SVM], [dtParameters, knnParameters, svmParameters], (train_input, train_balanced_binary_output), (test_input, test_balanced_binary_output); ensembleType = ensemble_type, final_estimator = final_estimator)\n",
    "        metrics[\"topology\"] = final_estimator\n",
    "        generate_latex_table(metrics, true)\n",
    "\n",
    "        if ensemble_type == :VotingHard\n",
    "            break\n",
    "        end\n",
    "    end\n",
    "end\n"
   ]
  },
  {
   "cell_type": "markdown",
   "metadata": {},
   "source": [
    "## Third approach: multiclass classification"
   ]
  },
  {
   "cell_type": "code",
   "execution_count": 29,
   "metadata": {},
   "outputs": [
    {
     "data": {
      "text/plain": [
       "5900-element PooledArrays.PooledVector{String31, UInt32, Vector{UInt32}}:\n",
       " \"Benign\"\n",
       " \"Android_Adware\"\n",
       " \"Android_Scareware\"\n",
       " \"Android_Scareware\"\n",
       " \"Android_SMS_Malware\"\n",
       " \"Benign\"\n",
       " \"Android_Adware\"\n",
       " \"Android_SMS_Malware\"\n",
       " \"Android_SMS_Malware\"\n",
       " \"Android_Adware\"\n",
       " \"Android_Scareware\"\n",
       " \"Benign\"\n",
       " \"Benign\"\n",
       " ⋮\n",
       " \"Benign\"\n",
       " \"Benign\"\n",
       " \"Android_Adware\"\n",
       " \"Android_Adware\"\n",
       " \"Android_SMS_Malware\"\n",
       " \"Android_SMS_Malware\"\n",
       " \"Android_Scareware\"\n",
       " \"Android_Scareware\"\n",
       " \"Android_Scareware\"\n",
       " \"Android_SMS_Malware\"\n",
       " \"Android_Adware\"\n",
       " \"Android_Adware\""
      ]
     },
     "execution_count": 29,
     "metadata": {},
     "output_type": "execute_result"
    }
   ],
   "source": [
    "using MLDataPattern;\n",
    "Random.seed!(42)\n",
    "X_bal, y_bal = oversample((input_data', output_data), shuffle = true)\n",
    "X_bal = getobs(X_bal)'\n",
    "y_bal = getobs(y_bal)"
   ]
  },
  {
   "cell_type": "code",
   "execution_count": 30,
   "metadata": {},
   "outputs": [
    {
     "data": {
      "text/plain": [
       "Dict{String31, Int64} with 4 entries:\n",
       "  \"Benign\"              => 1475\n",
       "  \"Android_Scareware\"   => 1475\n",
       "  \"Android_SMS_Malware\" => 1475\n",
       "  \"Android_Adware\"      => 1475"
      ]
     },
     "execution_count": 30,
     "metadata": {},
     "output_type": "execute_result"
    }
   ],
   "source": [
    "countmap(y_bal)"
   ]
  },
  {
   "cell_type": "code",
   "execution_count": 25,
   "metadata": {},
   "outputs": [],
   "source": [
    "Random.seed!(42)\n",
    "\n",
    "train_indexes, test_indexes = holdOut(size(input_data, 1), 0.2)\n",
    "\n",
    "train_input = convert(Array{Float32, 2}, input_data[train_indexes, :])\n",
    "train_output = output_data[train_indexes]\n",
    "\n",
    "normalizationParameters = calculateMinMaxNormalizationParameters(train_input)\n",
    "\n",
    "normalizeMinMax!(train_input, normalizationParameters)\n",
    "\n",
    "test_input = convert(Array{Float32, 2}, input_data[test_indexes, :])\n",
    "test_output = output_data[test_indexes]\n",
    "\n",
    "normalizeMinMax!(test_input, normalizationParameters)\n",
    "\n",
    "@assert size(test_input, 1) == size(test_output, 1)\n",
    "@assert size(train_input, 1) == size(train_output, 1)"
   ]
  },
  {
   "cell_type": "code",
   "execution_count": 26,
   "metadata": {},
   "outputs": [],
   "source": [
    "Random.seed!(42)\n",
    "\n",
    "kFolds = 10\n",
    "crossValidationIndexes = crossvalidation(train_output, kFolds);"
   ]
  },
  {
   "cell_type": "code",
   "execution_count": 175,
   "metadata": {},
   "outputs": [
    {
     "ename": "LoadError",
     "evalue": "BoundsError: attempt to access 2845×70 Matrix{Float32} at index [5312-element BitVector, 1:70]",
     "output_type": "error",
     "traceback": [
      "BoundsError: attempt to access 2845×70 Matrix{Float32} at index [5312-element BitVector, 1:70]",
      "",
      "Stacktrace:",
      " [1] throw_boundserror(A::Matrix{Float32}, I::Tuple{Base.LogicalIndex{Int64, BitVector}, Base.Slice{Base.OneTo{Int64}}})",
      "   @ Base ./abstractarray.jl:744",
      " [2] checkbounds",
      "   @ ./abstractarray.jl:709 [inlined]",
      " [3] _getindex",
      "   @ ./multidimensional.jl:860 [inlined]",
      " [4] getindex",
      "   @ ./abstractarray.jl:1296 [inlined]",
      " [5] modelCrossValidation(modelType::Symbol, modelHyperparameters::Dict{String, Any}, inputs::Matrix{Float32}, targets::PooledArrays.PooledVector{String31, UInt32, Vector{UInt32}}, crossValidationIndices::Vector{Int64})",
      "   @ Main ~/MIA_ML1/Project/functions.jl:752",
      " [6] top-level scope",
      "   @ ./In[175]:7"
     ]
    }
   ],
   "source": [
    "include(\"functions.jl\")\n",
    "dtParameters = Dict(\"modelType\" => :DecisionTree, \"maxDepth\" => 1)\n",
    "\n",
    "depths = [3, 5, 7, 10, 15, typemax(Int)]\n",
    "for depth in depths\n",
    "    dtParameters[\"maxDepth\"] = depth\n",
    "    metricsCV = (modelCrossValidation(dtParameters[\"modelType\"], dtParameters, train_input, train_output, crossValidationIndexes))\n",
    "    metricsCV[\"topology\"] = depth\n",
    "\n",
    "    generate_latex_table(metricsCV, false)\n",
    "\n",
    "end\n",
    "\n",
    "println(\"----------------------------------------------------------------\")\n",
    "\n",
    "for depth in depths\n",
    "    dtParameters[\"maxDepth\"] = depth\n",
    "    metrics = createAndTrainFinalModel(dtParameters[\"modelType\"], dtParameters, train_input, train_output, test_input, test_output)\n",
    "    metrics[\"topology\"] = depth\n",
    "\n",
    "    generate_latex_table(metrics, true)\n",
    "\n",
    "end\n"
   ]
  },
  {
   "cell_type": "code",
   "execution_count": 16,
   "metadata": {},
   "outputs": [
    {
     "data": {
      "text/plain": [
       "PyObject <class 'sklearn.decomposition._pca.PCA'>"
      ]
     },
     "execution_count": 16,
     "metadata": {},
     "output_type": "execute_result"
    }
   ],
   "source": [
    "@sk_import decomposition:PCA\n"
   ]
  },
  {
   "cell_type": "code",
   "execution_count": 17,
   "metadata": {},
   "outputs": [],
   "source": [
    "\n",
    "# pcas = 1:20:4\n",
    "pca = PCA(2)\n",
    "\n",
    "#Ajust the matrix acording to the train data\n",
    "fit!(pca, train_input)\n",
    "\n",
    "#Once it is ajusted it can be used to transform the data\n",
    "pca_train = pca.transform(train_input)\n",
    "pca_test = pca.transform(test_input)\n",
    "\n",
    "@assert (size(train_input)[1],2) == size(pca_train)\n",
    "@assert (size(test_input)[1],2) == size(pca_test)"
   ]
  },
  {
   "cell_type": "code",
   "execution_count": 24,
   "metadata": {},
   "outputs": [
    {
     "data": {
      "text/plain": [
       "7-element Vector{Int64}:\n",
       "  2\n",
       "  6\n",
       " 10\n",
       " 15\n",
       " 20\n",
       " 25\n",
       " 30"
      ]
     },
     "execution_count": 24,
     "metadata": {},
     "output_type": "execute_result"
    }
   ],
   "source": [
    "pcas = [2, 6, 10, 15, 20, 25, 30]"
   ]
  }
 ],
 "metadata": {
  "kernelspec": {
   "display_name": "Julia 1.9.3",
   "language": "julia",
   "name": "julia-1.9"
  },
  "language_info": {
   "file_extension": ".jl",
   "mimetype": "application/julia",
   "name": "julia",
   "version": "1.9.3"
  }
 },
 "nbformat": 4,
 "nbformat_minor": 5
}
