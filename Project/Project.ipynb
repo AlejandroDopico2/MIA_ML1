{
 "cells": [
  {
   "cell_type": "code",
   "execution_count": 3,
   "id": "cb44f65c",
   "metadata": {},
   "outputs": [],
   "source": [
    "using CSV\n",
    "using DataFrames\n",
    "\n",
    "include(\"functions.jl\")\n",
    "using Random"
   ]
  },
  {
   "cell_type": "code",
   "execution_count": 4,
   "metadata": {},
   "outputs": [],
   "source": [
    "using ScikitLearn\n",
    "\n",
    "@sk_import svm:SVC;\n",
    "@sk_import tree:DecisionTreeClassifier;\n",
    "@sk_import ensemble:VotingClassifier\n",
    "@sk_import neighbors: KNeighborsClassifier;\n"
   ]
  },
  {
   "cell_type": "code",
   "execution_count": 21,
   "id": "d59fb985",
   "metadata": {},
   "outputs": [],
   "source": [
    "file_path = \"dataset/simplified_Android_Malware.csv\"\n",
    "\n",
    "data = CSV.File(file_path, header=true) |> DataFrame;\n",
    "\n",
    "# columns_to_drop = [\"Flow ID\", \" Source IP\", \" Destination IP\", \" Timestamp\"]\n",
    "\n",
    "# select!(data, Not(columns_to_drop))\n",
    "# dropmissing!(data)"
   ]
  },
  {
   "cell_type": "code",
   "execution_count": 6,
   "id": "dc9fda2c",
   "metadata": {
    "scrolled": true
   },
   "outputs": [
    {
     "data": {
      "text/html": [
       "<div><div style = \"float: left;\"><span>85×16 DataFrame</span></div><div style = \"float: right;\"><span style = \"font-style: italic;\">60 rows omitted</span></div><div style = \"clear: both;\"></div></div><div class = \"data-frame\" style = \"overflow-x: scroll;\"><table class = \"data-frame\" style = \"margin-bottom: 6px;\"><thead><tr class = \"header\"><th class = \"rowNumber\" style = \"font-weight: bold; text-align: right;\">Row</th><th style = \"text-align: left;\">variable</th><th style = \"text-align: left;\">mean</th><th style = \"text-align: left;\">std</th><th style = \"text-align: left;\">min</th><th style = \"text-align: left;\">q25</th><th style = \"text-align: left;\">median</th><th style = \"text-align: left;\">q75</th><th style = \"text-align: left;\">max</th><th style = \"text-align: left;\">sum</th><th style = \"text-align: left;\">nunique</th><th style = \"text-align: left;\">nuniqueall</th><th style = \"text-align: left;\">nmissing</th><th style = \"text-align: left;\">nnonmissing</th><th style = \"text-align: left;\">first</th><th style = \"text-align: left;\">last</th><th style = \"text-align: left;\">eltype</th></tr><tr class = \"subheader headerLastRow\"><th class = \"rowNumber\" style = \"font-weight: bold; text-align: right;\"></th><th title = \"Symbol\" style = \"text-align: left;\">Symbol</th><th title = \"Union{Nothing, Float64}\" style = \"text-align: left;\">Union…</th><th title = \"Union{Nothing, Float64}\" style = \"text-align: left;\">Union…</th><th title = \"Any\" style = \"text-align: left;\">Any</th><th title = \"Union{Nothing, Float64}\" style = \"text-align: left;\">Union…</th><th title = \"Union{Nothing, Float64}\" style = \"text-align: left;\">Union…</th><th title = \"Union{Nothing, Float64}\" style = \"text-align: left;\">Union…</th><th title = \"Any\" style = \"text-align: left;\">Any</th><th title = \"Union{Nothing, Real}\" style = \"text-align: left;\">Union…</th><th title = \"Union{Nothing, Int64}\" style = \"text-align: left;\">Union…</th><th title = \"Int64\" style = \"text-align: left;\">Int64</th><th title = \"Int64\" style = \"text-align: left;\">Int64</th><th title = \"Int64\" style = \"text-align: left;\">Int64</th><th title = \"Any\" style = \"text-align: left;\">Any</th><th title = \"Any\" style = \"text-align: left;\">Any</th><th title = \"DataType\" style = \"text-align: left;\">DataType</th></tr></thead><tbody><tr><td class = \"rowNumber\" style = \"font-weight: bold; text-align: right;\">1</td><td style = \"text-align: left;\">Flow ID</td><td style = \"font-style: italic; text-align: left;\"></td><td style = \"font-style: italic; text-align: left;\"></td><td style = \"text-align: left;\">1.189.213.30-10.42.0.211-443-53215-6</td><td style = \"font-style: italic; text-align: left;\"></td><td style = \"font-style: italic; text-align: left;\"></td><td style = \"font-style: italic; text-align: left;\"></td><td style = \"text-align: left;\">8.8.8.8-10.42.0.211-53-9063-17</td><td style = \"font-style: italic; text-align: left;\"></td><td style = \"text-align: left;\">32381</td><td style = \"text-align: right;\">32381</td><td style = \"text-align: right;\">0</td><td style = \"text-align: right;\">35563</td><td style = \"text-align: left;\">172.217.0.228-10.42.0.211-443-58310-6</td><td style = \"text-align: left;\">10.42.0.211-10.42.0.1-26442-53-17</td><td style = \"text-align: left;\">String</td></tr><tr><td class = \"rowNumber\" style = \"font-weight: bold; text-align: right;\">2</td><td style = \"text-align: left;\"> Source IP</td><td style = \"font-style: italic; text-align: left;\"></td><td style = \"font-style: italic; text-align: left;\"></td><td style = \"text-align: left;\">0.0.0.0</td><td style = \"font-style: italic; text-align: left;\"></td><td style = \"font-style: italic; text-align: left;\"></td><td style = \"font-style: italic; text-align: left;\"></td><td style = \"text-align: left;\">98.139.199.205</td><td style = \"font-style: italic; text-align: left;\"></td><td style = \"text-align: left;\">1013</td><td style = \"text-align: right;\">1013</td><td style = \"text-align: right;\">0</td><td style = \"text-align: right;\">35563</td><td style = \"text-align: left;\">10.42.0.211</td><td style = \"text-align: left;\">10.42.0.211</td><td style = \"text-align: left;\">String15</td></tr><tr><td class = \"rowNumber\" style = \"font-weight: bold; text-align: right;\">3</td><td style = \"text-align: left;\"> Source Port</td><td style = \"text-align: left;\">39136.0</td><td style = \"text-align: left;\">17945.8</td><td style = \"text-align: left;\">0</td><td style = \"text-align: left;\">34535.5</td><td style = \"text-align: left;\">43262.0</td><td style = \"text-align: left;\">52297.0</td><td style = \"text-align: left;\">65517</td><td style = \"text-align: left;\">1391791790</td><td style = \"font-style: italic; text-align: left;\"></td><td style = \"text-align: right;\">20464</td><td style = \"text-align: right;\">0</td><td style = \"text-align: right;\">35563</td><td style = \"text-align: left;\">58310</td><td style = \"text-align: left;\">26442</td><td style = \"text-align: left;\">Int64</td></tr><tr><td class = \"rowNumber\" style = \"font-weight: bold; text-align: right;\">4</td><td style = \"text-align: left;\"> Destination IP</td><td style = \"font-style: italic; text-align: left;\"></td><td style = \"font-style: italic; text-align: left;\"></td><td style = \"text-align: left;\">0.117.2.1</td><td style = \"font-style: italic; text-align: left;\"></td><td style = \"font-style: italic; text-align: left;\"></td><td style = \"font-style: italic; text-align: left;\"></td><td style = \"text-align: left;\">99.199.0.77</td><td style = \"font-style: italic; text-align: left;\"></td><td style = \"text-align: left;\">2435</td><td style = \"text-align: right;\">2435</td><td style = \"text-align: right;\">0</td><td style = \"text-align: right;\">35563</td><td style = \"text-align: left;\">172.217.0.228</td><td style = \"text-align: left;\">10.42.0.1</td><td style = \"text-align: left;\">String15</td></tr><tr><td class = \"rowNumber\" style = \"font-weight: bold; text-align: right;\">5</td><td style = \"text-align: left;\"> Destination Port</td><td style = \"text-align: left;\">5277.97</td><td style = \"text-align: left;\">14456.4</td><td style = \"text-align: left;\">0.0</td><td style = \"text-align: left;\">80.0</td><td style = \"text-align: left;\">443.0</td><td style = \"text-align: left;\">443.0</td><td style = \"text-align: left;\">65165.0</td><td style = \"text-align: left;\">1.877e8</td><td style = \"font-style: italic; text-align: left;\"></td><td style = \"text-align: right;\">3398</td><td style = \"text-align: right;\">0</td><td style = \"text-align: right;\">35563</td><td style = \"text-align: left;\">443.0</td><td style = \"text-align: left;\">53.0</td><td style = \"text-align: left;\">Float64</td></tr><tr><td class = \"rowNumber\" style = \"font-weight: bold; text-align: right;\">6</td><td style = \"text-align: left;\"> Protocol</td><td style = \"text-align: left;\">8.33805</td><td style = \"text-align: left;\">4.56704</td><td style = \"text-align: left;\">0.0</td><td style = \"text-align: left;\">6.0</td><td style = \"text-align: left;\">6.0</td><td style = \"text-align: left;\">6.0</td><td style = \"text-align: left;\">17.0</td><td style = \"text-align: left;\">296526.0</td><td style = \"font-style: italic; text-align: left;\"></td><td style = \"text-align: right;\">3</td><td style = \"text-align: right;\">0</td><td style = \"text-align: right;\">35563</td><td style = \"text-align: left;\">6.0</td><td style = \"text-align: left;\">17.0</td><td style = \"text-align: left;\">Float64</td></tr><tr><td class = \"rowNumber\" style = \"font-weight: bold; text-align: right;\">7</td><td style = \"text-align: left;\"> Timestamp</td><td style = \"font-style: italic; text-align: left;\"></td><td style = \"font-style: italic; text-align: left;\"></td><td style = \"text-align: left;\">04/07/2017 10:05:43</td><td style = \"font-style: italic; text-align: left;\"></td><td style = \"font-style: italic; text-align: left;\"></td><td style = \"font-style: italic; text-align: left;\"></td><td style = \"text-align: left;\">30/06/2017 12:59:51</td><td style = \"font-style: italic; text-align: left;\"></td><td style = \"text-align: left;\">22529</td><td style = \"text-align: right;\">22529</td><td style = \"text-align: right;\">0</td><td style = \"text-align: right;\">35563</td><td style = \"text-align: left;\">15/06/2017 11:09:25</td><td style = \"text-align: left;\">26/06/2017 12:27:44</td><td style = \"text-align: left;\">String31</td></tr><tr><td class = \"rowNumber\" style = \"font-weight: bold; text-align: right;\">8</td><td style = \"text-align: left;\"> Flow Duration</td><td style = \"text-align: left;\">1.07323e7</td><td style = \"text-align: left;\">2.15277e7</td><td style = \"text-align: left;\">2</td><td style = \"text-align: left;\">48329.5</td><td style = \"text-align: left;\">549353.0</td><td style = \"text-align: left;\">1.06001e7</td><td style = \"text-align: left;\">119977227</td><td style = \"text-align: left;\">381673379259</td><td style = \"font-style: italic; text-align: left;\"></td><td style = \"text-align: right;\">31766</td><td style = \"text-align: right;\">0</td><td style = \"text-align: right;\">35563</td><td style = \"text-align: left;\">96170080</td><td style = \"text-align: left;\">87781</td><td style = \"text-align: left;\">Int64</td></tr><tr><td class = \"rowNumber\" style = \"font-weight: bold; text-align: right;\">9</td><td style = \"text-align: left;\"> Total Fwd Packets</td><td style = \"text-align: left;\">7.11518</td><td style = \"text-align: left;\">46.5218</td><td style = \"text-align: left;\">1</td><td style = \"text-align: left;\">1.0</td><td style = \"text-align: left;\">2.0</td><td style = \"text-align: left;\">5.0</td><td style = \"text-align: left;\">3503</td><td style = \"text-align: left;\">253037</td><td style = \"font-style: italic; text-align: left;\"></td><td style = \"text-align: right;\">246</td><td style = \"text-align: right;\">0</td><td style = \"text-align: right;\">35563</td><td style = \"text-align: left;\">8</td><td style = \"text-align: left;\">1</td><td style = \"text-align: left;\">Int64</td></tr><tr><td class = \"rowNumber\" style = \"font-weight: bold; text-align: right;\">10</td><td style = \"text-align: left;\"> Total Backward Packets</td><td style = \"text-align: left;\">10.6211</td><td style = \"text-align: left;\">163.593</td><td style = \"text-align: left;\">0</td><td style = \"text-align: left;\">0.0</td><td style = \"text-align: left;\">1.0</td><td style = \"text-align: left;\">4.0</td><td style = \"text-align: left;\">15439</td><td style = \"text-align: left;\">377719</td><td style = \"font-style: italic; text-align: left;\"></td><td style = \"text-align: right;\">327</td><td style = \"text-align: right;\">0</td><td style = \"text-align: right;\">35563</td><td style = \"text-align: left;\">12</td><td style = \"text-align: left;\">1</td><td style = \"text-align: left;\">Int64</td></tr><tr><td class = \"rowNumber\" style = \"font-weight: bold; text-align: right;\">11</td><td style = \"text-align: left;\">Total Length of Fwd Packets</td><td style = \"text-align: left;\">632.24</td><td style = \"text-align: left;\">4903.25</td><td style = \"text-align: left;\">0.0</td><td style = \"text-align: left;\">0.0</td><td style = \"text-align: left;\">31.0</td><td style = \"text-align: left;\">419.0</td><td style = \"text-align: left;\">748480.0</td><td style = \"text-align: left;\">2.24844e7</td><td style = \"font-style: italic; text-align: left;\"></td><td style = \"text-align: right;\">3406</td><td style = \"text-align: right;\">0</td><td style = \"text-align: right;\">35563</td><td style = \"text-align: left;\">3734.0</td><td style = \"text-align: left;\">35.0</td><td style = \"text-align: left;\">Float64</td></tr><tr><td class = \"rowNumber\" style = \"font-weight: bold; text-align: right;\">12</td><td style = \"text-align: left;\"> Total Length of Bwd Packets</td><td style = \"text-align: left;\">11585.8</td><td style = \"text-align: left;\">2.35477e5</td><td style = \"text-align: left;\">0.0</td><td style = \"text-align: left;\">0.0</td><td style = \"text-align: left;\">17.0</td><td style = \"text-align: left;\">290.0</td><td style = \"text-align: left;\">2.23272e7</td><td style = \"text-align: left;\">4.12026e8</td><td style = \"font-style: italic; text-align: left;\"></td><td style = \"text-align: right;\">5185</td><td style = \"text-align: right;\">0</td><td style = \"text-align: right;\">35563</td><td style = \"text-align: left;\">1499.0</td><td style = \"text-align: left;\">139.0</td><td style = \"text-align: left;\">Float64</td></tr><tr><td class = \"rowNumber\" style = \"font-weight: bold; text-align: right;\">13</td><td style = \"text-align: left;\"> Fwd Packet Length Max</td><td style = \"text-align: left;\">210.841</td><td style = \"text-align: left;\">367.564</td><td style = \"text-align: left;\">0.0</td><td style = \"text-align: left;\">0.0</td><td style = \"text-align: left;\">31.0</td><td style = \"text-align: left;\">322.0</td><td style = \"text-align: left;\">1460.0</td><td style = \"text-align: left;\">7.49814e6</td><td style = \"font-style: italic; text-align: left;\"></td><td style = \"text-align: right;\">1141</td><td style = \"text-align: right;\">0</td><td style = \"text-align: right;\">35563</td><td style = \"text-align: left;\">1368.0</td><td style = \"text-align: left;\">35.0</td><td style = \"text-align: left;\">Float64</td></tr><tr><td style = \"text-align: right;\">&vellip;</td><td style = \"text-align: right;\">&vellip;</td><td style = \"text-align: right;\">&vellip;</td><td style = \"text-align: right;\">&vellip;</td><td style = \"text-align: right;\">&vellip;</td><td style = \"text-align: right;\">&vellip;</td><td style = \"text-align: right;\">&vellip;</td><td style = \"text-align: right;\">&vellip;</td><td style = \"text-align: right;\">&vellip;</td><td style = \"text-align: right;\">&vellip;</td><td style = \"text-align: right;\">&vellip;</td><td style = \"text-align: right;\">&vellip;</td><td style = \"text-align: right;\">&vellip;</td><td style = \"text-align: right;\">&vellip;</td><td style = \"text-align: right;\">&vellip;</td><td style = \"text-align: right;\">&vellip;</td><td style = \"text-align: right;\">&vellip;</td></tr><tr><td class = \"rowNumber\" style = \"font-weight: bold; text-align: right;\">74</td><td style = \"text-align: left;\"> Init_Win_bytes_backward</td><td style = \"text-align: left;\">2065.33</td><td style = \"text-align: left;\">8633.86</td><td style = \"text-align: left;\">-1.0</td><td style = \"text-align: left;\">-1.0</td><td style = \"text-align: left;\">-1.0</td><td style = \"text-align: left;\">349.0</td><td style = \"text-align: left;\">65535.0</td><td style = \"text-align: left;\">7.34494e7</td><td style = \"font-style: italic; text-align: left;\"></td><td style = \"text-align: right;\">1409</td><td style = \"text-align: right;\">0</td><td style = \"text-align: right;\">35563</td><td style = \"text-align: left;\">575.0</td><td style = \"text-align: left;\">-1.0</td><td style = \"text-align: left;\">Float64</td></tr><tr><td class = \"rowNumber\" style = \"font-weight: bold; text-align: right;\">75</td><td style = \"text-align: left;\"> act_data_pkt_fwd</td><td style = \"text-align: left;\">1.46169</td><td style = \"text-align: left;\">7.13588</td><td style = \"text-align: left;\">0.0</td><td style = \"text-align: left;\">0.0</td><td style = \"text-align: left;\">0.0</td><td style = \"text-align: left;\">1.0</td><td style = \"text-align: left;\">579.0</td><td style = \"text-align: left;\">51982.0</td><td style = \"font-style: italic; text-align: left;\"></td><td style = \"text-align: right;\">93</td><td style = \"text-align: right;\">0</td><td style = \"text-align: right;\">35563</td><td style = \"text-align: left;\">5.0</td><td style = \"text-align: left;\">0.0</td><td style = \"text-align: left;\">Float64</td></tr><tr><td class = \"rowNumber\" style = \"font-weight: bold; text-align: right;\">76</td><td style = \"text-align: left;\"> min_seg_size_forward</td><td style = \"text-align: left;\">-18735.1</td><td style = \"text-align: left;\">3.53816e6</td><td style = \"text-align: left;\">-6.67232e8</td><td style = \"text-align: left;\">20.0</td><td style = \"text-align: left;\">32.0</td><td style = \"text-align: left;\">32.0</td><td style = \"text-align: left;\">172.0</td><td style = \"text-align: left;\">-6.66275e8</td><td style = \"font-style: italic; text-align: left;\"></td><td style = \"text-align: right;\">13</td><td style = \"text-align: right;\">0</td><td style = \"text-align: right;\">35563</td><td style = \"text-align: left;\">32.0</td><td style = \"text-align: left;\">20.0</td><td style = \"text-align: left;\">Float64</td></tr><tr><td class = \"rowNumber\" style = \"font-weight: bold; text-align: right;\">77</td><td style = \"text-align: left;\">Active Mean</td><td style = \"text-align: left;\">165430.0</td><td style = \"text-align: left;\">1.0199e6</td><td style = \"text-align: left;\">0.0</td><td style = \"text-align: left;\">0.0</td><td style = \"text-align: left;\">0.0</td><td style = \"text-align: left;\">0.0</td><td style = \"text-align: left;\">9.71849e7</td><td style = \"text-align: left;\">5.88319e9</td><td style = \"font-style: italic; text-align: left;\"></td><td style = \"text-align: right;\">3781</td><td style = \"text-align: right;\">0</td><td style = \"text-align: right;\">35563</td><td style = \"text-align: left;\">198506.0</td><td style = \"text-align: left;\">0.0</td><td style = \"text-align: left;\">Float64</td></tr><tr><td class = \"rowNumber\" style = \"font-weight: bold; text-align: right;\">78</td><td style = \"text-align: left;\"> Active Std</td><td style = \"text-align: left;\">19003.5</td><td style = \"text-align: left;\">2.44301e5</td><td style = \"text-align: left;\">0.0</td><td style = \"text-align: left;\">0.0</td><td style = \"text-align: left;\">0.0</td><td style = \"text-align: left;\">0.0</td><td style = \"text-align: left;\">1.2112e7</td><td style = \"text-align: left;\">6.7582e8</td><td style = \"font-style: italic; text-align: left;\"></td><td style = \"text-align: right;\">564</td><td style = \"text-align: right;\">0</td><td style = \"text-align: right;\">35563</td><td style = \"text-align: left;\">0.0</td><td style = \"text-align: left;\">0.0</td><td style = \"text-align: left;\">Float64</td></tr><tr><td class = \"rowNumber\" style = \"font-weight: bold; text-align: right;\">79</td><td style = \"text-align: left;\"> Active Max</td><td style = \"text-align: left;\">1.8389e5</td><td style = \"text-align: left;\">1.10259e6</td><td style = \"text-align: left;\">0.0</td><td style = \"text-align: left;\">0.0</td><td style = \"text-align: left;\">0.0</td><td style = \"text-align: left;\">0.0</td><td style = \"text-align: left;\">9.71849e7</td><td style = \"text-align: left;\">6.53968e9</td><td style = \"font-style: italic; text-align: left;\"></td><td style = \"text-align: right;\">3779</td><td style = \"text-align: right;\">0</td><td style = \"text-align: right;\">35563</td><td style = \"text-align: left;\">198506.0</td><td style = \"text-align: left;\">0.0</td><td style = \"text-align: left;\">Float64</td></tr><tr><td class = \"rowNumber\" style = \"font-weight: bold; text-align: right;\">80</td><td style = \"text-align: left;\"> Active Min</td><td style = \"text-align: left;\">1.50245e5</td><td style = \"text-align: left;\">9.89225e5</td><td style = \"text-align: left;\">0.0</td><td style = \"text-align: left;\">0.0</td><td style = \"text-align: left;\">0.0</td><td style = \"text-align: left;\">0.0</td><td style = \"text-align: left;\">9.71849e7</td><td style = \"text-align: left;\">5.34316e9</td><td style = \"font-style: italic; text-align: left;\"></td><td style = \"text-align: right;\">3775</td><td style = \"text-align: right;\">0</td><td style = \"text-align: right;\">35563</td><td style = \"text-align: left;\">198506.0</td><td style = \"text-align: left;\">0.0</td><td style = \"text-align: left;\">Float64</td></tr><tr><td class = \"rowNumber\" style = \"font-weight: bold; text-align: right;\">81</td><td style = \"text-align: left;\">Idle Mean</td><td style = \"text-align: left;\">3.90691e6</td><td style = \"text-align: left;\">1.41719e7</td><td style = \"text-align: left;\">0.0</td><td style = \"text-align: left;\">0.0</td><td style = \"text-align: left;\">0.0</td><td style = \"text-align: left;\">0.0</td><td style = \"text-align: left;\">1.19951e8</td><td style = \"text-align: left;\">1.38941e11</td><td style = \"font-style: italic; text-align: left;\"></td><td style = \"text-align: right;\">4041</td><td style = \"text-align: right;\">0</td><td style = \"text-align: right;\">35563</td><td style = \"text-align: left;\">9.57763e7</td><td style = \"text-align: left;\">0.0</td><td style = \"text-align: left;\">Float64</td></tr><tr><td class = \"rowNumber\" style = \"font-weight: bold; text-align: right;\">82</td><td style = \"text-align: left;\"> Idle Std</td><td style = \"text-align: left;\">2.93554e5</td><td style = \"text-align: left;\">2.669e6</td><td style = \"text-align: left;\">0.0</td><td style = \"text-align: left;\">0.0</td><td style = \"text-align: left;\">0.0</td><td style = \"text-align: left;\">0.0</td><td style = \"text-align: left;\">6.96977e7</td><td style = \"text-align: left;\">1.04397e10</td><td style = \"font-style: italic; text-align: left;\"></td><td style = \"text-align: right;\">867</td><td style = \"text-align: right;\">0</td><td style = \"text-align: right;\">35563</td><td style = \"text-align: left;\">0.0</td><td style = \"text-align: left;\">0.0</td><td style = \"text-align: left;\">Float64</td></tr><tr><td class = \"rowNumber\" style = \"font-weight: bold; text-align: right;\">83</td><td style = \"text-align: left;\"> Idle Max</td><td style = \"text-align: left;\">4.16931e6</td><td style = \"text-align: left;\">1.48526e7</td><td style = \"text-align: left;\">0.0</td><td style = \"text-align: left;\">0.0</td><td style = \"text-align: left;\">0.0</td><td style = \"text-align: left;\">0.0</td><td style = \"text-align: left;\">1.19951e8</td><td style = \"text-align: left;\">1.48273e11</td><td style = \"font-style: italic; text-align: left;\"></td><td style = \"text-align: right;\">4040</td><td style = \"text-align: right;\">0</td><td style = \"text-align: right;\">35563</td><td style = \"text-align: left;\">9.57763e7</td><td style = \"text-align: left;\">0.0</td><td style = \"text-align: left;\">Float64</td></tr><tr><td class = \"rowNumber\" style = \"font-weight: bold; text-align: right;\">84</td><td style = \"text-align: left;\"> Idle Min</td><td style = \"text-align: left;\">3.6782e6</td><td style = \"text-align: left;\">1.384e7</td><td style = \"text-align: left;\">0.0</td><td style = \"text-align: left;\">0.0</td><td style = \"text-align: left;\">0.0</td><td style = \"text-align: left;\">0.0</td><td style = \"text-align: left;\">1.19951e8</td><td style = \"text-align: left;\">1.30808e11</td><td style = \"font-style: italic; text-align: left;\"></td><td style = \"text-align: right;\">4041</td><td style = \"text-align: right;\">0</td><td style = \"text-align: right;\">35563</td><td style = \"text-align: left;\">9.57763e7</td><td style = \"text-align: left;\">0.0</td><td style = \"text-align: left;\">Float64</td></tr><tr><td class = \"rowNumber\" style = \"font-weight: bold; text-align: right;\">85</td><td style = \"text-align: left;\">Label</td><td style = \"font-style: italic; text-align: left;\"></td><td style = \"font-style: italic; text-align: left;\"></td><td style = \"text-align: left;\">Android_Adware</td><td style = \"font-style: italic; text-align: left;\"></td><td style = \"font-style: italic; text-align: left;\"></td><td style = \"font-style: italic; text-align: left;\"></td><td style = \"text-align: left;\">Benign</td><td style = \"font-style: italic; text-align: left;\"></td><td style = \"text-align: left;\">4</td><td style = \"text-align: right;\">4</td><td style = \"text-align: right;\">0</td><td style = \"text-align: right;\">35563</td><td style = \"text-align: left;\">Android_Adware</td><td style = \"text-align: left;\">Android_Scareware</td><td style = \"text-align: left;\">String31</td></tr></tbody></table></div>"
      ],
      "text/latex": [
       "\\begin{tabular}{r|ccccc}\n",
       "\t& variable & mean & std & min & \\\\\n",
       "\t\\hline\n",
       "\t& Symbol & Union… & Union… & Any & \\\\\n",
       "\t\\hline\n",
       "\t1 & Flow ID &  &  & 1.189.213.30-10.42.0.211-443-53215-6 & $\\dots$ \\\\\n",
       "\t2 &  Source IP &  &  & 0.0.0.0 & $\\dots$ \\\\\n",
       "\t3 &  Source Port & 39136.0 & 17945.8 & 0 & $\\dots$ \\\\\n",
       "\t4 &  Destination IP &  &  & 0.117.2.1 & $\\dots$ \\\\\n",
       "\t5 &  Destination Port & 5277.97 & 14456.4 & 0.0 & $\\dots$ \\\\\n",
       "\t6 &  Protocol & 8.33805 & 4.56704 & 0.0 & $\\dots$ \\\\\n",
       "\t7 &  Timestamp &  &  & 04/07/2017 10:05:43 & $\\dots$ \\\\\n",
       "\t8 &  Flow Duration & 1.07323e7 & 2.15277e7 & 2 & $\\dots$ \\\\\n",
       "\t9 &  Total Fwd Packets & 7.11518 & 46.5218 & 1 & $\\dots$ \\\\\n",
       "\t10 &  Total Backward Packets & 10.6211 & 163.593 & 0 & $\\dots$ \\\\\n",
       "\t11 & Total Length of Fwd Packets & 632.24 & 4903.25 & 0.0 & $\\dots$ \\\\\n",
       "\t12 &  Total Length of Bwd Packets & 11585.8 & 2.35477e5 & 0.0 & $\\dots$ \\\\\n",
       "\t13 &  Fwd Packet Length Max & 210.841 & 367.564 & 0.0 & $\\dots$ \\\\\n",
       "\t14 &  Fwd Packet Length Min & 12.7919 & 59.8843 & 0.0 & $\\dots$ \\\\\n",
       "\t15 &  Fwd Packet Length Mean & 59.8856 & 120.966 & 0.0 & $\\dots$ \\\\\n",
       "\t16 &  Fwd Packet Length Std & 79.0864 & 154.372 & 0.0 & $\\dots$ \\\\\n",
       "\t17 & Bwd Packet Length Max & 315.744 & 537.246 & 0.0 & $\\dots$ \\\\\n",
       "\t18 &  Bwd Packet Length Min & 22.9371 & 58.0793 & 0.0 & $\\dots$ \\\\\n",
       "\t19 &  Bwd Packet Length Mean & 164.932 & 306.62 & 0.0 & $\\dots$ \\\\\n",
       "\t20 &  Bwd Packet Length Std & 121.936 & 229.015 & 0.0 & $\\dots$ \\\\\n",
       "\t21 & Flow Bytes/s & 79727.3 & 7.90422e5 & 0.0 & $\\dots$ \\\\\n",
       "\t22 &  Flow Packets/s & 5216.45 & 35339.1 & 0.0166734 & $\\dots$ \\\\\n",
       "\t23 &  Flow IAT Mean & 3.13744e6 & 8.3462e6 & 2.0 & $\\dots$ \\\\\n",
       "\t24 &  Flow IAT Std & 2.41611e6 & 6.19563e6 & 0.0 & $\\dots$ \\\\\n",
       "\t25 &  Flow IAT Max & 9.30201e6 & 1.80906e7 & 2.0 & $\\dots$ \\\\\n",
       "\t26 &  Flow IAT Min & 2.01349e6 & 7.77071e6 & -10.0 & $\\dots$ \\\\\n",
       "\t27 & Fwd IAT Total & 7.41911e6 & 1.81914e7 & 0.0 & $\\dots$ \\\\\n",
       "\t28 &  Fwd IAT Mean & 3.16333e6 & 8.70665e6 & 0.0 & $\\dots$ \\\\\n",
       "\t29 &  Fwd IAT Std & 1.92876e6 & 6.08923e6 & 0.0 & $\\dots$ \\\\\n",
       "\t30 &  Fwd IAT Max & 6.17879e6 & 1.4333e7 & 0.0 & $\\dots$ \\\\\n",
       "\t$\\dots$ & $\\dots$ & $\\dots$ & $\\dots$ & $\\dots$ &  \\\\\n",
       "\\end{tabular}\n"
      ],
      "text/plain": [
       "\u001b[1m85×16 DataFrame\u001b[0m\n",
       "\u001b[1m Row \u001b[0m│\u001b[1m variable                     \u001b[0m\u001b[1m mean      \u001b[0m\u001b[1m std       \u001b[0m\u001b[1m min                \u001b[0m ⋯\n",
       "     │\u001b[90m Symbol                       \u001b[0m\u001b[90m Union…    \u001b[0m\u001b[90m Union…    \u001b[0m\u001b[90m Any                \u001b[0m ⋯\n",
       "─────┼──────────────────────────────────────────────────────────────────────────\n",
       "   1 │ Flow ID                      \u001b[90m           \u001b[0m\u001b[90m           \u001b[0m 1.189.213.30-10.42. ⋯\n",
       "   2 │  Source IP                   \u001b[90m           \u001b[0m\u001b[90m           \u001b[0m 0.0.0.0\n",
       "   3 │  Source Port                  39136.0    17945.8    0\n",
       "   4 │  Destination IP              \u001b[90m           \u001b[0m\u001b[90m           \u001b[0m 0.117.2.1\n",
       "   5 │  Destination Port             5277.97    14456.4    0.0                 ⋯\n",
       "   6 │  Protocol                     8.33805    4.56704    0.0\n",
       "   7 │  Timestamp                   \u001b[90m           \u001b[0m\u001b[90m           \u001b[0m 04/07/2017 10:05:43\n",
       "   8 │  Flow Duration                1.07323e7  2.15277e7  2\n",
       "   9 │  Total Fwd Packets            7.11518    46.5218    1                   ⋯\n",
       "  10 │  Total Backward Packets       10.6211    163.593    0\n",
       "  11 │ Total Length of Fwd Packets   632.24     4903.25    0.0\n",
       "  ⋮  │              ⋮                    ⋮          ⋮                      ⋮   ⋱\n",
       "  76 │  min_seg_size_forward         -18735.1   3.53816e6  -6.67232e8\n",
       "  77 │ Active Mean                   165430.0   1.0199e6   0.0                 ⋯\n",
       "  78 │  Active Std                   19003.5    2.44301e5  0.0\n",
       "  79 │  Active Max                   1.8389e5   1.10259e6  0.0\n",
       "  80 │  Active Min                   1.50245e5  9.89225e5  0.0\n",
       "  81 │ Idle Mean                     3.90691e6  1.41719e7  0.0                 ⋯\n",
       "  82 │  Idle Std                     2.93554e5  2.669e6    0.0\n",
       "  83 │  Idle Max                     4.16931e6  1.48526e7  0.0\n",
       "  84 │  Idle Min                     3.6782e6   1.384e7    0.0\n",
       "  85 │ Label                        \u001b[90m           \u001b[0m\u001b[90m           \u001b[0m Android_Adware      ⋯\n",
       "\u001b[36m                                                  13 columns and 64 rows omitted\u001b[0m"
      ]
     },
     "execution_count": 6,
     "metadata": {},
     "output_type": "execute_result"
    }
   ],
   "source": [
    "describe(data, :all)"
   ]
  },
  {
   "cell_type": "markdown",
   "id": "686acd66",
   "metadata": {},
   "source": [
    "### First approach: binary classification"
   ]
  },
  {
   "cell_type": "code",
   "execution_count": 20,
   "metadata": {},
   "outputs": [
    {
     "name": "stdout",
     "output_type": "stream",
     "text": [
      "Adding column 38\n",
      "Dict(0.0 => 35563)\n",
      "Adding column 39\n",
      "Dict(0 => 35563)\n",
      "Adding column 40\n",
      "Dict(0 => 35563)\n",
      "Adding column 52\n",
      "Dict(0.0 => 35563)\n",
      "Adding column 56\n",
      "Dict(0.0 => 35563)\n",
      "Adding column 57\n",
      "Dict(0.0 => 35563)\n",
      "Adding column 63\n",
      "Dict(0.0 => 35563)\n",
      "Adding column 64\n",
      "Dict(0.0 => 35563)\n",
      "Adding column 65\n",
      "Dict(0.0 => 35563)\n",
      "Adding column 66\n",
      "Dict(0.0 => 35563)\n",
      "Adding column 67\n",
      "Dict(0.0 => 35563)\n",
      "Adding column 68\n",
      "Dict(0.0 => 35563)\n"
     ]
    },
    {
     "data": {
      "text/html": [
       "<div><div style = \"float: left;\"><span>35563×73 DataFrame</span></div><div style = \"float: right;\"><span style = \"font-style: italic;\">35538 rows omitted</span></div><div style = \"clear: both;\"></div></div><div class = \"data-frame\" style = \"overflow-x: scroll;\"><table class = \"data-frame\" style = \"margin-bottom: 6px;\"><thead><tr class = \"header\"><th class = \"rowNumber\" style = \"font-weight: bold; text-align: right;\">Row</th><th style = \"text-align: left;\">Flow ID</th><th style = \"text-align: left;\"> Source IP</th><th style = \"text-align: left;\"> Source Port</th><th style = \"text-align: left;\"> Destination IP</th><th style = \"text-align: left;\"> Destination Port</th><th style = \"text-align: left;\"> Protocol</th><th style = \"text-align: left;\"> Timestamp</th><th style = \"text-align: left;\"> Flow Duration</th><th style = \"text-align: left;\"> Total Fwd Packets</th><th style = \"text-align: left;\"> Total Backward Packets</th><th style = \"text-align: left;\">Total Length of Fwd Packets</th><th style = \"text-align: left;\"> Total Length of Bwd Packets</th><th style = \"text-align: left;\"> Fwd Packet Length Max</th><th style = \"text-align: left;\"> Fwd Packet Length Min</th><th style = \"text-align: left;\"> Fwd Packet Length Mean</th><th style = \"text-align: left;\"> Fwd Packet Length Std</th><th style = \"text-align: left;\">Bwd Packet Length Max</th><th style = \"text-align: left;\"> Bwd Packet Length Min</th><th style = \"text-align: left;\"> Bwd Packet Length Mean</th><th style = \"text-align: left;\"> Bwd Packet Length Std</th><th style = \"text-align: left;\">Flow Bytes/s</th><th style = \"text-align: left;\"> Flow Packets/s</th><th style = \"text-align: left;\"> Flow IAT Mean</th><th style = \"text-align: left;\"> Flow IAT Std</th><th style = \"text-align: left;\"> Flow IAT Max</th><th style = \"text-align: left;\"> Flow IAT Min</th><th style = \"text-align: left;\">Fwd IAT Total</th><th style = \"text-align: left;\"> Fwd IAT Mean</th><th style = \"text-align: left;\"> Fwd IAT Std</th><th style = \"text-align: left;\"> Fwd IAT Max</th><th style = \"text-align: left;\"> Fwd IAT Min</th><th style = \"text-align: left;\">Bwd IAT Total</th><th style = \"text-align: left;\"> Bwd IAT Mean</th><th style = \"text-align: left;\"> Bwd IAT Std</th><th style = \"text-align: left;\"> Bwd IAT Max</th><th style = \"text-align: left;\"> Bwd IAT Min</th><th style = \"text-align: left;\">Fwd PSH Flags</th><th style = \"text-align: left;\"> Fwd Header Length</th><th style = \"text-align: left;\"> Bwd Header Length</th><th style = \"text-align: left;\">Fwd Packets/s</th><th style = \"text-align: left;\"> Bwd Packets/s</th><th style = \"text-align: left;\"> Min Packet Length</th><th style = \"text-align: left;\"> Max Packet Length</th><th style = \"text-align: left;\"> Packet Length Mean</th><th style = \"text-align: left;\"> Packet Length Std</th><th style = \"text-align: left;\"> Packet Length Variance</th><th style = \"text-align: left;\">FIN Flag Count</th><th style = \"text-align: left;\"> SYN Flag Count</th><th style = \"text-align: left;\"> PSH Flag Count</th><th style = \"text-align: left;\"> ACK Flag Count</th><th style = \"text-align: left;\"> URG Flag Count</th><th style = \"text-align: left;\"> Down/Up Ratio</th><th style = \"text-align: left;\"> Average Packet Size</th><th style = \"text-align: left;\"> Avg Fwd Segment Size</th><th style = \"text-align: left;\"> Avg Bwd Segment Size</th><th style = \"text-align: left;\"> Fwd Header Length.1</th><th style = \"text-align: left;\">Subflow Fwd Packets</th><th style = \"text-align: left;\"> Subflow Fwd Bytes</th><th style = \"text-align: left;\"> Subflow Bwd Packets</th><th style = \"text-align: left;\"> Subflow Bwd Bytes</th><th style = \"text-align: left;\">Init_Win_bytes_forward</th><th style = \"text-align: left;\"> Init_Win_bytes_backward</th><th style = \"text-align: left;\"> act_data_pkt_fwd</th><th style = \"text-align: left;\"> min_seg_size_forward</th><th style = \"text-align: left;\">Active Mean</th><th style = \"text-align: left;\"> Active Std</th><th style = \"text-align: left;\"> Active Max</th><th style = \"text-align: left;\"> Active Min</th><th style = \"text-align: left;\">Idle Mean</th><th style = \"text-align: left;\"> Idle Std</th><th style = \"text-align: left;\"> Idle Max</th><th style = \"text-align: left;\"> Idle Min</th><th style = \"text-align: left;\">Label</th></tr><tr class = \"subheader headerLastRow\"><th class = \"rowNumber\" style = \"font-weight: bold; text-align: right;\"></th><th title = \"String\" style = \"text-align: left;\">String</th><th title = \"String15\" style = \"text-align: left;\">String15</th><th title = \"Int64\" style = \"text-align: left;\">Int64</th><th title = \"String15\" style = \"text-align: left;\">String15</th><th title = \"Float64\" style = \"text-align: left;\">Float64</th><th title = \"Float64\" style = \"text-align: left;\">Float64</th><th title = \"String31\" style = \"text-align: left;\">String31</th><th title = \"Int64\" style = \"text-align: left;\">Int64</th><th title = \"Int64\" style = \"text-align: left;\">Int64</th><th title = \"Int64\" style = \"text-align: left;\">Int64</th><th title = \"Float64\" style = \"text-align: left;\">Float64</th><th title = \"Float64\" style = \"text-align: left;\">Float64</th><th title = \"Float64\" style = \"text-align: left;\">Float64</th><th title = \"Float64\" style = \"text-align: left;\">Float64</th><th title = \"Float64\" style = \"text-align: left;\">Float64</th><th title = \"Float64\" style = \"text-align: left;\">Float64</th><th title = \"Float64\" style = \"text-align: left;\">Float64</th><th title = \"Float64\" style = \"text-align: left;\">Float64</th><th title = \"Float64\" style = \"text-align: left;\">Float64</th><th title = \"Float64\" style = \"text-align: left;\">Float64</th><th title = \"Float64\" style = \"text-align: left;\">Float64</th><th title = \"Float64\" style = \"text-align: left;\">Float64</th><th title = \"Float64\" style = \"text-align: left;\">Float64</th><th title = \"Float64\" style = \"text-align: left;\">Float64</th><th title = \"Float64\" style = \"text-align: left;\">Float64</th><th title = \"Float64\" style = \"text-align: left;\">Float64</th><th title = \"Float64\" style = \"text-align: left;\">Float64</th><th title = \"Float64\" style = \"text-align: left;\">Float64</th><th title = \"Float64\" style = \"text-align: left;\">Float64</th><th title = \"Float64\" style = \"text-align: left;\">Float64</th><th title = \"Float64\" style = \"text-align: left;\">Float64</th><th title = \"Float64\" style = \"text-align: left;\">Float64</th><th title = \"Float64\" style = \"text-align: left;\">Float64</th><th title = \"Float64\" style = \"text-align: left;\">Float64</th><th title = \"Float64\" style = \"text-align: left;\">Float64</th><th title = \"Float64\" style = \"text-align: left;\">Float64</th><th title = \"Float64\" style = \"text-align: left;\">Float64</th><th title = \"Int64\" style = \"text-align: left;\">Int64</th><th title = \"Int64\" style = \"text-align: left;\">Int64</th><th title = \"Float64\" style = \"text-align: left;\">Float64</th><th title = \"Float64\" style = \"text-align: left;\">Float64</th><th title = \"Float64\" style = \"text-align: left;\">Float64</th><th title = \"Float64\" style = \"text-align: left;\">Float64</th><th title = \"Float64\" style = \"text-align: left;\">Float64</th><th title = \"Float64\" style = \"text-align: left;\">Float64</th><th title = \"Float64\" style = \"text-align: left;\">Float64</th><th title = \"Float64\" style = \"text-align: left;\">Float64</th><th title = \"Float64\" style = \"text-align: left;\">Float64</th><th title = \"Float64\" style = \"text-align: left;\">Float64</th><th title = \"Float64\" style = \"text-align: left;\">Float64</th><th title = \"Float64\" style = \"text-align: left;\">Float64</th><th title = \"Float64\" style = \"text-align: left;\">Float64</th><th title = \"Float64\" style = \"text-align: left;\">Float64</th><th title = \"Float64\" style = \"text-align: left;\">Float64</th><th title = \"Float64\" style = \"text-align: left;\">Float64</th><th title = \"Float64\" style = \"text-align: left;\">Float64</th><th title = \"Float64\" style = \"text-align: left;\">Float64</th><th title = \"Float64\" style = \"text-align: left;\">Float64</th><th title = \"Float64\" style = \"text-align: left;\">Float64</th><th title = \"Float64\" style = \"text-align: left;\">Float64</th><th title = \"Float64\" style = \"text-align: left;\">Float64</th><th title = \"Float64\" style = \"text-align: left;\">Float64</th><th title = \"Float64\" style = \"text-align: left;\">Float64</th><th title = \"Float64\" style = \"text-align: left;\">Float64</th><th title = \"Float64\" style = \"text-align: left;\">Float64</th><th title = \"Float64\" style = \"text-align: left;\">Float64</th><th title = \"Float64\" style = \"text-align: left;\">Float64</th><th title = \"Float64\" style = \"text-align: left;\">Float64</th><th title = \"Float64\" style = \"text-align: left;\">Float64</th><th title = \"Float64\" style = \"text-align: left;\">Float64</th><th title = \"Float64\" style = \"text-align: left;\">Float64</th><th title = \"Float64\" style = \"text-align: left;\">Float64</th><th title = \"String31\" style = \"text-align: left;\">String31</th></tr></thead><tbody><tr><td class = \"rowNumber\" style = \"font-weight: bold; text-align: right;\">1</td><td style = \"text-align: left;\">172.217.0.228-10.42.0.211-443-58310-6</td><td style = \"text-align: left;\">10.42.0.211</td><td style = \"text-align: right;\">58310</td><td style = \"text-align: left;\">172.217.0.228</td><td style = \"text-align: right;\">443.0</td><td style = \"text-align: right;\">6.0</td><td style = \"text-align: left;\">15/06/2017 11:09:25</td><td style = \"text-align: right;\">96170080</td><td style = \"text-align: right;\">8</td><td style = \"text-align: right;\">12</td><td style = \"text-align: right;\">3734.0</td><td style = \"text-align: right;\">1499.0</td><td style = \"text-align: right;\">1368.0</td><td style = \"text-align: right;\">0.0</td><td style = \"text-align: right;\">466.75</td><td style = \"text-align: right;\">598.266</td><td style = \"text-align: right;\">562.0</td><td style = \"text-align: right;\">0.0</td><td style = \"text-align: right;\">124.917</td><td style = \"text-align: right;\">192.683</td><td style = \"text-align: right;\">54.414</td><td style = \"text-align: right;\">0.207965</td><td style = \"text-align: right;\">5.06158e6</td><td style = \"text-align: right;\">2.19676e7</td><td style = \"text-align: right;\">9.57763e7</td><td style = \"text-align: right;\">13.0</td><td style = \"text-align: right;\">9.61701e7</td><td style = \"text-align: right;\">1.37386e7</td><td style = \"text-align: right;\">3.61753e7</td><td style = \"text-align: right;\">9.57763e7</td><td style = \"text-align: right;\">151.0</td><td style = \"text-align: right;\">9.61347e7</td><td style = \"text-align: right;\">8.73952e6</td><td style = \"text-align: right;\">2.88792e7</td><td style = \"text-align: right;\">9.58134e7</td><td style = \"text-align: right;\">13.0</td><td style = \"text-align: right;\">0.0</td><td style = \"text-align: right;\">256</td><td style = \"text-align: right;\">384</td><td style = \"text-align: right;\">0.083186</td><td style = \"text-align: right;\">0.124779</td><td style = \"text-align: right;\">0.0</td><td style = \"text-align: right;\">1368.0</td><td style = \"text-align: right;\">314.333</td><td style = \"text-align: right;\">481.687</td><td style = \"text-align: right;\">2.32023e5</td><td style = \"text-align: right;\">0.0</td><td style = \"text-align: right;\">0.0</td><td style = \"text-align: right;\">0.0</td><td style = \"text-align: right;\">1.0</td><td style = \"text-align: right;\">0.0</td><td style = \"text-align: right;\">1.0</td><td style = \"text-align: right;\">330.05</td><td style = \"text-align: right;\">466.75</td><td style = \"text-align: right;\">124.917</td><td style = \"text-align: right;\">256.0</td><td style = \"text-align: right;\">8.0</td><td style = \"text-align: right;\">3734.0</td><td style = \"text-align: right;\">12.0</td><td style = \"text-align: right;\">1499.0</td><td style = \"text-align: right;\">1859.0</td><td style = \"text-align: right;\">575.0</td><td style = \"text-align: right;\">5.0</td><td style = \"text-align: right;\">32.0</td><td style = \"text-align: right;\">198506.0</td><td style = \"text-align: right;\">0.0</td><td style = \"text-align: right;\">198506.0</td><td style = \"text-align: right;\">198506.0</td><td style = \"text-align: right;\">9.57763e7</td><td style = \"text-align: right;\">0.0</td><td style = \"text-align: right;\">9.57763e7</td><td style = \"text-align: right;\">9.57763e7</td><td style = \"text-align: left;\">Android_Adware</td></tr><tr><td class = \"rowNumber\" style = \"font-weight: bold; text-align: right;\">2</td><td style = \"text-align: left;\">10.42.0.211-10.42.0.1-11350-53-17</td><td style = \"text-align: left;\">10.42.0.211</td><td style = \"text-align: right;\">11350</td><td style = \"text-align: left;\">10.42.0.1</td><td style = \"text-align: right;\">53.0</td><td style = \"text-align: right;\">17.0</td><td style = \"text-align: left;\">15/06/2017 04:49:09</td><td style = \"text-align: right;\">109573</td><td style = \"text-align: right;\">1</td><td style = \"text-align: right;\">1</td><td style = \"text-align: right;\">34.0</td><td style = \"text-align: right;\">199.0</td><td style = \"text-align: right;\">34.0</td><td style = \"text-align: right;\">34.0</td><td style = \"text-align: right;\">34.0</td><td style = \"text-align: right;\">0.0</td><td style = \"text-align: right;\">199.0</td><td style = \"text-align: right;\">199.0</td><td style = \"text-align: right;\">199.0</td><td style = \"text-align: right;\">0.0</td><td style = \"text-align: right;\">2126.44</td><td style = \"text-align: right;\">18.2527</td><td style = \"text-align: right;\">109573.0</td><td style = \"text-align: right;\">0.0</td><td style = \"text-align: right;\">109573.0</td><td style = \"text-align: right;\">109573.0</td><td style = \"text-align: right;\">0.0</td><td style = \"text-align: right;\">0.0</td><td style = \"text-align: right;\">0.0</td><td style = \"text-align: right;\">0.0</td><td style = \"text-align: right;\">0.0</td><td style = \"text-align: right;\">0.0</td><td style = \"text-align: right;\">0.0</td><td style = \"text-align: right;\">0.0</td><td style = \"text-align: right;\">0.0</td><td style = \"text-align: right;\">0.0</td><td style = \"text-align: right;\">0.0</td><td style = \"text-align: right;\">32</td><td style = \"text-align: right;\">32</td><td style = \"text-align: right;\">9.12634</td><td style = \"text-align: right;\">9.12634</td><td style = \"text-align: right;\">34.0</td><td style = \"text-align: right;\">199.0</td><td style = \"text-align: right;\">89.0</td><td style = \"text-align: right;\">95.2628</td><td style = \"text-align: right;\">9075.0</td><td style = \"text-align: right;\">0.0</td><td style = \"text-align: right;\">0.0</td><td style = \"text-align: right;\">0.0</td><td style = \"text-align: right;\">0.0</td><td style = \"text-align: right;\">0.0</td><td style = \"text-align: right;\">1.0</td><td style = \"text-align: right;\">133.5</td><td style = \"text-align: right;\">34.0</td><td style = \"text-align: right;\">199.0</td><td style = \"text-align: right;\">32.0</td><td style = \"text-align: right;\">1.0</td><td style = \"text-align: right;\">34.0</td><td style = \"text-align: right;\">1.0</td><td style = \"text-align: right;\">199.0</td><td style = \"text-align: right;\">-1.0</td><td style = \"text-align: right;\">-1.0</td><td style = \"text-align: right;\">0.0</td><td style = \"text-align: right;\">32.0</td><td style = \"text-align: right;\">0.0</td><td style = \"text-align: right;\">0.0</td><td style = \"text-align: right;\">0.0</td><td style = \"text-align: right;\">0.0</td><td style = \"text-align: right;\">0.0</td><td style = \"text-align: right;\">0.0</td><td style = \"text-align: right;\">0.0</td><td style = \"text-align: right;\">0.0</td><td style = \"text-align: left;\">Android_Adware</td></tr><tr><td class = \"rowNumber\" style = \"font-weight: bold; text-align: right;\">3</td><td style = \"text-align: left;\">10.42.0.211-10.42.0.1-26802-53-17</td><td style = \"text-align: left;\">10.42.0.211</td><td style = \"text-align: right;\">26802</td><td style = \"text-align: left;\">10.42.0.1</td><td style = \"text-align: right;\">53.0</td><td style = \"text-align: right;\">17.0</td><td style = \"text-align: left;\">26/06/2017 05:03:10</td><td style = \"text-align: right;\">47706</td><td style = \"text-align: right;\">1</td><td style = \"text-align: right;\">1</td><td style = \"text-align: right;\">37.0</td><td style = \"text-align: right;\">225.0</td><td style = \"text-align: right;\">37.0</td><td style = \"text-align: right;\">37.0</td><td style = \"text-align: right;\">37.0</td><td style = \"text-align: right;\">0.0</td><td style = \"text-align: right;\">225.0</td><td style = \"text-align: right;\">225.0</td><td style = \"text-align: right;\">225.0</td><td style = \"text-align: right;\">0.0</td><td style = \"text-align: right;\">5491.97</td><td style = \"text-align: right;\">41.9234</td><td style = \"text-align: right;\">47706.0</td><td style = \"text-align: right;\">0.0</td><td style = \"text-align: right;\">47706.0</td><td style = \"text-align: right;\">47706.0</td><td style = \"text-align: right;\">0.0</td><td style = \"text-align: right;\">0.0</td><td style = \"text-align: right;\">0.0</td><td style = \"text-align: right;\">0.0</td><td style = \"text-align: right;\">0.0</td><td style = \"text-align: right;\">0.0</td><td style = \"text-align: right;\">0.0</td><td style = \"text-align: right;\">0.0</td><td style = \"text-align: right;\">0.0</td><td style = \"text-align: right;\">0.0</td><td style = \"text-align: right;\">0.0</td><td style = \"text-align: right;\">32</td><td style = \"text-align: right;\">32</td><td style = \"text-align: right;\">20.9617</td><td style = \"text-align: right;\">20.9617</td><td style = \"text-align: right;\">37.0</td><td style = \"text-align: right;\">225.0</td><td style = \"text-align: right;\">99.6667</td><td style = \"text-align: right;\">108.542</td><td style = \"text-align: right;\">11781.3</td><td style = \"text-align: right;\">0.0</td><td style = \"text-align: right;\">0.0</td><td style = \"text-align: right;\">0.0</td><td style = \"text-align: right;\">0.0</td><td style = \"text-align: right;\">0.0</td><td style = \"text-align: right;\">1.0</td><td style = \"text-align: right;\">149.5</td><td style = \"text-align: right;\">37.0</td><td style = \"text-align: right;\">225.0</td><td style = \"text-align: right;\">32.0</td><td style = \"text-align: right;\">1.0</td><td style = \"text-align: right;\">37.0</td><td style = \"text-align: right;\">1.0</td><td style = \"text-align: right;\">225.0</td><td style = \"text-align: right;\">-1.0</td><td style = \"text-align: right;\">-1.0</td><td style = \"text-align: right;\">0.0</td><td style = \"text-align: right;\">32.0</td><td style = \"text-align: right;\">0.0</td><td style = \"text-align: right;\">0.0</td><td style = \"text-align: right;\">0.0</td><td style = \"text-align: right;\">0.0</td><td style = \"text-align: right;\">0.0</td><td style = \"text-align: right;\">0.0</td><td style = \"text-align: right;\">0.0</td><td style = \"text-align: right;\">0.0</td><td style = \"text-align: left;\">Android_Scareware</td></tr><tr><td class = \"rowNumber\" style = \"font-weight: bold; text-align: right;\">4</td><td style = \"text-align: left;\">10.42.0.211-104.192.108.27-60386-443-6</td><td style = \"text-align: left;\">10.42.0.211</td><td style = \"text-align: right;\">60386</td><td style = \"text-align: left;\">104.192.108.27</td><td style = \"text-align: right;\">443.0</td><td style = \"text-align: right;\">6.0</td><td style = \"text-align: left;\">15/06/2017 04:11:00</td><td style = \"text-align: right;\">20808858</td><td style = \"text-align: right;\">8</td><td style = \"text-align: right;\">8</td><td style = \"text-align: right;\">343.0</td><td style = \"text-align: right;\">5244.0</td><td style = \"text-align: right;\">217.0</td><td style = \"text-align: right;\">0.0</td><td style = \"text-align: right;\">42.875</td><td style = \"text-align: right;\">83.0309</td><td style = \"text-align: right;\">1448.0</td><td style = \"text-align: right;\">0.0</td><td style = \"text-align: right;\">655.5</td><td style = \"text-align: right;\">689.865</td><td style = \"text-align: right;\">268.491</td><td style = \"text-align: right;\">0.768903</td><td style = \"text-align: right;\">1.38726e6</td><td style = \"text-align: right;\">4.76123e6</td><td style = \"text-align: right;\">1.85058e7</td><td style = \"text-align: right;\">41.0</td><td style = \"text-align: right;\">2.08089e7</td><td style = \"text-align: right;\">2.97269e6</td><td style = \"text-align: right;\">6.88919e6</td><td style = \"text-align: right;\">1.85058e7</td><td style = \"text-align: right;\">716.0</td><td style = \"text-align: right;\">2.16747e6</td><td style = \"text-align: right;\">309638.0</td><td style = \"text-align: right;\">7.1848e5</td><td style = \"text-align: right;\">1.93441e6</td><td style = \"text-align: right;\">41.0</td><td style = \"text-align: right;\">0.0</td><td style = \"text-align: right;\">264</td><td style = \"text-align: right;\">264</td><td style = \"text-align: right;\">0.384452</td><td style = \"text-align: right;\">0.384452</td><td style = \"text-align: right;\">0.0</td><td style = \"text-align: right;\">1448.0</td><td style = \"text-align: right;\">328.647</td><td style = \"text-align: right;\">558.774</td><td style = \"text-align: right;\">3.12228e5</td><td style = \"text-align: right;\">0.0</td><td style = \"text-align: right;\">0.0</td><td style = \"text-align: right;\">1.0</td><td style = \"text-align: right;\">0.0</td><td style = \"text-align: right;\">0.0</td><td style = \"text-align: right;\">1.0</td><td style = \"text-align: right;\">349.188</td><td style = \"text-align: right;\">42.875</td><td style = \"text-align: right;\">655.5</td><td style = \"text-align: right;\">264.0</td><td style = \"text-align: right;\">8.0</td><td style = \"text-align: right;\">343.0</td><td style = \"text-align: right;\">8.0</td><td style = \"text-align: right;\">5244.0</td><td style = \"text-align: right;\">65535.0</td><td style = \"text-align: right;\">31.0</td><td style = \"text-align: right;\">2.0</td><td style = \"text-align: right;\">32.0</td><td style = \"text-align: right;\">2.30302e6</td><td style = \"text-align: right;\">0.0</td><td style = \"text-align: right;\">2.30302e6</td><td style = \"text-align: right;\">2.30302e6</td><td style = \"text-align: right;\">1.85058e7</td><td style = \"text-align: right;\">0.0</td><td style = \"text-align: right;\">1.85058e7</td><td style = \"text-align: right;\">1.85058e7</td><td style = \"text-align: left;\">Android_Adware</td></tr><tr><td class = \"rowNumber\" style = \"font-weight: bold; text-align: right;\">5</td><td style = \"text-align: left;\">10.42.0.211-10.42.0.1-5177-53-17</td><td style = \"text-align: left;\">10.42.0.211</td><td style = \"text-align: right;\">5177</td><td style = \"text-align: left;\">10.42.0.1</td><td style = \"text-align: right;\">53.0</td><td style = \"text-align: right;\">17.0</td><td style = \"text-align: left;\">15/06/2017 04:55:36</td><td style = \"text-align: right;\">30578</td><td style = \"text-align: right;\">1</td><td style = \"text-align: right;\">1</td><td style = \"text-align: right;\">37.0</td><td style = \"text-align: right;\">53.0</td><td style = \"text-align: right;\">37.0</td><td style = \"text-align: right;\">37.0</td><td style = \"text-align: right;\">37.0</td><td style = \"text-align: right;\">0.0</td><td style = \"text-align: right;\">53.0</td><td style = \"text-align: right;\">53.0</td><td style = \"text-align: right;\">53.0</td><td style = \"text-align: right;\">0.0</td><td style = \"text-align: right;\">2943.29</td><td style = \"text-align: right;\">65.4065</td><td style = \"text-align: right;\">30578.0</td><td style = \"text-align: right;\">0.0</td><td style = \"text-align: right;\">30578.0</td><td style = \"text-align: right;\">30578.0</td><td style = \"text-align: right;\">0.0</td><td style = \"text-align: right;\">0.0</td><td style = \"text-align: right;\">0.0</td><td style = \"text-align: right;\">0.0</td><td style = \"text-align: right;\">0.0</td><td style = \"text-align: right;\">0.0</td><td style = \"text-align: right;\">0.0</td><td style = \"text-align: right;\">0.0</td><td style = \"text-align: right;\">0.0</td><td style = \"text-align: right;\">0.0</td><td style = \"text-align: right;\">0.0</td><td style = \"text-align: right;\">20</td><td style = \"text-align: right;\">32</td><td style = \"text-align: right;\">32.7033</td><td style = \"text-align: right;\">32.7033</td><td style = \"text-align: right;\">37.0</td><td style = \"text-align: right;\">53.0</td><td style = \"text-align: right;\">42.3333</td><td style = \"text-align: right;\">9.2376</td><td style = \"text-align: right;\">85.3333</td><td style = \"text-align: right;\">0.0</td><td style = \"text-align: right;\">0.0</td><td style = \"text-align: right;\">0.0</td><td style = \"text-align: right;\">0.0</td><td style = \"text-align: right;\">0.0</td><td style = \"text-align: right;\">1.0</td><td style = \"text-align: right;\">63.5</td><td style = \"text-align: right;\">37.0</td><td style = \"text-align: right;\">53.0</td><td style = \"text-align: right;\">20.0</td><td style = \"text-align: right;\">1.0</td><td style = \"text-align: right;\">37.0</td><td style = \"text-align: right;\">1.0</td><td style = \"text-align: right;\">53.0</td><td style = \"text-align: right;\">-1.0</td><td style = \"text-align: right;\">-1.0</td><td style = \"text-align: right;\">0.0</td><td style = \"text-align: right;\">20.0</td><td style = \"text-align: right;\">0.0</td><td style = \"text-align: right;\">0.0</td><td style = \"text-align: right;\">0.0</td><td style = \"text-align: right;\">0.0</td><td style = \"text-align: right;\">0.0</td><td style = \"text-align: right;\">0.0</td><td style = \"text-align: right;\">0.0</td><td style = \"text-align: right;\">0.0</td><td style = \"text-align: left;\">Android_Adware</td></tr><tr><td class = \"rowNumber\" style = \"font-weight: bold; text-align: right;\">6</td><td style = \"text-align: left;\">10.42.0.151-13.107.3.128-36339-443-6</td><td style = \"text-align: left;\">10.42.0.151</td><td style = \"text-align: right;\">36339</td><td style = \"text-align: left;\">13.107.3.128</td><td style = \"text-align: right;\">443.0</td><td style = \"text-align: right;\">6.0</td><td style = \"text-align: left;\">10/07/2017 07:47:03</td><td style = \"text-align: right;\">35525</td><td style = \"text-align: right;\">1</td><td style = \"text-align: right;\">2</td><td style = \"text-align: right;\">0.0</td><td style = \"text-align: right;\">0.0</td><td style = \"text-align: right;\">0.0</td><td style = \"text-align: right;\">0.0</td><td style = \"text-align: right;\">0.0</td><td style = \"text-align: right;\">0.0</td><td style = \"text-align: right;\">0.0</td><td style = \"text-align: right;\">0.0</td><td style = \"text-align: right;\">0.0</td><td style = \"text-align: right;\">0.0</td><td style = \"text-align: right;\">0.0</td><td style = \"text-align: right;\">84.4476</td><td style = \"text-align: right;\">17762.5</td><td style = \"text-align: right;\">25104.4</td><td style = \"text-align: right;\">35514.0</td><td style = \"text-align: right;\">11.0</td><td style = \"text-align: right;\">0.0</td><td style = \"text-align: right;\">0.0</td><td style = \"text-align: right;\">0.0</td><td style = \"text-align: right;\">0.0</td><td style = \"text-align: right;\">0.0</td><td style = \"text-align: right;\">11.0</td><td style = \"text-align: right;\">11.0</td><td style = \"text-align: right;\">0.0</td><td style = \"text-align: right;\">11.0</td><td style = \"text-align: right;\">11.0</td><td style = \"text-align: right;\">0.0</td><td style = \"text-align: right;\">32</td><td style = \"text-align: right;\">64</td><td style = \"text-align: right;\">28.1492</td><td style = \"text-align: right;\">56.2984</td><td style = \"text-align: right;\">0.0</td><td style = \"text-align: right;\">0.0</td><td style = \"text-align: right;\">0.0</td><td style = \"text-align: right;\">0.0</td><td style = \"text-align: right;\">0.0</td><td style = \"text-align: right;\">0.0</td><td style = \"text-align: right;\">0.0</td><td style = \"text-align: right;\">0.0</td><td style = \"text-align: right;\">1.0</td><td style = \"text-align: right;\">1.0</td><td style = \"text-align: right;\">2.0</td><td style = \"text-align: right;\">0.0</td><td style = \"text-align: right;\">0.0</td><td style = \"text-align: right;\">0.0</td><td style = \"text-align: right;\">32.0</td><td style = \"text-align: right;\">1.0</td><td style = \"text-align: right;\">0.0</td><td style = \"text-align: right;\">2.0</td><td style = \"text-align: right;\">0.0</td><td style = \"text-align: right;\">2093.0</td><td style = \"text-align: right;\">1024.0</td><td style = \"text-align: right;\">0.0</td><td style = \"text-align: right;\">32.0</td><td style = \"text-align: right;\">0.0</td><td style = \"text-align: right;\">0.0</td><td style = \"text-align: right;\">0.0</td><td style = \"text-align: right;\">0.0</td><td style = \"text-align: right;\">0.0</td><td style = \"text-align: right;\">0.0</td><td style = \"text-align: right;\">0.0</td><td style = \"text-align: right;\">0.0</td><td style = \"text-align: left;\">Android_SMS_Malware</td></tr><tr><td class = \"rowNumber\" style = \"font-weight: bold; text-align: right;\">7</td><td style = \"text-align: left;\">10.42.0.211-10.42.0.1-60460-53-17</td><td style = \"text-align: left;\">10.42.0.211</td><td style = \"text-align: right;\">60460</td><td style = \"text-align: left;\">10.42.0.1</td><td style = \"text-align: right;\">53.0</td><td style = \"text-align: right;\">17.0</td><td style = \"text-align: left;\">16/06/2017 08:14:16</td><td style = \"text-align: right;\">516206</td><td style = \"text-align: right;\">1</td><td style = \"text-align: right;\">1</td><td style = \"text-align: right;\">40.0</td><td style = \"text-align: right;\">104.0</td><td style = \"text-align: right;\">40.0</td><td style = \"text-align: right;\">40.0</td><td style = \"text-align: right;\">40.0</td><td style = \"text-align: right;\">0.0</td><td style = \"text-align: right;\">104.0</td><td style = \"text-align: right;\">104.0</td><td style = \"text-align: right;\">104.0</td><td style = \"text-align: right;\">0.0</td><td style = \"text-align: right;\">278.958</td><td style = \"text-align: right;\">3.87442</td><td style = \"text-align: right;\">516206.0</td><td style = \"text-align: right;\">0.0</td><td style = \"text-align: right;\">516206.0</td><td style = \"text-align: right;\">516206.0</td><td style = \"text-align: right;\">0.0</td><td style = \"text-align: right;\">0.0</td><td style = \"text-align: right;\">0.0</td><td style = \"text-align: right;\">0.0</td><td style = \"text-align: right;\">0.0</td><td style = \"text-align: right;\">0.0</td><td style = \"text-align: right;\">0.0</td><td style = \"text-align: right;\">0.0</td><td style = \"text-align: right;\">0.0</td><td style = \"text-align: right;\">0.0</td><td style = \"text-align: right;\">0.0</td><td style = \"text-align: right;\">20</td><td style = \"text-align: right;\">20</td><td style = \"text-align: right;\">1.93721</td><td style = \"text-align: right;\">1.93721</td><td style = \"text-align: right;\">40.0</td><td style = \"text-align: right;\">104.0</td><td style = \"text-align: right;\">61.3333</td><td style = \"text-align: right;\">36.9504</td><td style = \"text-align: right;\">1365.33</td><td style = \"text-align: right;\">0.0</td><td style = \"text-align: right;\">0.0</td><td style = \"text-align: right;\">0.0</td><td style = \"text-align: right;\">0.0</td><td style = \"text-align: right;\">0.0</td><td style = \"text-align: right;\">1.0</td><td style = \"text-align: right;\">92.0</td><td style = \"text-align: right;\">40.0</td><td style = \"text-align: right;\">104.0</td><td style = \"text-align: right;\">20.0</td><td style = \"text-align: right;\">1.0</td><td style = \"text-align: right;\">40.0</td><td style = \"text-align: right;\">1.0</td><td style = \"text-align: right;\">104.0</td><td style = \"text-align: right;\">-1.0</td><td style = \"text-align: right;\">-1.0</td><td style = \"text-align: right;\">0.0</td><td style = \"text-align: right;\">20.0</td><td style = \"text-align: right;\">0.0</td><td style = \"text-align: right;\">0.0</td><td style = \"text-align: right;\">0.0</td><td style = \"text-align: right;\">0.0</td><td style = \"text-align: right;\">0.0</td><td style = \"text-align: right;\">0.0</td><td style = \"text-align: right;\">0.0</td><td style = \"text-align: right;\">0.0</td><td style = \"text-align: left;\">Benign</td></tr><tr><td class = \"rowNumber\" style = \"font-weight: bold; text-align: right;\">8</td><td style = \"text-align: left;\">10.42.0.211-104.192.108.27-59249-80-6</td><td style = \"text-align: left;\">104.192.108.27</td><td style = \"text-align: right;\">80</td><td style = \"text-align: left;\">10.42.0.211</td><td style = \"text-align: right;\">59249.0</td><td style = \"text-align: right;\">6.0</td><td style = \"text-align: left;\">14/06/2017 11:53:20</td><td style = \"text-align: right;\">3140</td><td style = \"text-align: right;\">1</td><td style = \"text-align: right;\">1</td><td style = \"text-align: right;\">0.0</td><td style = \"text-align: right;\">0.0</td><td style = \"text-align: right;\">0.0</td><td style = \"text-align: right;\">0.0</td><td style = \"text-align: right;\">0.0</td><td style = \"text-align: right;\">0.0</td><td style = \"text-align: right;\">0.0</td><td style = \"text-align: right;\">0.0</td><td style = \"text-align: right;\">0.0</td><td style = \"text-align: right;\">0.0</td><td style = \"text-align: right;\">0.0</td><td style = \"text-align: right;\">636.943</td><td style = \"text-align: right;\">3140.0</td><td style = \"text-align: right;\">0.0</td><td style = \"text-align: right;\">3140.0</td><td style = \"text-align: right;\">3140.0</td><td style = \"text-align: right;\">0.0</td><td style = \"text-align: right;\">0.0</td><td style = \"text-align: right;\">0.0</td><td style = \"text-align: right;\">0.0</td><td style = \"text-align: right;\">0.0</td><td style = \"text-align: right;\">0.0</td><td style = \"text-align: right;\">0.0</td><td style = \"text-align: right;\">0.0</td><td style = \"text-align: right;\">0.0</td><td style = \"text-align: right;\">0.0</td><td style = \"text-align: right;\">0.0</td><td style = \"text-align: right;\">32</td><td style = \"text-align: right;\">32</td><td style = \"text-align: right;\">318.471</td><td style = \"text-align: right;\">318.471</td><td style = \"text-align: right;\">0.0</td><td style = \"text-align: right;\">0.0</td><td style = \"text-align: right;\">0.0</td><td style = \"text-align: right;\">0.0</td><td style = \"text-align: right;\">0.0</td><td style = \"text-align: right;\">0.0</td><td style = \"text-align: right;\">0.0</td><td style = \"text-align: right;\">0.0</td><td style = \"text-align: right;\">1.0</td><td style = \"text-align: right;\">1.0</td><td style = \"text-align: right;\">1.0</td><td style = \"text-align: right;\">0.0</td><td style = \"text-align: right;\">0.0</td><td style = \"text-align: right;\">0.0</td><td style = \"text-align: right;\">32.0</td><td style = \"text-align: right;\">1.0</td><td style = \"text-align: right;\">0.0</td><td style = \"text-align: right;\">1.0</td><td style = \"text-align: right;\">0.0</td><td style = \"text-align: right;\">29.0</td><td style = \"text-align: right;\">1369.0</td><td style = \"text-align: right;\">0.0</td><td style = \"text-align: right;\">32.0</td><td style = \"text-align: right;\">0.0</td><td style = \"text-align: right;\">0.0</td><td style = \"text-align: right;\">0.0</td><td style = \"text-align: right;\">0.0</td><td style = \"text-align: right;\">0.0</td><td style = \"text-align: right;\">0.0</td><td style = \"text-align: right;\">0.0</td><td style = \"text-align: right;\">0.0</td><td style = \"text-align: left;\">Android_Adware</td></tr><tr><td class = \"rowNumber\" style = \"font-weight: bold; text-align: right;\">9</td><td style = \"text-align: left;\">10.42.0.151-23.194.140.226-35722-80-6</td><td style = \"text-align: left;\">10.42.0.151</td><td style = \"text-align: right;\">35722</td><td style = \"text-align: left;\">23.194.140.226</td><td style = \"text-align: right;\">80.0</td><td style = \"text-align: right;\">6.0</td><td style = \"text-align: left;\">14/06/2017 07:02:31</td><td style = \"text-align: right;\">49990</td><td style = \"text-align: right;\">2</td><td style = \"text-align: right;\">0</td><td style = \"text-align: right;\">0.0</td><td style = \"text-align: right;\">0.0</td><td style = \"text-align: right;\">0.0</td><td style = \"text-align: right;\">0.0</td><td style = \"text-align: right;\">0.0</td><td style = \"text-align: right;\">0.0</td><td style = \"text-align: right;\">0.0</td><td style = \"text-align: right;\">0.0</td><td style = \"text-align: right;\">0.0</td><td style = \"text-align: right;\">0.0</td><td style = \"text-align: right;\">0.0</td><td style = \"text-align: right;\">40.008</td><td style = \"text-align: right;\">49990.0</td><td style = \"text-align: right;\">0.0</td><td style = \"text-align: right;\">49990.0</td><td style = \"text-align: right;\">49990.0</td><td style = \"text-align: right;\">49990.0</td><td style = \"text-align: right;\">49990.0</td><td style = \"text-align: right;\">0.0</td><td style = \"text-align: right;\">49990.0</td><td style = \"text-align: right;\">49990.0</td><td style = \"text-align: right;\">0.0</td><td style = \"text-align: right;\">0.0</td><td style = \"text-align: right;\">0.0</td><td style = \"text-align: right;\">0.0</td><td style = \"text-align: right;\">0.0</td><td style = \"text-align: right;\">0.0</td><td style = \"text-align: right;\">64</td><td style = \"text-align: right;\">0</td><td style = \"text-align: right;\">40.008</td><td style = \"text-align: right;\">0.0</td><td style = \"text-align: right;\">0.0</td><td style = \"text-align: right;\">0.0</td><td style = \"text-align: right;\">0.0</td><td style = \"text-align: right;\">0.0</td><td style = \"text-align: right;\">0.0</td><td style = \"text-align: right;\">0.0</td><td style = \"text-align: right;\">0.0</td><td style = \"text-align: right;\">0.0</td><td style = \"text-align: right;\">1.0</td><td style = \"text-align: right;\">1.0</td><td style = \"text-align: right;\">0.0</td><td style = \"text-align: right;\">0.0</td><td style = \"text-align: right;\">0.0</td><td style = \"text-align: right;\">0.0</td><td style = \"text-align: right;\">64.0</td><td style = \"text-align: right;\">2.0</td><td style = \"text-align: right;\">0.0</td><td style = \"text-align: right;\">0.0</td><td style = \"text-align: right;\">0.0</td><td style = \"text-align: right;\">939.0</td><td style = \"text-align: right;\">-1.0</td><td style = \"text-align: right;\">0.0</td><td style = \"text-align: right;\">32.0</td><td style = \"text-align: right;\">0.0</td><td style = \"text-align: right;\">0.0</td><td style = \"text-align: right;\">0.0</td><td style = \"text-align: right;\">0.0</td><td style = \"text-align: right;\">0.0</td><td style = \"text-align: right;\">0.0</td><td style = \"text-align: right;\">0.0</td><td style = \"text-align: right;\">0.0</td><td style = \"text-align: left;\">Android_Adware</td></tr><tr><td class = \"rowNumber\" style = \"font-weight: bold; text-align: right;\">10</td><td style = \"text-align: left;\">192.229.173.173-10.42.0.211-80-48452-6</td><td style = \"text-align: left;\">10.42.0.211</td><td style = \"text-align: right;\">48452</td><td style = \"text-align: left;\">192.229.173.173</td><td style = \"text-align: right;\">80.0</td><td style = \"text-align: right;\">6.0</td><td style = \"text-align: left;\">15/06/2017 04:30:42</td><td style = \"text-align: right;\">1339275</td><td style = \"text-align: right;\">3</td><td style = \"text-align: right;\">0</td><td style = \"text-align: right;\">0.0</td><td style = \"text-align: right;\">0.0</td><td style = \"text-align: right;\">0.0</td><td style = \"text-align: right;\">0.0</td><td style = \"text-align: right;\">0.0</td><td style = \"text-align: right;\">0.0</td><td style = \"text-align: right;\">0.0</td><td style = \"text-align: right;\">0.0</td><td style = \"text-align: right;\">0.0</td><td style = \"text-align: right;\">0.0</td><td style = \"text-align: right;\">0.0</td><td style = \"text-align: right;\">2.24002</td><td style = \"text-align: right;\">6.69638e5</td><td style = \"text-align: right;\">6.79533e5</td><td style = \"text-align: right;\">1.15014e6</td><td style = \"text-align: right;\">189135.0</td><td style = \"text-align: right;\">1.33928e6</td><td style = \"text-align: right;\">6.69638e5</td><td style = \"text-align: right;\">6.79533e5</td><td style = \"text-align: right;\">1.15014e6</td><td style = \"text-align: right;\">189135.0</td><td style = \"text-align: right;\">0.0</td><td style = \"text-align: right;\">0.0</td><td style = \"text-align: right;\">0.0</td><td style = \"text-align: right;\">0.0</td><td style = \"text-align: right;\">0.0</td><td style = \"text-align: right;\">0.0</td><td style = \"text-align: right;\">96</td><td style = \"text-align: right;\">0</td><td style = \"text-align: right;\">2.24002</td><td style = \"text-align: right;\">0.0</td><td style = \"text-align: right;\">0.0</td><td style = \"text-align: right;\">0.0</td><td style = \"text-align: right;\">0.0</td><td style = \"text-align: right;\">0.0</td><td style = \"text-align: right;\">0.0</td><td style = \"text-align: right;\">0.0</td><td style = \"text-align: right;\">0.0</td><td style = \"text-align: right;\">0.0</td><td style = \"text-align: right;\">1.0</td><td style = \"text-align: right;\">1.0</td><td style = \"text-align: right;\">0.0</td><td style = \"text-align: right;\">0.0</td><td style = \"text-align: right;\">0.0</td><td style = \"text-align: right;\">0.0</td><td style = \"text-align: right;\">96.0</td><td style = \"text-align: right;\">3.0</td><td style = \"text-align: right;\">0.0</td><td style = \"text-align: right;\">0.0</td><td style = \"text-align: right;\">0.0</td><td style = \"text-align: right;\">285.0</td><td style = \"text-align: right;\">-1.0</td><td style = \"text-align: right;\">0.0</td><td style = \"text-align: right;\">32.0</td><td style = \"text-align: right;\">0.0</td><td style = \"text-align: right;\">0.0</td><td style = \"text-align: right;\">0.0</td><td style = \"text-align: right;\">0.0</td><td style = \"text-align: right;\">0.0</td><td style = \"text-align: right;\">0.0</td><td style = \"text-align: right;\">0.0</td><td style = \"text-align: right;\">0.0</td><td style = \"text-align: left;\">Android_Adware</td></tr><tr><td class = \"rowNumber\" style = \"font-weight: bold; text-align: right;\">11</td><td style = \"text-align: left;\">172.217.10.138-10.42.0.211-443-47553-6</td><td style = \"text-align: left;\">10.42.0.211</td><td style = \"text-align: right;\">47553</td><td style = \"text-align: left;\">172.217.10.138</td><td style = \"text-align: right;\">443.0</td><td style = \"text-align: right;\">6.0</td><td style = \"text-align: left;\">28/08/2017 05:18:39</td><td style = \"text-align: right;\">46239178</td><td style = \"text-align: right;\">2</td><td style = \"text-align: right;\">0</td><td style = \"text-align: right;\">62.0</td><td style = \"text-align: right;\">0.0</td><td style = \"text-align: right;\">31.0</td><td style = \"text-align: right;\">31.0</td><td style = \"text-align: right;\">31.0</td><td style = \"text-align: right;\">0.0</td><td style = \"text-align: right;\">0.0</td><td style = \"text-align: right;\">0.0</td><td style = \"text-align: right;\">0.0</td><td style = \"text-align: right;\">0.0</td><td style = \"text-align: right;\">1.34085</td><td style = \"text-align: right;\">0.0432534</td><td style = \"text-align: right;\">4.62392e7</td><td style = \"text-align: right;\">0.0</td><td style = \"text-align: right;\">4.62392e7</td><td style = \"text-align: right;\">4.62392e7</td><td style = \"text-align: right;\">4.62392e7</td><td style = \"text-align: right;\">4.62392e7</td><td style = \"text-align: right;\">0.0</td><td style = \"text-align: right;\">4.62392e7</td><td style = \"text-align: right;\">4.62392e7</td><td style = \"text-align: right;\">0.0</td><td style = \"text-align: right;\">0.0</td><td style = \"text-align: right;\">0.0</td><td style = \"text-align: right;\">0.0</td><td style = \"text-align: right;\">0.0</td><td style = \"text-align: right;\">1.0</td><td style = \"text-align: right;\">64</td><td style = \"text-align: right;\">0</td><td style = \"text-align: right;\">0.0432534</td><td style = \"text-align: right;\">0.0</td><td style = \"text-align: right;\">31.0</td><td style = \"text-align: right;\">31.0</td><td style = \"text-align: right;\">31.0</td><td style = \"text-align: right;\">0.0</td><td style = \"text-align: right;\">0.0</td><td style = \"text-align: right;\">0.0</td><td style = \"text-align: right;\">1.0</td><td style = \"text-align: right;\">0.0</td><td style = \"text-align: right;\">1.0</td><td style = \"text-align: right;\">1.0</td><td style = \"text-align: right;\">0.0</td><td style = \"text-align: right;\">46.5</td><td style = \"text-align: right;\">31.0</td><td style = \"text-align: right;\">0.0</td><td style = \"text-align: right;\">64.0</td><td style = \"text-align: right;\">2.0</td><td style = \"text-align: right;\">62.0</td><td style = \"text-align: right;\">0.0</td><td style = \"text-align: right;\">0.0</td><td style = \"text-align: right;\">1422.0</td><td style = \"text-align: right;\">-1.0</td><td style = \"text-align: right;\">1.0</td><td style = \"text-align: right;\">32.0</td><td style = \"text-align: right;\">0.0</td><td style = \"text-align: right;\">0.0</td><td style = \"text-align: right;\">0.0</td><td style = \"text-align: right;\">0.0</td><td style = \"text-align: right;\">0.0</td><td style = \"text-align: right;\">0.0</td><td style = \"text-align: right;\">0.0</td><td style = \"text-align: right;\">0.0</td><td style = \"text-align: left;\">Android_Scareware</td></tr><tr><td class = \"rowNumber\" style = \"font-weight: bold; text-align: right;\">12</td><td style = \"text-align: left;\">180.149.153.234-10.42.0.151-80-48808-6</td><td style = \"text-align: left;\">180.149.153.234</td><td style = \"text-align: right;\">80</td><td style = \"text-align: left;\">10.42.0.151</td><td style = \"text-align: right;\">48808.0</td><td style = \"text-align: right;\">6.0</td><td style = \"text-align: left;\">22/06/2017 01:33:53</td><td style = \"text-align: right;\">11437</td><td style = \"text-align: right;\">1</td><td style = \"text-align: right;\">1</td><td style = \"text-align: right;\">0.0</td><td style = \"text-align: right;\">0.0</td><td style = \"text-align: right;\">0.0</td><td style = \"text-align: right;\">0.0</td><td style = \"text-align: right;\">0.0</td><td style = \"text-align: right;\">0.0</td><td style = \"text-align: right;\">0.0</td><td style = \"text-align: right;\">0.0</td><td style = \"text-align: right;\">0.0</td><td style = \"text-align: right;\">0.0</td><td style = \"text-align: right;\">0.0</td><td style = \"text-align: right;\">174.871</td><td style = \"text-align: right;\">11437.0</td><td style = \"text-align: right;\">0.0</td><td style = \"text-align: right;\">11437.0</td><td style = \"text-align: right;\">11437.0</td><td style = \"text-align: right;\">0.0</td><td style = \"text-align: right;\">0.0</td><td style = \"text-align: right;\">0.0</td><td style = \"text-align: right;\">0.0</td><td style = \"text-align: right;\">0.0</td><td style = \"text-align: right;\">0.0</td><td style = \"text-align: right;\">0.0</td><td style = \"text-align: right;\">0.0</td><td style = \"text-align: right;\">0.0</td><td style = \"text-align: right;\">0.0</td><td style = \"text-align: right;\">0.0</td><td style = \"text-align: right;\">20</td><td style = \"text-align: right;\">20</td><td style = \"text-align: right;\">87.4355</td><td style = \"text-align: right;\">87.4355</td><td style = \"text-align: right;\">0.0</td><td style = \"text-align: right;\">0.0</td><td style = \"text-align: right;\">0.0</td><td style = \"text-align: right;\">0.0</td><td style = \"text-align: right;\">0.0</td><td style = \"text-align: right;\">0.0</td><td style = \"text-align: right;\">0.0</td><td style = \"text-align: right;\">0.0</td><td style = \"text-align: right;\">1.0</td><td style = \"text-align: right;\">1.0</td><td style = \"text-align: right;\">1.0</td><td style = \"text-align: right;\">0.0</td><td style = \"text-align: right;\">0.0</td><td style = \"text-align: right;\">0.0</td><td style = \"text-align: right;\">20.0</td><td style = \"text-align: right;\">1.0</td><td style = \"text-align: right;\">0.0</td><td style = \"text-align: right;\">1.0</td><td style = \"text-align: right;\">0.0</td><td style = \"text-align: right;\">115.0</td><td style = \"text-align: right;\">1369.0</td><td style = \"text-align: right;\">0.0</td><td style = \"text-align: right;\">20.0</td><td style = \"text-align: right;\">0.0</td><td style = \"text-align: right;\">0.0</td><td style = \"text-align: right;\">0.0</td><td style = \"text-align: right;\">0.0</td><td style = \"text-align: right;\">0.0</td><td style = \"text-align: right;\">0.0</td><td style = \"text-align: right;\">0.0</td><td style = \"text-align: right;\">0.0</td><td style = \"text-align: left;\">Android_Scareware</td></tr><tr><td class = \"rowNumber\" style = \"font-weight: bold; text-align: right;\">13</td><td style = \"text-align: left;\">10.42.0.151-115.239.210.141-43029-80-6</td><td style = \"text-align: left;\">10.42.0.151</td><td style = \"text-align: right;\">43029</td><td style = \"text-align: left;\">115.239.210.141</td><td style = \"text-align: right;\">80.0</td><td style = \"text-align: right;\">6.0</td><td style = \"text-align: left;\">22/06/2017 02:02:15</td><td style = \"text-align: right;\">10608256</td><td style = \"text-align: right;\">3</td><td style = \"text-align: right;\">1</td><td style = \"text-align: right;\">0.0</td><td style = \"text-align: right;\">0.0</td><td style = \"text-align: right;\">0.0</td><td style = \"text-align: right;\">0.0</td><td style = \"text-align: right;\">0.0</td><td style = \"text-align: right;\">0.0</td><td style = \"text-align: right;\">0.0</td><td style = \"text-align: right;\">0.0</td><td style = \"text-align: right;\">0.0</td><td style = \"text-align: right;\">0.0</td><td style = \"text-align: right;\">0.0</td><td style = \"text-align: right;\">0.377065</td><td style = \"text-align: right;\">3.53609e6</td><td style = \"text-align: right;\">5.84219e6</td><td style = \"text-align: right;\">1.02814e7</td><td style = \"text-align: right;\">82110.0</td><td style = \"text-align: right;\">1.06083e7</td><td style = \"text-align: right;\">5.30413e6</td><td style = \"text-align: right;\">7.03895e6</td><td style = \"text-align: right;\">1.02814e7</td><td style = \"text-align: right;\">326842.0</td><td style = \"text-align: right;\">0.0</td><td style = \"text-align: right;\">0.0</td><td style = \"text-align: right;\">0.0</td><td style = \"text-align: right;\">0.0</td><td style = \"text-align: right;\">0.0</td><td style = \"text-align: right;\">0.0</td><td style = \"text-align: right;\">80</td><td style = \"text-align: right;\">40</td><td style = \"text-align: right;\">0.282799</td><td style = \"text-align: right;\">0.0942662</td><td style = \"text-align: right;\">0.0</td><td style = \"text-align: right;\">0.0</td><td style = \"text-align: right;\">0.0</td><td style = \"text-align: right;\">0.0</td><td style = \"text-align: right;\">0.0</td><td style = \"text-align: right;\">0.0</td><td style = \"text-align: right;\">0.0</td><td style = \"text-align: right;\">1.0</td><td style = \"text-align: right;\">0.0</td><td style = \"text-align: right;\">0.0</td><td style = \"text-align: right;\">0.0</td><td style = \"text-align: right;\">0.0</td><td style = \"text-align: right;\">0.0</td><td style = \"text-align: right;\">0.0</td><td style = \"text-align: right;\">80.0</td><td style = \"text-align: right;\">3.0</td><td style = \"text-align: right;\">0.0</td><td style = \"text-align: right;\">1.0</td><td style = \"text-align: right;\">0.0</td><td style = \"text-align: right;\">65535.0</td><td style = \"text-align: right;\">8192.0</td><td style = \"text-align: right;\">0.0</td><td style = \"text-align: right;\">20.0</td><td style = \"text-align: right;\">0.0</td><td style = \"text-align: right;\">0.0</td><td style = \"text-align: right;\">0.0</td><td style = \"text-align: right;\">0.0</td><td style = \"text-align: right;\">0.0</td><td style = \"text-align: right;\">0.0</td><td style = \"text-align: right;\">0.0</td><td style = \"text-align: right;\">0.0</td><td style = \"text-align: left;\">Android_Scareware</td></tr><tr><td style = \"text-align: right;\">&vellip;</td><td style = \"text-align: right;\">&vellip;</td><td style = \"text-align: right;\">&vellip;</td><td style = \"text-align: right;\">&vellip;</td><td style = \"text-align: right;\">&vellip;</td><td style = \"text-align: right;\">&vellip;</td><td style = \"text-align: right;\">&vellip;</td><td style = \"text-align: right;\">&vellip;</td><td style = \"text-align: right;\">&vellip;</td><td style = \"text-align: right;\">&vellip;</td><td style = \"text-align: right;\">&vellip;</td><td style = \"text-align: right;\">&vellip;</td><td style = \"text-align: right;\">&vellip;</td><td style = \"text-align: right;\">&vellip;</td><td style = \"text-align: right;\">&vellip;</td><td style = \"text-align: right;\">&vellip;</td><td style = \"text-align: right;\">&vellip;</td><td style = \"text-align: right;\">&vellip;</td><td style = \"text-align: right;\">&vellip;</td><td style = \"text-align: right;\">&vellip;</td><td style = \"text-align: right;\">&vellip;</td><td style = \"text-align: right;\">&vellip;</td><td style = \"text-align: right;\">&vellip;</td><td style = \"text-align: right;\">&vellip;</td><td style = \"text-align: right;\">&vellip;</td><td style = \"text-align: right;\">&vellip;</td><td style = \"text-align: right;\">&vellip;</td><td style = \"text-align: right;\">&vellip;</td><td style = \"text-align: right;\">&vellip;</td><td style = \"text-align: right;\">&vellip;</td><td style = \"text-align: right;\">&vellip;</td><td style = \"text-align: right;\">&vellip;</td><td style = \"text-align: right;\">&vellip;</td><td style = \"text-align: right;\">&vellip;</td><td style = \"text-align: right;\">&vellip;</td><td style = \"text-align: right;\">&vellip;</td><td style = \"text-align: right;\">&vellip;</td><td style = \"text-align: right;\">&vellip;</td><td style = \"text-align: right;\">&vellip;</td><td style = \"text-align: right;\">&vellip;</td><td style = \"text-align: right;\">&vellip;</td><td style = \"text-align: right;\">&vellip;</td><td style = \"text-align: right;\">&vellip;</td><td style = \"text-align: right;\">&vellip;</td><td style = \"text-align: right;\">&vellip;</td><td style = \"text-align: right;\">&vellip;</td><td style = \"text-align: right;\">&vellip;</td><td style = \"text-align: right;\">&vellip;</td><td style = \"text-align: right;\">&vellip;</td><td style = \"text-align: right;\">&vellip;</td><td style = \"text-align: right;\">&vellip;</td><td style = \"text-align: right;\">&vellip;</td><td style = \"text-align: right;\">&vellip;</td><td style = \"text-align: right;\">&vellip;</td><td style = \"text-align: right;\">&vellip;</td><td style = \"text-align: right;\">&vellip;</td><td style = \"text-align: right;\">&vellip;</td><td style = \"text-align: right;\">&vellip;</td><td style = \"text-align: right;\">&vellip;</td><td style = \"text-align: right;\">&vellip;</td><td style = \"text-align: right;\">&vellip;</td><td style = \"text-align: right;\">&vellip;</td><td style = \"text-align: right;\">&vellip;</td><td style = \"text-align: right;\">&vellip;</td><td style = \"text-align: right;\">&vellip;</td><td style = \"text-align: right;\">&vellip;</td><td style = \"text-align: right;\">&vellip;</td><td style = \"text-align: right;\">&vellip;</td><td style = \"text-align: right;\">&vellip;</td><td style = \"text-align: right;\">&vellip;</td><td style = \"text-align: right;\">&vellip;</td><td style = \"text-align: right;\">&vellip;</td><td style = \"text-align: right;\">&vellip;</td><td style = \"text-align: right;\">&vellip;</td></tr><tr><td class = \"rowNumber\" style = \"font-weight: bold; text-align: right;\">35552</td><td style = \"text-align: left;\">10.42.0.211-119.146.74.48-40242-80-6</td><td style = \"text-align: left;\">10.42.0.211</td><td style = \"text-align: right;\">40242</td><td style = \"text-align: left;\">119.146.74.48</td><td style = \"text-align: right;\">80.0</td><td style = \"text-align: right;\">6.0</td><td style = \"text-align: left;\">15/06/2017 04:08:10</td><td style = \"text-align: right;\">25002745</td><td style = \"text-align: right;\">2</td><td style = \"text-align: right;\">0</td><td style = \"text-align: right;\">0.0</td><td style = \"text-align: right;\">0.0</td><td style = \"text-align: right;\">0.0</td><td style = \"text-align: right;\">0.0</td><td style = \"text-align: right;\">0.0</td><td style = \"text-align: right;\">0.0</td><td style = \"text-align: right;\">0.0</td><td style = \"text-align: right;\">0.0</td><td style = \"text-align: right;\">0.0</td><td style = \"text-align: right;\">0.0</td><td style = \"text-align: right;\">0.0</td><td style = \"text-align: right;\">0.0799912</td><td style = \"text-align: right;\">2.50027e7</td><td style = \"text-align: right;\">0.0</td><td style = \"text-align: right;\">2.50027e7</td><td style = \"text-align: right;\">2.50027e7</td><td style = \"text-align: right;\">2.50027e7</td><td style = \"text-align: right;\">2.50027e7</td><td style = \"text-align: right;\">0.0</td><td style = \"text-align: right;\">2.50027e7</td><td style = \"text-align: right;\">2.50027e7</td><td style = \"text-align: right;\">0.0</td><td style = \"text-align: right;\">0.0</td><td style = \"text-align: right;\">0.0</td><td style = \"text-align: right;\">0.0</td><td style = \"text-align: right;\">0.0</td><td style = \"text-align: right;\">0.0</td><td style = \"text-align: right;\">40</td><td style = \"text-align: right;\">0</td><td style = \"text-align: right;\">0.0799912</td><td style = \"text-align: right;\">0.0</td><td style = \"text-align: right;\">0.0</td><td style = \"text-align: right;\">0.0</td><td style = \"text-align: right;\">0.0</td><td style = \"text-align: right;\">0.0</td><td style = \"text-align: right;\">0.0</td><td style = \"text-align: right;\">0.0</td><td style = \"text-align: right;\">0.0</td><td style = \"text-align: right;\">0.0</td><td style = \"text-align: right;\">1.0</td><td style = \"text-align: right;\">1.0</td><td style = \"text-align: right;\">0.0</td><td style = \"text-align: right;\">0.0</td><td style = \"text-align: right;\">0.0</td><td style = \"text-align: right;\">0.0</td><td style = \"text-align: right;\">40.0</td><td style = \"text-align: right;\">2.0</td><td style = \"text-align: right;\">0.0</td><td style = \"text-align: right;\">0.0</td><td style = \"text-align: right;\">0.0</td><td style = \"text-align: right;\">1860.0</td><td style = \"text-align: right;\">-1.0</td><td style = \"text-align: right;\">0.0</td><td style = \"text-align: right;\">20.0</td><td style = \"text-align: right;\">0.0</td><td style = \"text-align: right;\">0.0</td><td style = \"text-align: right;\">0.0</td><td style = \"text-align: right;\">0.0</td><td style = \"text-align: right;\">0.0</td><td style = \"text-align: right;\">0.0</td><td style = \"text-align: right;\">0.0</td><td style = \"text-align: right;\">0.0</td><td style = \"text-align: left;\">Android_Adware</td></tr><tr><td class = \"rowNumber\" style = \"font-weight: bold; text-align: right;\">35553</td><td style = \"text-align: left;\">10.42.0.151-104.244.43.35-43600-443-6</td><td style = \"text-align: left;\">10.42.0.151</td><td style = \"text-align: right;\">43600</td><td style = \"text-align: left;\">104.244.43.35</td><td style = \"text-align: right;\">443.0</td><td style = \"text-align: right;\">6.0</td><td style = \"text-align: left;\">16/06/2017 05:28:12</td><td style = \"text-align: right;\">30465251</td><td style = \"text-align: right;\">3</td><td style = \"text-align: right;\">0</td><td style = \"text-align: right;\">0.0</td><td style = \"text-align: right;\">0.0</td><td style = \"text-align: right;\">0.0</td><td style = \"text-align: right;\">0.0</td><td style = \"text-align: right;\">0.0</td><td style = \"text-align: right;\">0.0</td><td style = \"text-align: right;\">0.0</td><td style = \"text-align: right;\">0.0</td><td style = \"text-align: right;\">0.0</td><td style = \"text-align: right;\">0.0</td><td style = \"text-align: right;\">0.0</td><td style = \"text-align: right;\">0.0984728</td><td style = \"text-align: right;\">1.52326e7</td><td style = \"text-align: right;\">2.14824e7</td><td style = \"text-align: right;\">3.0423e7</td><td style = \"text-align: right;\">42294.0</td><td style = \"text-align: right;\">3.04653e7</td><td style = \"text-align: right;\">1.52326e7</td><td style = \"text-align: right;\">2.14824e7</td><td style = \"text-align: right;\">3.0423e7</td><td style = \"text-align: right;\">42294.0</td><td style = \"text-align: right;\">0.0</td><td style = \"text-align: right;\">0.0</td><td style = \"text-align: right;\">0.0</td><td style = \"text-align: right;\">0.0</td><td style = \"text-align: right;\">0.0</td><td style = \"text-align: right;\">0.0</td><td style = \"text-align: right;\">96</td><td style = \"text-align: right;\">0</td><td style = \"text-align: right;\">0.0984728</td><td style = \"text-align: right;\">0.0</td><td style = \"text-align: right;\">0.0</td><td style = \"text-align: right;\">0.0</td><td style = \"text-align: right;\">0.0</td><td style = \"text-align: right;\">0.0</td><td style = \"text-align: right;\">0.0</td><td style = \"text-align: right;\">0.0</td><td style = \"text-align: right;\">0.0</td><td style = \"text-align: right;\">0.0</td><td style = \"text-align: right;\">1.0</td><td style = \"text-align: right;\">0.0</td><td style = \"text-align: right;\">0.0</td><td style = \"text-align: right;\">0.0</td><td style = \"text-align: right;\">0.0</td><td style = \"text-align: right;\">0.0</td><td style = \"text-align: right;\">96.0</td><td style = \"text-align: right;\">3.0</td><td style = \"text-align: right;\">0.0</td><td style = \"text-align: right;\">0.0</td><td style = \"text-align: right;\">0.0</td><td style = \"text-align: right;\">1686.0</td><td style = \"text-align: right;\">-1.0</td><td style = \"text-align: right;\">0.0</td><td style = \"text-align: right;\">32.0</td><td style = \"text-align: right;\">0.0</td><td style = \"text-align: right;\">0.0</td><td style = \"text-align: right;\">0.0</td><td style = \"text-align: right;\">0.0</td><td style = \"text-align: right;\">0.0</td><td style = \"text-align: right;\">0.0</td><td style = \"text-align: right;\">0.0</td><td style = \"text-align: right;\">0.0</td><td style = \"text-align: left;\">Benign</td></tr><tr><td class = \"rowNumber\" style = \"font-weight: bold; text-align: right;\">35554</td><td style = \"text-align: left;\">184.29.184.105-10.42.0.211-443-33413-6</td><td style = \"text-align: left;\">10.42.0.211</td><td style = \"text-align: right;\">33413</td><td style = \"text-align: left;\">184.29.184.105</td><td style = \"text-align: right;\">443.0</td><td style = \"text-align: right;\">6.0</td><td style = \"text-align: left;\">15/06/2017 03:46:58</td><td style = \"text-align: right;\">2469448</td><td style = \"text-align: right;\">13</td><td style = \"text-align: right;\">14</td><td style = \"text-align: right;\">6614.0</td><td style = \"text-align: right;\">1364.0</td><td style = \"text-align: right;\">1448.0</td><td style = \"text-align: right;\">0.0</td><td style = \"text-align: right;\">508.769</td><td style = \"text-align: right;\">589.806</td><td style = \"text-align: right;\">303.0</td><td style = \"text-align: right;\">0.0</td><td style = \"text-align: right;\">97.4286</td><td style = \"text-align: right;\">140.725</td><td style = \"text-align: right;\">3230.68</td><td style = \"text-align: right;\">10.9336</td><td style = \"text-align: right;\">94978.8</td><td style = \"text-align: right;\">2.07472e5</td><td style = \"text-align: right;\">787861.0</td><td style = \"text-align: right;\">42.0</td><td style = \"text-align: right;\">2.46945e6</td><td style = \"text-align: right;\">2.05787e5</td><td style = \"text-align: right;\">3.17271e5</td><td style = \"text-align: right;\">871158.0</td><td style = \"text-align: right;\">130.0</td><td style = \"text-align: right;\">2.38658e6</td><td style = \"text-align: right;\">1.83583e5</td><td style = \"text-align: right;\">2.69909e5</td><td style = \"text-align: right;\">787861.0</td><td style = \"text-align: right;\">42.0</td><td style = \"text-align: right;\">0.0</td><td style = \"text-align: right;\">424</td><td style = \"text-align: right;\">456</td><td style = \"text-align: right;\">5.26433</td><td style = \"text-align: right;\">5.66928</td><td style = \"text-align: right;\">0.0</td><td style = \"text-align: right;\">1448.0</td><td style = \"text-align: right;\">284.929</td><td style = \"text-align: right;\">457.717</td><td style = \"text-align: right;\">209505.0</td><td style = \"text-align: right;\">0.0</td><td style = \"text-align: right;\">0.0</td><td style = \"text-align: right;\">1.0</td><td style = \"text-align: right;\">0.0</td><td style = \"text-align: right;\">0.0</td><td style = \"text-align: right;\">1.0</td><td style = \"text-align: right;\">295.481</td><td style = \"text-align: right;\">508.769</td><td style = \"text-align: right;\">97.4286</td><td style = \"text-align: right;\">424.0</td><td style = \"text-align: right;\">13.0</td><td style = \"text-align: right;\">6614.0</td><td style = \"text-align: right;\">14.0</td><td style = \"text-align: right;\">1364.0</td><td style = \"text-align: right;\">65535.0</td><td style = \"text-align: right;\">1572.0</td><td style = \"text-align: right;\">9.0</td><td style = \"text-align: right;\">32.0</td><td style = \"text-align: right;\">0.0</td><td style = \"text-align: right;\">0.0</td><td style = \"text-align: right;\">0.0</td><td style = \"text-align: right;\">0.0</td><td style = \"text-align: right;\">0.0</td><td style = \"text-align: right;\">0.0</td><td style = \"text-align: right;\">0.0</td><td style = \"text-align: right;\">0.0</td><td style = \"text-align: left;\">Android_Adware</td></tr><tr><td class = \"rowNumber\" style = \"font-weight: bold; text-align: right;\">35555</td><td style = \"text-align: left;\">10.42.0.42-23.66.238.69-60085-443-6</td><td style = \"text-align: left;\">10.42.0.42</td><td style = \"text-align: right;\">60085</td><td style = \"text-align: left;\">23.66.238.69</td><td style = \"text-align: right;\">443.0</td><td style = \"text-align: right;\">6.0</td><td style = \"text-align: left;\">28/06/2017 12:41:28</td><td style = \"text-align: right;\">63</td><td style = \"text-align: right;\">2</td><td style = \"text-align: right;\">0</td><td style = \"text-align: right;\">0.0</td><td style = \"text-align: right;\">0.0</td><td style = \"text-align: right;\">0.0</td><td style = \"text-align: right;\">0.0</td><td style = \"text-align: right;\">0.0</td><td style = \"text-align: right;\">0.0</td><td style = \"text-align: right;\">0.0</td><td style = \"text-align: right;\">0.0</td><td style = \"text-align: right;\">0.0</td><td style = \"text-align: right;\">0.0</td><td style = \"text-align: right;\">0.0</td><td style = \"text-align: right;\">31746.0</td><td style = \"text-align: right;\">63.0</td><td style = \"text-align: right;\">0.0</td><td style = \"text-align: right;\">63.0</td><td style = \"text-align: right;\">63.0</td><td style = \"text-align: right;\">63.0</td><td style = \"text-align: right;\">63.0</td><td style = \"text-align: right;\">0.0</td><td style = \"text-align: right;\">63.0</td><td style = \"text-align: right;\">63.0</td><td style = \"text-align: right;\">0.0</td><td style = \"text-align: right;\">0.0</td><td style = \"text-align: right;\">0.0</td><td style = \"text-align: right;\">0.0</td><td style = \"text-align: right;\">0.0</td><td style = \"text-align: right;\">0.0</td><td style = \"text-align: right;\">40</td><td style = \"text-align: right;\">0</td><td style = \"text-align: right;\">31746.0</td><td style = \"text-align: right;\">0.0</td><td style = \"text-align: right;\">0.0</td><td style = \"text-align: right;\">0.0</td><td style = \"text-align: right;\">0.0</td><td style = \"text-align: right;\">0.0</td><td style = \"text-align: right;\">0.0</td><td style = \"text-align: right;\">1.0</td><td style = \"text-align: right;\">0.0</td><td style = \"text-align: right;\">0.0</td><td style = \"text-align: right;\">0.0</td><td style = \"text-align: right;\">0.0</td><td style = \"text-align: right;\">0.0</td><td style = \"text-align: right;\">0.0</td><td style = \"text-align: right;\">0.0</td><td style = \"text-align: right;\">0.0</td><td style = \"text-align: right;\">40.0</td><td style = \"text-align: right;\">2.0</td><td style = \"text-align: right;\">0.0</td><td style = \"text-align: right;\">0.0</td><td style = \"text-align: right;\">0.0</td><td style = \"text-align: right;\">0.0</td><td style = \"text-align: right;\">-1.0</td><td style = \"text-align: right;\">0.0</td><td style = \"text-align: right;\">20.0</td><td style = \"text-align: right;\">0.0</td><td style = \"text-align: right;\">0.0</td><td style = \"text-align: right;\">0.0</td><td style = \"text-align: right;\">0.0</td><td style = \"text-align: right;\">0.0</td><td style = \"text-align: right;\">0.0</td><td style = \"text-align: right;\">0.0</td><td style = \"text-align: right;\">0.0</td><td style = \"text-align: left;\">Android_SMS_Malware</td></tr><tr><td class = \"rowNumber\" style = \"font-weight: bold; text-align: right;\">35556</td><td style = \"text-align: left;\">10.42.0.211-13.107.3.128-52915-443-6</td><td style = \"text-align: left;\">13.107.3.128</td><td style = \"text-align: right;\">443</td><td style = \"text-align: left;\">10.42.0.211</td><td style = \"text-align: right;\">52915.0</td><td style = \"text-align: right;\">6.0</td><td style = \"text-align: left;\">26/06/2017 12:44:03</td><td style = \"text-align: right;\">7196</td><td style = \"text-align: right;\">1</td><td style = \"text-align: right;\">1</td><td style = \"text-align: right;\">0.0</td><td style = \"text-align: right;\">0.0</td><td style = \"text-align: right;\">0.0</td><td style = \"text-align: right;\">0.0</td><td style = \"text-align: right;\">0.0</td><td style = \"text-align: right;\">0.0</td><td style = \"text-align: right;\">0.0</td><td style = \"text-align: right;\">0.0</td><td style = \"text-align: right;\">0.0</td><td style = \"text-align: right;\">0.0</td><td style = \"text-align: right;\">0.0</td><td style = \"text-align: right;\">277.932</td><td style = \"text-align: right;\">7196.0</td><td style = \"text-align: right;\">0.0</td><td style = \"text-align: right;\">7196.0</td><td style = \"text-align: right;\">7196.0</td><td style = \"text-align: right;\">0.0</td><td style = \"text-align: right;\">0.0</td><td style = \"text-align: right;\">0.0</td><td style = \"text-align: right;\">0.0</td><td style = \"text-align: right;\">0.0</td><td style = \"text-align: right;\">0.0</td><td style = \"text-align: right;\">0.0</td><td style = \"text-align: right;\">0.0</td><td style = \"text-align: right;\">0.0</td><td style = \"text-align: right;\">0.0</td><td style = \"text-align: right;\">0.0</td><td style = \"text-align: right;\">44</td><td style = \"text-align: right;\">32</td><td style = \"text-align: right;\">138.966</td><td style = \"text-align: right;\">138.966</td><td style = \"text-align: right;\">0.0</td><td style = \"text-align: right;\">0.0</td><td style = \"text-align: right;\">0.0</td><td style = \"text-align: right;\">0.0</td><td style = \"text-align: right;\">0.0</td><td style = \"text-align: right;\">0.0</td><td style = \"text-align: right;\">0.0</td><td style = \"text-align: right;\">0.0</td><td style = \"text-align: right;\">1.0</td><td style = \"text-align: right;\">0.0</td><td style = \"text-align: right;\">1.0</td><td style = \"text-align: right;\">0.0</td><td style = \"text-align: right;\">0.0</td><td style = \"text-align: right;\">0.0</td><td style = \"text-align: right;\">44.0</td><td style = \"text-align: right;\">1.0</td><td style = \"text-align: right;\">0.0</td><td style = \"text-align: right;\">1.0</td><td style = \"text-align: right;\">0.0</td><td style = \"text-align: right;\">1025.0</td><td style = \"text-align: right;\">1550.0</td><td style = \"text-align: right;\">0.0</td><td style = \"text-align: right;\">44.0</td><td style = \"text-align: right;\">0.0</td><td style = \"text-align: right;\">0.0</td><td style = \"text-align: right;\">0.0</td><td style = \"text-align: right;\">0.0</td><td style = \"text-align: right;\">0.0</td><td style = \"text-align: right;\">0.0</td><td style = \"text-align: right;\">0.0</td><td style = \"text-align: right;\">0.0</td><td style = \"text-align: left;\">Android_Scareware</td></tr><tr><td class = \"rowNumber\" style = \"font-weight: bold; text-align: right;\">35557</td><td style = \"text-align: left;\">10.42.0.211-10.42.0.1-41224-53-17</td><td style = \"text-align: left;\">10.42.0.211</td><td style = \"text-align: right;\">41224</td><td style = \"text-align: left;\">10.42.0.1</td><td style = \"text-align: right;\">53.0</td><td style = \"text-align: right;\">17.0</td><td style = \"text-align: left;\">27/06/2017 06:06:40</td><td style = \"text-align: right;\">389782</td><td style = \"text-align: right;\">1</td><td style = \"text-align: right;\">1</td><td style = \"text-align: right;\">36.0</td><td style = \"text-align: right;\">113.0</td><td style = \"text-align: right;\">36.0</td><td style = \"text-align: right;\">36.0</td><td style = \"text-align: right;\">36.0</td><td style = \"text-align: right;\">0.0</td><td style = \"text-align: right;\">113.0</td><td style = \"text-align: right;\">113.0</td><td style = \"text-align: right;\">113.0</td><td style = \"text-align: right;\">0.0</td><td style = \"text-align: right;\">382.265</td><td style = \"text-align: right;\">5.13107</td><td style = \"text-align: right;\">389782.0</td><td style = \"text-align: right;\">0.0</td><td style = \"text-align: right;\">389782.0</td><td style = \"text-align: right;\">389782.0</td><td style = \"text-align: right;\">0.0</td><td style = \"text-align: right;\">0.0</td><td style = \"text-align: right;\">0.0</td><td style = \"text-align: right;\">0.0</td><td style = \"text-align: right;\">0.0</td><td style = \"text-align: right;\">0.0</td><td style = \"text-align: right;\">0.0</td><td style = \"text-align: right;\">0.0</td><td style = \"text-align: right;\">0.0</td><td style = \"text-align: right;\">0.0</td><td style = \"text-align: right;\">0.0</td><td style = \"text-align: right;\">20</td><td style = \"text-align: right;\">32</td><td style = \"text-align: right;\">2.56554</td><td style = \"text-align: right;\">2.56554</td><td style = \"text-align: right;\">36.0</td><td style = \"text-align: right;\">113.0</td><td style = \"text-align: right;\">61.6667</td><td style = \"text-align: right;\">44.456</td><td style = \"text-align: right;\">1976.33</td><td style = \"text-align: right;\">0.0</td><td style = \"text-align: right;\">0.0</td><td style = \"text-align: right;\">0.0</td><td style = \"text-align: right;\">0.0</td><td style = \"text-align: right;\">0.0</td><td style = \"text-align: right;\">1.0</td><td style = \"text-align: right;\">92.5</td><td style = \"text-align: right;\">36.0</td><td style = \"text-align: right;\">113.0</td><td style = \"text-align: right;\">20.0</td><td style = \"text-align: right;\">1.0</td><td style = \"text-align: right;\">36.0</td><td style = \"text-align: right;\">1.0</td><td style = \"text-align: right;\">113.0</td><td style = \"text-align: right;\">-1.0</td><td style = \"text-align: right;\">-1.0</td><td style = \"text-align: right;\">0.0</td><td style = \"text-align: right;\">20.0</td><td style = \"text-align: right;\">0.0</td><td style = \"text-align: right;\">0.0</td><td style = \"text-align: right;\">0.0</td><td style = \"text-align: right;\">0.0</td><td style = \"text-align: right;\">0.0</td><td style = \"text-align: right;\">0.0</td><td style = \"text-align: right;\">0.0</td><td style = \"text-align: right;\">0.0</td><td style = \"text-align: left;\">Android_Scareware</td></tr><tr><td class = \"rowNumber\" style = \"font-weight: bold; text-align: right;\">35558</td><td style = \"text-align: left;\">219.142.78.217-10.42.0.211-80-56448-6</td><td style = \"text-align: left;\">10.42.0.211</td><td style = \"text-align: right;\">56448</td><td style = \"text-align: left;\">219.142.78.217</td><td style = \"text-align: right;\">80.0</td><td style = \"text-align: right;\">6.0</td><td style = \"text-align: left;\">27/06/2017 01:30:51</td><td style = \"text-align: right;\">13113833</td><td style = \"text-align: right;\">6</td><td style = \"text-align: right;\">5</td><td style = \"text-align: right;\">1228.0</td><td style = \"text-align: right;\">2002.0</td><td style = \"text-align: right;\">780.0</td><td style = \"text-align: right;\">0.0</td><td style = \"text-align: right;\">204.667</td><td style = \"text-align: right;\">333.998</td><td style = \"text-align: right;\">1420.0</td><td style = \"text-align: right;\">0.0</td><td style = \"text-align: right;\">400.4</td><td style = \"text-align: right;\">623.202</td><td style = \"text-align: right;\">246.305</td><td style = \"text-align: right;\">0.838809</td><td style = \"text-align: right;\">1.31138e6</td><td style = \"text-align: right;\">3.14345e6</td><td style = \"text-align: right;\">1.00528e7</td><td style = \"text-align: right;\">604.0</td><td style = \"text-align: right;\">3.06104e6</td><td style = \"text-align: right;\">612208.0</td><td style = \"text-align: right;\">8.98102e5</td><td style = \"text-align: right;\">2.20545e6</td><td style = \"text-align: right;\">16458.0</td><td style = \"text-align: right;\">1.28535e7</td><td style = \"text-align: right;\">3.21338e6</td><td style = \"text-align: right;\">4.69133e6</td><td style = \"text-align: right;\">1.00556e7</td><td style = \"text-align: right;\">604.0</td><td style = \"text-align: right;\">0.0</td><td style = \"text-align: right;\">200</td><td style = \"text-align: right;\">168</td><td style = \"text-align: right;\">0.457532</td><td style = \"text-align: right;\">0.381277</td><td style = \"text-align: right;\">0.0</td><td style = \"text-align: right;\">1420.0</td><td style = \"text-align: right;\">269.167</td><td style = \"text-align: right;\">456.749</td><td style = \"text-align: right;\">208620.0</td><td style = \"text-align: right;\">0.0</td><td style = \"text-align: right;\">0.0</td><td style = \"text-align: right;\">1.0</td><td style = \"text-align: right;\">0.0</td><td style = \"text-align: right;\">0.0</td><td style = \"text-align: right;\">0.0</td><td style = \"text-align: right;\">293.636</td><td style = \"text-align: right;\">204.667</td><td style = \"text-align: right;\">400.4</td><td style = \"text-align: right;\">200.0</td><td style = \"text-align: right;\">6.0</td><td style = \"text-align: right;\">1228.0</td><td style = \"text-align: right;\">5.0</td><td style = \"text-align: right;\">2002.0</td><td style = \"text-align: right;\">65535.0</td><td style = \"text-align: right;\">66.0</td><td style = \"text-align: right;\">2.0</td><td style = \"text-align: right;\">32.0</td><td style = \"text-align: right;\">0.0</td><td style = \"text-align: right;\">0.0</td><td style = \"text-align: right;\">0.0</td><td style = \"text-align: right;\">0.0</td><td style = \"text-align: right;\">0.0</td><td style = \"text-align: right;\">0.0</td><td style = \"text-align: right;\">0.0</td><td style = \"text-align: right;\">0.0</td><td style = \"text-align: left;\">Android_Scareware</td></tr><tr><td class = \"rowNumber\" style = \"font-weight: bold; text-align: right;\">35559</td><td style = \"text-align: left;\">216.58.219.227-10.42.0.151-443-52791-6</td><td style = \"text-align: left;\">10.42.0.151</td><td style = \"text-align: right;\">52791</td><td style = \"text-align: left;\">216.58.219.227</td><td style = \"text-align: right;\">443.0</td><td style = \"text-align: right;\">6.0</td><td style = \"text-align: left;\">30/06/2017 02:09:05</td><td style = \"text-align: right;\">637558</td><td style = \"text-align: right;\">6</td><td style = \"text-align: right;\">9</td><td style = \"text-align: right;\">829.0</td><td style = \"text-align: right;\">4324.0</td><td style = \"text-align: right;\">517.0</td><td style = \"text-align: right;\">0.0</td><td style = \"text-align: right;\">138.167</td><td style = \"text-align: right;\">211.41</td><td style = \"text-align: right;\">1418.0</td><td style = \"text-align: right;\">0.0</td><td style = \"text-align: right;\">480.444</td><td style = \"text-align: right;\">686.793</td><td style = \"text-align: right;\">8082.4</td><td style = \"text-align: right;\">23.5273</td><td style = \"text-align: right;\">45539.9</td><td style = \"text-align: right;\">79901.3</td><td style = \"text-align: right;\">261757.0</td><td style = \"text-align: right;\">10.0</td><td style = \"text-align: right;\">600138.0</td><td style = \"text-align: right;\">1.20028e5</td><td style = \"text-align: right;\">1.51968e5</td><td style = \"text-align: right;\">337971.0</td><td style = \"text-align: right;\">71.0</td><td style = \"text-align: right;\">600623.0</td><td style = \"text-align: right;\">75077.9</td><td style = \"text-align: right;\">1.27101e5</td><td style = \"text-align: right;\">298390.0</td><td style = \"text-align: right;\">10.0</td><td style = \"text-align: right;\">0.0</td><td style = \"text-align: right;\">200</td><td style = \"text-align: right;\">296</td><td style = \"text-align: right;\">9.41091</td><td style = \"text-align: right;\">14.1164</td><td style = \"text-align: right;\">0.0</td><td style = \"text-align: right;\">1418.0</td><td style = \"text-align: right;\">322.062</td><td style = \"text-align: right;\">549.506</td><td style = \"text-align: right;\">3.01956e5</td><td style = \"text-align: right;\">0.0</td><td style = \"text-align: right;\">0.0</td><td style = \"text-align: right;\">1.0</td><td style = \"text-align: right;\">0.0</td><td style = \"text-align: right;\">0.0</td><td style = \"text-align: right;\">1.0</td><td style = \"text-align: right;\">343.533</td><td style = \"text-align: right;\">138.167</td><td style = \"text-align: right;\">480.444</td><td style = \"text-align: right;\">200.0</td><td style = \"text-align: right;\">6.0</td><td style = \"text-align: right;\">829.0</td><td style = \"text-align: right;\">9.0</td><td style = \"text-align: right;\">4324.0</td><td style = \"text-align: right;\">65535.0</td><td style = \"text-align: right;\">349.0</td><td style = \"text-align: right;\">3.0</td><td style = \"text-align: right;\">32.0</td><td style = \"text-align: right;\">0.0</td><td style = \"text-align: right;\">0.0</td><td style = \"text-align: right;\">0.0</td><td style = \"text-align: right;\">0.0</td><td style = \"text-align: right;\">0.0</td><td style = \"text-align: right;\">0.0</td><td style = \"text-align: right;\">0.0</td><td style = \"text-align: right;\">0.0</td><td style = \"text-align: left;\">Android_SMS_Malware</td></tr><tr><td class = \"rowNumber\" style = \"font-weight: bold; text-align: right;\">35560</td><td style = \"text-align: left;\">10.42.0.151-119.146.74.48-37547-80-6</td><td style = \"text-align: left;\">10.42.0.151</td><td style = \"text-align: right;\">37547</td><td style = \"text-align: left;\">119.146.74.48</td><td style = \"text-align: right;\">80.0</td><td style = \"text-align: right;\">6.0</td><td style = \"text-align: left;\">14/06/2017 07:26:50</td><td style = \"text-align: right;\">1654271</td><td style = \"text-align: right;\">2</td><td style = \"text-align: right;\">0</td><td style = \"text-align: right;\">0.0</td><td style = \"text-align: right;\">0.0</td><td style = \"text-align: right;\">0.0</td><td style = \"text-align: right;\">0.0</td><td style = \"text-align: right;\">0.0</td><td style = \"text-align: right;\">0.0</td><td style = \"text-align: right;\">0.0</td><td style = \"text-align: right;\">0.0</td><td style = \"text-align: right;\">0.0</td><td style = \"text-align: right;\">0.0</td><td style = \"text-align: right;\">0.0</td><td style = \"text-align: right;\">1.20899</td><td style = \"text-align: right;\">1.65427e6</td><td style = \"text-align: right;\">0.0</td><td style = \"text-align: right;\">1.65427e6</td><td style = \"text-align: right;\">1.65427e6</td><td style = \"text-align: right;\">1.65427e6</td><td style = \"text-align: right;\">1.65427e6</td><td style = \"text-align: right;\">0.0</td><td style = \"text-align: right;\">1.65427e6</td><td style = \"text-align: right;\">1.65427e6</td><td style = \"text-align: right;\">0.0</td><td style = \"text-align: right;\">0.0</td><td style = \"text-align: right;\">0.0</td><td style = \"text-align: right;\">0.0</td><td style = \"text-align: right;\">0.0</td><td style = \"text-align: right;\">0.0</td><td style = \"text-align: right;\">40</td><td style = \"text-align: right;\">0</td><td style = \"text-align: right;\">1.20899</td><td style = \"text-align: right;\">0.0</td><td style = \"text-align: right;\">0.0</td><td style = \"text-align: right;\">0.0</td><td style = \"text-align: right;\">0.0</td><td style = \"text-align: right;\">0.0</td><td style = \"text-align: right;\">0.0</td><td style = \"text-align: right;\">0.0</td><td style = \"text-align: right;\">0.0</td><td style = \"text-align: right;\">0.0</td><td style = \"text-align: right;\">1.0</td><td style = \"text-align: right;\">1.0</td><td style = \"text-align: right;\">0.0</td><td style = \"text-align: right;\">0.0</td><td style = \"text-align: right;\">0.0</td><td style = \"text-align: right;\">0.0</td><td style = \"text-align: right;\">40.0</td><td style = \"text-align: right;\">2.0</td><td style = \"text-align: right;\">0.0</td><td style = \"text-align: right;\">0.0</td><td style = \"text-align: right;\">0.0</td><td style = \"text-align: right;\">2919.0</td><td style = \"text-align: right;\">-1.0</td><td style = \"text-align: right;\">0.0</td><td style = \"text-align: right;\">20.0</td><td style = \"text-align: right;\">0.0</td><td style = \"text-align: right;\">0.0</td><td style = \"text-align: right;\">0.0</td><td style = \"text-align: right;\">0.0</td><td style = \"text-align: right;\">0.0</td><td style = \"text-align: right;\">0.0</td><td style = \"text-align: right;\">0.0</td><td style = \"text-align: right;\">0.0</td><td style = \"text-align: left;\">Android_Adware</td></tr><tr><td class = \"rowNumber\" style = \"font-weight: bold; text-align: right;\">35561</td><td style = \"text-align: left;\">180.163.255.159-10.42.0.211-80-53114-6</td><td style = \"text-align: left;\">10.42.0.211</td><td style = \"text-align: right;\">53114</td><td style = \"text-align: left;\">180.163.255.159</td><td style = \"text-align: right;\">80.0</td><td style = \"text-align: right;\">6.0</td><td style = \"text-align: left;\">27/06/2017 07:31:33</td><td style = \"text-align: right;\">10642320</td><td style = \"text-align: right;\">4</td><td style = \"text-align: right;\">4</td><td style = \"text-align: right;\">567.0</td><td style = \"text-align: right;\">395.0</td><td style = \"text-align: right;\">567.0</td><td style = \"text-align: right;\">0.0</td><td style = \"text-align: right;\">141.75</td><td style = \"text-align: right;\">283.5</td><td style = \"text-align: right;\">395.0</td><td style = \"text-align: right;\">0.0</td><td style = \"text-align: right;\">98.75</td><td style = \"text-align: right;\">197.5</td><td style = \"text-align: right;\">90.3938</td><td style = \"text-align: right;\">0.751716</td><td style = \"text-align: right;\">1.52033e6</td><td style = \"text-align: right;\">3.74564e6</td><td style = \"text-align: right;\">1.00081e7</td><td style = \"text-align: right;\">857.0</td><td style = \"text-align: right;\">634212.0</td><td style = \"text-align: right;\">211404.0</td><td style = \"text-align: right;\">1.82345e5</td><td style = \"text-align: right;\">318868.0</td><td style = \"text-align: right;\">865.0</td><td style = \"text-align: right;\">1.03257e7</td><td style = \"text-align: right;\">3.44191e6</td><td style = \"text-align: right;\">5.69176e6</td><td style = \"text-align: right;\">1.00117e7</td><td style = \"text-align: right;\">857.0</td><td style = \"text-align: right;\">0.0</td><td style = \"text-align: right;\">100</td><td style = \"text-align: right;\">92</td><td style = \"text-align: right;\">0.375858</td><td style = \"text-align: right;\">0.375858</td><td style = \"text-align: right;\">0.0</td><td style = \"text-align: right;\">567.0</td><td style = \"text-align: right;\">106.889</td><td style = \"text-align: right;\">216.416</td><td style = \"text-align: right;\">46835.9</td><td style = \"text-align: right;\">0.0</td><td style = \"text-align: right;\">0.0</td><td style = \"text-align: right;\">1.0</td><td style = \"text-align: right;\">0.0</td><td style = \"text-align: right;\">0.0</td><td style = \"text-align: right;\">1.0</td><td style = \"text-align: right;\">120.25</td><td style = \"text-align: right;\">141.75</td><td style = \"text-align: right;\">98.75</td><td style = \"text-align: right;\">100.0</td><td style = \"text-align: right;\">4.0</td><td style = \"text-align: right;\">567.0</td><td style = \"text-align: right;\">4.0</td><td style = \"text-align: right;\">395.0</td><td style = \"text-align: right;\">65535.0</td><td style = \"text-align: right;\">31.0</td><td style = \"text-align: right;\">1.0</td><td style = \"text-align: right;\">20.0</td><td style = \"text-align: right;\">0.0</td><td style = \"text-align: right;\">0.0</td><td style = \"text-align: right;\">0.0</td><td style = \"text-align: right;\">0.0</td><td style = \"text-align: right;\">0.0</td><td style = \"text-align: right;\">0.0</td><td style = \"text-align: right;\">0.0</td><td style = \"text-align: right;\">0.0</td><td style = \"text-align: left;\">Android_Scareware</td></tr><tr><td class = \"rowNumber\" style = \"font-weight: bold; text-align: right;\">35562</td><td style = \"text-align: left;\">10.42.0.211-10.42.0.1-51600-53-17</td><td style = \"text-align: left;\">10.42.0.211</td><td style = \"text-align: right;\">51600</td><td style = \"text-align: left;\">10.42.0.1</td><td style = \"text-align: right;\">53.0</td><td style = \"text-align: right;\">17.0</td><td style = \"text-align: left;\">15/06/2017 12:02:19</td><td style = \"text-align: right;\">2006799</td><td style = \"text-align: right;\">1</td><td style = \"text-align: right;\">1</td><td style = \"text-align: right;\">35.0</td><td style = \"text-align: right;\">82.0</td><td style = \"text-align: right;\">35.0</td><td style = \"text-align: right;\">35.0</td><td style = \"text-align: right;\">35.0</td><td style = \"text-align: right;\">0.0</td><td style = \"text-align: right;\">82.0</td><td style = \"text-align: right;\">82.0</td><td style = \"text-align: right;\">82.0</td><td style = \"text-align: right;\">0.0</td><td style = \"text-align: right;\">58.3018</td><td style = \"text-align: right;\">0.996612</td><td style = \"text-align: right;\">2.0068e6</td><td style = \"text-align: right;\">0.0</td><td style = \"text-align: right;\">2.0068e6</td><td style = \"text-align: right;\">2.0068e6</td><td style = \"text-align: right;\">0.0</td><td style = \"text-align: right;\">0.0</td><td style = \"text-align: right;\">0.0</td><td style = \"text-align: right;\">0.0</td><td style = \"text-align: right;\">0.0</td><td style = \"text-align: right;\">0.0</td><td style = \"text-align: right;\">0.0</td><td style = \"text-align: right;\">0.0</td><td style = \"text-align: right;\">0.0</td><td style = \"text-align: right;\">0.0</td><td style = \"text-align: right;\">0.0</td><td style = \"text-align: right;\">20</td><td style = \"text-align: right;\">20</td><td style = \"text-align: right;\">0.498306</td><td style = \"text-align: right;\">0.498306</td><td style = \"text-align: right;\">35.0</td><td style = \"text-align: right;\">82.0</td><td style = \"text-align: right;\">50.6667</td><td style = \"text-align: right;\">27.1355</td><td style = \"text-align: right;\">736.333</td><td style = \"text-align: right;\">0.0</td><td style = \"text-align: right;\">0.0</td><td style = \"text-align: right;\">0.0</td><td style = \"text-align: right;\">0.0</td><td style = \"text-align: right;\">0.0</td><td style = \"text-align: right;\">1.0</td><td style = \"text-align: right;\">76.0</td><td style = \"text-align: right;\">35.0</td><td style = \"text-align: right;\">82.0</td><td style = \"text-align: right;\">20.0</td><td style = \"text-align: right;\">1.0</td><td style = \"text-align: right;\">35.0</td><td style = \"text-align: right;\">1.0</td><td style = \"text-align: right;\">82.0</td><td style = \"text-align: right;\">-1.0</td><td style = \"text-align: right;\">-1.0</td><td style = \"text-align: right;\">0.0</td><td style = \"text-align: right;\">20.0</td><td style = \"text-align: right;\">0.0</td><td style = \"text-align: right;\">0.0</td><td style = \"text-align: right;\">0.0</td><td style = \"text-align: right;\">0.0</td><td style = \"text-align: right;\">0.0</td><td style = \"text-align: right;\">0.0</td><td style = \"text-align: right;\">0.0</td><td style = \"text-align: right;\">0.0</td><td style = \"text-align: left;\">Android_Adware</td></tr><tr><td class = \"rowNumber\" style = \"font-weight: bold; text-align: right;\">35563</td><td style = \"text-align: left;\">10.42.0.211-10.42.0.1-26442-53-17</td><td style = \"text-align: left;\">10.42.0.211</td><td style = \"text-align: right;\">26442</td><td style = \"text-align: left;\">10.42.0.1</td><td style = \"text-align: right;\">53.0</td><td style = \"text-align: right;\">17.0</td><td style = \"text-align: left;\">26/06/2017 12:27:44</td><td style = \"text-align: right;\">87781</td><td style = \"text-align: right;\">1</td><td style = \"text-align: right;\">1</td><td style = \"text-align: right;\">35.0</td><td style = \"text-align: right;\">139.0</td><td style = \"text-align: right;\">35.0</td><td style = \"text-align: right;\">35.0</td><td style = \"text-align: right;\">35.0</td><td style = \"text-align: right;\">0.0</td><td style = \"text-align: right;\">139.0</td><td style = \"text-align: right;\">139.0</td><td style = \"text-align: right;\">139.0</td><td style = \"text-align: right;\">0.0</td><td style = \"text-align: right;\">1982.21</td><td style = \"text-align: right;\">22.784</td><td style = \"text-align: right;\">87781.0</td><td style = \"text-align: right;\">0.0</td><td style = \"text-align: right;\">87781.0</td><td style = \"text-align: right;\">87781.0</td><td style = \"text-align: right;\">0.0</td><td style = \"text-align: right;\">0.0</td><td style = \"text-align: right;\">0.0</td><td style = \"text-align: right;\">0.0</td><td style = \"text-align: right;\">0.0</td><td style = \"text-align: right;\">0.0</td><td style = \"text-align: right;\">0.0</td><td style = \"text-align: right;\">0.0</td><td style = \"text-align: right;\">0.0</td><td style = \"text-align: right;\">0.0</td><td style = \"text-align: right;\">0.0</td><td style = \"text-align: right;\">20</td><td style = \"text-align: right;\">40</td><td style = \"text-align: right;\">11.392</td><td style = \"text-align: right;\">11.392</td><td style = \"text-align: right;\">35.0</td><td style = \"text-align: right;\">139.0</td><td style = \"text-align: right;\">69.6667</td><td style = \"text-align: right;\">60.0444</td><td style = \"text-align: right;\">3605.33</td><td style = \"text-align: right;\">0.0</td><td style = \"text-align: right;\">0.0</td><td style = \"text-align: right;\">0.0</td><td style = \"text-align: right;\">0.0</td><td style = \"text-align: right;\">0.0</td><td style = \"text-align: right;\">1.0</td><td style = \"text-align: right;\">104.5</td><td style = \"text-align: right;\">35.0</td><td style = \"text-align: right;\">139.0</td><td style = \"text-align: right;\">20.0</td><td style = \"text-align: right;\">1.0</td><td style = \"text-align: right;\">35.0</td><td style = \"text-align: right;\">1.0</td><td style = \"text-align: right;\">139.0</td><td style = \"text-align: right;\">-1.0</td><td style = \"text-align: right;\">-1.0</td><td style = \"text-align: right;\">0.0</td><td style = \"text-align: right;\">20.0</td><td style = \"text-align: right;\">0.0</td><td style = \"text-align: right;\">0.0</td><td style = \"text-align: right;\">0.0</td><td style = \"text-align: right;\">0.0</td><td style = \"text-align: right;\">0.0</td><td style = \"text-align: right;\">0.0</td><td style = \"text-align: right;\">0.0</td><td style = \"text-align: right;\">0.0</td><td style = \"text-align: left;\">Android_Scareware</td></tr></tbody></table></div>"
      ],
      "text/latex": [
       "\\begin{tabular}{r|ccccc}\n",
       "\t& Flow ID &  Source IP &  Source Port &  Destination IP & \\\\\n",
       "\t\\hline\n",
       "\t& String & String15 & Int64 & String15 & \\\\\n",
       "\t\\hline\n",
       "\t1 & 172.217.0.228-10.42.0.211-443-58310-6 & 10.42.0.211 & 58310 & 172.217.0.228 & $\\dots$ \\\\\n",
       "\t2 & 10.42.0.211-10.42.0.1-11350-53-17 & 10.42.0.211 & 11350 & 10.42.0.1 & $\\dots$ \\\\\n",
       "\t3 & 10.42.0.211-10.42.0.1-26802-53-17 & 10.42.0.211 & 26802 & 10.42.0.1 & $\\dots$ \\\\\n",
       "\t4 & 10.42.0.211-104.192.108.27-60386-443-6 & 10.42.0.211 & 60386 & 104.192.108.27 & $\\dots$ \\\\\n",
       "\t5 & 10.42.0.211-10.42.0.1-5177-53-17 & 10.42.0.211 & 5177 & 10.42.0.1 & $\\dots$ \\\\\n",
       "\t6 & 10.42.0.151-13.107.3.128-36339-443-6 & 10.42.0.151 & 36339 & 13.107.3.128 & $\\dots$ \\\\\n",
       "\t7 & 10.42.0.211-10.42.0.1-60460-53-17 & 10.42.0.211 & 60460 & 10.42.0.1 & $\\dots$ \\\\\n",
       "\t8 & 10.42.0.211-104.192.108.27-59249-80-6 & 104.192.108.27 & 80 & 10.42.0.211 & $\\dots$ \\\\\n",
       "\t9 & 10.42.0.151-23.194.140.226-35722-80-6 & 10.42.0.151 & 35722 & 23.194.140.226 & $\\dots$ \\\\\n",
       "\t10 & 192.229.173.173-10.42.0.211-80-48452-6 & 10.42.0.211 & 48452 & 192.229.173.173 & $\\dots$ \\\\\n",
       "\t11 & 172.217.10.138-10.42.0.211-443-47553-6 & 10.42.0.211 & 47553 & 172.217.10.138 & $\\dots$ \\\\\n",
       "\t12 & 180.149.153.234-10.42.0.151-80-48808-6 & 180.149.153.234 & 80 & 10.42.0.151 & $\\dots$ \\\\\n",
       "\t13 & 10.42.0.151-115.239.210.141-43029-80-6 & 10.42.0.151 & 43029 & 115.239.210.141 & $\\dots$ \\\\\n",
       "\t14 & 10.42.0.151-13.32.251.210-59742-80-6 & 10.42.0.151 & 59742 & 13.32.251.210 & $\\dots$ \\\\\n",
       "\t15 & 180.149.136.194-10.42.0.151-80-49542-6 & 10.42.0.151 & 49542 & 180.149.136.194 & $\\dots$ \\\\\n",
       "\t16 & 216.58.217.131-10.42.0.211-443-57709-6 & 10.42.0.211 & 57709 & 216.58.217.131 & $\\dots$ \\\\\n",
       "\t17 & 10.42.0.151-23.208.87.120-47581-80-6 & 10.42.0.151 & 47581 & 23.208.87.120 & $\\dots$ \\\\\n",
       "\t18 & 10.42.0.211-10.42.0.1-58834-53-17 & 10.42.0.211 & 58834 & 10.42.0.1 & $\\dots$ \\\\\n",
       "\t19 & 182.22.25.252-10.42.0.211-443-57413-6 & 10.42.0.211 & 57413 & 182.22.25.252 & $\\dots$ \\\\\n",
       "\t20 & 172.217.7.195-10.42.0.211-443-42615-6 & 10.42.0.211 & 42615 & 172.217.7.195 & $\\dots$ \\\\\n",
       "\t21 & 202.77.129.230-10.42.0.151-80-44451-6 & 10.42.0.151 & 44451 & 202.77.129.230 & $\\dots$ \\\\\n",
       "\t22 & 172.217.10.131-10.42.0.151-443-34533-6 & 10.42.0.151 & 34533 & 172.217.10.131 & $\\dots$ \\\\\n",
       "\t23 & 10.42.0.211-103.7.30.118-35539-80-6 & 10.42.0.211 & 35539 & 103.7.30.118 & $\\dots$ \\\\\n",
       "\t24 & 172.217.10.138-10.42.0.151-443-57443-6 & 10.42.0.151 & 57443 & 172.217.10.138 & $\\dots$ \\\\\n",
       "\t25 & 10.42.0.151-115.239.210.141-40527-443-6 & 115.239.210.141 & 443 & 10.42.0.151 & $\\dots$ \\\\\n",
       "\t26 & 10.42.0.211-36.110.213.49-47076-443-6 & 10.42.0.211 & 47076 & 36.110.213.49 & $\\dots$ \\\\\n",
       "\t27 & 10.42.0.211-23.194.140.226-47102-80-6 & 10.42.0.211 & 47102 & 23.194.140.226 & $\\dots$ \\\\\n",
       "\t28 & 10.42.0.151-54.187.229.83-50228-443-6 & 10.42.0.151 & 50228 & 54.187.229.83 & $\\dots$ \\\\\n",
       "\t29 & 184.24.40.60-10.42.0.211-443-42085-6 & 10.42.0.211 & 42085 & 184.24.40.60 & $\\dots$ \\\\\n",
       "\t30 & 10.42.0.211-10.42.0.1-9578-53-17 & 10.42.0.211 & 9578 & 10.42.0.1 & $\\dots$ \\\\\n",
       "\t$\\dots$ & $\\dots$ & $\\dots$ & $\\dots$ & $\\dots$ &  \\\\\n",
       "\\end{tabular}\n"
      ],
      "text/plain": [
       "\u001b[1m35563×73 DataFrame\u001b[0m\n",
       "\u001b[1m   Row \u001b[0m│\u001b[1m Flow ID                           \u001b[0m\u001b[1m  Source IP      \u001b[0m\u001b[1m  Source Port \u001b[0m\u001b[1m  De\u001b[0m ⋯\n",
       "       │\u001b[90m String                            \u001b[0m\u001b[90m String15        \u001b[0m\u001b[90m Int64        \u001b[0m\u001b[90m Str\u001b[0m ⋯\n",
       "───────┼────────────────────────────────────────────────────────────────────────\n",
       "     1 │ 172.217.0.228-10.42.0.211-443-58…  10.42.0.211             58310  172 ⋯\n",
       "     2 │ 10.42.0.211-10.42.0.1-11350-53-17  10.42.0.211             11350  10.\n",
       "     3 │ 10.42.0.211-10.42.0.1-26802-53-17  10.42.0.211             26802  10.\n",
       "     4 │ 10.42.0.211-104.192.108.27-60386…  10.42.0.211             60386  104\n",
       "     5 │ 10.42.0.211-10.42.0.1-5177-53-17   10.42.0.211              5177  10. ⋯\n",
       "     6 │ 10.42.0.151-13.107.3.128-36339-4…  10.42.0.151             36339  13.\n",
       "     7 │ 10.42.0.211-10.42.0.1-60460-53-17  10.42.0.211             60460  10.\n",
       "     8 │ 10.42.0.211-104.192.108.27-59249…  104.192.108.27             80  10.\n",
       "     9 │ 10.42.0.151-23.194.140.226-35722…  10.42.0.151             35722  23. ⋯\n",
       "    10 │ 192.229.173.173-10.42.0.211-80-4…  10.42.0.211             48452  192\n",
       "    11 │ 172.217.10.138-10.42.0.211-443-4…  10.42.0.211             47553  172\n",
       "   ⋮   │                 ⋮                         ⋮              ⋮            ⋱\n",
       " 35554 │ 184.29.184.105-10.42.0.211-443-3…  10.42.0.211             33413  184\n",
       " 35555 │ 10.42.0.42-23.66.238.69-60085-44…  10.42.0.42              60085  23. ⋯\n",
       " 35556 │ 10.42.0.211-13.107.3.128-52915-4…  13.107.3.128              443  10.\n",
       " 35557 │ 10.42.0.211-10.42.0.1-41224-53-17  10.42.0.211             41224  10.\n",
       " 35558 │ 219.142.78.217-10.42.0.211-80-56…  10.42.0.211             56448  219\n",
       " 35559 │ 216.58.219.227-10.42.0.151-443-5…  10.42.0.151             52791  216 ⋯\n",
       " 35560 │ 10.42.0.151-119.146.74.48-37547-…  10.42.0.151             37547  119\n",
       " 35561 │ 180.163.255.159-10.42.0.211-80-5…  10.42.0.211             53114  180\n",
       " 35562 │ 10.42.0.211-10.42.0.1-51600-53-17  10.42.0.211             51600  10.\n",
       " 35563 │ 10.42.0.211-10.42.0.1-26442-53-17  10.42.0.211             26442  10. ⋯\n",
       "\u001b[36m                                               70 columns and 35542 rows omitted\u001b[0m"
      ]
     },
     "execution_count": 20,
     "metadata": {},
     "output_type": "execute_result"
    }
   ],
   "source": [
    "using StatsBase\n",
    "\n",
    "columns_to_drop = []\n",
    "\n",
    "println(\"Size of dataframe before dropping columns $(size(data))\")\n",
    "for column in 1:size(data, 2)\n",
    "    unique_values = countmap(data[:, column])\n",
    "\n",
    "    if length(unique_values) == 1\n",
    "        println(\"Adding column $column\")\n",
    "        println(unique_values)\n",
    "        push!(columns_to_drop, column)\n",
    "    end\n",
    "    \n",
    "end\n",
    "\n",
    "select!(data, Not(columns_to_drop))"
   ]
  },
  {
   "cell_type": "code",
   "execution_count": 17,
   "metadata": {},
   "outputs": [
    {
     "data": {
      "text/plain": [
       "1"
      ]
     },
     "execution_count": 17,
     "metadata": {},
     "output_type": "execute_result"
    }
   ],
   "source": []
  },
  {
   "cell_type": "code",
   "execution_count": null,
   "metadata": {},
   "outputs": [],
   "source": []
  },
  {
   "cell_type": "code",
   "execution_count": 3,
   "id": "d2856c53",
   "metadata": {},
   "outputs": [],
   "source": [
    "function transform_binary_class(output_data)\n",
    "    binary_labels = output_data .!= \"Benign\"\n",
    "    return binary_labels\n",
    "end\n",
    "\n",
    "input_data = Matrix(data[!, 1:80]);\n",
    "\n",
    "output_data = data[!, :Label];\n",
    "\n",
    "binary_labels = transform_binary_class(output_data)\n",
    "@assert binary_labels isa BitVector\n",
    "@assert input_data isa Matrix"
   ]
  },
  {
   "cell_type": "code",
   "execution_count": 4,
   "id": "58b7af8e",
   "metadata": {},
   "outputs": [],
   "source": [
    "\n",
    "\n",
    "Random.seed!(42)\n",
    "\n",
    "train_indexes, test_indexes = holdOut(size(input_data, 1), 0.2)\n",
    "\n",
    "train_input = input_data[train_indexes, :]\n",
    "train_output = vec(binary_labels[train_indexes, :])\n",
    "\n",
    "test_input = input_data[test_indexes, :]\n",
    "test_output = vec(binary_labels[test_indexes, :])\n",
    "\n",
    "@assert size(test_input, 1) == size(test_output, 1)\n",
    "@assert size(train_input, 1) == size(train_output, 1)"
   ]
  },
  {
   "cell_type": "code",
   "execution_count": 7,
   "id": "b936a961",
   "metadata": {},
   "outputs": [],
   "source": [
    "# models = Dict( \"SVM\" => SVC(probability=true), \n",
    "#          \"DT\"=> DecisionTreeClassifier(max_depth=4))\n",
    "# base_models =  [ name for name in keys(models)]\n",
    "\n",
    "# for key in keys(models)\n",
    "#     model = models[key]\n",
    "#     fit!(model, train_input, train_output)\n",
    "#     acc = score(model, test_input, test_output)\n",
    "#     println(\"$key: $(round(acc*100, digits=2))%\")\n",
    "# end"
   ]
  },
  {
   "cell_type": "code",
   "execution_count": 8,
   "metadata": {},
   "outputs": [
    {
     "data": {
      "text/plain": [
       "0.9254885421060031"
      ]
     },
     "execution_count": 8,
     "metadata": {},
     "output_type": "execute_result"
    }
   ],
   "source": [
    "dt = DecisionTreeClassifier(max_depth=13)\n",
    "fit!(dt, train_input, train_output)\n",
    "score(dt, test_input, test_output)"
   ]
  },
  {
   "cell_type": "code",
   "execution_count": 9,
   "metadata": {},
   "outputs": [
    {
     "name": "stderr",
     "output_type": "stream",
     "text": [
      "/Users/alexdopico/.julia/conda/3/lib/python3.9/site-packages/sklearn/neighbors/_classification.py:215: DataConversionWarning: A column-vector y was passed when a 1d array was expected. Please change the shape of y to (n_samples,), for example using ravel().\n",
      "  return self._fit(X, y)\n"
     ]
    },
    {
     "data": {
      "text/plain": [
       "0.9320961619569802"
      ]
     },
     "execution_count": 9,
     "metadata": {},
     "output_type": "execute_result"
    }
   ],
   "source": [
    "knn = KNeighborsClassifier(13)\n",
    "fit!(knn, train_input, train_output)\n",
    "score(knn, test_input, test_output)"
   ]
  },
  {
   "cell_type": "code",
   "execution_count": 10,
   "id": "3a472aae",
   "metadata": {},
   "outputs": [
    {
     "name": "stderr",
     "output_type": "stream",
     "text": [
      "/Users/alexdopico/.julia/conda/3/lib/python3.9/site-packages/sklearn/utils/validation.py:1143: DataConversionWarning: A column-vector y was passed when a 1d array was expected. Please change the shape of y to (n_samples, ), for example using ravel().\n",
      "  y = column_or_1d(y, warn=True)\n"
     ]
    },
    {
     "data": {
      "text/plain": [
       "0.9323773372697877"
      ]
     },
     "execution_count": 10,
     "metadata": {},
     "output_type": "execute_result"
    }
   ],
   "source": [
    "svm = SVC(kernel = \"rbf\")\n",
    "fit!(svm, train_input, train_output)\n",
    "score(svm, test_input, test_output)"
   ]
  },
  {
   "cell_type": "code",
   "execution_count": 14,
   "metadata": {},
   "outputs": [
    {
     "data": {
      "text/plain": [
       "metrics_to_latex (generic function with 1 method)"
      ]
     },
     "execution_count": 14,
     "metadata": {},
     "output_type": "execute_result"
    }
   ],
   "source": [
    "function metrics_to_latex(metrics::Dict{String, Float64})\n",
    "    latex_code = \"\"\"\n",
    "    \\\\begin{tabular}{|c|c|}\n",
    "    \\\\hline\n",
    "    Metric & Value \\\\\\\\\n",
    "    \\\\hline\n",
    "    \"\"\"\n",
    "    for (key, value) in metrics\n",
    "        latex_code *= \"\\\\textbf{$key} & $value \\\\\\\\\\n\\\\hline\\n\"\n",
    "    end\n",
    "    latex_code *= \"\\\\end{tabular}\"\n",
    "    return latex_code\n",
    "end"
   ]
  },
  {
   "cell_type": "code",
   "execution_count": 7,
   "metadata": {},
   "outputs": [],
   "source": [
    "kFolds = 5\n",
    "crossValidationIndexes = crossvalidation(train_output, kFolds);"
   ]
  },
  {
   "cell_type": "code",
   "execution_count": 28,
   "metadata": {},
   "outputs": [
    {
     "name": "stdout",
     "output_type": "stream",
     "text": [
      "3\n",
      "errorRate\t7.76\n",
      "f1_score\t95.95\n",
      "specificity\t3.53\n",
      "negative_predictive_value\t16.19\n",
      "confusion_matrix\t[6544 464; 88 17]\n",
      "accuracy\t92.24\n",
      "recall\t98.67\n",
      "precision\t93.38\n",
      "5\n",
      "errorRate\t7.04\n",
      "f1_score\t96.34\n",
      "specificity\t3.12\n",
      "negative_predictive_value\t30.0\n",
      "confusion_matrix\t[6597 466; 35 15]\n",
      "accuracy\t92.96\n",
      "recall\t99.47\n",
      "precision\t93.4\n",
      "7\n",
      "errorRate\t6.9\n",
      "f1_score\t96.42\n",
      "specificity\t0.62\n",
      "negative_predictive_value\t18.75\n",
      "confusion_matrix\t[6619 478; 13 3]\n",
      "accuracy\t93.1\n",
      "recall\t99.8\n",
      "precision\t93.26\n",
      "10\n",
      "errorRate\t6.85\n",
      "f1_score\t96.45\n",
      "specificity\t0.21\n",
      "negative_predictive_value\t12.5\n",
      "confusion_matrix\t[6625 480; 7 1]\n",
      "accuracy\t93.15\n",
      "recall\t99.89\n",
      "precision\t93.24\n",
      "15\n",
      "errorRate\t6.76\n",
      "f1_score\t96.5\n",
      "specificity\t0.0\n",
      "negative_predictive_value\t0.0\n",
      "confusion_matrix\t[6632 481; 0 0]\n",
      "accuracy\t93.24\n",
      "recall\t100.0\n",
      "precision\t93.24\n",
      "20\n",
      "errorRate\t6.76\n",
      "f1_score\t96.5\n",
      "specificity\t0.0\n",
      "negative_predictive_value\t0.0\n",
      "confusion_matrix\t[6632 481; 0 0]\n",
      "accuracy\t93.24\n",
      "recall\t100.0\n",
      "precision\t93.24\n"
     ]
    }
   ],
   "source": [
    "include(\"functions.jl\")\n",
    "knnParameters = Dict(\"modelType\" => :kNN, \"numNeighboors\" => 0)\n",
    "\n",
    "ks = [3, 5, 7, 10, 15, 20]\n",
    "for k in ks\n",
    "    knnParameters[\"numNeighboors\"] = k\n",
    "    metricsCV = (modelCrossValidation(knnParameters[\"modelType\"], knnParameters, train_input, train_output, crossValidationIndexes))\n",
    "    metrics = createAndTrainFinalModel(knnParameters[\"modelType\"], knnParameters, train_input, train_output, test_input, test_output)\n",
    "    println(k)\n",
    "    for (key, value) in metrics\n",
    "        if in(key, [\"accuracy\", \"f1_score\", \"specificity\", \"recall\"])\n",
    "            println(key, \"\\t\", round(value*100, digits = 2))\n",
    "        else\n",
    "            println(key, \"\\t\", value)\n",
    "        end\n",
    "    end\n",
    "end"
   ]
  },
  {
   "cell_type": "code",
   "execution_count": 38,
   "metadata": {},
   "outputs": [
    {
     "name": "stdout",
     "output_type": "stream",
     "text": [
      "-------------3-------------------\n",
      "-------------CV-------------------\n",
      "std_recall\t0.0\n",
      "std_specificity\t0.0\n",
      "std_precision\t0.0\n",
      "f1_score\t96.564261\n",
      "specificity\t0.0\n",
      "std_accuracy\t0.0\n",
      "std_f1_score\t0.0\n",
      "accuracy\t93.356766\n",
      "recall\t100.0\n",
      "precision\t0.9335676625659051\n",
      "--------------------------------\n",
      "errorRate\t0.06762266273021234\n",
      "f1_score\t96.500546\n",
      "specificity\t0.0\n",
      "negative_predictive_value\t0.0\n",
      "confusion_matrix\t[6632 481; 0 0]\n",
      "accuracy\t93.237734\n",
      "recall\t100.0\n",
      "precision\t0.9323773372697877\n",
      "-------------5-------------------\n",
      "-------------CV-------------------\n",
      "std_recall\t0.0\n",
      "std_specificity\t0.0\n",
      "std_precision\t0.0\n",
      "f1_score\t96.564261\n",
      "specificity\t0.0\n",
      "std_accuracy\t0.0\n",
      "std_f1_score\t0.0\n",
      "accuracy\t93.356766\n",
      "recall\t100.0\n",
      "precision\t0.9335676625659051\n",
      "--------------------------------\n",
      "errorRate\t0.06762266273021234\n",
      "f1_score\t96.500546\n",
      "specificity\t0.0\n",
      "negative_predictive_value\t0.0\n",
      "confusion_matrix\t[6632 481; 0 0]\n",
      "accuracy\t93.237734\n",
      "recall\t100.0\n",
      "precision\t0.9323773372697877\n",
      "-------------7-------------------\n",
      "-------------CV-------------------\n",
      "std_recall\t0.0\n",
      "std_specificity\t0.0\n",
      "std_precision\t0.0\n",
      "f1_score\t96.564261\n",
      "specificity\t0.0\n",
      "std_accuracy\t0.0\n",
      "std_f1_score\t0.0\n",
      "accuracy\t93.356766\n",
      "recall\t100.0\n",
      "precision\t0.9335676625659051\n",
      "--------------------------------\n",
      "errorRate\t0.06762266273021234\n",
      "f1_score\t96.500546\n",
      "specificity\t0.0\n",
      "negative_predictive_value\t0.0\n",
      "confusion_matrix\t[6632 481; 0 0]\n",
      "accuracy\t93.237734\n",
      "recall\t100.0\n",
      "precision\t0.9323773372697877\n",
      "-------------10-------------------\n",
      "-------------CV-------------------\n",
      "std_recall\t0.0\n",
      "std_specificity\t0.0\n",
      "std_precision\t0.0\n",
      "f1_score\t96.564261\n",
      "specificity\t0.0\n",
      "std_accuracy\t0.0\n",
      "std_f1_score\t0.0\n",
      "accuracy\t93.356766\n",
      "recall\t100.0\n",
      "precision\t0.9335676625659051\n",
      "--------------------------------\n",
      "errorRate\t0.06762266273021234\n",
      "f1_score\t96.500546\n",
      "specificity\t0.0\n",
      "negative_predictive_value\t0.0\n",
      "confusion_matrix\t[6632 481; 0 0]\n",
      "accuracy\t93.237734\n",
      "recall\t100.0\n",
      "precision\t0.9323773372697877\n",
      "-------------15-------------------\n",
      "-------------CV-------------------\n",
      "std_recall\t0.0\n",
      "std_specificity\t0.0\n",
      "std_precision\t0.0\n",
      "f1_score\t96.564261\n",
      "specificity\t0.0\n",
      "std_accuracy\t0.0\n",
      "std_f1_score\t0.0\n",
      "accuracy\t93.356766\n",
      "recall\t100.0\n",
      "precision\t0.9335676625659051\n",
      "--------------------------------\n",
      "errorRate\t0.06762266273021234\n",
      "f1_score\t96.500546\n",
      "specificity\t0.0\n",
      "negative_predictive_value\t0.0\n",
      "confusion_matrix\t[6632 481; 0 0]\n",
      "accuracy\t93.237734\n",
      "recall\t100.0\n",
      "precision\t0.9323773372697877\n",
      "-------------Nothing-------------------\n",
      "-------------CV-------------------\n",
      "std_recall\t0.0\n",
      "std_specificity\t0.0\n",
      "std_precision\t0.0\n",
      "f1_score\t96.564261\n",
      "specificity\t0.0\n",
      "std_accuracy\t0.0\n",
      "std_f1_score\t0.0\n",
      "accuracy\t93.356766\n",
      "recall\t100.0\n",
      "precision\t0.9335676625659051\n",
      "--------------------------------\n",
      "errorRate\t0.06762266273021234\n",
      "f1_score\t96.500546\n",
      "specificity\t0.0\n",
      "negative_predictive_value\t0.0\n",
      "confusion_matrix\t[6632 481; 0 0]\n",
      "accuracy\t93.237734\n",
      "recall\t100.0\n",
      "precision\t0.9323773372697877\n"
     ]
    }
   ],
   "source": [
    "include(\"functions.jl\")\n",
    "dtParameters = Dict(\"modelType\" => :DecisionTree, \"maxDepth\" => 1)\n",
    "\n",
    "depths = [3, 5, 7, 10, 15, Nothing]\n",
    "for depth in depths\n",
    "    knnParameters[\"maxDepth\"] = depth\n",
    "    metricsCV = (modelCrossValidation(dtParameters[\"modelType\"], dtParameters, train_input, train_output, crossValidationIndexes))\n",
    "    metrics = createAndTrainFinalModel(dtParameters[\"modelType\"], dtParameters, train_input, train_output, test_input, test_output)\n",
    "    println(\"-------------$depth-------------------\")\n",
    "\n",
    "    println(\"-------------CV-------------------\")\n",
    "\n",
    "\n",
    "    for (key, value) in metricsCV\n",
    "        if in(key, [\"accuracy\", \"f1_score\", \"specificity\", \"recall\"])\n",
    "            println(key, \"\\t\", round(value*100, digits = 6))\n",
    "        else\n",
    "            println(key, \"\\t\", value)\n",
    "        end\n",
    "    end\n",
    "\n",
    "    println(\"--------------------------------\")\n",
    "\n",
    "    for (key, value) in metrics\n",
    "        if in(key, [\"accuracy\", \"f1_score\", \"specificity\", \"recall\"])\n",
    "            println(key, \"\\t\", round(value*100, digits = 6))\n",
    "        else\n",
    "            println(key, \"\\t\", value)\n",
    "        end\n",
    "    end\n",
    "end"
   ]
  },
  {
   "cell_type": "code",
   "execution_count": 9,
   "metadata": {},
   "outputs": [
    {
     "name": "stdout",
     "output_type": "stream",
     "text": [
      "-------------rbf-0.1------------------\n",
      "-------------CV-------------------\n",
      "std_recall\t0.0\n",
      "std_specificity\t0.0\n",
      "std_precision\t0.0\n",
      "f1_score\t96.564261\n",
      "specificity\t0.0\n",
      "std_accuracy\t0.0\n",
      "std_f1_score\t0.0\n",
      "accuracy\t93.356766\n",
      "recall\t100.0\n",
      "precision\t0.9335676625659051\n",
      "--------------------------------\n",
      "errorRate\t0.06762266273021234\n",
      "f1_score\t96.500546\n",
      "specificity\t0.0\n",
      "negative_predictive_value\t0.0\n",
      "confusion_matrix\t[6632 481; 0 0]\n",
      "accuracy\t93.237734\n",
      "recall\t100.0\n",
      "precision\t0.9323773372697877\n",
      "-------------rbf-1.0------------------\n",
      "-------------CV-------------------\n",
      "std_recall\t0.0\n",
      "std_specificity\t0.0\n",
      "std_precision\t0.0\n",
      "f1_score\t96.564261\n",
      "specificity\t0.0\n",
      "std_accuracy\t0.0\n",
      "std_f1_score\t0.0\n",
      "accuracy\t93.356766\n",
      "recall\t100.0\n",
      "precision\t0.9335676625659051\n",
      "--------------------------------\n",
      "errorRate\t0.06762266273021234\n",
      "f1_score\t96.500546\n",
      "specificity\t0.0\n",
      "negative_predictive_value\t0.0\n",
      "confusion_matrix\t[6632 481; 0 0]\n",
      "accuracy\t93.237734\n",
      "recall\t100.0\n",
      "precision\t0.9323773372697877\n",
      "-------------rbf-10.0------------------\n",
      "-------------CV-------------------\n",
      "std_recall\t8.418930638175782e-5\n",
      "std_specificity\t0.0\n",
      "std_precision\t5.222261290414659e-6\n",
      "f1_score\t96.562381\n",
      "specificity\t0.0\n",
      "std_accuracy\t7.859641397185764e-5\n",
      "std_f1_score\t4.2048785312152995e-5\n",
      "accuracy\t93.353251\n",
      "recall\t99.996235\n",
      "precision\t0.9335653270996568\n",
      "--------------------------------\n",
      "errorRate\t0.06762266273021234\n",
      "f1_score\t96.500546\n",
      "specificity\t0.0\n",
      "negative_predictive_value\t0.0\n",
      "confusion_matrix\t[6632 481; 0 0]\n",
      "accuracy\t93.237734\n",
      "recall\t100.0\n",
      "precision\t0.9323773372697877\n",
      "-------------poly-0.1------------------\n",
      "-------------CV-------------------\n",
      "std_recall\t8.418930638175782e-5\n",
      "std_specificity\t0.0\n",
      "std_precision\t5.222261290414659e-6\n",
      "f1_score\t96.562381\n",
      "specificity\t0.0\n",
      "std_accuracy\t7.859641397185764e-5\n",
      "std_f1_score\t4.2048785312152995e-5\n",
      "accuracy\t93.353251\n",
      "recall\t99.996235\n",
      "precision\t0.9335653270996568\n",
      "--------------------------------\n",
      "errorRate\t0.06762266273021234\n",
      "f1_score\t96.500546\n",
      "specificity\t0.0\n",
      "negative_predictive_value\t0.0\n",
      "confusion_matrix\t[6632 481; 0 0]\n",
      "accuracy\t93.237734\n",
      "recall\t100.0\n",
      "precision\t0.9323773372697877\n"
     ]
    }
   ],
   "source": [
    "include(\"functions.jl\")\n",
    "svmParameters = Dict(\"modelType\" => :SVM, \"C\" => 1, \"kernel\" => \"linear\", \"degree\" => 3, \"gamma\" => \"scale\")\n",
    "\n",
    "svms = [\n",
    "    (\"rbf\", 0.1),\n",
    "    (\"rbf\", 1.0),\n",
    "    (\"rbf\", 10.0),\n",
    "    (\"poly\", 0.1),\n",
    "    (\"poly\", 1.0),\n",
    "    (\"linear\", 0.1),\n",
    "    (\"linear\", 1.0),\n",
    "    (\"linear\", 10.0),\n",
    "]\n",
    "\n",
    "for (kernel, C) in svms\n",
    "    svmParameters[\"kernel\"] = kernel\n",
    "    svmParameters[\"C\"] = C\n",
    "    metricsCV = (modelCrossValidation(svmParameters[\"modelType\"], svmParameters, train_input, train_output, crossValidationIndexes))\n",
    "    metrics = createAndTrainFinalModel(svmParameters[\"modelType\"], svmParameters, train_input, train_output, test_input, test_output)\n",
    "    println(\"-------------$kernel-$C------------------\")\n",
    "\n",
    "    println(\"-------------CV-------------------\")\n",
    "\n",
    "\n",
    "    for (key, value) in metricsCV\n",
    "        if in(key, [\"accuracy\", \"f1_score\", \"specificity\", \"recall\"])\n",
    "            println(key, \"\\t\", round(value*100, digits = 6))\n",
    "        else\n",
    "            println(key, \"\\t\", value)\n",
    "        end\n",
    "    end\n",
    "\n",
    "    println(\"--------------------------------\")\n",
    "\n",
    "    for (key, value) in metrics\n",
    "        if in(key, [\"accuracy\", \"f1_score\", \"specificity\", \"recall\"])\n",
    "            println(key, \"\\t\", round(value*100, digits = 6))\n",
    "        else\n",
    "            println(key, \"\\t\", value)\n",
    "        end\n",
    "    end\n",
    "end"
   ]
  },
  {
   "cell_type": "code",
   "execution_count": 18,
   "metadata": {},
   "outputs": [
    {
     "data": {
      "text/plain": [
       "Dict{String, Float64} with 10 entries:\n",
       "  \"std_recall\"      => 0.0\n",
       "  \"std_specificity\" => 0.0\n",
       "  \"std_precision\"   => 0.0\n",
       "  \"f1_score\"        => 0.965643\n",
       "  \"specificity\"     => 0.0\n",
       "  \"std_accuracy\"    => 0.0\n",
       "  \"std_f1_score\"    => 0.0\n",
       "  \"accuracy\"        => 0.933568\n",
       "  \"recall\"          => 1.0\n",
       "  \"precision\"       => 0.933568"
      ]
     },
     "execution_count": 18,
     "metadata": {},
     "output_type": "execute_result"
    }
   ],
   "source": [
    "metrics = (modelCrossValidation(knnParameters[\"modelType\"], knnParameters, train_input, train_output, crossValidationIndexes))"
   ]
  },
  {
   "cell_type": "code",
   "execution_count": 19,
   "metadata": {},
   "outputs": [
    {
     "name": "stdout",
     "output_type": "stream",
     "text": [
      "\\begin{tabular}{|c|c|}\n",
      "\\hline\n",
      "Metric & Value \\\\\n",
      "\\hline\n",
      "\\textbf{std_recall} & 0.0 \\\\\n",
      "\\hline\n",
      "\\textbf{std_specificity} & 0.0 \\\\\n",
      "\\hline\n",
      "\\textbf{std_precision} & 0.0 \\\\\n",
      "\\hline\n",
      "\\textbf{f1_score} & 0.9656426104344664 \\\\\n",
      "\\hline\n",
      "\\textbf{specificity} & 0.0 \\\\\n",
      "\\hline\n",
      "\\textbf{std_accuracy} & 0.0 \\\\\n",
      "\\hline\n",
      "\\textbf{std_f1_score} & 0.0 \\\\\n",
      "\\hline\n",
      "\\textbf{accuracy} & 0.9335676625659051 \\\\\n",
      "\\hline\n",
      "\\textbf{recall} & 1.0 \\\\\n",
      "\\hline\n",
      "\\textbf{precision} & 0.9335676625659051 \\\\\n",
      "\\hline\n",
      "\\end{tabular}\n"
     ]
    }
   ],
   "source": [
    "latex_code = metrics_to_latex(metrics)\n",
    "\n",
    "println(latex_code)"
   ]
  },
  {
   "cell_type": "code",
   "execution_count": 17,
   "metadata": {},
   "outputs": [
    {
     "name": "stdout",
     "output_type": "stream",
     "text": [
      "Training 1\n",
      "1.0\n",
      "Training 1\n",
      "1.0\n",
      "Training 1\n",
      "1.0\n",
      "Training 1\n",
      "1.0\n",
      "Training 1\n",
      "1.0\n",
      "(0.9335676625659051, 0.0, 0.06643233743409493, 0.0, 1.0, 0.0, 0.0, 0.0, 0.9335676625659051, 0.0, 0.0, 0.0, 0.9656426104344664, 0.0)\n",
      "Training 1\n",
      "1.0\n",
      "Training 1\n",
      "1.0\n",
      "Training 1\n",
      "1.0\n",
      "Training 1\n",
      "1.0\n",
      "Training 1\n",
      "1.0\n",
      "(0.9335676625659051, 0.0, 0.06643233743409493, 0.0, 1.0, 0.0, 0.0, 0.0, 0.9335676625659051, 0.0, 0.0, 0.0, 0.9656426104344664, 0.0)\n"
     ]
    }
   ],
   "source": [
    "include(\"functions.jl\")\n",
    "\n",
    "#topologies = [[4], [8], [2,4], [12,12]]\n",
    "topologies = [[80], [40, 20]]\n",
    "annParameters = Dict(\"modelType\" => :ANN, \"maxEpochs\" => 1000,\n",
    "    \"learningRate\" => 0.01, \"maxEpochsVal\" => 50,\n",
    "    \"repetitions\" => 1, \"validationRatio\" => 0.1,\n",
    "    \"transferFunctions\" => fill(σ, 2))\n",
    "\n",
    "for topology in topologies\n",
    "    annParameters[\"topology\"] = topology\n",
    "    # testAccuracy, testAccuracyStd, testRecall, testRecallStd = modelCrossValidation(annParameters[\"modelType\"], annParameters, train_input, train_output, crossValidationIndexes)\n",
    "    println(modelCrossValidation(annParameters[\"modelType\"], annParameters, train_input, train_output, crossValidationIndexes))\n",
    "    # println(\"$topology => $testAccuracy, $testAccuracyStd, $testRecall, $testRecallStd\")\n",
    "end\n"
   ]
  },
  {
   "cell_type": "code",
   "execution_count": 16,
   "metadata": {},
   "outputs": [],
   "source": [
    "svmParameters = Dict(\"modelType\" => :SVM, \"degree\" => 3, \"gamma\" => 2, \"kernel\" => \"linear\", \"C\" => 0.6)\n",
    "testAccuracy, testAccuracyStd = modelCrossValidation(svmParameters[\"modelType\"], svmParameters, train_input, vec(train_output), crossValidationIndexes)\n"
   ]
  },
  {
   "cell_type": "code",
   "execution_count": 9,
   "metadata": {},
   "outputs": [],
   "source": [
    "include(\"functions.jl\")\n",
    "\n",
    "dtParameters = Dict(\"maxDepth\" => 8)\n",
    "knnParameters = Dict(\"numNeighboors\" => 7)\n",
    "svmParameters = Dict(\"kernel\" => \"linear\", \"C\" => 0.5, \"degree\" => 3, \"gamma\" => 2)\n",
    "Random.seed!(42)\n",
    "\n",
    "kFolds = 2\n",
    "crossValidationIndexes = crossvalidation(vec(train_output), kFolds)\n",
    "\n",
    "trainClassEnsemble([:DecisionTree, :kNN, :SVM], [dtParameters, knnParameters, svmParameters], (train_input, train_output), crossValidationIndexes)\n"
   ]
  },
  {
   "cell_type": "code",
   "execution_count": 60,
   "metadata": {},
   "outputs": [
    {
     "data": {
      "text/plain": [
       "20-element Vector{Int64}:\n",
       " 1\n",
       " 2\n",
       " 2\n",
       " 3\n",
       " 1\n",
       " 1\n",
       " 3\n",
       " 1\n",
       " 1\n",
       " 3\n",
       " 2\n",
       " 1\n",
       " 2\n",
       " 3\n",
       " 3\n",
       " 2\n",
       " 1\n",
       " 3\n",
       " 2\n",
       " 2"
      ]
     },
     "execution_count": 60,
     "metadata": {},
     "output_type": "execute_result"
    }
   ],
   "source": [
    "function crossvalidation_without_onehot(targets::AbstractArray{<:Any,1}, k::Int64)\n",
    "    # Get the unique classes in the targets vector\n",
    "    classes = unique(targets)\n",
    "    # Initialize the index vector to zeros\n",
    "    idx = Int.(zeros(length(targets)))\n",
    "    \n",
    "    # Iterate over the classes and perform stratified k-fold cross-validation\n",
    "    for class in classes\n",
    "        # Find the indices of the patterns that belong to the current class\n",
    "        classIdx = (targets .== class)\n",
    "        # Count the number of instances in the current class\n",
    "        numInstances = sum(classIdx)\n",
    "        # Check that there are enough instances per class to perform k-fold cross-validation\n",
    "        @assert (numInstances .>= k) \"There are not enough instances per class to perform a $(k)-fold cross-validation\"\n",
    "        # Perform stratified k-fold cross-validation on the patterns that belong to the current class\n",
    "        classFolds = crossvalidation(numInstances, k)\n",
    "        # Update the index vector with the indices of the folds for the current class\n",
    "        idx[classIdx] .= classFolds\n",
    "    end\n",
    "\n",
    "    return idx\n",
    "end\n",
    "\n",
    "# Generate some test data\n",
    "N = 20\n",
    "targets = rand([\"c1\", \"c2\"], N)\n",
    "\n",
    "\n",
    "# Call the crossvalidation function\n",
    "crossvalidation_without_onehot(targets, 3)\n"
   ]
  },
  {
   "cell_type": "code",
   "execution_count": 65,
   "metadata": {},
   "outputs": [
    {
     "data": {
      "text/plain": [
       "1"
      ]
     },
     "execution_count": 65,
     "metadata": {},
     "output_type": "execute_result"
    }
   ],
   "source": [
    "include(\"functions.jl\")\n",
    "\n",
    "crossValidationIndexes = crossvalidation_without_onehot(vec(train_output), 5)\n",
    "minimum(crossValidationIndexes)"
   ]
  },
  {
   "cell_type": "code",
   "execution_count": 47,
   "metadata": {},
   "outputs": [
    {
     "data": {
      "text/plain": [
       "28450×1 BitMatrix:\n",
       " 1\n",
       " 0\n",
       " 0\n",
       " 0\n",
       " 1\n",
       " 0\n",
       " 0\n",
       " 0\n",
       " 0\n",
       " 0\n",
       " 0\n",
       " 0\n",
       " 0\n",
       " ⋮\n",
       " 0\n",
       " 0\n",
       " 0\n",
       " 0\n",
       " 0\n",
       " 0\n",
       " 0\n",
       " 0\n",
       " 0\n",
       " 1\n",
       " 0\n",
       " 0"
      ]
     },
     "execution_count": 47,
     "metadata": {},
     "output_type": "execute_result"
    }
   ],
   "source": [
    "# for class in 1:size(train_output, 2)\n",
    "oneHotEncoding(vec(train_output))"
   ]
  },
  {
   "cell_type": "code",
   "execution_count": 50,
   "metadata": {},
   "outputs": [
    {
     "data": {
      "text/plain": [
       "false"
      ]
     },
     "execution_count": 50,
     "metadata": {},
     "output_type": "execute_result"
    }
   ],
   "source": [
    "train_output isa AbstractArray{<:Any,1}"
   ]
  }
 ],
 "metadata": {
  "kernelspec": {
   "display_name": "Julia 1.9.3",
   "language": "julia",
   "name": "julia-1.9"
  },
  "language_info": {
   "file_extension": ".jl",
   "mimetype": "application/julia",
   "name": "julia",
   "version": "1.9.3"
  }
 },
 "nbformat": 4,
 "nbformat_minor": 5
}
