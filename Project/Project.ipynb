{
 "cells": [
  {
   "cell_type": "code",
   "execution_count": 1,
   "id": "cb44f65c",
   "metadata": {},
   "outputs": [],
   "source": [
    "using CSV\n",
    "using DataFrames\n",
    "using Random\n",
    "\n",
    "include(\"functions.jl\");\n"
   ]
  },
  {
   "cell_type": "code",
   "execution_count": 2,
   "id": "df13c413",
   "metadata": {},
   "outputs": [],
   "source": [
    "using ScikitLearn\n",
    "\n",
    "@sk_import svm:SVC;\n",
    "@sk_import tree:DecisionTreeClassifier;\n",
    "@sk_import ensemble:VotingClassifier\n",
    "@sk_import neighbors: KNeighborsClassifier;\n"
   ]
  },
  {
   "cell_type": "markdown",
   "id": "fd0e83bc",
   "metadata": {},
   "source": [
    "## Read Data"
   ]
  },
  {
   "cell_type": "code",
   "execution_count": 4,
   "id": "d59fb985",
   "metadata": {},
   "outputs": [],
   "source": [
    "file_path = \"datasets/super_simplified_Android_Malware.csv\"\n",
    "\n",
    "data = CSV.File(file_path, header=true) |> DataFrame;"
   ]
  },
  {
   "cell_type": "code",
   "execution_count": 5,
   "id": "dc9fda2c",
   "metadata": {
    "scrolled": true
   },
   "outputs": [
    {
     "data": {
      "text/html": [
       "<div><div style = \"float: left;\"><span>85×16 DataFrame</span></div><div style = \"float: right;\"><span style = \"font-style: italic;\">60 rows omitted</span></div><div style = \"clear: both;\"></div></div><div class = \"data-frame\" style = \"overflow-x: scroll;\"><table class = \"data-frame\" style = \"margin-bottom: 6px;\"><thead><tr class = \"header\"><th class = \"rowNumber\" style = \"font-weight: bold; text-align: right;\">Row</th><th style = \"text-align: left;\">variable</th><th style = \"text-align: left;\">mean</th><th style = \"text-align: left;\">std</th><th style = \"text-align: left;\">min</th><th style = \"text-align: left;\">q25</th><th style = \"text-align: left;\">median</th><th style = \"text-align: left;\">q75</th><th style = \"text-align: left;\">max</th><th style = \"text-align: left;\">sum</th><th style = \"text-align: left;\">nunique</th><th style = \"text-align: left;\">nuniqueall</th><th style = \"text-align: left;\">nmissing</th><th style = \"text-align: left;\">nnonmissing</th><th style = \"text-align: left;\">first</th><th style = \"text-align: left;\">last</th><th style = \"text-align: left;\">eltype</th></tr><tr class = \"subheader headerLastRow\"><th class = \"rowNumber\" style = \"font-weight: bold; text-align: right;\"></th><th title = \"Symbol\" style = \"text-align: left;\">Symbol</th><th title = \"Union{Nothing, Float64}\" style = \"text-align: left;\">Union…</th><th title = \"Union{Nothing, Float64}\" style = \"text-align: left;\">Union…</th><th title = \"Any\" style = \"text-align: left;\">Any</th><th title = \"Union{Nothing, Float64}\" style = \"text-align: left;\">Union…</th><th title = \"Union{Nothing, Float64}\" style = \"text-align: left;\">Union…</th><th title = \"Union{Nothing, Float64}\" style = \"text-align: left;\">Union…</th><th title = \"Any\" style = \"text-align: left;\">Any</th><th title = \"Union{Nothing, Real}\" style = \"text-align: left;\">Union…</th><th title = \"Union{Nothing, Int64}\" style = \"text-align: left;\">Union…</th><th title = \"Int64\" style = \"text-align: left;\">Int64</th><th title = \"Int64\" style = \"text-align: left;\">Int64</th><th title = \"Int64\" style = \"text-align: left;\">Int64</th><th title = \"Any\" style = \"text-align: left;\">Any</th><th title = \"Any\" style = \"text-align: left;\">Any</th><th title = \"DataType\" style = \"text-align: left;\">DataType</th></tr></thead><tbody><tr><td class = \"rowNumber\" style = \"font-weight: bold; text-align: right;\">1</td><td style = \"text-align: left;\">Flow ID</td><td style = \"font-style: italic; text-align: left;\"></td><td style = \"font-style: italic; text-align: left;\"></td><td style = \"text-align: left;\">1.31.173.21-10.42.0.151-80-36854-6</td><td style = \"font-style: italic; text-align: left;\"></td><td style = \"font-style: italic; text-align: left;\"></td><td style = \"font-style: italic; text-align: left;\"></td><td style = \"text-align: left;\">8.8.8.8-10.42.0.211-53-3181-17</td><td style = \"font-style: italic; text-align: left;\"></td><td style = \"text-align: left;\">3502</td><td style = \"text-align: right;\">3502</td><td style = \"text-align: right;\">0</td><td style = \"text-align: right;\">3557</td><td style = \"text-align: left;\">157.240.0.36-10.42.0.211-443-55364-6</td><td style = \"text-align: left;\">10.42.0.211-10.42.0.1-3890-53-17</td><td style = \"text-align: left;\">String</td></tr><tr><td class = \"rowNumber\" style = \"font-weight: bold; text-align: right;\">2</td><td style = \"text-align: left;\"> Source IP</td><td style = \"font-style: italic; text-align: left;\"></td><td style = \"font-style: italic; text-align: left;\"></td><td style = \"text-align: left;\">0.0.0.0</td><td style = \"font-style: italic; text-align: left;\"></td><td style = \"font-style: italic; text-align: left;\"></td><td style = \"font-style: italic; text-align: left;\"></td><td style = \"text-align: left;\">96.6.164.184</td><td style = \"font-style: italic; text-align: left;\"></td><td style = \"text-align: left;\">246</td><td style = \"text-align: right;\">246</td><td style = \"text-align: right;\">0</td><td style = \"text-align: right;\">3557</td><td style = \"text-align: left;\">10.42.0.211</td><td style = \"text-align: left;\">10.42.0.211</td><td style = \"text-align: left;\">String15</td></tr><tr><td class = \"rowNumber\" style = \"font-weight: bold; text-align: right;\">3</td><td style = \"text-align: left;\"> Source Port</td><td style = \"text-align: left;\">39310.9</td><td style = \"text-align: left;\">17860.1</td><td style = \"text-align: left;\">0</td><td style = \"text-align: left;\">34948.0</td><td style = \"text-align: left;\">43520.0</td><td style = \"text-align: left;\">52110.0</td><td style = \"text-align: left;\">65400</td><td style = \"text-align: left;\">139828814</td><td style = \"font-style: italic; text-align: left;\"></td><td style = \"text-align: right;\">3013</td><td style = \"text-align: right;\">0</td><td style = \"text-align: right;\">3557</td><td style = \"text-align: left;\">55364</td><td style = \"text-align: left;\">3890</td><td style = \"text-align: left;\">Int64</td></tr><tr><td class = \"rowNumber\" style = \"font-weight: bold; text-align: right;\">4</td><td style = \"text-align: left;\"> Destination IP</td><td style = \"font-style: italic; text-align: left;\"></td><td style = \"font-style: italic; text-align: left;\"></td><td style = \"text-align: left;\">1.31.173.21</td><td style = \"font-style: italic; text-align: left;\"></td><td style = \"font-style: italic; text-align: left;\"></td><td style = \"font-style: italic; text-align: left;\"></td><td style = \"text-align: left;\">98.139.225.43</td><td style = \"font-style: italic; text-align: left;\"></td><td style = \"text-align: left;\">826</td><td style = \"text-align: right;\">826</td><td style = \"text-align: right;\">0</td><td style = \"text-align: right;\">3557</td><td style = \"text-align: left;\">157.240.0.36</td><td style = \"text-align: left;\">10.42.0.1</td><td style = \"text-align: left;\">String15</td></tr><tr><td class = \"rowNumber\" style = \"font-weight: bold; text-align: right;\">5</td><td style = \"text-align: left;\"> Destination Port</td><td style = \"text-align: left;\">5390.09</td><td style = \"text-align: left;\">14590.5</td><td style = \"text-align: left;\">0.0</td><td style = \"text-align: left;\">80.0</td><td style = \"text-align: left;\">443.0</td><td style = \"text-align: left;\">443.0</td><td style = \"text-align: left;\">60729.0</td><td style = \"text-align: left;\">1.91725e7</td><td style = \"font-style: italic; text-align: left;\"></td><td style = \"text-align: right;\">400</td><td style = \"text-align: right;\">0</td><td style = \"text-align: right;\">3557</td><td style = \"text-align: left;\">443.0</td><td style = \"text-align: left;\">53.0</td><td style = \"text-align: left;\">Float64</td></tr><tr><td class = \"rowNumber\" style = \"font-weight: bold; text-align: right;\">6</td><td style = \"text-align: left;\"> Protocol</td><td style = \"text-align: left;\">8.26061</td><td style = \"text-align: left;\">4.51586</td><td style = \"text-align: left;\">0.0</td><td style = \"text-align: left;\">6.0</td><td style = \"text-align: left;\">6.0</td><td style = \"text-align: left;\">6.0</td><td style = \"text-align: left;\">17.0</td><td style = \"text-align: left;\">29383.0</td><td style = \"font-style: italic; text-align: left;\"></td><td style = \"text-align: right;\">3</td><td style = \"text-align: right;\">0</td><td style = \"text-align: right;\">3557</td><td style = \"text-align: left;\">6.0</td><td style = \"text-align: left;\">17.0</td><td style = \"text-align: left;\">Float64</td></tr><tr><td class = \"rowNumber\" style = \"font-weight: bold; text-align: right;\">7</td><td style = \"text-align: left;\"> Timestamp</td><td style = \"font-style: italic; text-align: left;\"></td><td style = \"font-style: italic; text-align: left;\"></td><td style = \"text-align: left;\">04/07/2017 10:08:16</td><td style = \"font-style: italic; text-align: left;\"></td><td style = \"font-style: italic; text-align: left;\"></td><td style = \"font-style: italic; text-align: left;\"></td><td style = \"text-align: left;\">30/06/2017 12:59:10</td><td style = \"font-style: italic; text-align: left;\"></td><td style = \"text-align: left;\">3332</td><td style = \"text-align: right;\">3332</td><td style = \"text-align: right;\">0</td><td style = \"text-align: right;\">3557</td><td style = \"text-align: left;\">26/06/2017 12:43:14</td><td style = \"text-align: left;\">13/06/2017 08:39:01</td><td style = \"text-align: left;\">String31</td></tr><tr><td class = \"rowNumber\" style = \"font-weight: bold; text-align: right;\">8</td><td style = \"text-align: left;\"> Flow Duration</td><td style = \"text-align: left;\">1.11761e7</td><td style = \"text-align: left;\">2.19812e7</td><td style = \"text-align: left;\">2</td><td style = \"text-align: left;\">48777.0</td><td style = \"text-align: left;\">557126.0</td><td style = \"text-align: left;\">1.08321e7</td><td style = \"text-align: left;\">119977227</td><td style = \"text-align: left;\">39753215647</td><td style = \"font-style: italic; text-align: left;\"></td><td style = \"text-align: right;\">3442</td><td style = \"text-align: right;\">0</td><td style = \"text-align: right;\">3557</td><td style = \"text-align: left;\">65319091</td><td style = \"text-align: left;\">48681</td><td style = \"text-align: left;\">Int64</td></tr><tr><td class = \"rowNumber\" style = \"font-weight: bold; text-align: right;\">9</td><td style = \"text-align: left;\"> Total Fwd Packets</td><td style = \"text-align: left;\">7.5932</td><td style = \"text-align: left;\">59.0075</td><td style = \"text-align: left;\">1</td><td style = \"text-align: left;\">1.0</td><td style = \"text-align: left;\">2.0</td><td style = \"text-align: left;\">5.0</td><td style = \"text-align: left;\">3246</td><td style = \"text-align: left;\">27009</td><td style = \"font-style: italic; text-align: left;\"></td><td style = \"text-align: right;\">97</td><td style = \"text-align: right;\">0</td><td style = \"text-align: right;\">3557</td><td style = \"text-align: left;\">9</td><td style = \"text-align: left;\">1</td><td style = \"text-align: left;\">Int64</td></tr><tr><td class = \"rowNumber\" style = \"font-weight: bold; text-align: right;\">10</td><td style = \"text-align: left;\"> Total Backward Packets</td><td style = \"text-align: left;\">11.0748</td><td style = \"text-align: left;\">159.416</td><td style = \"text-align: left;\">0</td><td style = \"text-align: left;\">0.0</td><td style = \"text-align: left;\">1.0</td><td style = \"text-align: left;\">4.0</td><td style = \"text-align: left;\">8452</td><td style = \"text-align: left;\">39393</td><td style = \"font-style: italic; text-align: left;\"></td><td style = \"text-align: right;\">117</td><td style = \"text-align: right;\">0</td><td style = \"text-align: right;\">3557</td><td style = \"text-align: left;\">9</td><td style = \"text-align: left;\">1</td><td style = \"text-align: left;\">Int64</td></tr><tr><td class = \"rowNumber\" style = \"font-weight: bold; text-align: right;\">11</td><td style = \"text-align: left;\">Total Length of Fwd Packets</td><td style = \"text-align: left;\">665.05</td><td style = \"text-align: left;\">3221.59</td><td style = \"text-align: left;\">0.0</td><td style = \"text-align: left;\">0.0</td><td style = \"text-align: left;\">31.0</td><td style = \"text-align: left;\">424.0</td><td style = \"text-align: left;\">110678.0</td><td style = \"text-align: left;\">2.36558e6</td><td style = \"font-style: italic; text-align: left;\"></td><td style = \"text-align: right;\">824</td><td style = \"text-align: right;\">0</td><td style = \"text-align: right;\">3557</td><td style = \"text-align: left;\">1307.0</td><td style = \"text-align: left;\">30.0</td><td style = \"text-align: left;\">Float64</td></tr><tr><td class = \"rowNumber\" style = \"font-weight: bold; text-align: right;\">12</td><td style = \"text-align: left;\"> Total Length of Bwd Packets</td><td style = \"text-align: left;\">12084.5</td><td style = \"text-align: left;\">2.29701e5</td><td style = \"text-align: left;\">0.0</td><td style = \"text-align: left;\">0.0</td><td style = \"text-align: left;\">17.0</td><td style = \"text-align: left;\">318.0</td><td style = \"text-align: left;\">1.22247e7</td><td style = \"text-align: left;\">4.29846e7</td><td style = \"font-style: italic; text-align: left;\"></td><td style = \"text-align: right;\">989</td><td style = \"text-align: right;\">0</td><td style = \"text-align: right;\">3557</td><td style = \"text-align: left;\">744.0</td><td style = \"text-align: left;\">140.0</td><td style = \"text-align: left;\">Float64</td></tr><tr><td class = \"rowNumber\" style = \"font-weight: bold; text-align: right;\">13</td><td style = \"text-align: left;\"> Fwd Packet Length Max</td><td style = \"text-align: left;\">218.112</td><td style = \"text-align: left;\">380.199</td><td style = \"text-align: left;\">0.0</td><td style = \"text-align: left;\">0.0</td><td style = \"text-align: left;\">31.0</td><td style = \"text-align: left;\">342.0</td><td style = \"text-align: left;\">1460.0</td><td style = \"text-align: left;\">775824.0</td><td style = \"font-style: italic; text-align: left;\"></td><td style = \"text-align: right;\">525</td><td style = \"text-align: right;\">0</td><td style = \"text-align: right;\">3557</td><td style = \"text-align: left;\">981.0</td><td style = \"text-align: left;\">30.0</td><td style = \"text-align: left;\">Float64</td></tr><tr><td style = \"text-align: right;\">&vellip;</td><td style = \"text-align: right;\">&vellip;</td><td style = \"text-align: right;\">&vellip;</td><td style = \"text-align: right;\">&vellip;</td><td style = \"text-align: right;\">&vellip;</td><td style = \"text-align: right;\">&vellip;</td><td style = \"text-align: right;\">&vellip;</td><td style = \"text-align: right;\">&vellip;</td><td style = \"text-align: right;\">&vellip;</td><td style = \"text-align: right;\">&vellip;</td><td style = \"text-align: right;\">&vellip;</td><td style = \"text-align: right;\">&vellip;</td><td style = \"text-align: right;\">&vellip;</td><td style = \"text-align: right;\">&vellip;</td><td style = \"text-align: right;\">&vellip;</td><td style = \"text-align: right;\">&vellip;</td><td style = \"text-align: right;\">&vellip;</td></tr><tr><td class = \"rowNumber\" style = \"font-weight: bold; text-align: right;\">74</td><td style = \"text-align: left;\"> Init_Win_bytes_backward</td><td style = \"text-align: left;\">2316.0</td><td style = \"text-align: left;\">9279.88</td><td style = \"text-align: left;\">-1.0</td><td style = \"text-align: left;\">-1.0</td><td style = \"text-align: left;\">-1.0</td><td style = \"text-align: left;\">370.0</td><td style = \"text-align: left;\">65535.0</td><td style = \"text-align: left;\">8.23802e6</td><td style = \"font-style: italic; text-align: left;\"></td><td style = \"text-align: right;\">469</td><td style = \"text-align: right;\">0</td><td style = \"text-align: right;\">3557</td><td style = \"text-align: left;\">122.0</td><td style = \"text-align: left;\">-1.0</td><td style = \"text-align: left;\">Float64</td></tr><tr><td class = \"rowNumber\" style = \"font-weight: bold; text-align: right;\">75</td><td style = \"text-align: left;\"> act_data_pkt_fwd</td><td style = \"text-align: left;\">1.52713</td><td style = \"text-align: left;\">6.31718</td><td style = \"text-align: left;\">0.0</td><td style = \"text-align: left;\">0.0</td><td style = \"text-align: left;\">0.0</td><td style = \"text-align: left;\">1.0</td><td style = \"text-align: left;\">176.0</td><td style = \"text-align: left;\">5432.0</td><td style = \"font-style: italic; text-align: left;\"></td><td style = \"text-align: right;\">42</td><td style = \"text-align: right;\">0</td><td style = \"text-align: right;\">3557</td><td style = \"text-align: left;\">3.0</td><td style = \"text-align: left;\">0.0</td><td style = \"text-align: left;\">Float64</td></tr><tr><td class = \"rowNumber\" style = \"font-weight: bold; text-align: right;\">76</td><td style = \"text-align: left;\"> min_seg_size_forward</td><td style = \"text-align: left;\">26.9474</td><td style = \"text-align: left;\">6.84316</td><td style = \"text-align: left;\">0.0</td><td style = \"text-align: left;\">20.0</td><td style = \"text-align: left;\">32.0</td><td style = \"text-align: left;\">32.0</td><td style = \"text-align: left;\">44.0</td><td style = \"text-align: left;\">95852.0</td><td style = \"font-style: italic; text-align: left;\"></td><td style = \"text-align: right;\">6</td><td style = \"text-align: right;\">0</td><td style = \"text-align: right;\">3557</td><td style = \"text-align: left;\">32.0</td><td style = \"text-align: left;\">32.0</td><td style = \"text-align: left;\">Float64</td></tr><tr><td class = \"rowNumber\" style = \"font-weight: bold; text-align: right;\">77</td><td style = \"text-align: left;\">Active Mean</td><td style = \"text-align: left;\">1.78008e5</td><td style = \"text-align: left;\">8.92184e5</td><td style = \"text-align: left;\">0.0</td><td style = \"text-align: left;\">0.0</td><td style = \"text-align: left;\">0.0</td><td style = \"text-align: left;\">0.0</td><td style = \"text-align: left;\">1.18162e7</td><td style = \"text-align: left;\">6.33175e8</td><td style = \"font-style: italic; text-align: left;\"></td><td style = \"text-align: right;\">411</td><td style = \"text-align: right;\">0</td><td style = \"text-align: right;\">3557</td><td style = \"text-align: left;\">548872.0</td><td style = \"text-align: left;\">0.0</td><td style = \"text-align: left;\">Float64</td></tr><tr><td class = \"rowNumber\" style = \"font-weight: bold; text-align: right;\">78</td><td style = \"text-align: left;\"> Active Std</td><td style = \"text-align: left;\">15975.8</td><td style = \"text-align: left;\">2.13277e5</td><td style = \"text-align: left;\">0.0</td><td style = \"text-align: left;\">0.0</td><td style = \"text-align: left;\">0.0</td><td style = \"text-align: left;\">0.0</td><td style = \"text-align: left;\">6.65146e6</td><td style = \"text-align: left;\">5.6826e7</td><td style = \"font-style: italic; text-align: left;\"></td><td style = \"text-align: right;\">62</td><td style = \"text-align: right;\">0</td><td style = \"text-align: right;\">3557</td><td style = \"text-align: left;\">0.0</td><td style = \"text-align: left;\">0.0</td><td style = \"text-align: left;\">Float64</td></tr><tr><td class = \"rowNumber\" style = \"font-weight: bold; text-align: right;\">79</td><td style = \"text-align: left;\"> Active Max</td><td style = \"text-align: left;\">1.93012e5</td><td style = \"text-align: left;\">9.57958e5</td><td style = \"text-align: left;\">0.0</td><td style = \"text-align: left;\">0.0</td><td style = \"text-align: left;\">0.0</td><td style = \"text-align: left;\">0.0</td><td style = \"text-align: left;\">1.30253e7</td><td style = \"text-align: left;\">6.86543e8</td><td style = \"font-style: italic; text-align: left;\"></td><td style = \"text-align: right;\">411</td><td style = \"text-align: right;\">0</td><td style = \"text-align: right;\">3557</td><td style = \"text-align: left;\">548872.0</td><td style = \"text-align: left;\">0.0</td><td style = \"text-align: left;\">Float64</td></tr><tr><td class = \"rowNumber\" style = \"font-weight: bold; text-align: right;\">80</td><td style = \"text-align: left;\"> Active Min</td><td style = \"text-align: left;\">1.64973e5</td><td style = \"text-align: left;\">8.73663e5</td><td style = \"text-align: left;\">0.0</td><td style = \"text-align: left;\">0.0</td><td style = \"text-align: left;\">0.0</td><td style = \"text-align: left;\">0.0</td><td style = \"text-align: left;\">1.18162e7</td><td style = \"text-align: left;\">5.8681e8</td><td style = \"font-style: italic; text-align: left;\"></td><td style = \"text-align: right;\">411</td><td style = \"text-align: right;\">0</td><td style = \"text-align: right;\">3557</td><td style = \"text-align: left;\">548872.0</td><td style = \"text-align: left;\">0.0</td><td style = \"text-align: left;\">Float64</td></tr><tr><td class = \"rowNumber\" style = \"font-weight: bold; text-align: right;\">81</td><td style = \"text-align: left;\">Idle Mean</td><td style = \"text-align: left;\">4.20531e6</td><td style = \"text-align: left;\">1.46331e7</td><td style = \"text-align: left;\">0.0</td><td style = \"text-align: left;\">0.0</td><td style = \"text-align: left;\">0.0</td><td style = \"text-align: left;\">0.0</td><td style = \"text-align: left;\">1.19525e8</td><td style = \"text-align: left;\">1.49583e10</td><td style = \"font-style: italic; text-align: left;\"></td><td style = \"text-align: right;\">436</td><td style = \"text-align: right;\">0</td><td style = \"text-align: right;\">3557</td><td style = \"text-align: left;\">6.47702e7</td><td style = \"text-align: left;\">0.0</td><td style = \"text-align: left;\">Float64</td></tr><tr><td class = \"rowNumber\" style = \"font-weight: bold; text-align: right;\">82</td><td style = \"text-align: left;\"> Idle Std</td><td style = \"text-align: left;\">3.39545e5</td><td style = \"text-align: left;\">2.76935e6</td><td style = \"text-align: left;\">0.0</td><td style = \"text-align: left;\">0.0</td><td style = \"text-align: left;\">0.0</td><td style = \"text-align: left;\">0.0</td><td style = \"text-align: left;\">5.97173e7</td><td style = \"text-align: left;\">1.20776e9</td><td style = \"font-style: italic; text-align: left;\"></td><td style = \"text-align: right;\">102</td><td style = \"text-align: right;\">0</td><td style = \"text-align: right;\">3557</td><td style = \"text-align: left;\">0.0</td><td style = \"text-align: left;\">0.0</td><td style = \"text-align: left;\">Float64</td></tr><tr><td class = \"rowNumber\" style = \"font-weight: bold; text-align: right;\">83</td><td style = \"text-align: left;\"> Idle Max</td><td style = \"text-align: left;\">4.50714e6</td><td style = \"text-align: left;\">1.53714e7</td><td style = \"text-align: left;\">0.0</td><td style = \"text-align: left;\">0.0</td><td style = \"text-align: left;\">0.0</td><td style = \"text-align: left;\">0.0</td><td style = \"text-align: left;\">1.19525e8</td><td style = \"text-align: left;\">1.60319e10</td><td style = \"font-style: italic; text-align: left;\"></td><td style = \"text-align: right;\">436</td><td style = \"text-align: right;\">0</td><td style = \"text-align: right;\">3557</td><td style = \"text-align: left;\">6.47702e7</td><td style = \"text-align: left;\">0.0</td><td style = \"text-align: left;\">Float64</td></tr><tr><td class = \"rowNumber\" style = \"font-weight: bold; text-align: right;\">84</td><td style = \"text-align: left;\"> Idle Min</td><td style = \"text-align: left;\">3.94013e6</td><td style = \"text-align: left;\">1.42761e7</td><td style = \"text-align: left;\">0.0</td><td style = \"text-align: left;\">0.0</td><td style = \"text-align: left;\">0.0</td><td style = \"text-align: left;\">0.0</td><td style = \"text-align: left;\">1.19525e8</td><td style = \"text-align: left;\">1.4015e10</td><td style = \"font-style: italic; text-align: left;\"></td><td style = \"text-align: right;\">436</td><td style = \"text-align: right;\">0</td><td style = \"text-align: right;\">3557</td><td style = \"text-align: left;\">6.47702e7</td><td style = \"text-align: left;\">0.0</td><td style = \"text-align: left;\">Float64</td></tr><tr><td class = \"rowNumber\" style = \"font-weight: bold; text-align: right;\">85</td><td style = \"text-align: left;\">Label</td><td style = \"font-style: italic; text-align: left;\"></td><td style = \"font-style: italic; text-align: left;\"></td><td style = \"text-align: left;\">Android_Adware</td><td style = \"font-style: italic; text-align: left;\"></td><td style = \"font-style: italic; text-align: left;\"></td><td style = \"font-style: italic; text-align: left;\"></td><td style = \"text-align: left;\">Benign</td><td style = \"font-style: italic; text-align: left;\"></td><td style = \"text-align: left;\">4</td><td style = \"text-align: right;\">4</td><td style = \"text-align: right;\">0</td><td style = \"text-align: right;\">3557</td><td style = \"text-align: left;\">Android_Scareware</td><td style = \"text-align: left;\">Android_Adware</td><td style = \"text-align: left;\">String31</td></tr></tbody></table></div>"
      ],
      "text/latex": [
       "\\begin{tabular}{r|ccccc}\n",
       "\t& variable & mean & std & min & \\\\\n",
       "\t\\hline\n",
       "\t& Symbol & Union… & Union… & Any & \\\\\n",
       "\t\\hline\n",
       "\t1 & Flow ID &  &  & 1.31.173.21-10.42.0.151-80-36854-6 & $\\dots$ \\\\\n",
       "\t2 &  Source IP &  &  & 0.0.0.0 & $\\dots$ \\\\\n",
       "\t3 &  Source Port & 39310.9 & 17860.1 & 0 & $\\dots$ \\\\\n",
       "\t4 &  Destination IP &  &  & 1.31.173.21 & $\\dots$ \\\\\n",
       "\t5 &  Destination Port & 5390.09 & 14590.5 & 0.0 & $\\dots$ \\\\\n",
       "\t6 &  Protocol & 8.26061 & 4.51586 & 0.0 & $\\dots$ \\\\\n",
       "\t7 &  Timestamp &  &  & 04/07/2017 10:08:16 & $\\dots$ \\\\\n",
       "\t8 &  Flow Duration & 1.11761e7 & 2.19812e7 & 2 & $\\dots$ \\\\\n",
       "\t9 &  Total Fwd Packets & 7.5932 & 59.0075 & 1 & $\\dots$ \\\\\n",
       "\t10 &  Total Backward Packets & 11.0748 & 159.416 & 0 & $\\dots$ \\\\\n",
       "\t11 & Total Length of Fwd Packets & 665.05 & 3221.59 & 0.0 & $\\dots$ \\\\\n",
       "\t12 &  Total Length of Bwd Packets & 12084.5 & 2.29701e5 & 0.0 & $\\dots$ \\\\\n",
       "\t13 &  Fwd Packet Length Max & 218.112 & 380.199 & 0.0 & $\\dots$ \\\\\n",
       "\t14 &  Fwd Packet Length Min & 11.5516 & 49.0984 & 0.0 & $\\dots$ \\\\\n",
       "\t15 &  Fwd Packet Length Mean & 61.798 & 121.927 & 0.0 & $\\dots$ \\\\\n",
       "\t16 &  Fwd Packet Length Std & 83.1331 & 162.312 & 0.0 & $\\dots$ \\\\\n",
       "\t17 & Bwd Packet Length Max & 322.012 & 540.796 & 0.0 & $\\dots$ \\\\\n",
       "\t18 &  Bwd Packet Length Min & 22.6356 & 54.7526 & 0.0 & $\\dots$ \\\\\n",
       "\t19 &  Bwd Packet Length Mean & 168.154 & 309.932 & 0.0 & $\\dots$ \\\\\n",
       "\t20 &  Bwd Packet Length Std & 123.701 & 229.445 & 0.0 & $\\dots$ \\\\\n",
       "\t21 & Flow Bytes/s & 69412.5 & 5.49234e5 & 0.0 & $\\dots$ \\\\\n",
       "\t22 &  Flow Packets/s & 4549.4 & 30499.7 & 0.023608 & $\\dots$ \\\\\n",
       "\t23 &  Flow IAT Mean & 3.09521e6 & 7.85211e6 & 2.0 & $\\dots$ \\\\\n",
       "\t24 &  Flow IAT Std & 2.52525e6 & 6.32145e6 & 0.0 & $\\dots$ \\\\\n",
       "\t25 &  Flow IAT Max & 9.63644e6 & 1.84513e7 & 2.0 & $\\dots$ \\\\\n",
       "\t26 &  Flow IAT Min & 1.9164e6 & 7.18232e6 & -6.0 & $\\dots$ \\\\\n",
       "\t27 & Fwd IAT Total & 7.63331e6 & 1.84059e7 & 0.0 & $\\dots$ \\\\\n",
       "\t28 &  Fwd IAT Mean & 3.12538e6 & 8.22853e6 & 0.0 & $\\dots$ \\\\\n",
       "\t29 &  Fwd IAT Std & 2.01196e6 & 6.24099e6 & 0.0 & $\\dots$ \\\\\n",
       "\t30 &  Fwd IAT Max & 6.30073e6 & 1.43886e7 & 0.0 & $\\dots$ \\\\\n",
       "\t$\\dots$ & $\\dots$ & $\\dots$ & $\\dots$ & $\\dots$ &  \\\\\n",
       "\\end{tabular}\n"
      ],
      "text/plain": [
       "\u001b[1m85×16 DataFrame\u001b[0m\n",
       "\u001b[1m Row \u001b[0m│\u001b[1m variable                     \u001b[0m\u001b[1m mean      \u001b[0m\u001b[1m std       \u001b[0m\u001b[1m min                \u001b[0m ⋯\n",
       "     │\u001b[90m Symbol                       \u001b[0m\u001b[90m Union…    \u001b[0m\u001b[90m Union…    \u001b[0m\u001b[90m Any                \u001b[0m ⋯\n",
       "─────┼──────────────────────────────────────────────────────────────────────────\n",
       "   1 │ Flow ID                      \u001b[90m           \u001b[0m\u001b[90m           \u001b[0m 1.31.173.21-10.42.0 ⋯\n",
       "   2 │  Source IP                   \u001b[90m           \u001b[0m\u001b[90m           \u001b[0m 0.0.0.0\n",
       "   3 │  Source Port                  39310.9    17860.1    0\n",
       "   4 │  Destination IP              \u001b[90m           \u001b[0m\u001b[90m           \u001b[0m 1.31.173.21\n",
       "   5 │  Destination Port             5390.09    14590.5    0.0                 ⋯\n",
       "   6 │  Protocol                     8.26061    4.51586    0.0\n",
       "   7 │  Timestamp                   \u001b[90m           \u001b[0m\u001b[90m           \u001b[0m 04/07/2017 10:08:16\n",
       "   8 │  Flow Duration                1.11761e7  2.19812e7  2\n",
       "   9 │  Total Fwd Packets            7.5932     59.0075    1                   ⋯\n",
       "  10 │  Total Backward Packets       11.0748    159.416    0\n",
       "  11 │ Total Length of Fwd Packets   665.05     3221.59    0.0\n",
       "  ⋮  │              ⋮                    ⋮          ⋮                      ⋮   ⋱\n",
       "  76 │  min_seg_size_forward         26.9474    6.84316    0.0\n",
       "  77 │ Active Mean                   1.78008e5  8.92184e5  0.0                 ⋯\n",
       "  78 │  Active Std                   15975.8    2.13277e5  0.0\n",
       "  79 │  Active Max                   1.93012e5  9.57958e5  0.0\n",
       "  80 │  Active Min                   1.64973e5  8.73663e5  0.0\n",
       "  81 │ Idle Mean                     4.20531e6  1.46331e7  0.0                 ⋯\n",
       "  82 │  Idle Std                     3.39545e5  2.76935e6  0.0\n",
       "  83 │  Idle Max                     4.50714e6  1.53714e7  0.0\n",
       "  84 │  Idle Min                     3.94013e6  1.42761e7  0.0\n",
       "  85 │ Label                        \u001b[90m           \u001b[0m\u001b[90m           \u001b[0m Android_Adware      ⋯\n",
       "\u001b[36m                                                  13 columns and 64 rows omitted\u001b[0m"
      ]
     },
     "execution_count": 5,
     "metadata": {},
     "output_type": "execute_result"
    }
   ],
   "source": [
    "describe(data, :all)"
   ]
  },
  {
   "cell_type": "code",
   "execution_count": 6,
   "id": "931ba1c0",
   "metadata": {},
   "outputs": [
    {
     "name": "stdout",
     "output_type": "stream",
     "text": [
      "Size of dataframe before dropping columns (3557, 85)\n",
      "Adding column  Bwd PSH Flags\n",
      "Adding column  Fwd URG Flags\n",
      "Adding column  Bwd URG Flags\n",
      "Adding column  RST Flag Count\n",
      "Adding column  CWE Flag Count\n",
      "Adding column  ECE Flag Count\n",
      "Adding column Fwd Avg Bytes/Bulk\n",
      "Adding column  Fwd Avg Packets/Bulk\n",
      "Adding column  Fwd Avg Bulk Rate\n",
      "Adding column  Bwd Avg Bytes/Bulk\n",
      "Adding column  Bwd Avg Packets/Bulk\n",
      "Adding column Bwd Avg Bulk Rate\n",
      "Size of dataframe after dropping columns (3557, 71)\n",
      "Size of dataframe after dropping nulls (3557, 71)\n",
      "Size of dataframe after dropping duplicating rows (3557, 71)\n"
     ]
    }
   ],
   "source": [
    "import StatsBase: countmap\n",
    "\n",
    "columns_to_drop = [\"Flow ID\", \" Timestamp\"]\n",
    "columns = names(data)\n",
    "\n",
    "println(\"Size of dataframe before dropping columns $(size(data))\")\n",
    "for column in 1:size(data, 2)\n",
    "    unique_values = countmap(data[:, column])\n",
    "\n",
    "    if length(unique_values) == 1\n",
    "        println(\"Adding column $(columns[column])\")\n",
    "        # println(unique_values)\n",
    "        push!(columns_to_drop, columns[column])\n",
    "    end\n",
    "    \n",
    "end\n",
    "\n",
    "select!(data, Not(columns_to_drop))\n",
    "\n",
    "println(\"Size of dataframe after dropping columns $(size(data))\")\n",
    "\n",
    "dropmissing!(data)\n",
    "\n",
    "println(\"Size of dataframe after dropping nulls $(size(data))\")\n",
    "\n",
    "unique_data = unique(data)\n",
    "\n",
    "println(\"Size of dataframe after dropping duplicating rows $(size(data))\")"
   ]
  },
  {
   "cell_type": "code",
   "execution_count": 7,
   "id": "17e84089",
   "metadata": {},
   "outputs": [
    {
     "data": {
      "text/plain": [
       "Dict{String31, Int64} with 4 entries:\n",
       "  \"Benign\"              => 237\n",
       "  \"Android_Scareware\"   => 1171\n",
       "  \"Android_SMS_Malware\" => 674\n",
       "  \"Android_Adware\"      => 1475"
      ]
     },
     "execution_count": 7,
     "metadata": {},
     "output_type": "execute_result"
    }
   ],
   "source": [
    "countmap(data[:, :Label])"
   ]
  },
  {
   "cell_type": "code",
   "execution_count": 8,
   "id": "df46e110",
   "metadata": {},
   "outputs": [],
   "source": [
    "function ip_to_decimal(ip)\n",
    "    # Split the IP address into octets\n",
    "    octets = split(ip, '.')\n",
    "    # Convert each octet to binary and combine them into a single 32-bit number\n",
    "    binary = join([string(parse(Int, octet, base=10), base=2, pad=8) for octet in octets])\n",
    "    decimal = parse(Int, binary, base=2) # Convert binary to decimal\n",
    "    return decimal\n",
    "end\n",
    "\n",
    "source_ips = data[!, :\" Source IP\"];\n",
    "destination_ips = data[!, :\" Destination IP\"];\n",
    "\n",
    "data[!, :\"Source IP Decimal\"] = map(ip -> ip_to_decimal(ip), source_ips);\n",
    "data[!, :\"Destination IP Decimal\"] = map(ip -> ip_to_decimal(ip), destination_ips);\n",
    "\n",
    "select!(data, Not([\" Source IP\", \" Destination IP\"]));"
   ]
  },
  {
   "cell_type": "code",
   "execution_count": 9,
   "id": "7ae50615",
   "metadata": {},
   "outputs": [
    {
     "data": {
      "text/html": [
       "<div><div style = \"float: left;\"><span>71×7 DataFrame</span></div><div style = \"float: right;\"><span style = \"font-style: italic;\">46 rows omitted</span></div><div style = \"clear: both;\"></div></div><div class = \"data-frame\" style = \"overflow-x: scroll;\"><table class = \"data-frame\" style = \"margin-bottom: 6px;\"><thead><tr class = \"header\"><th class = \"rowNumber\" style = \"font-weight: bold; text-align: right;\">Row</th><th style = \"text-align: left;\">variable</th><th style = \"text-align: left;\">mean</th><th style = \"text-align: left;\">min</th><th style = \"text-align: left;\">median</th><th style = \"text-align: left;\">max</th><th style = \"text-align: left;\">nmissing</th><th style = \"text-align: left;\">eltype</th></tr><tr class = \"subheader headerLastRow\"><th class = \"rowNumber\" style = \"font-weight: bold; text-align: right;\"></th><th title = \"Symbol\" style = \"text-align: left;\">Symbol</th><th title = \"Union{Nothing, Float64}\" style = \"text-align: left;\">Union…</th><th title = \"Any\" style = \"text-align: left;\">Any</th><th title = \"Union{Nothing, Float64}\" style = \"text-align: left;\">Union…</th><th title = \"Any\" style = \"text-align: left;\">Any</th><th title = \"Int64\" style = \"text-align: left;\">Int64</th><th title = \"DataType\" style = \"text-align: left;\">DataType</th></tr></thead><tbody><tr><td class = \"rowNumber\" style = \"font-weight: bold; text-align: right;\">1</td><td style = \"text-align: left;\"> Source Port</td><td style = \"text-align: left;\">39310.9</td><td style = \"text-align: left;\">0</td><td style = \"text-align: left;\">43520.0</td><td style = \"text-align: left;\">65400</td><td style = \"text-align: right;\">0</td><td style = \"text-align: left;\">Int64</td></tr><tr><td class = \"rowNumber\" style = \"font-weight: bold; text-align: right;\">2</td><td style = \"text-align: left;\"> Destination Port</td><td style = \"text-align: left;\">5390.09</td><td style = \"text-align: left;\">0.0</td><td style = \"text-align: left;\">443.0</td><td style = \"text-align: left;\">60729.0</td><td style = \"text-align: right;\">0</td><td style = \"text-align: left;\">Float64</td></tr><tr><td class = \"rowNumber\" style = \"font-weight: bold; text-align: right;\">3</td><td style = \"text-align: left;\"> Protocol</td><td style = \"text-align: left;\">8.26061</td><td style = \"text-align: left;\">0.0</td><td style = \"text-align: left;\">6.0</td><td style = \"text-align: left;\">17.0</td><td style = \"text-align: right;\">0</td><td style = \"text-align: left;\">Float64</td></tr><tr><td class = \"rowNumber\" style = \"font-weight: bold; text-align: right;\">4</td><td style = \"text-align: left;\"> Flow Duration</td><td style = \"text-align: left;\">1.11761e7</td><td style = \"text-align: left;\">2</td><td style = \"text-align: left;\">557126.0</td><td style = \"text-align: left;\">119977227</td><td style = \"text-align: right;\">0</td><td style = \"text-align: left;\">Int64</td></tr><tr><td class = \"rowNumber\" style = \"font-weight: bold; text-align: right;\">5</td><td style = \"text-align: left;\"> Total Fwd Packets</td><td style = \"text-align: left;\">7.5932</td><td style = \"text-align: left;\">1</td><td style = \"text-align: left;\">2.0</td><td style = \"text-align: left;\">3246</td><td style = \"text-align: right;\">0</td><td style = \"text-align: left;\">Int64</td></tr><tr><td class = \"rowNumber\" style = \"font-weight: bold; text-align: right;\">6</td><td style = \"text-align: left;\"> Total Backward Packets</td><td style = \"text-align: left;\">11.0748</td><td style = \"text-align: left;\">0</td><td style = \"text-align: left;\">1.0</td><td style = \"text-align: left;\">8452</td><td style = \"text-align: right;\">0</td><td style = \"text-align: left;\">Int64</td></tr><tr><td class = \"rowNumber\" style = \"font-weight: bold; text-align: right;\">7</td><td style = \"text-align: left;\">Total Length of Fwd Packets</td><td style = \"text-align: left;\">665.05</td><td style = \"text-align: left;\">0.0</td><td style = \"text-align: left;\">31.0</td><td style = \"text-align: left;\">110678.0</td><td style = \"text-align: right;\">0</td><td style = \"text-align: left;\">Float64</td></tr><tr><td class = \"rowNumber\" style = \"font-weight: bold; text-align: right;\">8</td><td style = \"text-align: left;\"> Total Length of Bwd Packets</td><td style = \"text-align: left;\">12084.5</td><td style = \"text-align: left;\">0.0</td><td style = \"text-align: left;\">17.0</td><td style = \"text-align: left;\">1.22247e7</td><td style = \"text-align: right;\">0</td><td style = \"text-align: left;\">Float64</td></tr><tr><td class = \"rowNumber\" style = \"font-weight: bold; text-align: right;\">9</td><td style = \"text-align: left;\"> Fwd Packet Length Max</td><td style = \"text-align: left;\">218.112</td><td style = \"text-align: left;\">0.0</td><td style = \"text-align: left;\">31.0</td><td style = \"text-align: left;\">1460.0</td><td style = \"text-align: right;\">0</td><td style = \"text-align: left;\">Float64</td></tr><tr><td class = \"rowNumber\" style = \"font-weight: bold; text-align: right;\">10</td><td style = \"text-align: left;\"> Fwd Packet Length Min</td><td style = \"text-align: left;\">11.5516</td><td style = \"text-align: left;\">0.0</td><td style = \"text-align: left;\">0.0</td><td style = \"text-align: left;\">1460.0</td><td style = \"text-align: right;\">0</td><td style = \"text-align: left;\">Float64</td></tr><tr><td class = \"rowNumber\" style = \"font-weight: bold; text-align: right;\">11</td><td style = \"text-align: left;\"> Fwd Packet Length Mean</td><td style = \"text-align: left;\">61.798</td><td style = \"text-align: left;\">0.0</td><td style = \"text-align: left;\">27.5</td><td style = \"text-align: left;\">1460.0</td><td style = \"text-align: right;\">0</td><td style = \"text-align: left;\">Float64</td></tr><tr><td class = \"rowNumber\" style = \"font-weight: bold; text-align: right;\">12</td><td style = \"text-align: left;\"> Fwd Packet Length Std</td><td style = \"text-align: left;\">83.1331</td><td style = \"text-align: left;\">0.0</td><td style = \"text-align: left;\">0.0</td><td style = \"text-align: left;\">842.931</td><td style = \"text-align: right;\">0</td><td style = \"text-align: left;\">Float64</td></tr><tr><td class = \"rowNumber\" style = \"font-weight: bold; text-align: right;\">13</td><td style = \"text-align: left;\">Bwd Packet Length Max</td><td style = \"text-align: left;\">322.012</td><td style = \"text-align: left;\">0.0</td><td style = \"text-align: left;\">17.0</td><td style = \"text-align: left;\">1460.0</td><td style = \"text-align: right;\">0</td><td style = \"text-align: left;\">Float64</td></tr><tr><td style = \"text-align: right;\">&vellip;</td><td style = \"text-align: right;\">&vellip;</td><td style = \"text-align: right;\">&vellip;</td><td style = \"text-align: right;\">&vellip;</td><td style = \"text-align: right;\">&vellip;</td><td style = \"text-align: right;\">&vellip;</td><td style = \"text-align: right;\">&vellip;</td><td style = \"text-align: right;\">&vellip;</td></tr><tr><td class = \"rowNumber\" style = \"font-weight: bold; text-align: right;\">60</td><td style = \"text-align: left;\"> min_seg_size_forward</td><td style = \"text-align: left;\">26.9474</td><td style = \"text-align: left;\">0.0</td><td style = \"text-align: left;\">32.0</td><td style = \"text-align: left;\">44.0</td><td style = \"text-align: right;\">0</td><td style = \"text-align: left;\">Float64</td></tr><tr><td class = \"rowNumber\" style = \"font-weight: bold; text-align: right;\">61</td><td style = \"text-align: left;\">Active Mean</td><td style = \"text-align: left;\">1.78008e5</td><td style = \"text-align: left;\">0.0</td><td style = \"text-align: left;\">0.0</td><td style = \"text-align: left;\">1.18162e7</td><td style = \"text-align: right;\">0</td><td style = \"text-align: left;\">Float64</td></tr><tr><td class = \"rowNumber\" style = \"font-weight: bold; text-align: right;\">62</td><td style = \"text-align: left;\"> Active Std</td><td style = \"text-align: left;\">15975.8</td><td style = \"text-align: left;\">0.0</td><td style = \"text-align: left;\">0.0</td><td style = \"text-align: left;\">6.65146e6</td><td style = \"text-align: right;\">0</td><td style = \"text-align: left;\">Float64</td></tr><tr><td class = \"rowNumber\" style = \"font-weight: bold; text-align: right;\">63</td><td style = \"text-align: left;\"> Active Max</td><td style = \"text-align: left;\">1.93012e5</td><td style = \"text-align: left;\">0.0</td><td style = \"text-align: left;\">0.0</td><td style = \"text-align: left;\">1.30253e7</td><td style = \"text-align: right;\">0</td><td style = \"text-align: left;\">Float64</td></tr><tr><td class = \"rowNumber\" style = \"font-weight: bold; text-align: right;\">64</td><td style = \"text-align: left;\"> Active Min</td><td style = \"text-align: left;\">1.64973e5</td><td style = \"text-align: left;\">0.0</td><td style = \"text-align: left;\">0.0</td><td style = \"text-align: left;\">1.18162e7</td><td style = \"text-align: right;\">0</td><td style = \"text-align: left;\">Float64</td></tr><tr><td class = \"rowNumber\" style = \"font-weight: bold; text-align: right;\">65</td><td style = \"text-align: left;\">Idle Mean</td><td style = \"text-align: left;\">4.20531e6</td><td style = \"text-align: left;\">0.0</td><td style = \"text-align: left;\">0.0</td><td style = \"text-align: left;\">1.19525e8</td><td style = \"text-align: right;\">0</td><td style = \"text-align: left;\">Float64</td></tr><tr><td class = \"rowNumber\" style = \"font-weight: bold; text-align: right;\">66</td><td style = \"text-align: left;\"> Idle Std</td><td style = \"text-align: left;\">3.39545e5</td><td style = \"text-align: left;\">0.0</td><td style = \"text-align: left;\">0.0</td><td style = \"text-align: left;\">5.97173e7</td><td style = \"text-align: right;\">0</td><td style = \"text-align: left;\">Float64</td></tr><tr><td class = \"rowNumber\" style = \"font-weight: bold; text-align: right;\">67</td><td style = \"text-align: left;\"> Idle Max</td><td style = \"text-align: left;\">4.50714e6</td><td style = \"text-align: left;\">0.0</td><td style = \"text-align: left;\">0.0</td><td style = \"text-align: left;\">1.19525e8</td><td style = \"text-align: right;\">0</td><td style = \"text-align: left;\">Float64</td></tr><tr><td class = \"rowNumber\" style = \"font-weight: bold; text-align: right;\">68</td><td style = \"text-align: left;\"> Idle Min</td><td style = \"text-align: left;\">3.94013e6</td><td style = \"text-align: left;\">0.0</td><td style = \"text-align: left;\">0.0</td><td style = \"text-align: left;\">1.19525e8</td><td style = \"text-align: right;\">0</td><td style = \"text-align: left;\">Float64</td></tr><tr><td class = \"rowNumber\" style = \"font-weight: bold; text-align: right;\">69</td><td style = \"text-align: left;\">Label</td><td style = \"font-style: italic; text-align: left;\"></td><td style = \"text-align: left;\">Android_Adware</td><td style = \"font-style: italic; text-align: left;\"></td><td style = \"text-align: left;\">Benign</td><td style = \"text-align: right;\">0</td><td style = \"text-align: left;\">String31</td></tr><tr><td class = \"rowNumber\" style = \"font-weight: bold; text-align: right;\">70</td><td style = \"text-align: left;\">Source IP Decimal</td><td style = \"text-align: left;\">3.7389e8</td><td style = \"text-align: left;\">0</td><td style = \"text-align: left;\">1.70525e8</td><td style = \"text-align: left;\">3706972955</td><td style = \"text-align: right;\">0</td><td style = \"text-align: left;\">Int64</td></tr><tr><td class = \"rowNumber\" style = \"font-weight: bold; text-align: right;\">71</td><td style = \"text-align: left;\">Destination IP Decimal</td><td style = \"text-align: left;\">1.65266e9</td><td style = \"text-align: left;\">18853141</td><td style = \"text-align: left;\">1.76149e9</td><td style = \"text-align: left;\">4294967295</td><td style = \"text-align: right;\">0</td><td style = \"text-align: left;\">Int64</td></tr></tbody></table></div>"
      ],
      "text/latex": [
       "\\begin{tabular}{r|ccccccc}\n",
       "\t& variable & mean & min & median & max & nmissing & \\\\\n",
       "\t\\hline\n",
       "\t& Symbol & Union… & Any & Union… & Any & Int64 & \\\\\n",
       "\t\\hline\n",
       "\t1 &  Source Port & 39310.9 & 0 & 43520.0 & 65400 & 0 & $\\dots$ \\\\\n",
       "\t2 &  Destination Port & 5390.09 & 0.0 & 443.0 & 60729.0 & 0 & $\\dots$ \\\\\n",
       "\t3 &  Protocol & 8.26061 & 0.0 & 6.0 & 17.0 & 0 & $\\dots$ \\\\\n",
       "\t4 &  Flow Duration & 1.11761e7 & 2 & 557126.0 & 119977227 & 0 & $\\dots$ \\\\\n",
       "\t5 &  Total Fwd Packets & 7.5932 & 1 & 2.0 & 3246 & 0 & $\\dots$ \\\\\n",
       "\t6 &  Total Backward Packets & 11.0748 & 0 & 1.0 & 8452 & 0 & $\\dots$ \\\\\n",
       "\t7 & Total Length of Fwd Packets & 665.05 & 0.0 & 31.0 & 110678.0 & 0 & $\\dots$ \\\\\n",
       "\t8 &  Total Length of Bwd Packets & 12084.5 & 0.0 & 17.0 & 1.22247e7 & 0 & $\\dots$ \\\\\n",
       "\t9 &  Fwd Packet Length Max & 218.112 & 0.0 & 31.0 & 1460.0 & 0 & $\\dots$ \\\\\n",
       "\t10 &  Fwd Packet Length Min & 11.5516 & 0.0 & 0.0 & 1460.0 & 0 & $\\dots$ \\\\\n",
       "\t11 &  Fwd Packet Length Mean & 61.798 & 0.0 & 27.5 & 1460.0 & 0 & $\\dots$ \\\\\n",
       "\t12 &  Fwd Packet Length Std & 83.1331 & 0.0 & 0.0 & 842.931 & 0 & $\\dots$ \\\\\n",
       "\t13 & Bwd Packet Length Max & 322.012 & 0.0 & 17.0 & 1460.0 & 0 & $\\dots$ \\\\\n",
       "\t14 &  Bwd Packet Length Min & 22.6356 & 0.0 & 0.0 & 443.0 & 0 & $\\dots$ \\\\\n",
       "\t15 &  Bwd Packet Length Mean & 168.154 & 0.0 & 7.75 & 1446.37 & 0 & $\\dots$ \\\\\n",
       "\t16 &  Bwd Packet Length Std & 123.701 & 0.0 & 0.0 & 794.229 & 0 & $\\dots$ \\\\\n",
       "\t17 & Flow Bytes/s & 69412.5 & 0.0 & 74.025 & 1.51429e7 & 0 & $\\dots$ \\\\\n",
       "\t18 &  Flow Packets/s & 4549.4 & 0.023608 & 7.75254 & 1.0e6 & 0 & $\\dots$ \\\\\n",
       "\t19 &  Flow IAT Mean & 3.09521e6 & 2.0 & 223009.0 & 8.47169e7 & 0 & $\\dots$ \\\\\n",
       "\t20 &  Flow IAT Std & 2.52525e6 & 0.0 & 0.0 & 7.34131e7 & 0 & $\\dots$ \\\\\n",
       "\t21 &  Flow IAT Max & 9.63644e6 & 2.0 & 334527.0 & 1.19525e8 & 0 & $\\dots$ \\\\\n",
       "\t22 &  Flow IAT Min & 1.9164e6 & -6.0 & 3064.0 & 8.47169e7 & 0 & $\\dots$ \\\\\n",
       "\t23 & Fwd IAT Total & 7.63331e6 & 0.0 & 260574.0 & 1.19977e8 & 0 & $\\dots$ \\\\\n",
       "\t24 &  Fwd IAT Mean & 3.12538e6 & 0.0 & 47083.7 & 8.47169e7 & 0 & $\\dots$ \\\\\n",
       "\t25 &  Fwd IAT Std & 2.01196e6 & 0.0 & 0.0 & 7.34131e7 & 0 & $\\dots$ \\\\\n",
       "\t26 &  Fwd IAT Max & 6.30073e6 & 0.0 & 134623.0 & 1.19525e8 & 0 & $\\dots$ \\\\\n",
       "\t27 &  Fwd IAT Min & 1.94588e6 & 0.0 & 102.0 & 8.47169e7 & 0 & $\\dots$ \\\\\n",
       "\t28 & Bwd IAT Total & 5.7944e6 & 0.0 & 0.0 & 1.19483e8 & 0 & $\\dots$ \\\\\n",
       "\t29 &  Bwd IAT Mean & 9.55921e5 & 0.0 & 0.0 & 7.21132e7 & 0 & $\\dots$ \\\\\n",
       "\t30 &  Bwd IAT Std & 1.37297e6 & 0.0 & 0.0 & 5.23257e7 & 0 & $\\dots$ \\\\\n",
       "\t$\\dots$ & $\\dots$ & $\\dots$ & $\\dots$ & $\\dots$ & $\\dots$ & $\\dots$ &  \\\\\n",
       "\\end{tabular}\n"
      ],
      "text/plain": [
       "\u001b[1m71×7 DataFrame\u001b[0m\n",
       "\u001b[1m Row \u001b[0m│\u001b[1m variable                     \u001b[0m\u001b[1m mean      \u001b[0m\u001b[1m min            \u001b[0m\u001b[1m median    \u001b[0m\u001b[1m max\u001b[0m ⋯\n",
       "     │\u001b[90m Symbol                       \u001b[0m\u001b[90m Union…    \u001b[0m\u001b[90m Any            \u001b[0m\u001b[90m Union…    \u001b[0m\u001b[90m Any\u001b[0m ⋯\n",
       "─────┼──────────────────────────────────────────────────────────────────────────\n",
       "   1 │  Source Port                  39310.9    0               43520.0    654 ⋯\n",
       "   2 │  Destination Port             5390.09    0.0             443.0      607\n",
       "   3 │  Protocol                     8.26061    0.0             6.0        17.\n",
       "   4 │  Flow Duration                1.11761e7  2               557126.0   119\n",
       "   5 │  Total Fwd Packets            7.5932     1               2.0        324 ⋯\n",
       "   6 │  Total Backward Packets       11.0748    0               1.0        845\n",
       "   7 │ Total Length of Fwd Packets   665.05     0.0             31.0       110\n",
       "   8 │  Total Length of Bwd Packets  12084.5    0.0             17.0       1.2\n",
       "   9 │  Fwd Packet Length Max        218.112    0.0             31.0       146 ⋯\n",
       "  10 │  Fwd Packet Length Min        11.5516    0.0             0.0        146\n",
       "  11 │  Fwd Packet Length Mean       61.798     0.0             27.5       146\n",
       "  ⋮  │              ⋮                    ⋮            ⋮             ⋮          ⋱\n",
       "  62 │  Active Std                   15975.8    0.0             0.0        6.6\n",
       "  63 │  Active Max                   1.93012e5  0.0             0.0        1.3 ⋯\n",
       "  64 │  Active Min                   1.64973e5  0.0             0.0        1.1\n",
       "  65 │ Idle Mean                     4.20531e6  0.0             0.0        1.1\n",
       "  66 │  Idle Std                     3.39545e5  0.0             0.0        5.9\n",
       "  67 │  Idle Max                     4.50714e6  0.0             0.0        1.1 ⋯\n",
       "  68 │  Idle Min                     3.94013e6  0.0             0.0        1.1\n",
       "  69 │ Label                        \u001b[90m           \u001b[0m Android_Adware \u001b[90m           \u001b[0m Ben\n",
       "  70 │ Source IP Decimal             3.7389e8   0               1.70525e8  370\n",
       "  71 │ Destination IP Decimal        1.65266e9  18853141        1.76149e9  429 ⋯\n",
       "\u001b[36m                                                   3 columns and 50 rows omitted\u001b[0m"
      ]
     },
     "execution_count": 9,
     "metadata": {},
     "output_type": "execute_result"
    }
   ],
   "source": [
    "describe(data)"
   ]
  },
  {
   "cell_type": "code",
   "execution_count": 10,
   "id": "39dd6d93",
   "metadata": {},
   "outputs": [],
   "source": [
    "output_data = data[!, :Label];\n",
    "select!(data, Not(:Label))\n",
    "input_data = Matrix(data[!, 1:size(data, 2)]);"
   ]
  },
  {
   "cell_type": "code",
   "execution_count": 11,
   "id": "6e96e530",
   "metadata": {},
   "outputs": [
    {
     "data": {
      "text/plain": [
       "(3557, 70)"
      ]
     },
     "execution_count": 11,
     "metadata": {},
     "output_type": "execute_result"
    }
   ],
   "source": [
    "size(input_data)"
   ]
  },
  {
   "cell_type": "markdown",
   "id": "686acd66",
   "metadata": {},
   "source": [
    "## First approach: binary classification"
   ]
  },
  {
   "cell_type": "code",
   "execution_count": 12,
   "id": "d2856c53",
   "metadata": {},
   "outputs": [],
   "source": [
    "function transform_binary_class(output_data)\n",
    "    binary_labels = output_data .!= \"Benign\"\n",
    "    return binary_labels\n",
    "end\n",
    "\n",
    "binary_labels = transform_binary_class(output_data)\n",
    "@assert binary_labels isa BitVector\n",
    "@assert input_data isa Matrix"
   ]
  },
  {
   "cell_type": "code",
   "execution_count": 13,
   "id": "dbeb7a8d",
   "metadata": {},
   "outputs": [
    {
     "data": {
      "text/plain": [
       "Dict{Bool, Int64} with 2 entries:\n",
       "  0 => 237\n",
       "  1 => 3320"
      ]
     },
     "execution_count": 13,
     "metadata": {},
     "output_type": "execute_result"
    }
   ],
   "source": [
    "countmap(binary_labels)"
   ]
  },
  {
   "cell_type": "markdown",
   "id": "fe441238",
   "metadata": {},
   "source": [
    "### Preprocessing"
   ]
  },
  {
   "cell_type": "code",
   "execution_count": 14,
   "id": "58b7af8e",
   "metadata": {},
   "outputs": [],
   "source": [
    "Random.seed!(42)\n",
    "\n",
    "train_indexes, test_indexes = holdOut(size(input_data, 1), 0.2)\n",
    "\n",
    "train_input = convert(Array{Float32, 2}, input_data[train_indexes, :])\n",
    "train_binary_output = binary_labels[train_indexes]\n",
    "\n",
    "normalizationParameters = calculateMinMaxNormalizationParameters(train_input)\n",
    "\n",
    "normalizeMinMax!(train_input, normalizationParameters)\n",
    "\n",
    "test_input = convert(Array{Float32, 2}, input_data[test_indexes, :])\n",
    "test_binary_output = binary_labels[test_indexes]\n",
    "\n",
    "normalizeMinMax!(test_input, normalizationParameters)\n",
    "\n",
    "@assert size(test_input, 1) == size(test_binary_output, 1)\n",
    "@assert size(train_input, 1) == size(train_binary_output, 1)"
   ]
  },
  {
   "cell_type": "code",
   "execution_count": 15,
   "id": "9eae650a",
   "metadata": {},
   "outputs": [],
   "source": [
    "Random.seed!(42)\n",
    "\n",
    "kFolds = 10\n",
    "crossValidationIndexes = crossvalidation(train_binary_output, kFolds);"
   ]
  },
  {
   "cell_type": "code",
   "execution_count": 16,
   "id": "7adb7ae2",
   "metadata": {},
   "outputs": [
    {
     "data": {
      "text/plain": [
       "generate_latex_table (generic function with 1 method)"
      ]
     },
     "execution_count": 16,
     "metadata": {},
     "output_type": "execute_result"
    }
   ],
   "source": [
    "function generate_latex_table(metrics::Dict{String, <: Any}, final::Bool)\n",
    "    \n",
    "    topology = metrics[\"topology\"]\n",
    "    accuracy = metrics[\"accuracy\"]\n",
    "    recall = metrics[\"recall\"]\n",
    "    specificity = metrics[\"specificity\"]\n",
    "    f1_score = metrics[\"f1_score\"]\n",
    "    \n",
    "    if final\n",
    "        confusion_matrix = metrics[\"confusion_matrix\"]\n",
    "        println(\"$topology & $(round(accuracy*100, digits=2))\\\\%  & $(round(recall*100, digits=2))\\\\%  & $(round(specificity*100, digits=2))\\\\%  & $(round(f1_score*100, digits=2))\\\\% & $confusion_matrix \\\\\\\\\")\n",
    "    else\n",
    "        std_accuracy = metrics[\"std_accuracy\"]\n",
    "        std_recall = metrics[\"std_recall\"]\n",
    "        std_specificity = metrics[\"std_specificity\"]\n",
    "        std_f1_score = metrics[\"std_f1_score\"]\n",
    "        println(\"$topology & $(round(accuracy*100, digits=2))\\\\% \\\\textit{($(round(std_accuracy, digits = 2)))} & $(round(recall*100, digits=2))\\\\% \\\\textit{($(round(std_recall, digits = 2)))} & $(round(specificity*100, digits=2))\\\\% \\\\textit{($(round(std_specificity, digits = 2)))} & $(round(f1_score*100, digits=2))\\\\% \\\\textit{($(round(std_f1_score, digits = 2)))} \\\\\\\\\")\n",
    "    end\n",
    "    \n",
    "end"
   ]
  },
  {
   "cell_type": "markdown",
   "id": "98e9827c",
   "metadata": {},
   "source": [
    "### kNN"
   ]
  },
  {
   "cell_type": "code",
   "execution_count": 17,
   "id": "32e51120",
   "metadata": {},
   "outputs": [
    {
     "name": "stdout",
     "output_type": "stream",
     "text": [
      "3 & 92.79\\% \\textit{(0.01)} & 98.95\\% \\textit{(0.01)} & 1.14\\% \\textit{(0.02)} & 96.26\\% \\textit{(0.0)} \\\\\n",
      "5 & 93.43\\% \\textit{(0.0)} & 99.7\\% \\textit{(0.0)} & 0.0\\% \\textit{(0.0)} & 96.6\\% \\textit{(0.0)} \\\\\n",
      "7 & 93.57\\% \\textit{(0.0)} & 99.85\\% \\textit{(0.0)} & 0.0\\% \\textit{(0.0)} & 96.68\\% \\textit{(0.0)} \\\\\n",
      "10 & 93.67\\% \\textit{(0.0)} & 99.96\\% \\textit{(0.0)} & 0.0\\% \\textit{(0.0)} & 96.73\\% \\textit{(0.0)} \\\\\n",
      "15 & 93.71\\% \\textit{(0.0)} & 100.0\\% \\textit{(0.0)} & 0.0\\% \\textit{(0.0)} & 96.75\\% \\textit{(0.0)} \\\\\n",
      "20 & 93.71\\% \\textit{(0.0)} & 100.0\\% \\textit{(0.0)} & 0.0\\% \\textit{(0.0)} & 96.75\\% \\textit{(0.0)} \\\\\n",
      "----------------------------------------------------------------\n",
      "3 & 90.03\\%  & 97.86\\%  & 1.72\\%  & 94.74\\% & [640 57; 14 1] \\\\\n",
      "5 & 91.43\\%  & 99.54\\%  & 0.0\\%  & 95.52\\% & [651 58; 3 0] \\\\\n",
      "7 & 91.85\\%  & 100.0\\%  & 0.0\\%  & 95.75\\% & [654 58; 0 0] \\\\\n",
      "10 & 91.85\\%  & 100.0\\%  & 0.0\\%  & 95.75\\% & [654 58; 0 0] \\\\\n",
      "15 & 91.85\\%  & 100.0\\%  & 0.0\\%  & 95.75\\% & [654 58; 0 0] \\\\\n",
      "20 & 91.85\\%  & 100.0\\%  & 0.0\\%  & 95.75\\% & [654 58; 0 0] \\\\\n"
     ]
    }
   ],
   "source": [
    "include(\"functions.jl\")\n",
    "knnParameters = Dict(\"modelType\" => :kNN, \"numNeighboors\" => 0)\n",
    "\n",
    "ks = [3 , 5, 7, 10, 15, 20]\n",
    "for k in ks\n",
    "    knnParameters[\"numNeighboors\"] = k\n",
    "    metricsCV = (modelCrossValidation(knnParameters[\"modelType\"], knnParameters, train_input, train_binary_output, crossValidationIndexes))\n",
    "    metricsCV[\"topology\"] = k\n",
    "\n",
    "    generate_latex_table(metricsCV, false)\n",
    "end\n",
    "\n",
    "println(\"----------------------------------------------------------------\")\n",
    "for k in ks\n",
    "    knnParameters[\"numNeighboors\"] = k\n",
    "    metrics = createAndTrainFinalModel(knnParameters[\"modelType\"], knnParameters, train_input, train_binary_output, test_input, test_binary_output)\n",
    "    metrics[\"topology\"] = k\n",
    "\n",
    "    generate_latex_table(metrics, true)\n",
    "end"
   ]
  },
  {
   "cell_type": "markdown",
   "id": "b6e2c7f9",
   "metadata": {},
   "source": [
    "### Decision Tree"
   ]
  },
  {
   "cell_type": "code",
   "execution_count": 18,
   "id": "186efeee",
   "metadata": {},
   "outputs": [
    {
     "name": "stdout",
     "output_type": "stream",
     "text": [
      "3 & 93.22\\% \\textit{(0.01)} & 99.47\\% \\textit{(0.01)} & 0.0\\% \\textit{(0.0)} & 96.49\\% \\textit{(0.0)} \\\\\n",
      "5 & 92.9\\% \\textit{(0.01)} & 99.06\\% \\textit{(0.01)} & 1.11\\% \\textit{(0.02)} & 96.32\\% \\textit{(0.0)} \\\\\n",
      "7 & 92.02\\% \\textit{(0.01)} & 98.09\\% \\textit{(0.01)} & 1.67\\% \\textit{(0.03)} & 95.84\\% \\textit{(0.01)} \\\\\n",
      "10 & 90.65\\% \\textit{(0.01)} & 96.51\\% \\textit{(0.02)} & 3.37\\% \\textit{(0.04)} & 95.08\\% \\textit{(0.01)} \\\\\n",
      "15 & 88.19\\% \\textit{(0.03)} & 93.81\\% \\textit{(0.03)} & 4.51\\% \\textit{(0.05)} & 93.69\\% \\textit{(0.01)} \\\\\n",
      "9223372036854775807 & 86.79\\% \\textit{(0.02)} & 92.24\\% \\textit{(0.02)} & 5.59\\% \\textit{(0.06)} & 92.89\\% \\textit{(0.01)} \\\\\n",
      "----------------------------------------------------------------\n",
      "3 & 91.85\\%  & 100.0\\%  & 0.0\\%  & 95.75\\% & [654 58; 0 0] \\\\\n",
      "5 & 91.71\\%  & 99.85\\%  & 0.0\\%  & 95.68\\% & [653 58; 1 0] \\\\\n",
      "7 & 89.61\\%  & 97.55\\%  & 0.0\\%  & 94.52\\% & [638 58; 16 0] \\\\\n",
      "10 & 88.06\\%  & 95.72\\%  & 1.72\\%  & 93.64\\% & [626 57; 28 1] \\\\\n",
      "15 & 85.25\\%  & 92.66\\%  & 1.72\\%  & 92.03\\% & [606 57; 48 1] \\\\\n",
      "9223372036854775807 & 84.55\\%  & 91.9\\%  & 1.72\\%  & 91.62\\% & [601 57; 53 1] \\\\\n"
     ]
    }
   ],
   "source": [
    "include(\"functions.jl\")\n",
    "dtParameters = Dict(\"modelType\" => :DecisionTree, \"maxDepth\" => 1)\n",
    "\n",
    "depths = [3, 5, 7, 10, 15, typemax(Int)]\n",
    "for depth in depths\n",
    "    dtParameters[\"maxDepth\"] = depth\n",
    "    metricsCV = (modelCrossValidation(dtParameters[\"modelType\"], dtParameters, train_input, train_binary_output, crossValidationIndexes))\n",
    "    metricsCV[\"topology\"] = depth\n",
    "\n",
    "    generate_latex_table(metricsCV, false)\n",
    "\n",
    "end\n",
    "\n",
    "println(\"----------------------------------------------------------------\")\n",
    "\n",
    "for depth in depths\n",
    "    dtParameters[\"maxDepth\"] = depth\n",
    "    metrics = createAndTrainFinalModel(dtParameters[\"modelType\"], dtParameters, train_input, train_binary_output, test_input, test_binary_output)\n",
    "    metrics[\"topology\"] = depth\n",
    "\n",
    "    generate_latex_table(metrics, true)\n",
    "\n",
    "end\n"
   ]
  },
  {
   "cell_type": "markdown",
   "id": "c733bbe6",
   "metadata": {},
   "source": [
    "### SVM"
   ]
  },
  {
   "cell_type": "code",
   "execution_count": 19,
   "id": "1ee5f6b5",
   "metadata": {},
   "outputs": [
    {
     "name": "stdout",
     "output_type": "stream",
     "text": [
      "rbf0.1 & 93.71\\% \\textit{(0.0)} & 100.0\\% \\textit{(0.0)} & 0.0\\% \\textit{(0.0)} & 96.75\\% \\textit{(0.0)} \\\\\n",
      "rbf1.0 & 93.71\\% \\textit{(0.0)} & 100.0\\% \\textit{(0.0)} & 0.0\\% \\textit{(0.0)} & 96.75\\% \\textit{(0.0)} \\\\\n",
      "rbf10.0 & 93.64\\% \\textit{(0.0)} & 99.93\\% \\textit{(0.0)} & 0.0\\% \\textit{(0.0)} & 96.71\\% \\textit{(0.0)} \\\\\n",
      "poly0.1 & 93.71\\% \\textit{(0.0)} & 100.0\\% \\textit{(0.0)} & 0.0\\% \\textit{(0.0)} & 96.75\\% \\textit{(0.0)} \\\\\n",
      "poly1.0 & 93.67\\% \\textit{(0.0)} & 99.96\\% \\textit{(0.0)} & 0.0\\% \\textit{(0.0)} & 96.73\\% \\textit{(0.0)} \\\\\n",
      "linear0.1 & 93.71\\% \\textit{(0.0)} & 100.0\\% \\textit{(0.0)} & 0.0\\% \\textit{(0.0)} & 96.75\\% \\textit{(0.0)} \\\\\n",
      "linear1.0 & 93.71\\% \\textit{(0.0)} & 100.0\\% \\textit{(0.0)} & 0.0\\% \\textit{(0.0)} & 96.75\\% \\textit{(0.0)} \\\\\n",
      "linear10.0 & 93.71\\% \\textit{(0.0)} & 100.0\\% \\textit{(0.0)} & 0.0\\% \\textit{(0.0)} & 96.75\\% \\textit{(0.0)} \\\\\n",
      "----------------------------------------------------------------\n",
      "rbf0.1 & 91.85\\%  & 100.0\\%  & 0.0\\%  & 95.75\\% & [654 58; 0 0] \\\\\n",
      "rbf1.0 & 91.85\\%  & 100.0\\%  & 0.0\\%  & 95.75\\% & [654 58; 0 0] \\\\\n",
      "rbf10.0 & 91.71\\%  & 99.85\\%  & 0.0\\%  & 95.68\\% & [653 58; 1 0] \\\\\n",
      "poly0.1 & 91.85\\%  & 100.0\\%  & 0.0\\%  & 95.75\\% & [654 58; 0 0] \\\\\n",
      "poly1.0 & 91.71\\%  & 99.85\\%  & 0.0\\%  & 95.68\\% & [653 58; 1 0] \\\\\n",
      "linear0.1 & 91.85\\%  & 100.0\\%  & 0.0\\%  & 95.75\\% & [654 58; 0 0] \\\\\n",
      "linear1.0 & 91.85\\%  & 100.0\\%  & 0.0\\%  & 95.75\\% & [654 58; 0 0] \\\\\n",
      "linear10.0 & 91.85\\%  & 100.0\\%  & 0.0\\%  & 95.75\\% & [654 58; 0 0] \\\\\n"
     ]
    }
   ],
   "source": [
    "include(\"functions.jl\")\n",
    "svmParameters = Dict(\"modelType\" => :SVM, \"C\" => 1, \"kernel\" => \"linear\", \"degree\" => 3, \"gamma\" => \"scale\")\n",
    "\n",
    "svms = [\n",
    "    (\"rbf\", 0.1),\n",
    "    (\"rbf\", 1.0),\n",
    "    (\"rbf\", 10.0),\n",
    "    (\"poly\", 0.1),\n",
    "    (\"poly\", 1.0),\n",
    "    (\"linear\", 0.1),\n",
    "    (\"linear\", 1.0),\n",
    "    (\"linear\", 10.0),\n",
    "]\n",
    "\n",
    "for (kernel, C) in svms\n",
    "    svmParameters[\"kernel\"] = kernel\n",
    "    svmParameters[\"C\"] = C\n",
    "    metricsCV = (modelCrossValidation(svmParameters[\"modelType\"], svmParameters, train_input, train_binary_output, crossValidationIndexes))\n",
    "    metricsCV[\"topology\"] = kernel * string(C)\n",
    "\n",
    "    generate_latex_table(metricsCV, false)\n",
    "\n",
    "end\n",
    "\n",
    "println(\"----------------------------------------------------------------\")\n",
    "\n",
    "for (kernel, C) in svms\n",
    "    svmParameters[\"kernel\"] = kernel\n",
    "    svmParameters[\"C\"] = C\n",
    "    metrics = createAndTrainFinalModel(svmParameters[\"modelType\"], svmParameters, train_input, train_binary_output, test_input, test_binary_output)\n",
    "    metrics[\"topology\"] = kernel * string(C)\n",
    "\n",
    "    generate_latex_table(metrics, true)\n",
    "\n",
    "end\n"
   ]
  },
  {
   "cell_type": "markdown",
   "id": "6bb95939",
   "metadata": {},
   "source": [
    "### ANN"
   ]
  },
  {
   "cell_type": "code",
   "execution_count": 15,
   "id": "03f2cb2d",
   "metadata": {},
   "outputs": [
    {
     "name": "stdout",
     "output_type": "stream",
     "text": [
      "[60, 120] & 93.71\\% \\textit{(0.0)} & 100.0\\% \\textit{(0.0)} & 0.0\\% \\textit{(0.0)} & 96.75\\% \\textit{(0.0)} \\\\\n",
      "[80, 50] & 93.71\\% \\textit{(0.0)} & 100.0\\% \\textit{(0.0)} & 0.0\\% \\textit{(0.0)} & 96.75\\% \\textit{(0.0)} \\\\\n",
      "[80, 100] & 93.71\\% \\textit{(0.0)} & 100.0\\% \\textit{(0.0)} & 0.0\\% \\textit{(0.0)} & 96.75\\% \\textit{(0.0)} \\\\\n",
      "[100, 40] & 93.71\\% \\textit{(0.0)} & 100.0\\% \\textit{(0.0)} & 0.0\\% \\textit{(0.0)} & 96.75\\% \\textit{(0.0)} \\\\\n",
      "[60, 120] & 91.85\\%  & 100.0\\%  & 0.0\\%  & 95.75\\% & [654 58; 0 0] \\\\\n",
      "[80, 50] & 91.85\\%  & 100.0\\%  & 0.0\\%  & 95.75\\% & [654 58; 0 0] \\\\\n",
      "[80, 100] & 91.85\\%  & 100.0\\%  & 0.0\\%  & 95.75\\% & [654 58; 0 0] \\\\\n",
      "[100, 40] & 91.85\\%  & 100.0\\%  & 0.0\\%  & 95.75\\% & [654 58; 0 0] \\\\\n"
     ]
    }
   ],
   "source": [
    "include(\"functions.jl\")\n",
    "\n",
    "topologies = [[20], [40], [80], [100], [60, 120], [80, 50], [80, 100], [100, 40]]\n",
    "annParameters = Dict(\"modelType\" => :ANN, \"maxEpochs\" => 200,\n",
    "    \"learningRate\" => 0.01, \"maxEpochsVal\" => 30,\n",
    "    \"repetitions\" => 30, \"validationRatio\" => 0.1,\n",
    "    \"transferFunctions\" => fill(σ, 2))\n",
    "\n",
    "for topology in topologies\n",
    "    annParameters[\"topology\"] = topology\n",
    "    metricsCV = modelCrossValidation(annParameters[\"modelType\"], annParameters, train_input, train_binary_output, crossValidationIndexes)\n",
    "    metricsCV[\"topology\"] = topology \n",
    "\n",
    "    generate_latex_table(metricsCV, false)\n",
    "end\n",
    "\n",
    "for topology in topologies\n",
    "    annParameters[\"topology\"] = topology\n",
    "    metrics = createAndTrainFinalModel(annParameters[\"modelType\"], annParameters, train_input, train_binary_output, test_input, test_binary_output)\n",
    "    metrics[\"topology\"] = topology \n",
    "\n",
    "    generate_latex_table(metrics, true)\n",
    "end"
   ]
  },
  {
   "cell_type": "code",
   "execution_count": 37,
   "id": "90a4c19c",
   "metadata": {},
   "outputs": [
    {
     "name": "stdout",
     "output_type": "stream",
     "text": [
      "(712, 1)\n",
      "(2845, 1)\n",
      "(2560, 1)(712, 1)\n",
      "(712, 1)\n"
     ]
    },
    {
     "data": {
      "text/plain": [
       "Dict{String, Any} with 8 entries:\n",
       "  \"errorRate\"                 => 0.0814607\n",
       "  \"f1_score\"                  => 0.95754\n",
       "  \"specificity\"               => 0.0\n",
       "  \"negative_predictive_value\" => 0.0\n",
       "  \"confusion_matrix\"          => [654 58; 0 0]\n",
       "  \"accuracy\"                  => 0.918539\n",
       "  \"recall\"                    => 1.0\n",
       "  \"precision\"                 => 0.918539"
      ]
     },
     "execution_count": 37,
     "metadata": {},
     "output_type": "execute_result"
    }
   ],
   "source": [
    "include(\"functions.jl\")\n",
    "\n",
    "annParameters = Dict(\"modelType\" => :ANN, \"maxEpochs\" => 1000,\n",
    "    \"learningRate\" => 0.01, \"maxEpochsVal\" => 30,\n",
    "    \"repetitions\" => 30, \"validationRatio\" => 0.1,\n",
    "    \"transferFunctions\" => fill(σ, 2), \"topology\" => [100, 40])\n",
    "metrics = createAndTrainFinalModel(annParameters[\"modelType\"], annParameters, train_input, train_binary_output, test_input, test_binary_output)"
   ]
  },
  {
   "cell_type": "markdown",
   "id": "8597d857",
   "metadata": {},
   "source": [
    "### Ensembles"
   ]
  },
  {
   "cell_type": "code",
   "execution_count": 19,
   "id": "4ca6c8c6",
   "metadata": {},
   "outputs": [
    {
     "name": "stderr",
     "output_type": "stream",
     "text": [
      "WARNING: redefinition of constant VotingClassifier. This may fail, cause incorrect answers, or produce other errors.\n"
     ]
    },
    {
     "data": {
      "text/plain": [
       "PyObject <class 'sklearn.ensemble._voting.VotingClassifier'>"
      ]
     },
     "execution_count": 19,
     "metadata": {},
     "output_type": "execute_result"
    }
   ],
   "source": [
    "@sk_import ensemble:StackingClassifier\n",
    "@sk_import ensemble:VotingClassifier\n"
   ]
  },
  {
   "cell_type": "code",
   "execution_count": 20,
   "id": "3d5ab5f0",
   "metadata": {},
   "outputs": [
    {
     "name": "stdout",
     "output_type": "stream",
     "text": [
      "Dict{String, Any}(\"modelType\" => :DecisionTree, \"maxDepth\" => 5) & 93.67\\% \\textit{(0.0)} & 99.96\\% \\textit{(0.0)} & 0.0\\% \\textit{(0.0)} & 96.73\\% \\textit{(0.0)} \\\\\n",
      "Dict{String, Any}(\"modelType\" => :kNN, \"numNeighboors\" => 3) & 93.67\\% \\textit{(0.0)} & 99.96\\% \\textit{(0.0)} & 0.0\\% \\textit{(0.0)} & 96.73\\% \\textit{(0.0)} \\\\\n",
      "Dict{String, Any}(\"modelType\" => :SVM, \"C\" => 10, \"kernel\" => \"rbf\") & 93.67\\% \\textit{(0.0)} & 99.96\\% \\textit{(0.0)} & 0.0\\% \\textit{(0.0)} & 96.73\\% \\textit{(0.0)} \\\\\n",
      "Dict{String, Any}(\"modelType\" => :DecisionTree, \"maxDepth\" => 5) & 93.04\\% \\textit{(0.01)} & 99.21\\% \\textit{(0.01)} & 1.11\\% \\textit{(0.02)} & 96.39\\% \\textit{(0.01)} \\\\\n",
      "Dict{String, Any}(\"modelType\" => :kNN, \"numNeighboors\" => 3) & 92.62\\% \\textit{(0.01)} & 98.8\\% \\textit{(0.01)} & 0.56\\% \\textit{(0.02)} & 96.16\\% \\textit{(0.01)} \\\\\n",
      "Dict{String, Any}(\"modelType\" => :SVM, \"C\" => 10, \"kernel\" => \"rbf\") & 93.71\\% \\textit{(0.0)} & 100.0\\% \\textit{(0.0)} & 0.0\\% \\textit{(0.0)} & 96.75\\% \\textit{(0.0)} \\\\\n",
      "Dict{String, Any}(\"modelType\" => :DecisionTree, \"maxDepth\" => 5) & 91.85\\%  & 100.0\\%  & 0.0\\%  & 95.75\\% & [654 58; 0 0] \\\\\n",
      "Dict{String, Any}(\"modelType\" => :kNN, \"numNeighboors\" => 3) & 91.85\\%  & 100.0\\%  & 0.0\\%  & 95.75\\% & [654 58; 0 0] \\\\\n",
      "Dict{String, Any}(\"modelType\" => :SVM, \"C\" => 10, \"kernel\" => \"rbf\") & 91.85\\%  & 100.0\\%  & 0.0\\%  & 95.75\\% & [654 58; 0 0] \\\\\n",
      "Dict{String, Any}(\"modelType\" => :DecisionTree, \"maxDepth\" => 5) & 91.71\\%  & 99.85\\%  & 0.0\\%  & 95.68\\% & [653 58; 1 0] \\\\\n",
      "Dict{String, Any}(\"modelType\" => :kNN, \"numNeighboors\" => 3) & 91.15\\%  & 99.24\\%  & 0.0\\%  & 95.37\\% & [649 58; 5 0] \\\\\n",
      "Dict{String, Any}(\"modelType\" => :SVM, \"C\" => 10, \"kernel\" => \"rbf\") & 91.85\\%  & 100.0\\%  & 0.0\\%  & 95.75\\% & [654 58; 0 0] \\\\\n"
     ]
    }
   ],
   "source": [
    "include(\"functions.jl\")\n",
    "\n",
    "dtParameters = Dict(\"modelType\" => :DecisionTree, \"maxDepth\" => 5)\n",
    "knnParameters = Dict(\"modelType\" => :kNN, \"numNeighboors\" => 3)\n",
    "svmParameters = Dict(\"modelType\" => :SVM, \"kernel\" => \"rbf\", \"C\" => 10)\n",
    "Random.seed!(42)\n",
    "\n",
    "ensemble_types = [:VotingHard, :Stacking]\n",
    "final_estimators = [dtParameters, knnParameters, svmParameters]\n",
    "\n",
    "for ensemble_type in ensemble_types\n",
    "    for final_estimator in final_estimators\n",
    "        metricsCV = trainClassEnsemble([:DecisionTree, :kNN, :SVM], [dtParameters, knnParameters, svmParameters], (train_input, train_binary_output), crossValidationIndexes; ensembleType = ensemble_type, final_estimator = final_estimator)\n",
    "        metricsCV[\"topology\"] = final_estimator\n",
    "        generate_latex_table(metricsCV, false)\n",
    "\n",
    "    end\n",
    "end\n",
    "\n",
    "\n",
    "for ensemble_type in ensemble_types\n",
    "    for final_estimator in final_estimators\n",
    "        metrics = createAndTrainFinalEnsemble([:DecisionTree, :kNN, :SVM], [dtParameters, knnParameters, svmParameters], (train_input, train_binary_output), (test_input, test_binary_output); ensembleType = ensemble_type, final_estimator = final_estimator)\n",
    "        metrics[\"topology\"] = final_estimator\n",
    "        generate_latex_table(metrics, true)\n",
    "    end\n",
    "end\n"
   ]
  },
  {
   "cell_type": "markdown",
   "id": "1ae19978",
   "metadata": {},
   "source": [
    "## Second Approach"
   ]
  },
  {
   "cell_type": "markdown",
   "id": "3c364142",
   "metadata": {},
   "source": [
    "### Data balancing"
   ]
  },
  {
   "cell_type": "code",
   "execution_count": 20,
   "id": "1dd74889",
   "metadata": {},
   "outputs": [
    {
     "data": {
      "text/plain": [
       "6640-element BitVector:\n",
       " 1\n",
       " 1\n",
       " 1\n",
       " 0\n",
       " 0\n",
       " 0\n",
       " 1\n",
       " 1\n",
       " 1\n",
       " 1\n",
       " 1\n",
       " 0\n",
       " 0\n",
       " ⋮\n",
       " 1\n",
       " 0\n",
       " 0\n",
       " 0\n",
       " 0\n",
       " 1\n",
       " 1\n",
       " 1\n",
       " 0\n",
       " 1\n",
       " 1\n",
       " 0"
      ]
     },
     "execution_count": 20,
     "metadata": {},
     "output_type": "execute_result"
    }
   ],
   "source": [
    "using MLDataPattern;\n",
    "Random.seed!(42)\n",
    "X_bal, y_bal = oversample((input_data', binary_labels), shuffle = true)\n",
    "X_bal = getobs(X_bal)'\n",
    "y_bal = getobs(y_bal)"
   ]
  },
  {
   "cell_type": "code",
   "execution_count": 21,
   "id": "760629e8",
   "metadata": {},
   "outputs": [
    {
     "data": {
      "text/plain": [
       "Dict{Bool, Int64} with 2 entries:\n",
       "  0 => 3320\n",
       "  1 => 3320"
      ]
     },
     "execution_count": 21,
     "metadata": {},
     "output_type": "execute_result"
    }
   ],
   "source": [
    "countmap(y_bal)"
   ]
  },
  {
   "cell_type": "code",
   "execution_count": 34,
   "id": "c0f40624",
   "metadata": {},
   "outputs": [],
   "source": [
    "Random.seed!(42)\n",
    "\n",
    "train_indexes, test_indexes = holdOut(size(X_bal, 1), 0.2)\n",
    "\n",
    "train_input = convert(Array{Float32, 2}, X_bal[train_indexes, :])\n",
    "train_balanced_binary_output = y_bal[train_indexes]\n",
    "\n",
    "normalizationParameters = calculateMinMaxNormalizationParameters(train_input)\n",
    "\n",
    "normalizeMinMax!(train_input, normalizationParameters)\n",
    "\n",
    "test_input = convert(Array{Float32, 2}, X_bal[test_indexes, :])\n",
    "test_balanced_binary_output = y_bal[test_indexes]\n",
    "\n",
    "normalizeMinMax!(test_input, normalizationParameters)\n",
    "\n",
    "@assert size(test_input, 1) == size(test_balanced_binary_output, 1)\n",
    "@assert size(train_input, 1) == size(train_balanced_binary_output, 1)"
   ]
  },
  {
   "cell_type": "code",
   "execution_count": 22,
   "id": "77679bcd",
   "metadata": {},
   "outputs": [],
   "source": [
    "Random.seed!(42)\n",
    "\n",
    "train_indexes, test_indexes = holdOut(size(X_bal, 1), 0.2)\n",
    "\n",
    "train_input = convert(Array{Float32, 2}, X_bal[train_indexes, :])\n",
    "train_balanced_binary_output = y_bal[train_indexes]\n",
    "\n",
    "normalizationParameters = calculateZeroMeanNormalizationParameters(train_input)\n",
    "\n",
    "normalizeZeroMean!(train_input, normalizationParameters)\n",
    "\n",
    "test_input = convert(Array{Float32, 2}, X_bal[test_indexes, :])\n",
    "test_balanced_binary_output = y_bal[test_indexes]\n",
    "\n",
    "normalizeZeroMean!(test_input, normalizationParameters)\n",
    "\n",
    "@assert size(test_input, 1) == size(test_balanced_binary_output, 1)\n",
    "@assert size(train_input, 1) == size(train_balanced_binary_output, 1)"
   ]
  },
  {
   "cell_type": "code",
   "execution_count": 23,
   "id": "1dbce093",
   "metadata": {},
   "outputs": [],
   "source": [
    "Random.seed!(42)\n",
    "\n",
    "kFolds = 10\n",
    "crossValidationIndexes = crossvalidation(train_balanced_binary_output, kFolds);"
   ]
  },
  {
   "cell_type": "markdown",
   "id": "bb118077",
   "metadata": {},
   "source": [
    "### kNN"
   ]
  },
  {
   "cell_type": "code",
   "execution_count": 24,
   "id": "6da38f99",
   "metadata": {},
   "outputs": [
    {
     "name": "stdout",
     "output_type": "stream",
     "text": [
      "3 & 91.08\\% \\textit{(0.01)} & 82.21\\% \\textit{(0.02)} & 100.0\\% \\textit{(0.0)} & 90.22\\% \\textit{(0.01)} \\\\\n",
      "5 & 87.35\\% \\textit{(0.02)} & 74.78\\% \\textit{(0.03)} & 100.0\\% \\textit{(0.0)} & 85.54\\% \\textit{(0.02)} \\\\\n",
      "7 & 84.19\\% \\textit{(0.01)} & 68.47\\% \\textit{(0.03)} & 100.0\\% \\textit{(0.0)} & 81.25\\% \\textit{(0.02)} \\\\\n",
      "10 & 77.94\\% \\textit{(0.02)} & 56.01\\% \\textit{(0.03)} & 100.0\\% \\textit{(0.0)} & 71.75\\% \\textit{(0.03)} \\\\\n",
      "15 & 71.46\\% \\textit{(0.01)} & 50.08\\% \\textit{(0.02)} & 92.98\\% \\textit{(0.02)} & 63.74\\% \\textit{(0.02)} \\\\\n",
      "20 & 65.38\\% \\textit{(0.02)} & 47.71\\% \\textit{(0.02)} & 83.16\\% \\textit{(0.03)} & 58.01\\% \\textit{(0.02)} \\\\\n",
      "----------------------------------------------------------------\n",
      "3 & 92.32\\%  & 84.45\\%  & 100.0\\%  & 91.57\\% & [554 0; 102 672] \\\\\n",
      "5 & 89.38\\%  & 78.51\\%  & 100.0\\%  & 87.96\\% & [515 0; 141 672] \\\\\n",
      "7 & 86.82\\%  & 73.32\\%  & 100.0\\%  & 84.61\\% & [481 0; 175 672] \\\\\n",
      "10 & 80.72\\%  & 60.98\\%  & 100.0\\%  & 75.76\\% & [400 0; 256 672] \\\\\n",
      "15 & 75.53\\%  & 53.66\\%  & 96.88\\%  & 68.42\\% & [352 21; 304 651] \\\\\n",
      "20 & 68.15\\%  & 47.71\\%  & 88.1\\%  & 59.68\\% & [313 80; 343 592] \\\\\n"
     ]
    }
   ],
   "source": [
    "include(\"functions.jl\")\n",
    "knnParameters = Dict(\"modelType\" => :kNN, \"numNeighboors\" => 0)\n",
    "\n",
    "ks = [3 , 5, 7, 10, 15, 20]\n",
    "for k in ks\n",
    "    knnParameters[\"numNeighboors\"] = k\n",
    "    metricsCV = (modelCrossValidation(knnParameters[\"modelType\"], knnParameters, train_input, train_balanced_binary_output, crossValidationIndexes))\n",
    "    metricsCV[\"topology\"] = k\n",
    "\n",
    "    generate_latex_table(metricsCV, false)\n",
    "end\n",
    "\n",
    "println(\"----------------------------------------------------------------\")\n",
    "for k in ks\n",
    "    knnParameters[\"numNeighboors\"] = k\n",
    "    metrics = createAndTrainFinalModel(knnParameters[\"modelType\"], knnParameters, train_input, train_balanced_binary_output, test_input, test_balanced_binary_output)\n",
    "    metrics[\"topology\"] = k\n",
    "\n",
    "    generate_latex_table(metrics, true)\n",
    "end"
   ]
  },
  {
   "cell_type": "markdown",
   "id": "e35b7157",
   "metadata": {},
   "source": [
    "### Decision Tree"
   ]
  },
  {
   "cell_type": "code",
   "execution_count": 25,
   "id": "76527d80",
   "metadata": {},
   "outputs": [
    {
     "name": "stdout",
     "output_type": "stream",
     "text": [
      "3 & 57.83\\% \\textit{(0.03)} & 37.99\\% \\textit{(0.12)} & 77.8\\% \\textit{(0.1)} & 46.36\\% \\textit{(0.1)} \\\\\n",
      "5 & 64.2\\% \\textit{(0.03)} & 49.59\\% \\textit{(0.14)} & 78.89\\% \\textit{(0.12)} & 57.0\\% \\textit{(0.09)} \\\\\n",
      "7 & 71.61\\% \\textit{(0.03)} & 62.95\\% \\textit{(0.07)} & 80.33\\% \\textit{(0.07)} & 68.85\\% \\textit{(0.04)} \\\\\n",
      "10 & 80.27\\% \\textit{(0.03)} & 66.67\\% \\textit{(0.07)} & 93.96\\% \\textit{(0.04)} & 77.03\\% \\textit{(0.04)} \\\\\n",
      "15 & 90.14\\% \\textit{(0.02)} & 80.6\\% \\textit{(0.04)} & 99.74\\% \\textit{(0.0)} & 89.09\\% \\textit{(0.02)} \\\\\n",
      "nothing & 95.09\\% \\textit{(0.01)} & 90.2\\% \\textit{(0.02)} & 100.0\\% \\textit{(0.0)} & 94.84\\% \\textit{(0.01)} \\\\\n",
      "----------------------------------------------------------------\n",
      "3 & 56.78\\%  & 51.68\\%  & 61.76\\%  & 54.15\\% & [339 257; 317 415] \\\\\n",
      "5 & 62.42\\%  & 42.84\\%  & 81.55\\%  & 52.97\\% & [281 124; 375 548] \\\\\n",
      "7 & 70.11\\%  & 73.63\\%  & 66.67\\%  & 70.87\\% & [483 224; 173 448] \\\\\n",
      "10 & 79.89\\%  & 60.67\\%  & 98.66\\%  & 74.88\\% & [398 9; 258 663] \\\\\n",
      "15 & 89.46\\%  & 78.66\\%  & 100.0\\%  & 88.05\\% & [516 0; 140 672] \\\\\n",
      "nothing & 95.33\\%  & 90.55\\%  & 100.0\\%  & 95.04\\% & [594 0; 62 672] \\\\\n"
     ]
    }
   ],
   "source": [
    "include(\"functions.jl\")\n",
    "dtParameters = Dict(\"modelType\" => :DecisionTree, \"maxDepth\" => 1)\n",
    "\n",
    "depths = [3, 5, 7, 10, 15, nothing]\n",
    "for depth in depths\n",
    "    dtParameters[\"maxDepth\"] = depth\n",
    "    metricsCV = (modelCrossValidation(dtParameters[\"modelType\"], dtParameters, train_input, train_balanced_binary_output, crossValidationIndexes))\n",
    "    metricsCV[\"topology\"] = depth\n",
    "\n",
    "    generate_latex_table(metricsCV, false)\n",
    "\n",
    "end\n",
    "\n",
    "println(\"----------------------------------------------------------------\")\n",
    "\n",
    "for depth in depths\n",
    "    dtParameters[\"maxDepth\"] = depth\n",
    "    metrics = createAndTrainFinalModel(dtParameters[\"modelType\"], dtParameters, train_input, train_balanced_binary_output, test_input, test_balanced_binary_output)\n",
    "    metrics[\"topology\"] = depth\n",
    "\n",
    "    generate_latex_table(metrics, true)\n",
    "\n",
    "end\n"
   ]
  },
  {
   "cell_type": "markdown",
   "id": "e61f225a",
   "metadata": {},
   "source": [
    "### SVM"
   ]
  },
  {
   "cell_type": "code",
   "execution_count": null,
   "id": "fa41a482",
   "metadata": {},
   "outputs": [
    {
     "name": "stdout",
     "output_type": "stream",
     "text": [
      "rbf & 0.1 & 56.87\\% \\textit{(0.02)} & 64.72\\% \\textit{(0.02)} & 48.98\\% \\textit{(0.04)} & 60.09\\% \\textit{(0.01)} \\\\\n",
      "rbf & 1.0 & 64.1\\% \\textit{(0.03)} & 59.05\\% \\textit{(0.04)} & 69.18\\% \\textit{(0.04)} & 62.22\\% \\textit{(0.03)} \\\\\n",
      "rbf & 10.0 & 72.23\\% \\textit{(0.02)} & 66.22\\% \\textit{(0.03)} & 78.28\\% \\textit{(0.05)} & 70.53\\% \\textit{(0.02)} \\\\\n",
      "poly & 0.1 & 56.64\\% \\textit{(0.02)} & 92.42\\% \\textit{(0.02)} & 20.65\\% \\textit{(0.03)} & 68.14\\% \\textit{(0.01)} \\\\\n",
      "poly & 1.0 & 62.54\\% \\textit{(0.01)} & 76.54\\% \\textit{(0.02)} & 48.45\\% \\textit{(0.04)} & 67.2\\% \\textit{(0.01)} \\\\\n",
      "linear & 0.1 & 57.29\\% \\textit{(0.02)} & 64.53\\% \\textit{(0.03)} & 50.0\\% \\textit{(0.04)} & 60.24\\% \\textit{(0.02)} \\\\\n",
      "linear & 1.0 & 58.0\\% \\textit{(0.02)} & 64.49\\% \\textit{(0.02)} & 51.47\\% \\textit{(0.05)} & 60.64\\% \\textit{(0.02)} \\\\\n",
      "linear & 10.0 & 58.23\\% \\textit{(0.02)} & 64.72\\% \\textit{(0.03)} & 51.7\\% \\textit{(0.05)} & 60.84\\% \\textit{(0.02)} \\\\\n",
      "----------------------------------------------------------------\n",
      "rbf & 0.1 & 58.06\\%  & 66.62\\%  & 49.7\\%  & 61.08\\% & [437 338; 219 334] \\\\\n",
      "rbf & 1.0 & 66.11\\%  & 60.37\\%  & 71.73\\%  & 63.77\\% & [396 190; 260 482] \\\\\n",
      "rbf & 10.0 & 73.19\\%  & 65.24\\%  & 80.95\\%  & 70.63\\% & [428 128; 228 544] \\\\\n",
      "poly & 0.1 & 56.33\\%  & 92.38\\%  & 21.13\\%  & 67.63\\% & [606 530; 50 142] \\\\\n",
      "poly & 1.0 & 64.38\\%  & 76.22\\%  & 52.83\\%  & 67.89\\% & [500 317; 156 355] \\\\\n",
      "linear & 0.1 & 58.96\\%  & 67.53\\%  & 50.6\\%  & 61.91\\% & [443 332; 213 340] \\\\\n",
      "linear & 1.0 & 59.49\\%  & 66.77\\%  & 52.38\\%  & 61.95\\% & [438 320; 218 352] \\\\\n",
      "linear & 10.0 & 60.09\\%  & 66.62\\%  & 53.72\\%  & 62.25\\% & [437 311; 219 361] \\\\\n"
     ]
    }
   ],
   "source": [
    "include(\"functions.jl\")\n",
    "svmParameters = Dict(\"modelType\" => :SVM, \"C\" => 1, \"kernel\" => \"linear\", \"degree\" => 3, \"gamma\" => \"scale\")\n",
    "\n",
    "svms = [\n",
    "    (\"rbf\", 0.1),\n",
    "    (\"rbf\", 1.0),\n",
    "    (\"rbf\", 10.0),\n",
    "    (\"poly\", 0.1),\n",
    "    (\"poly\", 1.0),\n",
    "    (\"linear\", 0.1),\n",
    "    (\"linear\", 1.0),\n",
    "    (\"linear\", 10.0),\n",
    "]\n",
    "\n",
    "for (kernel, C) in svms\n",
    "    svmParameters[\"kernel\"] = kernel\n",
    "    svmParameters[\"C\"] = C\n",
    "    metricsCV = (modelCrossValidation(svmParameters[\"modelType\"], svmParameters, train_input, train_balanced_binary_output, crossValidationIndexes))\n",
    "    metricsCV[\"topology\"] = kernel * \" & \" * string(C)\n",
    "\n",
    "    generate_latex_table(metricsCV, false)\n",
    "\n",
    "end\n",
    "\n",
    "println(\"----------------------------------------------------------------\")\n",
    "\n",
    "for (kernel, C) in svms\n",
    "    svmParameters[\"kernel\"] = kernel\n",
    "    svmParameters[\"C\"] = C\n",
    "    metrics = createAndTrainFinalModel(svmParameters[\"modelType\"], svmParameters, train_input, train_balanced_binary_output, test_input, test_balanced_binary_output)\n",
    "    metrics[\"topology\"] = kernel * \" & \" * string(C)\n",
    "\n",
    "    generate_latex_table(metrics, true)\n",
    "\n",
    "end\n"
   ]
  },
  {
   "cell_type": "markdown",
   "id": "10e56685",
   "metadata": {},
   "source": [
    "### ANN"
   ]
  },
  {
   "cell_type": "code",
   "execution_count": 18,
   "id": "2eb78240",
   "metadata": {},
   "outputs": [
    {
     "name": "stdout",
     "output_type": "stream",
     "text": [
      "[20] & 60.11\\% \\textit{(0.02)} & 59.0\\% \\textit{(0.03)} & 61.23\\% \\textit{(0.02)} & 59.34\\% \\textit{(0.02)} \\\\\n",
      "[40] & 57.89\\% \\textit{(0.01)} & 58.06\\% \\textit{(0.01)} & 57.71\\% \\textit{(0.04)} & 56.52\\% \\textit{(0.01)} \\\\\n"
     ]
    }
   ],
   "source": [
    "include(\"functions.jl\")\n",
    "\n",
    "topologies = [[20], [40], [80], [100], [60, 120], [80, 50], [80, 100], [100, 40]]\n",
    "annParameters = Dict(\"modelType\" => :ANN, \"maxEpochs\" => 200,\n",
    "    \"learningRate\" => 0.01, \"maxEpochsVal\" => 30,\n",
    "    \"repetitions\" => 30, \"validationRatio\" => 0.1,\n",
    "    \"transferFunctions\" => fill(σ, 2))\n",
    "\n",
    "for topology in topologies\n",
    "    annParameters[\"topology\"] = topology\n",
    "    metricsCV = modelCrossValidation(annParameters[\"modelType\"], annParameters, train_input, train_balanced_binary_output, crossValidationIndexes)\n",
    "    metricsCV[\"topology\"] = topology \n",
    "\n",
    "    generate_latex_table(metricsCV, false)\n",
    "end\n",
    "\n",
    "for topology in topologies\n",
    "    annParameters[\"topology\"] = topology\n",
    "    metrics = createAndTrainFinalModel(annParameters[\"modelType\"], annParameters, train_input, train_balanced_binary_output, test_input, test_balanced_binary_output)\n",
    "    metrics[\"topology\"] = topology \n",
    "\n",
    "    generate_latex_table(metrics, true)\n",
    "end"
   ]
  },
  {
   "cell_type": "code",
   "execution_count": 103,
   "id": "d5db9cbe",
   "metadata": {},
   "outputs": [
    {
     "ename": "LoadError",
     "evalue": "AssertionError: size(trainingInputs, 1) == length(trainingTargets)",
     "output_type": "error",
     "traceback": [
      "AssertionError: size(trainingInputs, 1) == length(trainingTargets)",
      "",
      "Stacktrace:",
      " [1] createAndTrainFinalModel(modelType::Symbol, modelHyperparameters::Dict{String, Any}, trainingInputs::Matrix{Float32}, trainingTargets::BitVector, testInputs::Matrix{Float32}, testTargets::BitVector)",
      "   @ Main ~/MIA_ML1/Project/functions.jl:796",
      " [2] top-level scope",
      "   @ In[103]:1"
     ]
    }
   ],
   "source": [
    "metrics = createAndTrainFinalModel(annParameters[\"modelType\"], annParameters, train_input, train_balanced_binary_output, test_input, test_balanced_binary_output)"
   ]
  },
  {
   "cell_type": "markdown",
   "id": "54f92d53",
   "metadata": {},
   "source": [
    "### Ensembles"
   ]
  },
  {
   "cell_type": "code",
   "execution_count": 115,
   "id": "8d5ba34e",
   "metadata": {},
   "outputs": [
    {
     "name": "stdout",
     "output_type": "stream",
     "text": [
      "Dict{String, Any}(\"modelType\" => :DecisionTree, \"maxDepth\" => 9223372036854775807) & 92.32\\% \\textit{(0.01)} & 84.69\\% \\textit{(0.01)} & 100.0\\% \\textit{(0.0)} & 91.7\\% \\textit{(0.01)} \\\\\n",
      "Dict{String, Any}(\"modelType\" => :DecisionTree, \"maxDepth\" => 9223372036854775807) & 95.9\\% \\textit{(0.01)} & 97.82\\% \\textit{(0.01)} & 93.96\\% \\textit{(0.03)} & 96.0\\% \\textit{(0.01)} \\\\\n",
      "Dict{String, Any}(\"modelType\" => :kNN, \"numNeighboors\" => 3) & 98.19\\% \\textit{(0.01)} & 97.75\\% \\textit{(0.01)} & 98.64\\% \\textit{(0.01)} & 98.19\\% \\textit{(0.01)} \\\\\n",
      "Dict{String, Any}(\"modelType\" => :SVM, \"C\" => 10, \"kernel\" => \"rbf\") & 98.87\\% \\textit{(0.0)} & 97.75\\% \\textit{(0.01)} & 100.0\\% \\textit{(0.0)} & 98.86\\% \\textit{(0.0)} \\\\\n",
      "Dict{String, Any}(\"modelType\" => :DecisionTree, \"maxDepth\" => 9223372036854775807) & 93.83\\%  & 87.5\\%  & 100.0\\%  & 93.33\\% & [574 0; 82 672] \\\\\n",
      "Dict{String, Any}(\"modelType\" => :DecisionTree, \"maxDepth\" => 9223372036854775807) & 94.28\\%  & 97.87\\%  & 90.77\\%  & 94.41\\% & [642 62; 14 610] \\\\\n",
      "Dict{String, Any}(\"modelType\" => :kNN, \"numNeighboors\" => 3) & 97.74\\%  & 97.71\\%  & 97.77\\%  & 97.71\\% & [641 15; 15 657] \\\\\n",
      "Dict{String, Any}(\"modelType\" => :SVM, \"C\" => 10, \"kernel\" => \"rbf\") & 98.64\\%  & 97.26\\%  & 100.0\\%  & 98.61\\% & [638 0; 18 672] \\\\\n"
     ]
    }
   ],
   "source": [
    "include(\"functions.jl\")\n",
    "\n",
    "dtParameters = Dict(\"modelType\" => :DecisionTree, \"maxDepth\" => typemax(Int))\n",
    "knnParameters = Dict(\"modelType\" => :kNN, \"numNeighboors\" => 3)\n",
    "svmParameters = Dict(\"modelType\" => :SVM, \"kernel\" => \"rbf\", \"C\" => 10)\n",
    "Random.seed!(42)\n",
    "\n",
    "ensemble_types = [:VotingHard, :Stacking]\n",
    "final_estimators = [dtParameters, knnParameters, svmParameters]\n",
    "\n",
    "for ensemble_type in ensemble_types\n",
    "    for final_estimator in final_estimators\n",
    "        metricsCV = trainClassEnsemble([:DecisionTree, :kNN, :SVM], [dtParameters, knnParameters, svmParameters], (train_input, train_balanced_binary_output), crossValidationIndexes; ensembleType = ensemble_type, final_estimator = final_estimator)\n",
    "        metricsCV[\"topology\"] = final_estimator\n",
    "        generate_latex_table(metricsCV, false)\n",
    "\n",
    "        if ensemble_type == :VotingHard\n",
    "            break\n",
    "        end\n",
    "\n",
    "    end\n",
    "end\n",
    "\n",
    "\n",
    "for ensemble_type in ensemble_types\n",
    "    for final_estimator in final_estimators\n",
    "        metrics = createAndTrainFinalEnsemble([:DecisionTree, :kNN, :SVM], [dtParameters, knnParameters, svmParameters], (train_input, train_balanced_binary_output), (test_input, test_balanced_binary_output); ensembleType = ensemble_type, final_estimator = final_estimator)\n",
    "        metrics[\"topology\"] = final_estimator\n",
    "        generate_latex_table(metrics, true)\n",
    "\n",
    "        if ensemble_type == :VotingHard\n",
    "            break\n",
    "        end\n",
    "    end\n",
    "end\n"
   ]
  },
  {
   "cell_type": "markdown",
   "id": "6bed922f",
   "metadata": {},
   "source": [
    "## Third approach: multiclass classification"
   ]
  },
  {
   "cell_type": "code",
   "execution_count": 39,
   "id": "8a39ae4f",
   "metadata": {},
   "outputs": [
    {
     "data": {
      "text/plain": [
       "5900-element PooledArrays.PooledVector{String31, UInt32, Vector{UInt32}}:\n",
       " \"Benign\"\n",
       " \"Android_Adware\"\n",
       " \"Android_Scareware\"\n",
       " \"Android_Scareware\"\n",
       " \"Android_SMS_Malware\"\n",
       " \"Benign\"\n",
       " \"Android_Adware\"\n",
       " \"Android_SMS_Malware\"\n",
       " \"Android_SMS_Malware\"\n",
       " \"Android_Adware\"\n",
       " \"Android_Scareware\"\n",
       " \"Benign\"\n",
       " \"Benign\"\n",
       " ⋮\n",
       " \"Benign\"\n",
       " \"Benign\"\n",
       " \"Android_Adware\"\n",
       " \"Android_Adware\"\n",
       " \"Android_SMS_Malware\"\n",
       " \"Android_SMS_Malware\"\n",
       " \"Android_Scareware\"\n",
       " \"Android_Scareware\"\n",
       " \"Android_Scareware\"\n",
       " \"Android_SMS_Malware\"\n",
       " \"Android_Adware\"\n",
       " \"Android_Adware\""
      ]
     },
     "execution_count": 39,
     "metadata": {},
     "output_type": "execute_result"
    }
   ],
   "source": [
    "using MLDataPattern;\n",
    "Random.seed!(42)\n",
    "X_bal, y_bal = oversample((input_data', output_data), shuffle = true)\n",
    "X_bal = getobs(X_bal)'\n",
    "y_bal = getobs(y_bal)"
   ]
  },
  {
   "cell_type": "code",
   "execution_count": 40,
   "id": "29cc1e3e",
   "metadata": {},
   "outputs": [
    {
     "data": {
      "text/plain": [
       "Dict{String31, Int64} with 4 entries:\n",
       "  \"Benign\"              => 1475\n",
       "  \"Android_Scareware\"   => 1475\n",
       "  \"Android_SMS_Malware\" => 1475\n",
       "  \"Android_Adware\"      => 1475"
      ]
     },
     "execution_count": 40,
     "metadata": {},
     "output_type": "execute_result"
    }
   ],
   "source": [
    "countmap(y_bal)"
   ]
  },
  {
   "cell_type": "code",
   "execution_count": 41,
   "id": "f2dbf757",
   "metadata": {},
   "outputs": [],
   "source": [
    "Random.seed!(42)\n",
    "\n",
    "train_indexes, test_indexes = holdOut(size(X_bal, 1), 0.2)\n",
    "\n",
    "train_input = convert(Array{Float32, 2}, X_bal[train_indexes, :])\n",
    "train_balanced_output = y_bal[train_indexes]\n",
    "\n",
    "normalizationParameters = calculateMinMaxNormalizationParameters(train_input)\n",
    "\n",
    "normalizeMinMax!(train_input, normalizationParameters)\n",
    "\n",
    "test_input = convert(Array{Float32, 2}, X_bal[test_indexes, :])\n",
    "test_balanced_output = y_bal[test_indexes]\n",
    "\n",
    "normalizeMinMax!(test_input, normalizationParameters)\n",
    "\n",
    "@assert size(test_input, 1) == size(test_balanced_output, 1)\n",
    "@assert size(train_input, 1) == size(train_balanced_output, 1)"
   ]
  },
  {
   "cell_type": "code",
   "execution_count": 42,
   "id": "b9e5af8c",
   "metadata": {},
   "outputs": [],
   "source": [
    "Random.seed!(42)\n",
    "\n",
    "kFolds = 10\n",
    "crossValidationIndexes = crossvalidation(train_balanced_output, kFolds);"
   ]
  },
  {
   "cell_type": "markdown",
   "id": "3969ed35",
   "metadata": {},
   "source": [
    "### kNN"
   ]
  },
  {
   "cell_type": "code",
   "execution_count": 17,
   "id": "c01c2241",
   "metadata": {},
   "outputs": [
    {
     "name": "stdout",
     "output_type": "stream",
     "text": [
      "3 & 56.4\\% \\textit{(0.02)} & 56.4\\% \\textit{(0.02)} & 85.44\\% \\textit{(0.01)} & 54.53\\% \\textit{(0.02)} \\\\\n",
      "5 & 51.44\\% \\textit{(0.02)} & 51.44\\% \\textit{(0.02)} & 83.8\\% \\textit{(0.01)} & 49.21\\% \\textit{(0.02)} \\\\\n",
      "7 & 47.99\\% \\textit{(0.03)} & 47.99\\% \\textit{(0.03)} & 82.65\\% \\textit{(0.01)} & 46.02\\% \\textit{(0.03)} \\\\\n",
      "10 & 42.48\\% \\textit{(0.02)} & 42.48\\% \\textit{(0.02)} & 80.82\\% \\textit{(0.01)} & 41.2\\% \\textit{(0.02)} \\\\\n",
      "15 & 38.64\\% \\textit{(0.01)} & 38.64\\% \\textit{(0.01)} & 79.54\\% \\textit{(0.0)} & 37.91\\% \\textit{(0.01)} \\\\\n",
      "20 & 38.41\\% \\textit{(0.02)} & 38.41\\% \\textit{(0.02)} & 79.47\\% \\textit{(0.01)} & 37.77\\% \\textit{(0.02)} \\\\\n",
      "----------------------------------------------------------------\n",
      "3 & 58.47\\%  & 58.47\\%  & 86.23\\%  & 56.74\\% & [121 78 64 42; 70 120 55 38; 35 78 152 30; 0 0 0 297] \\\\\n",
      "5 & 53.81\\%  & 53.81\\%  & 84.65\\%  & 51.37\\% & [85 71 85 64; 55 117 62 49; 38 61 152 44; 4 8 4 281] \\\\\n",
      "7 & 51.1\\%  & 51.1\\%  & 83.74\\%  & 48.84\\% & [88 64 68 85; 50 115 54 64; 38 59 134 64; 4 19 8 266] \\\\\n",
      "10 & 42.03\\%  & 42.03\\%  & 80.68\\%  & 40.64\\% & [72 72 57 104; 58 100 52 73; 46 44 124 81; 23 35 39 200] \\\\\n",
      "15 & 38.39\\%  & 38.39\\%  & 79.48\\%  & 37.31\\% & [70 76 70 89; 57 98 51 77; 49 50 107 89; 31 43 45 178] \\\\\n",
      "20 & 38.56\\%  & 38.56\\%  & 79.56\\%  & 37.49\\% & [69 85 65 86; 56 99 57 71; 59 56 106 74; 31 48 37 181] \\\\\n"
     ]
    }
   ],
   "source": [
    "include(\"functions.jl\")\n",
    "knnParameters = Dict(\"modelType\" => :kNN, \"numNeighboors\" => 0)\n",
    "\n",
    "ks = [3 , 5, 7, 10, 15, 20]\n",
    "for k in ks\n",
    "    knnParameters[\"numNeighboors\"] = k\n",
    "    metricsCV = (modelCrossValidation(knnParameters[\"modelType\"], knnParameters, train_input, train_balanced_output, crossValidationIndexes))\n",
    "    metricsCV[\"topology\"] = k\n",
    "\n",
    "    generate_latex_table(metricsCV, false)\n",
    "end\n",
    "\n",
    "println(\"----------------------------------------------------------------\")\n",
    "for k in ks\n",
    "    knnParameters[\"numNeighboors\"] = k\n",
    "    metrics = createAndTrainFinalModel(knnParameters[\"modelType\"], knnParameters, train_input, train_balanced_output, test_input, test_balanced_output)\n",
    "    metrics[\"topology\"] = k\n",
    "\n",
    "    generate_latex_table(metrics, true)\n",
    "end"
   ]
  },
  {
   "cell_type": "markdown",
   "id": "cce47151",
   "metadata": {},
   "source": [
    "### Decision Tree"
   ]
  },
  {
   "cell_type": "code",
   "execution_count": 18,
   "id": "c14619e1",
   "metadata": {},
   "outputs": [
    {
     "name": "stdout",
     "output_type": "stream",
     "text": [
      "3 & 31.44\\% \\textit{(0.02)} & 31.44\\% \\textit{(0.02)} & 77.11\\% \\textit{(0.01)} & 28.49\\% \\textit{(0.03)} \\\\\n",
      "5 & 34.75\\% \\textit{(0.02)} & 34.75\\% \\textit{(0.02)} & 78.23\\% \\textit{(0.01)} & 32.44\\% \\textit{(0.02)} \\\\\n",
      "7 & 39.05\\% \\textit{(0.03)} & 39.05\\% \\textit{(0.03)} & 79.65\\% \\textit{(0.01)} & 37.49\\% \\textit{(0.03)} \\\\\n",
      "10 & 48.71\\% \\textit{(0.02)} & 48.71\\% \\textit{(0.02)} & 82.87\\% \\textit{(0.01)} & 48.08\\% \\textit{(0.03)} \\\\\n",
      "15 & 62.16\\% \\textit{(0.04)} & 62.16\\% \\textit{(0.04)} & 87.38\\% \\textit{(0.01)} & 61.43\\% \\textit{(0.03)} \\\\\n",
      "9223372036854775807 & 69.98\\% \\textit{(0.02)} & 69.98\\% \\textit{(0.02)} & 89.99\\% \\textit{(0.01)} & 68.65\\% \\textit{(0.02)} \\\\\n",
      "----------------------------------------------------------------\n",
      "3 & 32.29\\%  & 32.29\\%  & 77.45\\%  & 30.71\\% & [39 68 77 121; 54 83 45 101; 34 51 100 110; 36 58 44 159] \\\\\n",
      "5 & 33.05\\%  & 33.05\\%  & 77.33\\%  & 30.8\\% & [95 23 69 118; 108 26 43 106; 70 18 101 106; 84 7 38 168] \\\\\n",
      "7 & 40.0\\%  & 40.0\\%  & 79.72\\%  & 39.11\\% & [110 36 75 84; 104 60 48 71; 68 21 131 75; 82 17 27 171] \\\\\n",
      "10 & 48.98\\%  & 48.98\\%  & 82.91\\%  & 47.88\\% & [110 69 39 87; 80 96 33 74; 52 30 138 75; 36 26 1 234] \\\\\n",
      "15 & 63.56\\%  & 63.56\\%  & 87.88\\%  & 61.96\\% & [125 84 48 48; 77 125 48 33; 23 22 219 31; 0 16 0 281] \\\\\n",
      "9223372036854775807 & 73.14\\%  & 73.14\\%  & 91.01\\%  & 71.67\\% & [175 71 39 20; 88 127 45 23; 16 6 264 9; 0 0 0 297] \\\\\n"
     ]
    }
   ],
   "source": [
    "include(\"functions.jl\")\n",
    "dtParameters = Dict(\"modelType\" => :DecisionTree, \"maxDepth\" => 1)\n",
    "\n",
    "depths = [3, 5, 7, 10, 15, typemax(Int)]\n",
    "for depth in depths\n",
    "    dtParameters[\"maxDepth\"] = depth\n",
    "    metricsCV = (modelCrossValidation(dtParameters[\"modelType\"], dtParameters, train_input, train_balanced_output, crossValidationIndexes))\n",
    "    metricsCV[\"topology\"] = depth\n",
    "\n",
    "    generate_latex_table(metricsCV, false)\n",
    "\n",
    "end\n",
    "\n",
    "println(\"----------------------------------------------------------------\")\n",
    "\n",
    "for depth in depths\n",
    "    dtParameters[\"maxDepth\"] = depth\n",
    "    metrics = createAndTrainFinalModel(dtParameters[\"modelType\"], dtParameters, train_input, train_balanced_output, test_input, test_balanced_output)\n",
    "    metrics[\"topology\"] = depth\n",
    "\n",
    "    generate_latex_table(metrics, true)\n",
    "\n",
    "end\n"
   ]
  },
  {
   "cell_type": "markdown",
   "id": "1ee98d00",
   "metadata": {},
   "source": [
    "### SVM"
   ]
  },
  {
   "cell_type": "code",
   "execution_count": 19,
   "id": "cfd155b0",
   "metadata": {},
   "outputs": [
    {
     "name": "stdout",
     "output_type": "stream",
     "text": [
      "rbf & 0.1 & 30.93\\% \\textit{(0.02)} & 30.93\\% \\textit{(0.02)} & 76.86\\% \\textit{(0.01)} & 27.12\\% \\textit{(0.01)} \\\\\n",
      "rbf & 1.0 & 33.07\\% \\textit{(0.02)} & 33.07\\% \\textit{(0.02)} & 77.6\\% \\textit{(0.01)} & 30.79\\% \\textit{(0.02)} \\\\\n",
      "rbf & 10.0 & 37.9\\% \\textit{(0.02)} & 37.9\\% \\textit{(0.02)} & 79.26\\% \\textit{(0.01)} & 37.06\\% \\textit{(0.02)} \\\\\n",
      "poly & 0.1 & 31.04\\% \\textit{(0.01)} & 31.04\\% \\textit{(0.01)} & 76.84\\% \\textit{(0.0)} & 27.22\\% \\textit{(0.01)} \\\\\n",
      "poly & 1.0 & 34.87\\% \\textit{(0.02)} & 34.87\\% \\textit{(0.02)} & 78.19\\% \\textit{(0.01)} & 32.8\\% \\textit{(0.02)} \\\\\n",
      "linear & 0.1 & 30.87\\% \\textit{(0.01)} & 30.87\\% \\textit{(0.01)} & 76.84\\% \\textit{(0.0)} & 27.77\\% \\textit{(0.01)} \\\\\n",
      "linear & 1.0 & 31.67\\% \\textit{(0.01)} & 31.67\\% \\textit{(0.01)} & 77.12\\% \\textit{(0.0)} & 28.94\\% \\textit{(0.01)} \\\\\n",
      "linear & 10.0 & 31.93\\% \\textit{(0.02)} & 31.93\\% \\textit{(0.02)} & 77.21\\% \\textit{(0.01)} & 30.06\\% \\textit{(0.02)} \\\\\n",
      "----------------------------------------------------------------\n",
      "rbf & 0.1 & 30.59\\%  & 30.59\\%  & 77.32\\%  & 26.58\\% & [7 128 74 96; 5 148 60 70; 6 118 85 86; 3 108 65 121] \\\\\n",
      "rbf & 1.0 & 33.31\\%  & 33.31\\%  & 78.11\\%  & 30.89\\% & [29 119 59 98; 21 141 52 69; 26 107 81 81; 16 96 43 142] \\\\\n",
      "rbf & 10.0 & 37.71\\%  & 37.71\\%  & 79.42\\%  & 36.97\\% & [66 105 63 71; 57 127 45 54; 43 91 98 63; 35 69 39 154] \\\\\n",
      "poly & 0.1 & 30.85\\%  & 30.85\\%  & 77.62\\%  & 27.69\\% & [31 189 37 48; 19 193 36 35; 22 166 54 53; 17 164 30 86] \\\\\n",
      "poly & 1.0 & 35.68\\%  & 35.68\\%  & 78.98\\%  & 33.55\\% & [41 144 41 79; 26 163 37 57; 32 123 74 66; 17 110 27 143] \\\\\n",
      "linear & 0.1 & 28.9\\%  & 28.9\\%  & 76.73\\%  & 25.4\\% & [11 132 64 98; 11 148 54 70; 19 122 67 87; 12 113 57 115] \\\\\n",
      "linear & 1.0 & 30.51\\%  & 30.51\\%  & 77.23\\%  & 27.73\\% & [17 129 68 91; 16 145 62 60; 24 113 89 69; 16 106 66 109] \\\\\n",
      "linear & 10.0 & 30.68\\%  & 30.68\\%  & 77.27\\%  & 28.63\\% & [28 131 57 89; 25 148 55 55; 31 119 83 62; 33 110 51 103] \\\\\n"
     ]
    }
   ],
   "source": [
    "include(\"functions.jl\")\n",
    "svmParameters = Dict(\"modelType\" => :SVM, \"C\" => 1, \"kernel\" => \"linear\", \"degree\" => 3, \"gamma\" => \"scale\")\n",
    "\n",
    "svms = [\n",
    "    (\"rbf\", 0.1),\n",
    "    (\"rbf\", 1.0),\n",
    "    (\"rbf\", 10.0),\n",
    "    (\"poly\", 0.1),\n",
    "    (\"poly\", 1.0),\n",
    "    (\"linear\", 0.1),\n",
    "    (\"linear\", 1.0),\n",
    "    (\"linear\", 10.0),\n",
    "]\n",
    "\n",
    "for (kernel, C) in svms\n",
    "    svmParameters[\"kernel\"] = kernel\n",
    "    svmParameters[\"C\"] = C\n",
    "    metricsCV = (modelCrossValidation(svmParameters[\"modelType\"], svmParameters, train_input, train_balanced_output, crossValidationIndexes))\n",
    "    metricsCV[\"topology\"] = kernel * \" & \" * string(C)\n",
    "\n",
    "    generate_latex_table(metricsCV, false)\n",
    "\n",
    "end\n",
    "\n",
    "println(\"----------------------------------------------------------------\")\n",
    "\n",
    "for (kernel, C) in svms\n",
    "    svmParameters[\"kernel\"] = kernel\n",
    "    svmParameters[\"C\"] = C\n",
    "    metrics = createAndTrainFinalModel(svmParameters[\"modelType\"], svmParameters, train_input, train_balanced_output, test_input, test_balanced_output)\n",
    "    metrics[\"topology\"] = kernel * \" & \" * string(C)\n",
    "\n",
    "    generate_latex_table(metrics, true)\n",
    "\n",
    "end\n"
   ]
  },
  {
   "cell_type": "markdown",
   "id": "a2278767",
   "metadata": {},
   "source": [
    "### ANN"
   ]
  },
  {
   "cell_type": "code",
   "execution_count": 81,
   "id": "fba7717e",
   "metadata": {},
   "outputs": [
    {
     "name": "stdout",
     "output_type": "stream",
     "text": [
      "[20] & 74.96\\% \\textit{(0.0)} & 0.35\\% \\textit{(0.0)} & 99.84\\% \\textit{(0.0)} & 0.69\\% \\textit{(0.0)} \\\\\n",
      "[40] & 74.98\\% \\textit{(0.0)} & 0.5\\% \\textit{(0.0)} & 99.81\\% \\textit{(0.0)} & 0.98\\% \\textit{(0.0)} \\\\\n",
      "[80] & 74.96\\% \\textit{(0.0)} & 0.53\\% \\textit{(0.0)} & 99.77\\% \\textit{(0.0)} & 1.04\\% \\textit{(0.0)} \\\\\n",
      "[100] & 74.95\\% \\textit{(0.0)} & 0.59\\% \\textit{(0.0)} & 99.73\\% \\textit{(0.0)} & 1.15\\% \\textit{(0.0)} \\\\\n",
      "[60, 120] & 74.94\\% \\textit{(0.0)} & 0.61\\% \\textit{(0.0)} & 99.71\\% \\textit{(0.0)} & 1.17\\% \\textit{(0.0)} \\\\\n",
      "[80, 50] & 74.98\\% \\textit{(0.0)} & 0.15\\% \\textit{(0.0)} & 99.92\\% \\textit{(0.0)} & 0.3\\% \\textit{(0.0)} \\\\\n",
      "[80, 100] & 74.93\\% \\textit{(0.0)} & 0.59\\% \\textit{(0.0)} & 99.71\\% \\textit{(0.0)} & 1.11\\% \\textit{(0.0)} \\\\\n",
      "[100, 40] & 74.99\\% \\textit{(0.0)} & 0.15\\% \\textit{(0.0)} & 99.93\\% \\textit{(0.0)} & 0.3\\% \\textit{(0.0)} \\\\\n",
      "[20] & 74.85\\%  & 0.42\\%  & 99.66\\%  & 0.84\\% & [5 12; 1175 3528] \\\\\n",
      "[40] & 74.72\\%  & 0.17\\%  & 99.58\\%  & 0.33\\% & [2 15; 1178 3525] \\\\\n",
      "[80] & 74.7\\%  & 0.34\\%  & 99.49\\%  & 0.67\\% & [4 18; 1176 3522] \\\\\n",
      "[100] & 74.39\\%  & 0.25\\%  & 99.1\\%  & 0.49\\% & [3 32; 1177 3508] \\\\\n",
      "[60, 120] & 75.0\\%  & 0.0\\%  & 100.0\\%  & 0.0\\% & [0 0; 1180 3540] \\\\\n",
      "[80, 50] & 74.77\\%  & 0.17\\%  & 99.63\\%  & 0.33\\% & [2 13; 1178 3527] \\\\\n",
      "[80, 100] & 75.0\\%  & 0.0\\%  & 100.0\\%  & 0.0\\% & [0 0; 1180 3540] \\\\\n",
      "[100, 40] & 75.0\\%  & 0.0\\%  & 100.0\\%  & 0.0\\% & [0 0; 1180 3540] \\\\\n"
     ]
    }
   ],
   "source": [
    "include(\"functions.jl\")\n",
    "\n",
    "topologies = [[20], [40], [80], [100], [60, 120], [80, 50], [80, 100], [100, 40]]\n",
    "annParameters = Dict(\"modelType\" => :ANN, \"maxEpochs\" => 200,\n",
    "    \"learningRate\" => 0.01, \"maxEpochsVal\" => 30,\n",
    "    \"repetitions\" => 30, \"validationRatio\" => 0.1,\n",
    "    \"transferFunctions\" => fill(σ, 2))\n",
    "\n",
    "for topology in topologies\n",
    "    annParameters[\"topology\"] = topology\n",
    "    metricsCV = modelCrossValidation(annParameters[\"modelType\"], annParameters, train_input, train_balanced_output, crossValidationIndexes)\n",
    "    metricsCV[\"topology\"] = topology \n",
    "\n",
    "    generate_latex_table(metricsCV, false)\n",
    "end\n",
    "\n",
    "for topology in topologies\n",
    "    annParameters[\"topology\"] = topology\n",
    "    metrics = createAndTrainFinalModel(annParameters[\"modelType\"], annParameters, train_input, train_balanced_output, test_input, test_balanced_output)\n",
    "    metrics[\"topology\"] = topology \n",
    "\n",
    "    generate_latex_table(metrics, true)\n",
    "end"
   ]
  },
  {
   "cell_type": "code",
   "execution_count": 43,
   "id": "35c802e0",
   "metadata": {},
   "outputs": [
    {
     "name": "stdout",
     "output_type": "stream",
     "text": [
      "(1180, 4)\n",
      "(4720, 4)\n",
      "(4248, 4)(1180, 4)\n",
      "(1180, 4)\n"
     ]
    },
    {
     "data": {
      "text/plain": [
       "Dict{String, Any} with 8 entries:\n",
       "  \"errorRate\"                 => 0.749153\n",
       "  \"f1_score\"                  => 0.169678\n",
       "  \"specificity\"               => 0.749049\n",
       "  \"negative_predictive_value\" => 0.747199\n",
       "  \"confusion_matrix\"          => [0 4 113 188; 0 0 85 198; 0 1 133 161; 0 6 128…\n",
       "  \"accuracy\"                  => 0.250847\n",
       "  \"recall\"                    => 0.250847\n",
       "  \"precision\"                 => 0.130224"
      ]
     },
     "execution_count": 43,
     "metadata": {},
     "output_type": "execute_result"
    }
   ],
   "source": [
    "include(\"functions.jl\")\n",
    "\n",
    "annParameters = Dict(\"modelType\" => :ANN, \"maxEpochs\" => 1000,\n",
    "    \"learningRate\" => 0.01, \"maxEpochsVal\" => 30,\n",
    "    \"repetitions\" => 30, \"validationRatio\" => 0.1,\n",
    "    \"transferFunctions\" => fill(σ, 2), \"topology\" => [100, 40])\n",
    "metrics = createAndTrainFinalModel(annParameters[\"modelType\"], annParameters, train_input, train_balanced_output, test_input, test_balanced_output)"
   ]
  },
  {
   "cell_type": "code",
   "execution_count": 88,
   "id": "be4662d3",
   "metadata": {},
   "outputs": [
    {
     "data": {
      "text/plain": [
       "1180-element PooledArrays.PooledVector{String31, UInt32, Vector{UInt32}}:\n",
       " \"Android_Scareware\"\n",
       " \"Android_Scareware\"\n",
       " \"Android_Adware\"\n",
       " \"Android_Adware\"\n",
       " \"Android_SMS_Malware\"\n",
       " \"Android_Scareware\"\n",
       " \"Benign\"\n",
       " \"Android_Scareware\"\n",
       " \"Android_Adware\"\n",
       " \"Benign\"\n",
       " \"Android_Adware\"\n",
       " \"Android_SMS_Malware\"\n",
       " \"Benign\"\n",
       " ⋮\n",
       " \"Android_SMS_Malware\"\n",
       " \"Android_SMS_Malware\"\n",
       " \"Android_Adware\"\n",
       " \"Android_SMS_Malware\"\n",
       " \"Android_Adware\"\n",
       " \"Android_Scareware\"\n",
       " \"Android_Scareware\"\n",
       " \"Android_Adware\"\n",
       " \"Android_Scareware\"\n",
       " \"Benign\"\n",
       " \"Android_Scareware\"\n",
       " \"Android_Scareware\""
      ]
     },
     "execution_count": 88,
     "metadata": {},
     "output_type": "execute_result"
    }
   ],
   "source": [
    "test_balanced_output"
   ]
  },
  {
   "cell_type": "markdown",
   "id": "300c7f51",
   "metadata": {},
   "source": [
    "### Ensembles"
   ]
  },
  {
   "cell_type": "code",
   "execution_count": 61,
   "id": "84d6e7f6",
   "metadata": {},
   "outputs": [
    {
     "name": "stdout",
     "output_type": "stream",
     "text": [
      "Dict{String, Any}(\"modelType\" => :DecisionTree, \"maxDepth\" => 9223372036854775807) & 61.82\\% \\textit{(0.02)} & 61.82\\% \\textit{(0.02)} & 87.22\\% \\textit{(0.01)} & 60.26\\% \\textit{(0.02)} \\\\\n",
      "Dict{String, Any}(\"modelType\" => :DecisionTree, \"maxDepth\" => 9223372036854775807) & 60.13\\% \\textit{(0.01)} & 60.13\\% \\textit{(0.01)} & 86.7\\% \\textit{(0.0)} & 60.24\\% \\textit{(0.01)} \\\\\n",
      "Dict{String, Any}(\"modelType\" => :kNN, \"numNeighboors\" => 3) & 63.86\\% \\textit{(0.02)} & 63.86\\% \\textit{(0.02)} & 87.92\\% \\textit{(0.01)} & 63.27\\% \\textit{(0.02)} \\\\\n",
      "Dict{String, Any}(\"modelType\" => :SVM, \"C\" => 10, \"kernel\" => \"rbf\") & 70.83\\% \\textit{(0.02)} & 70.83\\% \\textit{(0.02)} & 90.28\\% \\textit{(0.01)} & 69.92\\% \\textit{(0.02)} \\\\\n",
      "Dict{String, Any}(\"modelType\" => :DecisionTree, \"maxDepth\" => 9223372036854775807) & 65.25\\%  & 65.25\\%  & 88.6\\%  & 63.87\\% & [113 108 54 30; 52 174 39 18; 8 77 186 24; 0 0 0 297] \\\\\n",
      "Dict{String, Any}(\"modelType\" => :DecisionTree, \"maxDepth\" => 9223372036854775807) & 64.32\\%  & 64.32\\%  & 88.15\\%  & 64.6\\% & [142 116 44 3; 109 135 36 3; 46 34 208 7; 6 17 0 274] \\\\\n",
      "Dict{String, Any}(\"modelType\" => :kNN, \"numNeighboors\" => 3) & 69.49\\%  & 69.49\\%  & 89.88\\%  & 69.05\\% & [147 104 44 10; 90 154 33 6; 27 34 227 7; 4 1 0 292] \\\\\n",
      "Dict{String, Any}(\"modelType\" => :SVM, \"C\" => 10, \"kernel\" => \"rbf\") & 75.51\\%  & 75.51\\%  & 91.83\\%  & 74.85\\% & [179 84 37 5; 86 155 37 5; 20 8 260 7; 0 0 0 297] \\\\\n"
     ]
    }
   ],
   "source": [
    "include(\"functions.jl\")\n",
    "\n",
    "dtParameters = Dict(\"modelType\" => :DecisionTree, \"maxDepth\" => typemax(Int))\n",
    "knnParameters = Dict(\"modelType\" => :kNN, \"numNeighboors\" => 3)\n",
    "svmParameters = Dict(\"modelType\" => :SVM, \"kernel\" => \"rbf\", \"C\" => 10)\n",
    "Random.seed!(42)\n",
    "\n",
    "ensemble_types = [:VotingHard, :Stacking]\n",
    "final_estimators = [dtParameters, knnParameters, svmParameters]\n",
    "\n",
    "for ensemble_type in ensemble_types\n",
    "    for final_estimator in final_estimators\n",
    "        metricsCV = trainClassEnsemble([:DecisionTree, :kNN, :SVM], [dtParameters, knnParameters, svmParameters], (train_input, train_balanced_output), crossValidationIndexes; ensembleType = ensemble_type, final_estimator = final_estimator)\n",
    "        metricsCV[\"topology\"] = final_estimator\n",
    "        generate_latex_table(metricsCV, false)\n",
    "\n",
    "        if ensemble_type == :VotingHard\n",
    "            break\n",
    "        end\n",
    "\n",
    "    end\n",
    "end\n",
    "\n",
    "\n",
    "for ensemble_type in ensemble_types\n",
    "    for final_estimator in final_estimators\n",
    "        metrics = createAndTrainFinalEnsemble([:DecisionTree, :kNN, :SVM], [dtParameters, knnParameters, svmParameters], (train_input, train_balanced_output), (test_input, test_balanced_output); ensembleType = ensemble_type, final_estimator = final_estimator)\n",
    "        metrics[\"topology\"] = final_estimator\n",
    "        generate_latex_table(metrics, true)\n",
    "\n",
    "        if ensemble_type == :VotingHard\n",
    "            break\n",
    "        end\n",
    "    end\n",
    "end\n"
   ]
  },
  {
   "cell_type": "code",
   "execution_count": 62,
   "id": "f40e6cf6",
   "metadata": {},
   "outputs": [
    {
     "data": {
      "text/plain": [
       "Dict{String31, Int64} with 4 entries:\n",
       "  \"Benign\"              => 297\n",
       "  \"Android_Scareware\"   => 305\n",
       "  \"Android_SMS_Malware\" => 295\n",
       "  \"Android_Adware\"      => 283"
      ]
     },
     "execution_count": 62,
     "metadata": {},
     "output_type": "execute_result"
    }
   ],
   "source": [
    "countmap(test_balanced_output)"
   ]
  },
  {
   "cell_type": "code",
   "execution_count": 64,
   "id": "a0c81815",
   "metadata": {},
   "outputs": [
    {
     "data": {
      "text/plain": [
       "PyObject <class 'sklearn.decomposition._pca.PCA'>"
      ]
     },
     "execution_count": 64,
     "metadata": {},
     "output_type": "execute_result"
    }
   ],
   "source": [
    "@sk_import decomposition:PCA\n"
   ]
  },
  {
   "cell_type": "code",
   "execution_count": 76,
   "id": "de2663b1",
   "metadata": {},
   "outputs": [],
   "source": [
    "\n",
    "# pcas = 1:20:4\n",
    "pca_value = 10\n",
    "pca = PCA(pca_value)\n",
    "\n",
    "#Ajust the matrix acording to the train data\n",
    "fit!(pca, train_input)\n",
    "\n",
    "#Once it is ajusted it can be used to transform the data\n",
    "pca_train = pca.transform(train_input)\n",
    "pca_test = pca.transform(test_input)\n",
    "\n",
    "@assert (size(train_input)[1],pca_value) == size(pca_train)\n",
    "@assert (size(test_input)[1],pca_value) == size(pca_test)"
   ]
  },
  {
   "cell_type": "code",
   "execution_count": 74,
   "id": "1ca8b8ac",
   "metadata": {},
   "outputs": [
    {
     "data": {
      "text/plain": [
       "(4720, 2)"
      ]
     },
     "execution_count": 74,
     "metadata": {},
     "output_type": "execute_result"
    }
   ],
   "source": [
    "size(train_input)[1],2"
   ]
  },
  {
   "cell_type": "code",
   "execution_count": 80,
   "id": "f1ae33fe",
   "metadata": {},
   "outputs": [
    {
     "name": "stdout",
     "output_type": "stream",
     "text": [
      "3 & 28.92\\% \\textit{(0.02)} & 28.92\\% \\textit{(0.02)} & 76.25\\% \\textit{(0.01)} & 23.94\\% \\textit{(0.02)} \\\\\n",
      "5 & 33.41\\% \\textit{(0.02)} & 33.41\\% \\textit{(0.02)} & 77.77\\% \\textit{(0.01)} & 30.01\\% \\textit{(0.03)} \\\\\n",
      "7 & 36.67\\% \\textit{(0.02)} & 36.67\\% \\textit{(0.02)} & 78.86\\% \\textit{(0.01)} & 33.65\\% \\textit{(0.02)} \\\\\n",
      "10 & 44.36\\% \\textit{(0.02)} & 44.36\\% \\textit{(0.02)} & 81.45\\% \\textit{(0.01)} & 42.37\\% \\textit{(0.02)} \\\\\n",
      "15 & 55.23\\% \\textit{(0.03)} & 55.23\\% \\textit{(0.03)} & 85.07\\% \\textit{(0.01)} & 53.35\\% \\textit{(0.04)} \\\\\n",
      "9223372036854775807 & 69.24\\% \\textit{(0.02)} & 69.24\\% \\textit{(0.02)} & 89.75\\% \\textit{(0.01)} & 67.69\\% \\textit{(0.02)} \\\\\n",
      "----------------------------------------------------------------\n",
      "3 & 28.39\\%  & 28.39\\%  & 76.29\\%  & 24.85\\% & [13 70 75 147; 8 102 52 121; 7 70 58 160; 8 55 72 162] \\\\\n",
      "5 & 30.68\\%  & 30.68\\%  & 77.11\\%  & 27.84\\% & [17 93 103 92; 20 104 73 86; 11 88 90 106; 11 47 88 151] \\\\\n",
      "7 & 35.59\\%  & 35.59\\%  & 78.65\\%  & 32.17\\% & [24 67 103 111; 18 93 71 101; 17 61 109 108; 5 40 58 194] \\\\\n",
      "10 & 43.31\\%  & 43.31\\%  & 81.1\\%  & 41.76\\% & [83 80 61 81; 58 110 39 76; 47 64 100 84; 40 19 20 218] \\\\\n",
      "15 & 59.24\\%  & 59.24\\%  & 86.41\\%  & 57.36\\% & [123 63 54 65; 56 112 53 62; 22 26 186 61; 0 9 10 278] \\\\\n",
      "9223372036854775807 & 73.14\\%  & 73.14\\%  & 91.02\\%  & 71.61\\% & [182 58 46 19; 86 121 53 23; 10 18 263 4; 0 0 0 297] \\\\\n"
     ]
    }
   ],
   "source": [
    "# pcas = [2, 6, 10, 15, 20, 25, 30]\n",
    "\n",
    "include(\"functions.jl\")\n",
    "dtParameters = Dict(\"modelType\" => :DecisionTree, \"maxDepth\" => 1)\n",
    "\n",
    "depths = [3, 5, 7, 10, 15, typemax(Int)]\n",
    "\n",
    "pca_value = 5\n",
    "pca = PCA(pca_value)\n",
    "\n",
    "#Ajust the matrix acording to the train data\n",
    "fit!(pca, train_input)\n",
    "\n",
    "#Once it is ajusted it can be used to transform the data\n",
    "pca_train = pca.transform(train_input)\n",
    "pca_test = pca.transform(test_input)\n",
    "\n",
    "@assert (size(train_input)[1],pca_value) == size(pca_train)\n",
    "@assert (size(test_input)[1],pca_value) == size(pca_test)\n",
    "\n",
    "\n",
    "for depth in depths\n",
    "    dtParameters[\"maxDepth\"] = depth\n",
    "    metricsCV = (modelCrossValidation(dtParameters[\"modelType\"], dtParameters, pca_train, train_balanced_output, crossValidationIndexes))\n",
    "    metricsCV[\"topology\"] = depth\n",
    "\n",
    "    generate_latex_table(metricsCV, false)\n",
    "\n",
    "end\n",
    "\n",
    "println(\"----------------------------------------------------------------\")\n",
    "\n",
    "for depth in depths\n",
    "    dtParameters[\"maxDepth\"] = depth\n",
    "    metrics = createAndTrainFinalModel(dtParameters[\"modelType\"], dtParameters, pca_train, train_balanced_output, pca_test, test_balanced_output)\n",
    "    metrics[\"topology\"] = depth\n",
    "\n",
    "    generate_latex_table(metrics, true)\n",
    "\n",
    "end\n"
   ]
  }
 ],
 "metadata": {
  "kernelspec": {
   "display_name": "Julia 1.9.3",
   "language": "julia",
   "name": "julia-1.9"
  },
  "language_info": {
   "file_extension": ".jl",
   "mimetype": "application/julia",
   "name": "julia",
   "version": "1.9.3"
  }
 },
 "nbformat": 4,
 "nbformat_minor": 5
}
