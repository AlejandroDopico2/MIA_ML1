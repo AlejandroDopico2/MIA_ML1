{
 "cells": [
  {
   "cell_type": "code",
   "execution_count": 1,
   "id": "cb44f65c",
   "metadata": {},
   "outputs": [],
   "source": [
    "using CSV\n",
    "using DataFrames"
   ]
  },
  {
   "cell_type": "code",
   "execution_count": 2,
   "id": "d59fb985",
   "metadata": {},
   "outputs": [
    {
     "data": {
      "text/html": [
       "<div><div style = \"float: left;\"><span>35563×81 DataFrame</span></div><div style = \"float: right;\"><span style = \"font-style: italic;\">35538 rows omitted</span></div><div style = \"clear: both;\"></div></div><div class = \"data-frame\" style = \"overflow-x: scroll;\"><table class = \"data-frame\" style = \"margin-bottom: 6px;\"><thead><tr class = \"header\"><th class = \"rowNumber\" style = \"font-weight: bold; text-align: right;\">Row</th><th style = \"text-align: left;\"> Source Port</th><th style = \"text-align: left;\"> Destination Port</th><th style = \"text-align: left;\"> Protocol</th><th style = \"text-align: left;\"> Flow Duration</th><th style = \"text-align: left;\"> Total Fwd Packets</th><th style = \"text-align: left;\"> Total Backward Packets</th><th style = \"text-align: left;\">Total Length of Fwd Packets</th><th style = \"text-align: left;\"> Total Length of Bwd Packets</th><th style = \"text-align: left;\"> Fwd Packet Length Max</th><th style = \"text-align: left;\"> Fwd Packet Length Min</th><th style = \"text-align: left;\"> Fwd Packet Length Mean</th><th style = \"text-align: left;\"> Fwd Packet Length Std</th><th style = \"text-align: left;\">Bwd Packet Length Max</th><th style = \"text-align: left;\"> Bwd Packet Length Min</th><th style = \"text-align: left;\"> Bwd Packet Length Mean</th><th style = \"text-align: left;\"> Bwd Packet Length Std</th><th style = \"text-align: left;\">Flow Bytes/s</th><th style = \"text-align: left;\"> Flow Packets/s</th><th style = \"text-align: left;\"> Flow IAT Mean</th><th style = \"text-align: left;\"> Flow IAT Std</th><th style = \"text-align: left;\"> Flow IAT Max</th><th style = \"text-align: left;\"> Flow IAT Min</th><th style = \"text-align: left;\">Fwd IAT Total</th><th style = \"text-align: left;\"> Fwd IAT Mean</th><th style = \"text-align: left;\"> Fwd IAT Std</th><th style = \"text-align: left;\"> Fwd IAT Max</th><th style = \"text-align: left;\"> Fwd IAT Min</th><th style = \"text-align: left;\">Bwd IAT Total</th><th style = \"text-align: left;\"> Bwd IAT Mean</th><th style = \"text-align: left;\"> Bwd IAT Std</th><th style = \"text-align: left;\"> Bwd IAT Max</th><th style = \"text-align: left;\"> Bwd IAT Min</th><th style = \"text-align: left;\">Fwd PSH Flags</th><th style = \"text-align: left;\"> Bwd PSH Flags</th><th style = \"text-align: left;\"> Fwd URG Flags</th><th style = \"text-align: left;\"> Bwd URG Flags</th><th style = \"text-align: left;\"> Fwd Header Length</th><th style = \"text-align: left;\"> Bwd Header Length</th><th style = \"text-align: left;\">Fwd Packets/s</th><th style = \"text-align: left;\"> Bwd Packets/s</th><th style = \"text-align: left;\"> Min Packet Length</th><th style = \"text-align: left;\"> Max Packet Length</th><th style = \"text-align: left;\"> Packet Length Mean</th><th style = \"text-align: left;\"> Packet Length Std</th><th style = \"text-align: left;\"> Packet Length Variance</th><th style = \"text-align: left;\">FIN Flag Count</th><th style = \"text-align: left;\"> SYN Flag Count</th><th style = \"text-align: left;\"> RST Flag Count</th><th style = \"text-align: left;\"> PSH Flag Count</th><th style = \"text-align: left;\"> ACK Flag Count</th><th style = \"text-align: left;\"> URG Flag Count</th><th style = \"text-align: left;\"> CWE Flag Count</th><th style = \"text-align: left;\"> ECE Flag Count</th><th style = \"text-align: left;\"> Down/Up Ratio</th><th style = \"text-align: left;\"> Average Packet Size</th><th style = \"text-align: left;\"> Avg Fwd Segment Size</th><th style = \"text-align: left;\"> Avg Bwd Segment Size</th><th style = \"text-align: left;\"> Fwd Header Length.1</th><th style = \"text-align: left;\">Fwd Avg Bytes/Bulk</th><th style = \"text-align: left;\"> Fwd Avg Packets/Bulk</th><th style = \"text-align: left;\"> Fwd Avg Bulk Rate</th><th style = \"text-align: left;\"> Bwd Avg Bytes/Bulk</th><th style = \"text-align: left;\"> Bwd Avg Packets/Bulk</th><th style = \"text-align: left;\">Bwd Avg Bulk Rate</th><th style = \"text-align: left;\">Subflow Fwd Packets</th><th style = \"text-align: left;\"> Subflow Fwd Bytes</th><th style = \"text-align: left;\"> Subflow Bwd Packets</th><th style = \"text-align: left;\"> Subflow Bwd Bytes</th><th style = \"text-align: left;\">Init_Win_bytes_forward</th><th style = \"text-align: left;\"> Init_Win_bytes_backward</th><th style = \"text-align: left;\"> act_data_pkt_fwd</th><th style = \"text-align: left;\"> min_seg_size_forward</th><th style = \"text-align: left;\">Active Mean</th><th style = \"text-align: left;\"> Active Std</th><th style = \"text-align: left;\"> Active Max</th><th style = \"text-align: left;\"> Active Min</th><th style = \"text-align: left;\">Idle Mean</th><th style = \"text-align: left;\"> Idle Std</th><th style = \"text-align: left;\"> Idle Max</th><th style = \"text-align: left;\"> Idle Min</th><th style = \"text-align: left;\">Label</th></tr><tr class = \"subheader headerLastRow\"><th class = \"rowNumber\" style = \"font-weight: bold; text-align: right;\"></th><th title = \"Int64\" style = \"text-align: left;\">Int64</th><th title = \"Float64\" style = \"text-align: left;\">Float64</th><th title = \"Float64\" style = \"text-align: left;\">Float64</th><th title = \"Int64\" style = \"text-align: left;\">Int64</th><th title = \"Int64\" style = \"text-align: left;\">Int64</th><th title = \"Int64\" style = \"text-align: left;\">Int64</th><th title = \"Float64\" style = \"text-align: left;\">Float64</th><th title = \"Float64\" style = \"text-align: left;\">Float64</th><th title = \"Float64\" style = \"text-align: left;\">Float64</th><th title = \"Float64\" style = \"text-align: left;\">Float64</th><th title = \"Float64\" style = \"text-align: left;\">Float64</th><th title = \"Float64\" style = \"text-align: left;\">Float64</th><th title = \"Float64\" style = \"text-align: left;\">Float64</th><th title = \"Float64\" style = \"text-align: left;\">Float64</th><th title = \"Float64\" style = \"text-align: left;\">Float64</th><th title = \"Float64\" style = \"text-align: left;\">Float64</th><th title = \"Float64\" style = \"text-align: left;\">Float64</th><th title = \"Float64\" style = \"text-align: left;\">Float64</th><th title = \"Float64\" style = \"text-align: left;\">Float64</th><th title = \"Float64\" style = \"text-align: left;\">Float64</th><th title = \"Float64\" style = \"text-align: left;\">Float64</th><th title = \"Float64\" style = \"text-align: left;\">Float64</th><th title = \"Float64\" style = \"text-align: left;\">Float64</th><th title = \"Float64\" style = \"text-align: left;\">Float64</th><th title = \"Float64\" style = \"text-align: left;\">Float64</th><th title = \"Float64\" style = \"text-align: left;\">Float64</th><th title = \"Float64\" style = \"text-align: left;\">Float64</th><th title = \"Float64\" style = \"text-align: left;\">Float64</th><th title = \"Float64\" style = \"text-align: left;\">Float64</th><th title = \"Float64\" style = \"text-align: left;\">Float64</th><th title = \"Float64\" style = \"text-align: left;\">Float64</th><th title = \"Float64\" style = \"text-align: left;\">Float64</th><th title = \"Float64\" style = \"text-align: left;\">Float64</th><th title = \"Float64\" style = \"text-align: left;\">Float64</th><th title = \"Int64\" style = \"text-align: left;\">Int64</th><th title = \"Int64\" style = \"text-align: left;\">Int64</th><th title = \"Int64\" style = \"text-align: left;\">Int64</th><th title = \"Int64\" style = \"text-align: left;\">Int64</th><th title = \"Float64\" style = \"text-align: left;\">Float64</th><th title = \"Float64\" style = \"text-align: left;\">Float64</th><th title = \"Float64\" style = \"text-align: left;\">Float64</th><th title = \"Float64\" style = \"text-align: left;\">Float64</th><th title = \"Float64\" style = \"text-align: left;\">Float64</th><th title = \"Float64\" style = \"text-align: left;\">Float64</th><th title = \"Float64\" style = \"text-align: left;\">Float64</th><th title = \"Float64\" style = \"text-align: left;\">Float64</th><th title = \"Float64\" style = \"text-align: left;\">Float64</th><th title = \"Float64\" style = \"text-align: left;\">Float64</th><th title = \"Float64\" style = \"text-align: left;\">Float64</th><th title = \"Float64\" style = \"text-align: left;\">Float64</th><th title = \"Float64\" style = \"text-align: left;\">Float64</th><th title = \"Float64\" style = \"text-align: left;\">Float64</th><th title = \"Float64\" style = \"text-align: left;\">Float64</th><th title = \"Float64\" style = \"text-align: left;\">Float64</th><th title = \"Float64\" style = \"text-align: left;\">Float64</th><th title = \"Float64\" style = \"text-align: left;\">Float64</th><th title = \"Float64\" style = \"text-align: left;\">Float64</th><th title = \"Float64\" style = \"text-align: left;\">Float64</th><th title = \"Float64\" style = \"text-align: left;\">Float64</th><th title = \"Float64\" style = \"text-align: left;\">Float64</th><th title = \"Float64\" style = \"text-align: left;\">Float64</th><th title = \"Float64\" style = \"text-align: left;\">Float64</th><th title = \"Float64\" style = \"text-align: left;\">Float64</th><th title = \"Float64\" style = \"text-align: left;\">Float64</th><th title = \"Float64\" style = \"text-align: left;\">Float64</th><th title = \"Float64\" style = \"text-align: left;\">Float64</th><th title = \"Float64\" style = \"text-align: left;\">Float64</th><th title = \"Float64\" style = \"text-align: left;\">Float64</th><th title = \"Float64\" style = \"text-align: left;\">Float64</th><th title = \"Float64\" style = \"text-align: left;\">Float64</th><th title = \"Float64\" style = \"text-align: left;\">Float64</th><th title = \"Float64\" style = \"text-align: left;\">Float64</th><th title = \"Float64\" style = \"text-align: left;\">Float64</th><th title = \"Float64\" style = \"text-align: left;\">Float64</th><th title = \"Float64\" style = \"text-align: left;\">Float64</th><th title = \"Float64\" style = \"text-align: left;\">Float64</th><th title = \"Float64\" style = \"text-align: left;\">Float64</th><th title = \"Float64\" style = \"text-align: left;\">Float64</th><th title = \"Float64\" style = \"text-align: left;\">Float64</th><th title = \"Float64\" style = \"text-align: left;\">Float64</th><th title = \"String31\" style = \"text-align: left;\">String31</th></tr></thead><tbody><tr><td class = \"rowNumber\" style = \"font-weight: bold; text-align: right;\">1</td><td style = \"text-align: right;\">58310</td><td style = \"text-align: right;\">443.0</td><td style = \"text-align: right;\">6.0</td><td style = \"text-align: right;\">96170080</td><td style = \"text-align: right;\">8</td><td style = \"text-align: right;\">12</td><td style = \"text-align: right;\">3734.0</td><td style = \"text-align: right;\">1499.0</td><td style = \"text-align: right;\">1368.0</td><td style = \"text-align: right;\">0.0</td><td style = \"text-align: right;\">466.75</td><td style = \"text-align: right;\">598.266</td><td style = \"text-align: right;\">562.0</td><td style = \"text-align: right;\">0.0</td><td style = \"text-align: right;\">124.917</td><td style = \"text-align: right;\">192.683</td><td style = \"text-align: right;\">54.414</td><td style = \"text-align: right;\">0.207965</td><td style = \"text-align: right;\">5.06158e6</td><td style = \"text-align: right;\">2.19676e7</td><td style = \"text-align: right;\">9.57763e7</td><td style = \"text-align: right;\">13.0</td><td style = \"text-align: right;\">9.61701e7</td><td style = \"text-align: right;\">1.37386e7</td><td style = \"text-align: right;\">3.61753e7</td><td style = \"text-align: right;\">9.57763e7</td><td style = \"text-align: right;\">151.0</td><td style = \"text-align: right;\">9.61347e7</td><td style = \"text-align: right;\">8.73952e6</td><td style = \"text-align: right;\">2.88792e7</td><td style = \"text-align: right;\">9.58134e7</td><td style = \"text-align: right;\">13.0</td><td style = \"text-align: right;\">0.0</td><td style = \"text-align: right;\">0.0</td><td style = \"text-align: right;\">0</td><td style = \"text-align: right;\">0</td><td style = \"text-align: right;\">256</td><td style = \"text-align: right;\">384</td><td style = \"text-align: right;\">0.083186</td><td style = \"text-align: right;\">0.124779</td><td style = \"text-align: right;\">0.0</td><td style = \"text-align: right;\">1368.0</td><td style = \"text-align: right;\">314.333</td><td style = \"text-align: right;\">481.687</td><td style = \"text-align: right;\">2.32023e5</td><td style = \"text-align: right;\">0.0</td><td style = \"text-align: right;\">0.0</td><td style = \"text-align: right;\">0.0</td><td style = \"text-align: right;\">0.0</td><td style = \"text-align: right;\">1.0</td><td style = \"text-align: right;\">0.0</td><td style = \"text-align: right;\">0.0</td><td style = \"text-align: right;\">0.0</td><td style = \"text-align: right;\">1.0</td><td style = \"text-align: right;\">330.05</td><td style = \"text-align: right;\">466.75</td><td style = \"text-align: right;\">124.917</td><td style = \"text-align: right;\">256.0</td><td style = \"text-align: right;\">0.0</td><td style = \"text-align: right;\">0.0</td><td style = \"text-align: right;\">0.0</td><td style = \"text-align: right;\">0.0</td><td style = \"text-align: right;\">0.0</td><td style = \"text-align: right;\">0.0</td><td style = \"text-align: right;\">8.0</td><td style = \"text-align: right;\">3734.0</td><td style = \"text-align: right;\">12.0</td><td style = \"text-align: right;\">1499.0</td><td style = \"text-align: right;\">1859.0</td><td style = \"text-align: right;\">575.0</td><td style = \"text-align: right;\">5.0</td><td style = \"text-align: right;\">32.0</td><td style = \"text-align: right;\">198506.0</td><td style = \"text-align: right;\">0.0</td><td style = \"text-align: right;\">198506.0</td><td style = \"text-align: right;\">198506.0</td><td style = \"text-align: right;\">9.57763e7</td><td style = \"text-align: right;\">0.0</td><td style = \"text-align: right;\">9.57763e7</td><td style = \"text-align: right;\">9.57763e7</td><td style = \"text-align: left;\">Android_Adware</td></tr><tr><td class = \"rowNumber\" style = \"font-weight: bold; text-align: right;\">2</td><td style = \"text-align: right;\">11350</td><td style = \"text-align: right;\">53.0</td><td style = \"text-align: right;\">17.0</td><td style = \"text-align: right;\">109573</td><td style = \"text-align: right;\">1</td><td style = \"text-align: right;\">1</td><td style = \"text-align: right;\">34.0</td><td style = \"text-align: right;\">199.0</td><td style = \"text-align: right;\">34.0</td><td style = \"text-align: right;\">34.0</td><td style = \"text-align: right;\">34.0</td><td style = \"text-align: right;\">0.0</td><td style = \"text-align: right;\">199.0</td><td style = \"text-align: right;\">199.0</td><td style = \"text-align: right;\">199.0</td><td style = \"text-align: right;\">0.0</td><td style = \"text-align: right;\">2126.44</td><td style = \"text-align: right;\">18.2527</td><td style = \"text-align: right;\">109573.0</td><td style = \"text-align: right;\">0.0</td><td style = \"text-align: right;\">109573.0</td><td style = \"text-align: right;\">109573.0</td><td style = \"text-align: right;\">0.0</td><td style = \"text-align: right;\">0.0</td><td style = \"text-align: right;\">0.0</td><td style = \"text-align: right;\">0.0</td><td style = \"text-align: right;\">0.0</td><td style = \"text-align: right;\">0.0</td><td style = \"text-align: right;\">0.0</td><td style = \"text-align: right;\">0.0</td><td style = \"text-align: right;\">0.0</td><td style = \"text-align: right;\">0.0</td><td style = \"text-align: right;\">0.0</td><td style = \"text-align: right;\">0.0</td><td style = \"text-align: right;\">0</td><td style = \"text-align: right;\">0</td><td style = \"text-align: right;\">32</td><td style = \"text-align: right;\">32</td><td style = \"text-align: right;\">9.12634</td><td style = \"text-align: right;\">9.12634</td><td style = \"text-align: right;\">34.0</td><td style = \"text-align: right;\">199.0</td><td style = \"text-align: right;\">89.0</td><td style = \"text-align: right;\">95.2628</td><td style = \"text-align: right;\">9075.0</td><td style = \"text-align: right;\">0.0</td><td style = \"text-align: right;\">0.0</td><td style = \"text-align: right;\">0.0</td><td style = \"text-align: right;\">0.0</td><td style = \"text-align: right;\">0.0</td><td style = \"text-align: right;\">0.0</td><td style = \"text-align: right;\">0.0</td><td style = \"text-align: right;\">0.0</td><td style = \"text-align: right;\">1.0</td><td style = \"text-align: right;\">133.5</td><td style = \"text-align: right;\">34.0</td><td style = \"text-align: right;\">199.0</td><td style = \"text-align: right;\">32.0</td><td style = \"text-align: right;\">0.0</td><td style = \"text-align: right;\">0.0</td><td style = \"text-align: right;\">0.0</td><td style = \"text-align: right;\">0.0</td><td style = \"text-align: right;\">0.0</td><td style = \"text-align: right;\">0.0</td><td style = \"text-align: right;\">1.0</td><td style = \"text-align: right;\">34.0</td><td style = \"text-align: right;\">1.0</td><td style = \"text-align: right;\">199.0</td><td style = \"text-align: right;\">-1.0</td><td style = \"text-align: right;\">-1.0</td><td style = \"text-align: right;\">0.0</td><td style = \"text-align: right;\">32.0</td><td style = \"text-align: right;\">0.0</td><td style = \"text-align: right;\">0.0</td><td style = \"text-align: right;\">0.0</td><td style = \"text-align: right;\">0.0</td><td style = \"text-align: right;\">0.0</td><td style = \"text-align: right;\">0.0</td><td style = \"text-align: right;\">0.0</td><td style = \"text-align: right;\">0.0</td><td style = \"text-align: left;\">Android_Adware</td></tr><tr><td class = \"rowNumber\" style = \"font-weight: bold; text-align: right;\">3</td><td style = \"text-align: right;\">26802</td><td style = \"text-align: right;\">53.0</td><td style = \"text-align: right;\">17.0</td><td style = \"text-align: right;\">47706</td><td style = \"text-align: right;\">1</td><td style = \"text-align: right;\">1</td><td style = \"text-align: right;\">37.0</td><td style = \"text-align: right;\">225.0</td><td style = \"text-align: right;\">37.0</td><td style = \"text-align: right;\">37.0</td><td style = \"text-align: right;\">37.0</td><td style = \"text-align: right;\">0.0</td><td style = \"text-align: right;\">225.0</td><td style = \"text-align: right;\">225.0</td><td style = \"text-align: right;\">225.0</td><td style = \"text-align: right;\">0.0</td><td style = \"text-align: right;\">5491.97</td><td style = \"text-align: right;\">41.9234</td><td style = \"text-align: right;\">47706.0</td><td style = \"text-align: right;\">0.0</td><td style = \"text-align: right;\">47706.0</td><td style = \"text-align: right;\">47706.0</td><td style = \"text-align: right;\">0.0</td><td style = \"text-align: right;\">0.0</td><td style = \"text-align: right;\">0.0</td><td style = \"text-align: right;\">0.0</td><td style = \"text-align: right;\">0.0</td><td style = \"text-align: right;\">0.0</td><td style = \"text-align: right;\">0.0</td><td style = \"text-align: right;\">0.0</td><td style = \"text-align: right;\">0.0</td><td style = \"text-align: right;\">0.0</td><td style = \"text-align: right;\">0.0</td><td style = \"text-align: right;\">0.0</td><td style = \"text-align: right;\">0</td><td style = \"text-align: right;\">0</td><td style = \"text-align: right;\">32</td><td style = \"text-align: right;\">32</td><td style = \"text-align: right;\">20.9617</td><td style = \"text-align: right;\">20.9617</td><td style = \"text-align: right;\">37.0</td><td style = \"text-align: right;\">225.0</td><td style = \"text-align: right;\">99.6667</td><td style = \"text-align: right;\">108.542</td><td style = \"text-align: right;\">11781.3</td><td style = \"text-align: right;\">0.0</td><td style = \"text-align: right;\">0.0</td><td style = \"text-align: right;\">0.0</td><td style = \"text-align: right;\">0.0</td><td style = \"text-align: right;\">0.0</td><td style = \"text-align: right;\">0.0</td><td style = \"text-align: right;\">0.0</td><td style = \"text-align: right;\">0.0</td><td style = \"text-align: right;\">1.0</td><td style = \"text-align: right;\">149.5</td><td style = \"text-align: right;\">37.0</td><td style = \"text-align: right;\">225.0</td><td style = \"text-align: right;\">32.0</td><td style = \"text-align: right;\">0.0</td><td style = \"text-align: right;\">0.0</td><td style = \"text-align: right;\">0.0</td><td style = \"text-align: right;\">0.0</td><td style = \"text-align: right;\">0.0</td><td style = \"text-align: right;\">0.0</td><td style = \"text-align: right;\">1.0</td><td style = \"text-align: right;\">37.0</td><td style = \"text-align: right;\">1.0</td><td style = \"text-align: right;\">225.0</td><td style = \"text-align: right;\">-1.0</td><td style = \"text-align: right;\">-1.0</td><td style = \"text-align: right;\">0.0</td><td style = \"text-align: right;\">32.0</td><td style = \"text-align: right;\">0.0</td><td style = \"text-align: right;\">0.0</td><td style = \"text-align: right;\">0.0</td><td style = \"text-align: right;\">0.0</td><td style = \"text-align: right;\">0.0</td><td style = \"text-align: right;\">0.0</td><td style = \"text-align: right;\">0.0</td><td style = \"text-align: right;\">0.0</td><td style = \"text-align: left;\">Android_Scareware</td></tr><tr><td class = \"rowNumber\" style = \"font-weight: bold; text-align: right;\">4</td><td style = \"text-align: right;\">60386</td><td style = \"text-align: right;\">443.0</td><td style = \"text-align: right;\">6.0</td><td style = \"text-align: right;\">20808858</td><td style = \"text-align: right;\">8</td><td style = \"text-align: right;\">8</td><td style = \"text-align: right;\">343.0</td><td style = \"text-align: right;\">5244.0</td><td style = \"text-align: right;\">217.0</td><td style = \"text-align: right;\">0.0</td><td style = \"text-align: right;\">42.875</td><td style = \"text-align: right;\">83.0309</td><td style = \"text-align: right;\">1448.0</td><td style = \"text-align: right;\">0.0</td><td style = \"text-align: right;\">655.5</td><td style = \"text-align: right;\">689.865</td><td style = \"text-align: right;\">268.491</td><td style = \"text-align: right;\">0.768903</td><td style = \"text-align: right;\">1.38726e6</td><td style = \"text-align: right;\">4.76123e6</td><td style = \"text-align: right;\">1.85058e7</td><td style = \"text-align: right;\">41.0</td><td style = \"text-align: right;\">2.08089e7</td><td style = \"text-align: right;\">2.97269e6</td><td style = \"text-align: right;\">6.88919e6</td><td style = \"text-align: right;\">1.85058e7</td><td style = \"text-align: right;\">716.0</td><td style = \"text-align: right;\">2.16747e6</td><td style = \"text-align: right;\">309638.0</td><td style = \"text-align: right;\">7.1848e5</td><td style = \"text-align: right;\">1.93441e6</td><td style = \"text-align: right;\">41.0</td><td style = \"text-align: right;\">0.0</td><td style = \"text-align: right;\">0.0</td><td style = \"text-align: right;\">0</td><td style = \"text-align: right;\">0</td><td style = \"text-align: right;\">264</td><td style = \"text-align: right;\">264</td><td style = \"text-align: right;\">0.384452</td><td style = \"text-align: right;\">0.384452</td><td style = \"text-align: right;\">0.0</td><td style = \"text-align: right;\">1448.0</td><td style = \"text-align: right;\">328.647</td><td style = \"text-align: right;\">558.774</td><td style = \"text-align: right;\">3.12228e5</td><td style = \"text-align: right;\">0.0</td><td style = \"text-align: right;\">0.0</td><td style = \"text-align: right;\">0.0</td><td style = \"text-align: right;\">1.0</td><td style = \"text-align: right;\">0.0</td><td style = \"text-align: right;\">0.0</td><td style = \"text-align: right;\">0.0</td><td style = \"text-align: right;\">0.0</td><td style = \"text-align: right;\">1.0</td><td style = \"text-align: right;\">349.188</td><td style = \"text-align: right;\">42.875</td><td style = \"text-align: right;\">655.5</td><td style = \"text-align: right;\">264.0</td><td style = \"text-align: right;\">0.0</td><td style = \"text-align: right;\">0.0</td><td style = \"text-align: right;\">0.0</td><td style = \"text-align: right;\">0.0</td><td style = \"text-align: right;\">0.0</td><td style = \"text-align: right;\">0.0</td><td style = \"text-align: right;\">8.0</td><td style = \"text-align: right;\">343.0</td><td style = \"text-align: right;\">8.0</td><td style = \"text-align: right;\">5244.0</td><td style = \"text-align: right;\">65535.0</td><td style = \"text-align: right;\">31.0</td><td style = \"text-align: right;\">2.0</td><td style = \"text-align: right;\">32.0</td><td style = \"text-align: right;\">2.30302e6</td><td style = \"text-align: right;\">0.0</td><td style = \"text-align: right;\">2.30302e6</td><td style = \"text-align: right;\">2.30302e6</td><td style = \"text-align: right;\">1.85058e7</td><td style = \"text-align: right;\">0.0</td><td style = \"text-align: right;\">1.85058e7</td><td style = \"text-align: right;\">1.85058e7</td><td style = \"text-align: left;\">Android_Adware</td></tr><tr><td class = \"rowNumber\" style = \"font-weight: bold; text-align: right;\">5</td><td style = \"text-align: right;\">5177</td><td style = \"text-align: right;\">53.0</td><td style = \"text-align: right;\">17.0</td><td style = \"text-align: right;\">30578</td><td style = \"text-align: right;\">1</td><td style = \"text-align: right;\">1</td><td style = \"text-align: right;\">37.0</td><td style = \"text-align: right;\">53.0</td><td style = \"text-align: right;\">37.0</td><td style = \"text-align: right;\">37.0</td><td style = \"text-align: right;\">37.0</td><td style = \"text-align: right;\">0.0</td><td style = \"text-align: right;\">53.0</td><td style = \"text-align: right;\">53.0</td><td style = \"text-align: right;\">53.0</td><td style = \"text-align: right;\">0.0</td><td style = \"text-align: right;\">2943.29</td><td style = \"text-align: right;\">65.4065</td><td style = \"text-align: right;\">30578.0</td><td style = \"text-align: right;\">0.0</td><td style = \"text-align: right;\">30578.0</td><td style = \"text-align: right;\">30578.0</td><td style = \"text-align: right;\">0.0</td><td style = \"text-align: right;\">0.0</td><td style = \"text-align: right;\">0.0</td><td style = \"text-align: right;\">0.0</td><td style = \"text-align: right;\">0.0</td><td style = \"text-align: right;\">0.0</td><td style = \"text-align: right;\">0.0</td><td style = \"text-align: right;\">0.0</td><td style = \"text-align: right;\">0.0</td><td style = \"text-align: right;\">0.0</td><td style = \"text-align: right;\">0.0</td><td style = \"text-align: right;\">0.0</td><td style = \"text-align: right;\">0</td><td style = \"text-align: right;\">0</td><td style = \"text-align: right;\">20</td><td style = \"text-align: right;\">32</td><td style = \"text-align: right;\">32.7033</td><td style = \"text-align: right;\">32.7033</td><td style = \"text-align: right;\">37.0</td><td style = \"text-align: right;\">53.0</td><td style = \"text-align: right;\">42.3333</td><td style = \"text-align: right;\">9.2376</td><td style = \"text-align: right;\">85.3333</td><td style = \"text-align: right;\">0.0</td><td style = \"text-align: right;\">0.0</td><td style = \"text-align: right;\">0.0</td><td style = \"text-align: right;\">0.0</td><td style = \"text-align: right;\">0.0</td><td style = \"text-align: right;\">0.0</td><td style = \"text-align: right;\">0.0</td><td style = \"text-align: right;\">0.0</td><td style = \"text-align: right;\">1.0</td><td style = \"text-align: right;\">63.5</td><td style = \"text-align: right;\">37.0</td><td style = \"text-align: right;\">53.0</td><td style = \"text-align: right;\">20.0</td><td style = \"text-align: right;\">0.0</td><td style = \"text-align: right;\">0.0</td><td style = \"text-align: right;\">0.0</td><td style = \"text-align: right;\">0.0</td><td style = \"text-align: right;\">0.0</td><td style = \"text-align: right;\">0.0</td><td style = \"text-align: right;\">1.0</td><td style = \"text-align: right;\">37.0</td><td style = \"text-align: right;\">1.0</td><td style = \"text-align: right;\">53.0</td><td style = \"text-align: right;\">-1.0</td><td style = \"text-align: right;\">-1.0</td><td style = \"text-align: right;\">0.0</td><td style = \"text-align: right;\">20.0</td><td style = \"text-align: right;\">0.0</td><td style = \"text-align: right;\">0.0</td><td style = \"text-align: right;\">0.0</td><td style = \"text-align: right;\">0.0</td><td style = \"text-align: right;\">0.0</td><td style = \"text-align: right;\">0.0</td><td style = \"text-align: right;\">0.0</td><td style = \"text-align: right;\">0.0</td><td style = \"text-align: left;\">Android_Adware</td></tr><tr><td class = \"rowNumber\" style = \"font-weight: bold; text-align: right;\">6</td><td style = \"text-align: right;\">36339</td><td style = \"text-align: right;\">443.0</td><td style = \"text-align: right;\">6.0</td><td style = \"text-align: right;\">35525</td><td style = \"text-align: right;\">1</td><td style = \"text-align: right;\">2</td><td style = \"text-align: right;\">0.0</td><td style = \"text-align: right;\">0.0</td><td style = \"text-align: right;\">0.0</td><td style = \"text-align: right;\">0.0</td><td style = \"text-align: right;\">0.0</td><td style = \"text-align: right;\">0.0</td><td style = \"text-align: right;\">0.0</td><td style = \"text-align: right;\">0.0</td><td style = \"text-align: right;\">0.0</td><td style = \"text-align: right;\">0.0</td><td style = \"text-align: right;\">0.0</td><td style = \"text-align: right;\">84.4476</td><td style = \"text-align: right;\">17762.5</td><td style = \"text-align: right;\">25104.4</td><td style = \"text-align: right;\">35514.0</td><td style = \"text-align: right;\">11.0</td><td style = \"text-align: right;\">0.0</td><td style = \"text-align: right;\">0.0</td><td style = \"text-align: right;\">0.0</td><td style = \"text-align: right;\">0.0</td><td style = \"text-align: right;\">0.0</td><td style = \"text-align: right;\">11.0</td><td style = \"text-align: right;\">11.0</td><td style = \"text-align: right;\">0.0</td><td style = \"text-align: right;\">11.0</td><td style = \"text-align: right;\">11.0</td><td style = \"text-align: right;\">0.0</td><td style = \"text-align: right;\">0.0</td><td style = \"text-align: right;\">0</td><td style = \"text-align: right;\">0</td><td style = \"text-align: right;\">32</td><td style = \"text-align: right;\">64</td><td style = \"text-align: right;\">28.1492</td><td style = \"text-align: right;\">56.2984</td><td style = \"text-align: right;\">0.0</td><td style = \"text-align: right;\">0.0</td><td style = \"text-align: right;\">0.0</td><td style = \"text-align: right;\">0.0</td><td style = \"text-align: right;\">0.0</td><td style = \"text-align: right;\">0.0</td><td style = \"text-align: right;\">0.0</td><td style = \"text-align: right;\">0.0</td><td style = \"text-align: right;\">0.0</td><td style = \"text-align: right;\">1.0</td><td style = \"text-align: right;\">1.0</td><td style = \"text-align: right;\">0.0</td><td style = \"text-align: right;\">0.0</td><td style = \"text-align: right;\">2.0</td><td style = \"text-align: right;\">0.0</td><td style = \"text-align: right;\">0.0</td><td style = \"text-align: right;\">0.0</td><td style = \"text-align: right;\">32.0</td><td style = \"text-align: right;\">0.0</td><td style = \"text-align: right;\">0.0</td><td style = \"text-align: right;\">0.0</td><td style = \"text-align: right;\">0.0</td><td style = \"text-align: right;\">0.0</td><td style = \"text-align: right;\">0.0</td><td style = \"text-align: right;\">1.0</td><td style = \"text-align: right;\">0.0</td><td style = \"text-align: right;\">2.0</td><td style = \"text-align: right;\">0.0</td><td style = \"text-align: right;\">2093.0</td><td style = \"text-align: right;\">1024.0</td><td style = \"text-align: right;\">0.0</td><td style = \"text-align: right;\">32.0</td><td style = \"text-align: right;\">0.0</td><td style = \"text-align: right;\">0.0</td><td style = \"text-align: right;\">0.0</td><td style = \"text-align: right;\">0.0</td><td style = \"text-align: right;\">0.0</td><td style = \"text-align: right;\">0.0</td><td style = \"text-align: right;\">0.0</td><td style = \"text-align: right;\">0.0</td><td style = \"text-align: left;\">Android_SMS_Malware</td></tr><tr><td class = \"rowNumber\" style = \"font-weight: bold; text-align: right;\">7</td><td style = \"text-align: right;\">60460</td><td style = \"text-align: right;\">53.0</td><td style = \"text-align: right;\">17.0</td><td style = \"text-align: right;\">516206</td><td style = \"text-align: right;\">1</td><td style = \"text-align: right;\">1</td><td style = \"text-align: right;\">40.0</td><td style = \"text-align: right;\">104.0</td><td style = \"text-align: right;\">40.0</td><td style = \"text-align: right;\">40.0</td><td style = \"text-align: right;\">40.0</td><td style = \"text-align: right;\">0.0</td><td style = \"text-align: right;\">104.0</td><td style = \"text-align: right;\">104.0</td><td style = \"text-align: right;\">104.0</td><td style = \"text-align: right;\">0.0</td><td style = \"text-align: right;\">278.958</td><td style = \"text-align: right;\">3.87442</td><td style = \"text-align: right;\">516206.0</td><td style = \"text-align: right;\">0.0</td><td style = \"text-align: right;\">516206.0</td><td style = \"text-align: right;\">516206.0</td><td style = \"text-align: right;\">0.0</td><td style = \"text-align: right;\">0.0</td><td style = \"text-align: right;\">0.0</td><td style = \"text-align: right;\">0.0</td><td style = \"text-align: right;\">0.0</td><td style = \"text-align: right;\">0.0</td><td style = \"text-align: right;\">0.0</td><td style = \"text-align: right;\">0.0</td><td style = \"text-align: right;\">0.0</td><td style = \"text-align: right;\">0.0</td><td style = \"text-align: right;\">0.0</td><td style = \"text-align: right;\">0.0</td><td style = \"text-align: right;\">0</td><td style = \"text-align: right;\">0</td><td style = \"text-align: right;\">20</td><td style = \"text-align: right;\">20</td><td style = \"text-align: right;\">1.93721</td><td style = \"text-align: right;\">1.93721</td><td style = \"text-align: right;\">40.0</td><td style = \"text-align: right;\">104.0</td><td style = \"text-align: right;\">61.3333</td><td style = \"text-align: right;\">36.9504</td><td style = \"text-align: right;\">1365.33</td><td style = \"text-align: right;\">0.0</td><td style = \"text-align: right;\">0.0</td><td style = \"text-align: right;\">0.0</td><td style = \"text-align: right;\">0.0</td><td style = \"text-align: right;\">0.0</td><td style = \"text-align: right;\">0.0</td><td style = \"text-align: right;\">0.0</td><td style = \"text-align: right;\">0.0</td><td style = \"text-align: right;\">1.0</td><td style = \"text-align: right;\">92.0</td><td style = \"text-align: right;\">40.0</td><td style = \"text-align: right;\">104.0</td><td style = \"text-align: right;\">20.0</td><td style = \"text-align: right;\">0.0</td><td style = \"text-align: right;\">0.0</td><td style = \"text-align: right;\">0.0</td><td style = \"text-align: right;\">0.0</td><td style = \"text-align: right;\">0.0</td><td style = \"text-align: right;\">0.0</td><td style = \"text-align: right;\">1.0</td><td style = \"text-align: right;\">40.0</td><td style = \"text-align: right;\">1.0</td><td style = \"text-align: right;\">104.0</td><td style = \"text-align: right;\">-1.0</td><td style = \"text-align: right;\">-1.0</td><td style = \"text-align: right;\">0.0</td><td style = \"text-align: right;\">20.0</td><td style = \"text-align: right;\">0.0</td><td style = \"text-align: right;\">0.0</td><td style = \"text-align: right;\">0.0</td><td style = \"text-align: right;\">0.0</td><td style = \"text-align: right;\">0.0</td><td style = \"text-align: right;\">0.0</td><td style = \"text-align: right;\">0.0</td><td style = \"text-align: right;\">0.0</td><td style = \"text-align: left;\">Benign</td></tr><tr><td class = \"rowNumber\" style = \"font-weight: bold; text-align: right;\">8</td><td style = \"text-align: right;\">80</td><td style = \"text-align: right;\">59249.0</td><td style = \"text-align: right;\">6.0</td><td style = \"text-align: right;\">3140</td><td style = \"text-align: right;\">1</td><td style = \"text-align: right;\">1</td><td style = \"text-align: right;\">0.0</td><td style = \"text-align: right;\">0.0</td><td style = \"text-align: right;\">0.0</td><td style = \"text-align: right;\">0.0</td><td style = \"text-align: right;\">0.0</td><td style = \"text-align: right;\">0.0</td><td style = \"text-align: right;\">0.0</td><td style = \"text-align: right;\">0.0</td><td style = \"text-align: right;\">0.0</td><td style = \"text-align: right;\">0.0</td><td style = \"text-align: right;\">0.0</td><td style = \"text-align: right;\">636.943</td><td style = \"text-align: right;\">3140.0</td><td style = \"text-align: right;\">0.0</td><td style = \"text-align: right;\">3140.0</td><td style = \"text-align: right;\">3140.0</td><td style = \"text-align: right;\">0.0</td><td style = \"text-align: right;\">0.0</td><td style = \"text-align: right;\">0.0</td><td style = \"text-align: right;\">0.0</td><td style = \"text-align: right;\">0.0</td><td style = \"text-align: right;\">0.0</td><td style = \"text-align: right;\">0.0</td><td style = \"text-align: right;\">0.0</td><td style = \"text-align: right;\">0.0</td><td style = \"text-align: right;\">0.0</td><td style = \"text-align: right;\">0.0</td><td style = \"text-align: right;\">0.0</td><td style = \"text-align: right;\">0</td><td style = \"text-align: right;\">0</td><td style = \"text-align: right;\">32</td><td style = \"text-align: right;\">32</td><td style = \"text-align: right;\">318.471</td><td style = \"text-align: right;\">318.471</td><td style = \"text-align: right;\">0.0</td><td style = \"text-align: right;\">0.0</td><td style = \"text-align: right;\">0.0</td><td style = \"text-align: right;\">0.0</td><td style = \"text-align: right;\">0.0</td><td style = \"text-align: right;\">0.0</td><td style = \"text-align: right;\">0.0</td><td style = \"text-align: right;\">0.0</td><td style = \"text-align: right;\">0.0</td><td style = \"text-align: right;\">1.0</td><td style = \"text-align: right;\">1.0</td><td style = \"text-align: right;\">0.0</td><td style = \"text-align: right;\">0.0</td><td style = \"text-align: right;\">1.0</td><td style = \"text-align: right;\">0.0</td><td style = \"text-align: right;\">0.0</td><td style = \"text-align: right;\">0.0</td><td style = \"text-align: right;\">32.0</td><td style = \"text-align: right;\">0.0</td><td style = \"text-align: right;\">0.0</td><td style = \"text-align: right;\">0.0</td><td style = \"text-align: right;\">0.0</td><td style = \"text-align: right;\">0.0</td><td style = \"text-align: right;\">0.0</td><td style = \"text-align: right;\">1.0</td><td style = \"text-align: right;\">0.0</td><td style = \"text-align: right;\">1.0</td><td style = \"text-align: right;\">0.0</td><td style = \"text-align: right;\">29.0</td><td style = \"text-align: right;\">1369.0</td><td style = \"text-align: right;\">0.0</td><td style = \"text-align: right;\">32.0</td><td style = \"text-align: right;\">0.0</td><td style = \"text-align: right;\">0.0</td><td style = \"text-align: right;\">0.0</td><td style = \"text-align: right;\">0.0</td><td style = \"text-align: right;\">0.0</td><td style = \"text-align: right;\">0.0</td><td style = \"text-align: right;\">0.0</td><td style = \"text-align: right;\">0.0</td><td style = \"text-align: left;\">Android_Adware</td></tr><tr><td class = \"rowNumber\" style = \"font-weight: bold; text-align: right;\">9</td><td style = \"text-align: right;\">35722</td><td style = \"text-align: right;\">80.0</td><td style = \"text-align: right;\">6.0</td><td style = \"text-align: right;\">49990</td><td style = \"text-align: right;\">2</td><td style = \"text-align: right;\">0</td><td style = \"text-align: right;\">0.0</td><td style = \"text-align: right;\">0.0</td><td style = \"text-align: right;\">0.0</td><td style = \"text-align: right;\">0.0</td><td style = \"text-align: right;\">0.0</td><td style = \"text-align: right;\">0.0</td><td style = \"text-align: right;\">0.0</td><td style = \"text-align: right;\">0.0</td><td style = \"text-align: right;\">0.0</td><td style = \"text-align: right;\">0.0</td><td style = \"text-align: right;\">0.0</td><td style = \"text-align: right;\">40.008</td><td style = \"text-align: right;\">49990.0</td><td style = \"text-align: right;\">0.0</td><td style = \"text-align: right;\">49990.0</td><td style = \"text-align: right;\">49990.0</td><td style = \"text-align: right;\">49990.0</td><td style = \"text-align: right;\">49990.0</td><td style = \"text-align: right;\">0.0</td><td style = \"text-align: right;\">49990.0</td><td style = \"text-align: right;\">49990.0</td><td style = \"text-align: right;\">0.0</td><td style = \"text-align: right;\">0.0</td><td style = \"text-align: right;\">0.0</td><td style = \"text-align: right;\">0.0</td><td style = \"text-align: right;\">0.0</td><td style = \"text-align: right;\">0.0</td><td style = \"text-align: right;\">0.0</td><td style = \"text-align: right;\">0</td><td style = \"text-align: right;\">0</td><td style = \"text-align: right;\">64</td><td style = \"text-align: right;\">0</td><td style = \"text-align: right;\">40.008</td><td style = \"text-align: right;\">0.0</td><td style = \"text-align: right;\">0.0</td><td style = \"text-align: right;\">0.0</td><td style = \"text-align: right;\">0.0</td><td style = \"text-align: right;\">0.0</td><td style = \"text-align: right;\">0.0</td><td style = \"text-align: right;\">0.0</td><td style = \"text-align: right;\">0.0</td><td style = \"text-align: right;\">0.0</td><td style = \"text-align: right;\">0.0</td><td style = \"text-align: right;\">1.0</td><td style = \"text-align: right;\">1.0</td><td style = \"text-align: right;\">0.0</td><td style = \"text-align: right;\">0.0</td><td style = \"text-align: right;\">0.0</td><td style = \"text-align: right;\">0.0</td><td style = \"text-align: right;\">0.0</td><td style = \"text-align: right;\">0.0</td><td style = \"text-align: right;\">64.0</td><td style = \"text-align: right;\">0.0</td><td style = \"text-align: right;\">0.0</td><td style = \"text-align: right;\">0.0</td><td style = \"text-align: right;\">0.0</td><td style = \"text-align: right;\">0.0</td><td style = \"text-align: right;\">0.0</td><td style = \"text-align: right;\">2.0</td><td style = \"text-align: right;\">0.0</td><td style = \"text-align: right;\">0.0</td><td style = \"text-align: right;\">0.0</td><td style = \"text-align: right;\">939.0</td><td style = \"text-align: right;\">-1.0</td><td style = \"text-align: right;\">0.0</td><td style = \"text-align: right;\">32.0</td><td style = \"text-align: right;\">0.0</td><td style = \"text-align: right;\">0.0</td><td style = \"text-align: right;\">0.0</td><td style = \"text-align: right;\">0.0</td><td style = \"text-align: right;\">0.0</td><td style = \"text-align: right;\">0.0</td><td style = \"text-align: right;\">0.0</td><td style = \"text-align: right;\">0.0</td><td style = \"text-align: left;\">Android_Adware</td></tr><tr><td class = \"rowNumber\" style = \"font-weight: bold; text-align: right;\">10</td><td style = \"text-align: right;\">48452</td><td style = \"text-align: right;\">80.0</td><td style = \"text-align: right;\">6.0</td><td style = \"text-align: right;\">1339275</td><td style = \"text-align: right;\">3</td><td style = \"text-align: right;\">0</td><td style = \"text-align: right;\">0.0</td><td style = \"text-align: right;\">0.0</td><td style = \"text-align: right;\">0.0</td><td style = \"text-align: right;\">0.0</td><td style = \"text-align: right;\">0.0</td><td style = \"text-align: right;\">0.0</td><td style = \"text-align: right;\">0.0</td><td style = \"text-align: right;\">0.0</td><td style = \"text-align: right;\">0.0</td><td style = \"text-align: right;\">0.0</td><td style = \"text-align: right;\">0.0</td><td style = \"text-align: right;\">2.24002</td><td style = \"text-align: right;\">6.69638e5</td><td style = \"text-align: right;\">6.79533e5</td><td style = \"text-align: right;\">1.15014e6</td><td style = \"text-align: right;\">189135.0</td><td style = \"text-align: right;\">1.33928e6</td><td style = \"text-align: right;\">6.69638e5</td><td style = \"text-align: right;\">6.79533e5</td><td style = \"text-align: right;\">1.15014e6</td><td style = \"text-align: right;\">189135.0</td><td style = \"text-align: right;\">0.0</td><td style = \"text-align: right;\">0.0</td><td style = \"text-align: right;\">0.0</td><td style = \"text-align: right;\">0.0</td><td style = \"text-align: right;\">0.0</td><td style = \"text-align: right;\">0.0</td><td style = \"text-align: right;\">0.0</td><td style = \"text-align: right;\">0</td><td style = \"text-align: right;\">0</td><td style = \"text-align: right;\">96</td><td style = \"text-align: right;\">0</td><td style = \"text-align: right;\">2.24002</td><td style = \"text-align: right;\">0.0</td><td style = \"text-align: right;\">0.0</td><td style = \"text-align: right;\">0.0</td><td style = \"text-align: right;\">0.0</td><td style = \"text-align: right;\">0.0</td><td style = \"text-align: right;\">0.0</td><td style = \"text-align: right;\">0.0</td><td style = \"text-align: right;\">0.0</td><td style = \"text-align: right;\">0.0</td><td style = \"text-align: right;\">0.0</td><td style = \"text-align: right;\">1.0</td><td style = \"text-align: right;\">1.0</td><td style = \"text-align: right;\">0.0</td><td style = \"text-align: right;\">0.0</td><td style = \"text-align: right;\">0.0</td><td style = \"text-align: right;\">0.0</td><td style = \"text-align: right;\">0.0</td><td style = \"text-align: right;\">0.0</td><td style = \"text-align: right;\">96.0</td><td style = \"text-align: right;\">0.0</td><td style = \"text-align: right;\">0.0</td><td style = \"text-align: right;\">0.0</td><td style = \"text-align: right;\">0.0</td><td style = \"text-align: right;\">0.0</td><td style = \"text-align: right;\">0.0</td><td style = \"text-align: right;\">3.0</td><td style = \"text-align: right;\">0.0</td><td style = \"text-align: right;\">0.0</td><td style = \"text-align: right;\">0.0</td><td style = \"text-align: right;\">285.0</td><td style = \"text-align: right;\">-1.0</td><td style = \"text-align: right;\">0.0</td><td style = \"text-align: right;\">32.0</td><td style = \"text-align: right;\">0.0</td><td style = \"text-align: right;\">0.0</td><td style = \"text-align: right;\">0.0</td><td style = \"text-align: right;\">0.0</td><td style = \"text-align: right;\">0.0</td><td style = \"text-align: right;\">0.0</td><td style = \"text-align: right;\">0.0</td><td style = \"text-align: right;\">0.0</td><td style = \"text-align: left;\">Android_Adware</td></tr><tr><td class = \"rowNumber\" style = \"font-weight: bold; text-align: right;\">11</td><td style = \"text-align: right;\">47553</td><td style = \"text-align: right;\">443.0</td><td style = \"text-align: right;\">6.0</td><td style = \"text-align: right;\">46239178</td><td style = \"text-align: right;\">2</td><td style = \"text-align: right;\">0</td><td style = \"text-align: right;\">62.0</td><td style = \"text-align: right;\">0.0</td><td style = \"text-align: right;\">31.0</td><td style = \"text-align: right;\">31.0</td><td style = \"text-align: right;\">31.0</td><td style = \"text-align: right;\">0.0</td><td style = \"text-align: right;\">0.0</td><td style = \"text-align: right;\">0.0</td><td style = \"text-align: right;\">0.0</td><td style = \"text-align: right;\">0.0</td><td style = \"text-align: right;\">1.34085</td><td style = \"text-align: right;\">0.0432534</td><td style = \"text-align: right;\">4.62392e7</td><td style = \"text-align: right;\">0.0</td><td style = \"text-align: right;\">4.62392e7</td><td style = \"text-align: right;\">4.62392e7</td><td style = \"text-align: right;\">4.62392e7</td><td style = \"text-align: right;\">4.62392e7</td><td style = \"text-align: right;\">0.0</td><td style = \"text-align: right;\">4.62392e7</td><td style = \"text-align: right;\">4.62392e7</td><td style = \"text-align: right;\">0.0</td><td style = \"text-align: right;\">0.0</td><td style = \"text-align: right;\">0.0</td><td style = \"text-align: right;\">0.0</td><td style = \"text-align: right;\">0.0</td><td style = \"text-align: right;\">1.0</td><td style = \"text-align: right;\">0.0</td><td style = \"text-align: right;\">0</td><td style = \"text-align: right;\">0</td><td style = \"text-align: right;\">64</td><td style = \"text-align: right;\">0</td><td style = \"text-align: right;\">0.0432534</td><td style = \"text-align: right;\">0.0</td><td style = \"text-align: right;\">31.0</td><td style = \"text-align: right;\">31.0</td><td style = \"text-align: right;\">31.0</td><td style = \"text-align: right;\">0.0</td><td style = \"text-align: right;\">0.0</td><td style = \"text-align: right;\">0.0</td><td style = \"text-align: right;\">1.0</td><td style = \"text-align: right;\">0.0</td><td style = \"text-align: right;\">0.0</td><td style = \"text-align: right;\">1.0</td><td style = \"text-align: right;\">1.0</td><td style = \"text-align: right;\">0.0</td><td style = \"text-align: right;\">0.0</td><td style = \"text-align: right;\">0.0</td><td style = \"text-align: right;\">46.5</td><td style = \"text-align: right;\">31.0</td><td style = \"text-align: right;\">0.0</td><td style = \"text-align: right;\">64.0</td><td style = \"text-align: right;\">0.0</td><td style = \"text-align: right;\">0.0</td><td style = \"text-align: right;\">0.0</td><td style = \"text-align: right;\">0.0</td><td style = \"text-align: right;\">0.0</td><td style = \"text-align: right;\">0.0</td><td style = \"text-align: right;\">2.0</td><td style = \"text-align: right;\">62.0</td><td style = \"text-align: right;\">0.0</td><td style = \"text-align: right;\">0.0</td><td style = \"text-align: right;\">1422.0</td><td style = \"text-align: right;\">-1.0</td><td style = \"text-align: right;\">1.0</td><td style = \"text-align: right;\">32.0</td><td style = \"text-align: right;\">0.0</td><td style = \"text-align: right;\">0.0</td><td style = \"text-align: right;\">0.0</td><td style = \"text-align: right;\">0.0</td><td style = \"text-align: right;\">0.0</td><td style = \"text-align: right;\">0.0</td><td style = \"text-align: right;\">0.0</td><td style = \"text-align: right;\">0.0</td><td style = \"text-align: left;\">Android_Scareware</td></tr><tr><td class = \"rowNumber\" style = \"font-weight: bold; text-align: right;\">12</td><td style = \"text-align: right;\">80</td><td style = \"text-align: right;\">48808.0</td><td style = \"text-align: right;\">6.0</td><td style = \"text-align: right;\">11437</td><td style = \"text-align: right;\">1</td><td style = \"text-align: right;\">1</td><td style = \"text-align: right;\">0.0</td><td style = \"text-align: right;\">0.0</td><td style = \"text-align: right;\">0.0</td><td style = \"text-align: right;\">0.0</td><td style = \"text-align: right;\">0.0</td><td style = \"text-align: right;\">0.0</td><td style = \"text-align: right;\">0.0</td><td style = \"text-align: right;\">0.0</td><td style = \"text-align: right;\">0.0</td><td style = \"text-align: right;\">0.0</td><td style = \"text-align: right;\">0.0</td><td style = \"text-align: right;\">174.871</td><td style = \"text-align: right;\">11437.0</td><td style = \"text-align: right;\">0.0</td><td style = \"text-align: right;\">11437.0</td><td style = \"text-align: right;\">11437.0</td><td style = \"text-align: right;\">0.0</td><td style = \"text-align: right;\">0.0</td><td style = \"text-align: right;\">0.0</td><td style = \"text-align: right;\">0.0</td><td style = \"text-align: right;\">0.0</td><td style = \"text-align: right;\">0.0</td><td style = \"text-align: right;\">0.0</td><td style = \"text-align: right;\">0.0</td><td style = \"text-align: right;\">0.0</td><td style = \"text-align: right;\">0.0</td><td style = \"text-align: right;\">0.0</td><td style = \"text-align: right;\">0.0</td><td style = \"text-align: right;\">0</td><td style = \"text-align: right;\">0</td><td style = \"text-align: right;\">20</td><td style = \"text-align: right;\">20</td><td style = \"text-align: right;\">87.4355</td><td style = \"text-align: right;\">87.4355</td><td style = \"text-align: right;\">0.0</td><td style = \"text-align: right;\">0.0</td><td style = \"text-align: right;\">0.0</td><td style = \"text-align: right;\">0.0</td><td style = \"text-align: right;\">0.0</td><td style = \"text-align: right;\">0.0</td><td style = \"text-align: right;\">0.0</td><td style = \"text-align: right;\">0.0</td><td style = \"text-align: right;\">0.0</td><td style = \"text-align: right;\">1.0</td><td style = \"text-align: right;\">1.0</td><td style = \"text-align: right;\">0.0</td><td style = \"text-align: right;\">0.0</td><td style = \"text-align: right;\">1.0</td><td style = \"text-align: right;\">0.0</td><td style = \"text-align: right;\">0.0</td><td style = \"text-align: right;\">0.0</td><td style = \"text-align: right;\">20.0</td><td style = \"text-align: right;\">0.0</td><td style = \"text-align: right;\">0.0</td><td style = \"text-align: right;\">0.0</td><td style = \"text-align: right;\">0.0</td><td style = \"text-align: right;\">0.0</td><td style = \"text-align: right;\">0.0</td><td style = \"text-align: right;\">1.0</td><td style = \"text-align: right;\">0.0</td><td style = \"text-align: right;\">1.0</td><td style = \"text-align: right;\">0.0</td><td style = \"text-align: right;\">115.0</td><td style = \"text-align: right;\">1369.0</td><td style = \"text-align: right;\">0.0</td><td style = \"text-align: right;\">20.0</td><td style = \"text-align: right;\">0.0</td><td style = \"text-align: right;\">0.0</td><td style = \"text-align: right;\">0.0</td><td style = \"text-align: right;\">0.0</td><td style = \"text-align: right;\">0.0</td><td style = \"text-align: right;\">0.0</td><td style = \"text-align: right;\">0.0</td><td style = \"text-align: right;\">0.0</td><td style = \"text-align: left;\">Android_Scareware</td></tr><tr><td class = \"rowNumber\" style = \"font-weight: bold; text-align: right;\">13</td><td style = \"text-align: right;\">43029</td><td style = \"text-align: right;\">80.0</td><td style = \"text-align: right;\">6.0</td><td style = \"text-align: right;\">10608256</td><td style = \"text-align: right;\">3</td><td style = \"text-align: right;\">1</td><td style = \"text-align: right;\">0.0</td><td style = \"text-align: right;\">0.0</td><td style = \"text-align: right;\">0.0</td><td style = \"text-align: right;\">0.0</td><td style = \"text-align: right;\">0.0</td><td style = \"text-align: right;\">0.0</td><td style = \"text-align: right;\">0.0</td><td style = \"text-align: right;\">0.0</td><td style = \"text-align: right;\">0.0</td><td style = \"text-align: right;\">0.0</td><td style = \"text-align: right;\">0.0</td><td style = \"text-align: right;\">0.377065</td><td style = \"text-align: right;\">3.53609e6</td><td style = \"text-align: right;\">5.84219e6</td><td style = \"text-align: right;\">1.02814e7</td><td style = \"text-align: right;\">82110.0</td><td style = \"text-align: right;\">1.06083e7</td><td style = \"text-align: right;\">5.30413e6</td><td style = \"text-align: right;\">7.03895e6</td><td style = \"text-align: right;\">1.02814e7</td><td style = \"text-align: right;\">326842.0</td><td style = \"text-align: right;\">0.0</td><td style = \"text-align: right;\">0.0</td><td style = \"text-align: right;\">0.0</td><td style = \"text-align: right;\">0.0</td><td style = \"text-align: right;\">0.0</td><td style = \"text-align: right;\">0.0</td><td style = \"text-align: right;\">0.0</td><td style = \"text-align: right;\">0</td><td style = \"text-align: right;\">0</td><td style = \"text-align: right;\">80</td><td style = \"text-align: right;\">40</td><td style = \"text-align: right;\">0.282799</td><td style = \"text-align: right;\">0.0942662</td><td style = \"text-align: right;\">0.0</td><td style = \"text-align: right;\">0.0</td><td style = \"text-align: right;\">0.0</td><td style = \"text-align: right;\">0.0</td><td style = \"text-align: right;\">0.0</td><td style = \"text-align: right;\">0.0</td><td style = \"text-align: right;\">0.0</td><td style = \"text-align: right;\">0.0</td><td style = \"text-align: right;\">1.0</td><td style = \"text-align: right;\">0.0</td><td style = \"text-align: right;\">0.0</td><td style = \"text-align: right;\">0.0</td><td style = \"text-align: right;\">0.0</td><td style = \"text-align: right;\">0.0</td><td style = \"text-align: right;\">0.0</td><td style = \"text-align: right;\">0.0</td><td style = \"text-align: right;\">0.0</td><td style = \"text-align: right;\">80.0</td><td style = \"text-align: right;\">0.0</td><td style = \"text-align: right;\">0.0</td><td style = \"text-align: right;\">0.0</td><td style = \"text-align: right;\">0.0</td><td style = \"text-align: right;\">0.0</td><td style = \"text-align: right;\">0.0</td><td style = \"text-align: right;\">3.0</td><td style = \"text-align: right;\">0.0</td><td style = \"text-align: right;\">1.0</td><td style = \"text-align: right;\">0.0</td><td style = \"text-align: right;\">65535.0</td><td style = \"text-align: right;\">8192.0</td><td style = \"text-align: right;\">0.0</td><td style = \"text-align: right;\">20.0</td><td style = \"text-align: right;\">0.0</td><td style = \"text-align: right;\">0.0</td><td style = \"text-align: right;\">0.0</td><td style = \"text-align: right;\">0.0</td><td style = \"text-align: right;\">0.0</td><td style = \"text-align: right;\">0.0</td><td style = \"text-align: right;\">0.0</td><td style = \"text-align: right;\">0.0</td><td style = \"text-align: left;\">Android_Scareware</td></tr><tr><td style = \"text-align: right;\">&vellip;</td><td style = \"text-align: right;\">&vellip;</td><td style = \"text-align: right;\">&vellip;</td><td style = \"text-align: right;\">&vellip;</td><td style = \"text-align: right;\">&vellip;</td><td style = \"text-align: right;\">&vellip;</td><td style = \"text-align: right;\">&vellip;</td><td style = \"text-align: right;\">&vellip;</td><td style = \"text-align: right;\">&vellip;</td><td style = \"text-align: right;\">&vellip;</td><td style = \"text-align: right;\">&vellip;</td><td style = \"text-align: right;\">&vellip;</td><td style = \"text-align: right;\">&vellip;</td><td style = \"text-align: right;\">&vellip;</td><td style = \"text-align: right;\">&vellip;</td><td style = \"text-align: right;\">&vellip;</td><td style = \"text-align: right;\">&vellip;</td><td style = \"text-align: right;\">&vellip;</td><td style = \"text-align: right;\">&vellip;</td><td style = \"text-align: right;\">&vellip;</td><td style = \"text-align: right;\">&vellip;</td><td style = \"text-align: right;\">&vellip;</td><td style = \"text-align: right;\">&vellip;</td><td style = \"text-align: right;\">&vellip;</td><td style = \"text-align: right;\">&vellip;</td><td style = \"text-align: right;\">&vellip;</td><td style = \"text-align: right;\">&vellip;</td><td style = \"text-align: right;\">&vellip;</td><td style = \"text-align: right;\">&vellip;</td><td style = \"text-align: right;\">&vellip;</td><td style = \"text-align: right;\">&vellip;</td><td style = \"text-align: right;\">&vellip;</td><td style = \"text-align: right;\">&vellip;</td><td style = \"text-align: right;\">&vellip;</td><td style = \"text-align: right;\">&vellip;</td><td style = \"text-align: right;\">&vellip;</td><td style = \"text-align: right;\">&vellip;</td><td style = \"text-align: right;\">&vellip;</td><td style = \"text-align: right;\">&vellip;</td><td style = \"text-align: right;\">&vellip;</td><td style = \"text-align: right;\">&vellip;</td><td style = \"text-align: right;\">&vellip;</td><td style = \"text-align: right;\">&vellip;</td><td style = \"text-align: right;\">&vellip;</td><td style = \"text-align: right;\">&vellip;</td><td style = \"text-align: right;\">&vellip;</td><td style = \"text-align: right;\">&vellip;</td><td style = \"text-align: right;\">&vellip;</td><td style = \"text-align: right;\">&vellip;</td><td style = \"text-align: right;\">&vellip;</td><td style = \"text-align: right;\">&vellip;</td><td style = \"text-align: right;\">&vellip;</td><td style = \"text-align: right;\">&vellip;</td><td style = \"text-align: right;\">&vellip;</td><td style = \"text-align: right;\">&vellip;</td><td style = \"text-align: right;\">&vellip;</td><td style = \"text-align: right;\">&vellip;</td><td style = \"text-align: right;\">&vellip;</td><td style = \"text-align: right;\">&vellip;</td><td style = \"text-align: right;\">&vellip;</td><td style = \"text-align: right;\">&vellip;</td><td style = \"text-align: right;\">&vellip;</td><td style = \"text-align: right;\">&vellip;</td><td style = \"text-align: right;\">&vellip;</td><td style = \"text-align: right;\">&vellip;</td><td style = \"text-align: right;\">&vellip;</td><td style = \"text-align: right;\">&vellip;</td><td style = \"text-align: right;\">&vellip;</td><td style = \"text-align: right;\">&vellip;</td><td style = \"text-align: right;\">&vellip;</td><td style = \"text-align: right;\">&vellip;</td><td style = \"text-align: right;\">&vellip;</td><td style = \"text-align: right;\">&vellip;</td><td style = \"text-align: right;\">&vellip;</td><td style = \"text-align: right;\">&vellip;</td><td style = \"text-align: right;\">&vellip;</td><td style = \"text-align: right;\">&vellip;</td><td style = \"text-align: right;\">&vellip;</td><td style = \"text-align: right;\">&vellip;</td><td style = \"text-align: right;\">&vellip;</td><td style = \"text-align: right;\">&vellip;</td><td style = \"text-align: right;\">&vellip;</td></tr><tr><td class = \"rowNumber\" style = \"font-weight: bold; text-align: right;\">35552</td><td style = \"text-align: right;\">40242</td><td style = \"text-align: right;\">80.0</td><td style = \"text-align: right;\">6.0</td><td style = \"text-align: right;\">25002745</td><td style = \"text-align: right;\">2</td><td style = \"text-align: right;\">0</td><td style = \"text-align: right;\">0.0</td><td style = \"text-align: right;\">0.0</td><td style = \"text-align: right;\">0.0</td><td style = \"text-align: right;\">0.0</td><td style = \"text-align: right;\">0.0</td><td style = \"text-align: right;\">0.0</td><td style = \"text-align: right;\">0.0</td><td style = \"text-align: right;\">0.0</td><td style = \"text-align: right;\">0.0</td><td style = \"text-align: right;\">0.0</td><td style = \"text-align: right;\">0.0</td><td style = \"text-align: right;\">0.0799912</td><td style = \"text-align: right;\">2.50027e7</td><td style = \"text-align: right;\">0.0</td><td style = \"text-align: right;\">2.50027e7</td><td style = \"text-align: right;\">2.50027e7</td><td style = \"text-align: right;\">2.50027e7</td><td style = \"text-align: right;\">2.50027e7</td><td style = \"text-align: right;\">0.0</td><td style = \"text-align: right;\">2.50027e7</td><td style = \"text-align: right;\">2.50027e7</td><td style = \"text-align: right;\">0.0</td><td style = \"text-align: right;\">0.0</td><td style = \"text-align: right;\">0.0</td><td style = \"text-align: right;\">0.0</td><td style = \"text-align: right;\">0.0</td><td style = \"text-align: right;\">0.0</td><td style = \"text-align: right;\">0.0</td><td style = \"text-align: right;\">0</td><td style = \"text-align: right;\">0</td><td style = \"text-align: right;\">40</td><td style = \"text-align: right;\">0</td><td style = \"text-align: right;\">0.0799912</td><td style = \"text-align: right;\">0.0</td><td style = \"text-align: right;\">0.0</td><td style = \"text-align: right;\">0.0</td><td style = \"text-align: right;\">0.0</td><td style = \"text-align: right;\">0.0</td><td style = \"text-align: right;\">0.0</td><td style = \"text-align: right;\">0.0</td><td style = \"text-align: right;\">0.0</td><td style = \"text-align: right;\">0.0</td><td style = \"text-align: right;\">0.0</td><td style = \"text-align: right;\">1.0</td><td style = \"text-align: right;\">1.0</td><td style = \"text-align: right;\">0.0</td><td style = \"text-align: right;\">0.0</td><td style = \"text-align: right;\">0.0</td><td style = \"text-align: right;\">0.0</td><td style = \"text-align: right;\">0.0</td><td style = \"text-align: right;\">0.0</td><td style = \"text-align: right;\">40.0</td><td style = \"text-align: right;\">0.0</td><td style = \"text-align: right;\">0.0</td><td style = \"text-align: right;\">0.0</td><td style = \"text-align: right;\">0.0</td><td style = \"text-align: right;\">0.0</td><td style = \"text-align: right;\">0.0</td><td style = \"text-align: right;\">2.0</td><td style = \"text-align: right;\">0.0</td><td style = \"text-align: right;\">0.0</td><td style = \"text-align: right;\">0.0</td><td style = \"text-align: right;\">1860.0</td><td style = \"text-align: right;\">-1.0</td><td style = \"text-align: right;\">0.0</td><td style = \"text-align: right;\">20.0</td><td style = \"text-align: right;\">0.0</td><td style = \"text-align: right;\">0.0</td><td style = \"text-align: right;\">0.0</td><td style = \"text-align: right;\">0.0</td><td style = \"text-align: right;\">0.0</td><td style = \"text-align: right;\">0.0</td><td style = \"text-align: right;\">0.0</td><td style = \"text-align: right;\">0.0</td><td style = \"text-align: left;\">Android_Adware</td></tr><tr><td class = \"rowNumber\" style = \"font-weight: bold; text-align: right;\">35553</td><td style = \"text-align: right;\">43600</td><td style = \"text-align: right;\">443.0</td><td style = \"text-align: right;\">6.0</td><td style = \"text-align: right;\">30465251</td><td style = \"text-align: right;\">3</td><td style = \"text-align: right;\">0</td><td style = \"text-align: right;\">0.0</td><td style = \"text-align: right;\">0.0</td><td style = \"text-align: right;\">0.0</td><td style = \"text-align: right;\">0.0</td><td style = \"text-align: right;\">0.0</td><td style = \"text-align: right;\">0.0</td><td style = \"text-align: right;\">0.0</td><td style = \"text-align: right;\">0.0</td><td style = \"text-align: right;\">0.0</td><td style = \"text-align: right;\">0.0</td><td style = \"text-align: right;\">0.0</td><td style = \"text-align: right;\">0.0984728</td><td style = \"text-align: right;\">1.52326e7</td><td style = \"text-align: right;\">2.14824e7</td><td style = \"text-align: right;\">3.0423e7</td><td style = \"text-align: right;\">42294.0</td><td style = \"text-align: right;\">3.04653e7</td><td style = \"text-align: right;\">1.52326e7</td><td style = \"text-align: right;\">2.14824e7</td><td style = \"text-align: right;\">3.0423e7</td><td style = \"text-align: right;\">42294.0</td><td style = \"text-align: right;\">0.0</td><td style = \"text-align: right;\">0.0</td><td style = \"text-align: right;\">0.0</td><td style = \"text-align: right;\">0.0</td><td style = \"text-align: right;\">0.0</td><td style = \"text-align: right;\">0.0</td><td style = \"text-align: right;\">0.0</td><td style = \"text-align: right;\">0</td><td style = \"text-align: right;\">0</td><td style = \"text-align: right;\">96</td><td style = \"text-align: right;\">0</td><td style = \"text-align: right;\">0.0984728</td><td style = \"text-align: right;\">0.0</td><td style = \"text-align: right;\">0.0</td><td style = \"text-align: right;\">0.0</td><td style = \"text-align: right;\">0.0</td><td style = \"text-align: right;\">0.0</td><td style = \"text-align: right;\">0.0</td><td style = \"text-align: right;\">0.0</td><td style = \"text-align: right;\">0.0</td><td style = \"text-align: right;\">0.0</td><td style = \"text-align: right;\">0.0</td><td style = \"text-align: right;\">1.0</td><td style = \"text-align: right;\">0.0</td><td style = \"text-align: right;\">0.0</td><td style = \"text-align: right;\">0.0</td><td style = \"text-align: right;\">0.0</td><td style = \"text-align: right;\">0.0</td><td style = \"text-align: right;\">0.0</td><td style = \"text-align: right;\">0.0</td><td style = \"text-align: right;\">96.0</td><td style = \"text-align: right;\">0.0</td><td style = \"text-align: right;\">0.0</td><td style = \"text-align: right;\">0.0</td><td style = \"text-align: right;\">0.0</td><td style = \"text-align: right;\">0.0</td><td style = \"text-align: right;\">0.0</td><td style = \"text-align: right;\">3.0</td><td style = \"text-align: right;\">0.0</td><td style = \"text-align: right;\">0.0</td><td style = \"text-align: right;\">0.0</td><td style = \"text-align: right;\">1686.0</td><td style = \"text-align: right;\">-1.0</td><td style = \"text-align: right;\">0.0</td><td style = \"text-align: right;\">32.0</td><td style = \"text-align: right;\">0.0</td><td style = \"text-align: right;\">0.0</td><td style = \"text-align: right;\">0.0</td><td style = \"text-align: right;\">0.0</td><td style = \"text-align: right;\">0.0</td><td style = \"text-align: right;\">0.0</td><td style = \"text-align: right;\">0.0</td><td style = \"text-align: right;\">0.0</td><td style = \"text-align: left;\">Benign</td></tr><tr><td class = \"rowNumber\" style = \"font-weight: bold; text-align: right;\">35554</td><td style = \"text-align: right;\">33413</td><td style = \"text-align: right;\">443.0</td><td style = \"text-align: right;\">6.0</td><td style = \"text-align: right;\">2469448</td><td style = \"text-align: right;\">13</td><td style = \"text-align: right;\">14</td><td style = \"text-align: right;\">6614.0</td><td style = \"text-align: right;\">1364.0</td><td style = \"text-align: right;\">1448.0</td><td style = \"text-align: right;\">0.0</td><td style = \"text-align: right;\">508.769</td><td style = \"text-align: right;\">589.806</td><td style = \"text-align: right;\">303.0</td><td style = \"text-align: right;\">0.0</td><td style = \"text-align: right;\">97.4286</td><td style = \"text-align: right;\">140.725</td><td style = \"text-align: right;\">3230.68</td><td style = \"text-align: right;\">10.9336</td><td style = \"text-align: right;\">94978.8</td><td style = \"text-align: right;\">2.07472e5</td><td style = \"text-align: right;\">787861.0</td><td style = \"text-align: right;\">42.0</td><td style = \"text-align: right;\">2.46945e6</td><td style = \"text-align: right;\">2.05787e5</td><td style = \"text-align: right;\">3.17271e5</td><td style = \"text-align: right;\">871158.0</td><td style = \"text-align: right;\">130.0</td><td style = \"text-align: right;\">2.38658e6</td><td style = \"text-align: right;\">1.83583e5</td><td style = \"text-align: right;\">2.69909e5</td><td style = \"text-align: right;\">787861.0</td><td style = \"text-align: right;\">42.0</td><td style = \"text-align: right;\">0.0</td><td style = \"text-align: right;\">0.0</td><td style = \"text-align: right;\">0</td><td style = \"text-align: right;\">0</td><td style = \"text-align: right;\">424</td><td style = \"text-align: right;\">456</td><td style = \"text-align: right;\">5.26433</td><td style = \"text-align: right;\">5.66928</td><td style = \"text-align: right;\">0.0</td><td style = \"text-align: right;\">1448.0</td><td style = \"text-align: right;\">284.929</td><td style = \"text-align: right;\">457.717</td><td style = \"text-align: right;\">209505.0</td><td style = \"text-align: right;\">0.0</td><td style = \"text-align: right;\">0.0</td><td style = \"text-align: right;\">0.0</td><td style = \"text-align: right;\">1.0</td><td style = \"text-align: right;\">0.0</td><td style = \"text-align: right;\">0.0</td><td style = \"text-align: right;\">0.0</td><td style = \"text-align: right;\">0.0</td><td style = \"text-align: right;\">1.0</td><td style = \"text-align: right;\">295.481</td><td style = \"text-align: right;\">508.769</td><td style = \"text-align: right;\">97.4286</td><td style = \"text-align: right;\">424.0</td><td style = \"text-align: right;\">0.0</td><td style = \"text-align: right;\">0.0</td><td style = \"text-align: right;\">0.0</td><td style = \"text-align: right;\">0.0</td><td style = \"text-align: right;\">0.0</td><td style = \"text-align: right;\">0.0</td><td style = \"text-align: right;\">13.0</td><td style = \"text-align: right;\">6614.0</td><td style = \"text-align: right;\">14.0</td><td style = \"text-align: right;\">1364.0</td><td style = \"text-align: right;\">65535.0</td><td style = \"text-align: right;\">1572.0</td><td style = \"text-align: right;\">9.0</td><td style = \"text-align: right;\">32.0</td><td style = \"text-align: right;\">0.0</td><td style = \"text-align: right;\">0.0</td><td style = \"text-align: right;\">0.0</td><td style = \"text-align: right;\">0.0</td><td style = \"text-align: right;\">0.0</td><td style = \"text-align: right;\">0.0</td><td style = \"text-align: right;\">0.0</td><td style = \"text-align: right;\">0.0</td><td style = \"text-align: left;\">Android_Adware</td></tr><tr><td class = \"rowNumber\" style = \"font-weight: bold; text-align: right;\">35555</td><td style = \"text-align: right;\">60085</td><td style = \"text-align: right;\">443.0</td><td style = \"text-align: right;\">6.0</td><td style = \"text-align: right;\">63</td><td style = \"text-align: right;\">2</td><td style = \"text-align: right;\">0</td><td style = \"text-align: right;\">0.0</td><td style = \"text-align: right;\">0.0</td><td style = \"text-align: right;\">0.0</td><td style = \"text-align: right;\">0.0</td><td style = \"text-align: right;\">0.0</td><td style = \"text-align: right;\">0.0</td><td style = \"text-align: right;\">0.0</td><td style = \"text-align: right;\">0.0</td><td style = \"text-align: right;\">0.0</td><td style = \"text-align: right;\">0.0</td><td style = \"text-align: right;\">0.0</td><td style = \"text-align: right;\">31746.0</td><td style = \"text-align: right;\">63.0</td><td style = \"text-align: right;\">0.0</td><td style = \"text-align: right;\">63.0</td><td style = \"text-align: right;\">63.0</td><td style = \"text-align: right;\">63.0</td><td style = \"text-align: right;\">63.0</td><td style = \"text-align: right;\">0.0</td><td style = \"text-align: right;\">63.0</td><td style = \"text-align: right;\">63.0</td><td style = \"text-align: right;\">0.0</td><td style = \"text-align: right;\">0.0</td><td style = \"text-align: right;\">0.0</td><td style = \"text-align: right;\">0.0</td><td style = \"text-align: right;\">0.0</td><td style = \"text-align: right;\">0.0</td><td style = \"text-align: right;\">0.0</td><td style = \"text-align: right;\">0</td><td style = \"text-align: right;\">0</td><td style = \"text-align: right;\">40</td><td style = \"text-align: right;\">0</td><td style = \"text-align: right;\">31746.0</td><td style = \"text-align: right;\">0.0</td><td style = \"text-align: right;\">0.0</td><td style = \"text-align: right;\">0.0</td><td style = \"text-align: right;\">0.0</td><td style = \"text-align: right;\">0.0</td><td style = \"text-align: right;\">0.0</td><td style = \"text-align: right;\">1.0</td><td style = \"text-align: right;\">0.0</td><td style = \"text-align: right;\">0.0</td><td style = \"text-align: right;\">0.0</td><td style = \"text-align: right;\">0.0</td><td style = \"text-align: right;\">0.0</td><td style = \"text-align: right;\">0.0</td><td style = \"text-align: right;\">0.0</td><td style = \"text-align: right;\">0.0</td><td style = \"text-align: right;\">0.0</td><td style = \"text-align: right;\">0.0</td><td style = \"text-align: right;\">0.0</td><td style = \"text-align: right;\">40.0</td><td style = \"text-align: right;\">0.0</td><td style = \"text-align: right;\">0.0</td><td style = \"text-align: right;\">0.0</td><td style = \"text-align: right;\">0.0</td><td style = \"text-align: right;\">0.0</td><td style = \"text-align: right;\">0.0</td><td style = \"text-align: right;\">2.0</td><td style = \"text-align: right;\">0.0</td><td style = \"text-align: right;\">0.0</td><td style = \"text-align: right;\">0.0</td><td style = \"text-align: right;\">0.0</td><td style = \"text-align: right;\">-1.0</td><td style = \"text-align: right;\">0.0</td><td style = \"text-align: right;\">20.0</td><td style = \"text-align: right;\">0.0</td><td style = \"text-align: right;\">0.0</td><td style = \"text-align: right;\">0.0</td><td style = \"text-align: right;\">0.0</td><td style = \"text-align: right;\">0.0</td><td style = \"text-align: right;\">0.0</td><td style = \"text-align: right;\">0.0</td><td style = \"text-align: right;\">0.0</td><td style = \"text-align: left;\">Android_SMS_Malware</td></tr><tr><td class = \"rowNumber\" style = \"font-weight: bold; text-align: right;\">35556</td><td style = \"text-align: right;\">443</td><td style = \"text-align: right;\">52915.0</td><td style = \"text-align: right;\">6.0</td><td style = \"text-align: right;\">7196</td><td style = \"text-align: right;\">1</td><td style = \"text-align: right;\">1</td><td style = \"text-align: right;\">0.0</td><td style = \"text-align: right;\">0.0</td><td style = \"text-align: right;\">0.0</td><td style = \"text-align: right;\">0.0</td><td style = \"text-align: right;\">0.0</td><td style = \"text-align: right;\">0.0</td><td style = \"text-align: right;\">0.0</td><td style = \"text-align: right;\">0.0</td><td style = \"text-align: right;\">0.0</td><td style = \"text-align: right;\">0.0</td><td style = \"text-align: right;\">0.0</td><td style = \"text-align: right;\">277.932</td><td style = \"text-align: right;\">7196.0</td><td style = \"text-align: right;\">0.0</td><td style = \"text-align: right;\">7196.0</td><td style = \"text-align: right;\">7196.0</td><td style = \"text-align: right;\">0.0</td><td style = \"text-align: right;\">0.0</td><td style = \"text-align: right;\">0.0</td><td style = \"text-align: right;\">0.0</td><td style = \"text-align: right;\">0.0</td><td style = \"text-align: right;\">0.0</td><td style = \"text-align: right;\">0.0</td><td style = \"text-align: right;\">0.0</td><td style = \"text-align: right;\">0.0</td><td style = \"text-align: right;\">0.0</td><td style = \"text-align: right;\">0.0</td><td style = \"text-align: right;\">0.0</td><td style = \"text-align: right;\">0</td><td style = \"text-align: right;\">0</td><td style = \"text-align: right;\">44</td><td style = \"text-align: right;\">32</td><td style = \"text-align: right;\">138.966</td><td style = \"text-align: right;\">138.966</td><td style = \"text-align: right;\">0.0</td><td style = \"text-align: right;\">0.0</td><td style = \"text-align: right;\">0.0</td><td style = \"text-align: right;\">0.0</td><td style = \"text-align: right;\">0.0</td><td style = \"text-align: right;\">0.0</td><td style = \"text-align: right;\">0.0</td><td style = \"text-align: right;\">0.0</td><td style = \"text-align: right;\">0.0</td><td style = \"text-align: right;\">1.0</td><td style = \"text-align: right;\">0.0</td><td style = \"text-align: right;\">0.0</td><td style = \"text-align: right;\">0.0</td><td style = \"text-align: right;\">1.0</td><td style = \"text-align: right;\">0.0</td><td style = \"text-align: right;\">0.0</td><td style = \"text-align: right;\">0.0</td><td style = \"text-align: right;\">44.0</td><td style = \"text-align: right;\">0.0</td><td style = \"text-align: right;\">0.0</td><td style = \"text-align: right;\">0.0</td><td style = \"text-align: right;\">0.0</td><td style = \"text-align: right;\">0.0</td><td style = \"text-align: right;\">0.0</td><td style = \"text-align: right;\">1.0</td><td style = \"text-align: right;\">0.0</td><td style = \"text-align: right;\">1.0</td><td style = \"text-align: right;\">0.0</td><td style = \"text-align: right;\">1025.0</td><td style = \"text-align: right;\">1550.0</td><td style = \"text-align: right;\">0.0</td><td style = \"text-align: right;\">44.0</td><td style = \"text-align: right;\">0.0</td><td style = \"text-align: right;\">0.0</td><td style = \"text-align: right;\">0.0</td><td style = \"text-align: right;\">0.0</td><td style = \"text-align: right;\">0.0</td><td style = \"text-align: right;\">0.0</td><td style = \"text-align: right;\">0.0</td><td style = \"text-align: right;\">0.0</td><td style = \"text-align: left;\">Android_Scareware</td></tr><tr><td class = \"rowNumber\" style = \"font-weight: bold; text-align: right;\">35557</td><td style = \"text-align: right;\">41224</td><td style = \"text-align: right;\">53.0</td><td style = \"text-align: right;\">17.0</td><td style = \"text-align: right;\">389782</td><td style = \"text-align: right;\">1</td><td style = \"text-align: right;\">1</td><td style = \"text-align: right;\">36.0</td><td style = \"text-align: right;\">113.0</td><td style = \"text-align: right;\">36.0</td><td style = \"text-align: right;\">36.0</td><td style = \"text-align: right;\">36.0</td><td style = \"text-align: right;\">0.0</td><td style = \"text-align: right;\">113.0</td><td style = \"text-align: right;\">113.0</td><td style = \"text-align: right;\">113.0</td><td style = \"text-align: right;\">0.0</td><td style = \"text-align: right;\">382.265</td><td style = \"text-align: right;\">5.13107</td><td style = \"text-align: right;\">389782.0</td><td style = \"text-align: right;\">0.0</td><td style = \"text-align: right;\">389782.0</td><td style = \"text-align: right;\">389782.0</td><td style = \"text-align: right;\">0.0</td><td style = \"text-align: right;\">0.0</td><td style = \"text-align: right;\">0.0</td><td style = \"text-align: right;\">0.0</td><td style = \"text-align: right;\">0.0</td><td style = \"text-align: right;\">0.0</td><td style = \"text-align: right;\">0.0</td><td style = \"text-align: right;\">0.0</td><td style = \"text-align: right;\">0.0</td><td style = \"text-align: right;\">0.0</td><td style = \"text-align: right;\">0.0</td><td style = \"text-align: right;\">0.0</td><td style = \"text-align: right;\">0</td><td style = \"text-align: right;\">0</td><td style = \"text-align: right;\">20</td><td style = \"text-align: right;\">32</td><td style = \"text-align: right;\">2.56554</td><td style = \"text-align: right;\">2.56554</td><td style = \"text-align: right;\">36.0</td><td style = \"text-align: right;\">113.0</td><td style = \"text-align: right;\">61.6667</td><td style = \"text-align: right;\">44.456</td><td style = \"text-align: right;\">1976.33</td><td style = \"text-align: right;\">0.0</td><td style = \"text-align: right;\">0.0</td><td style = \"text-align: right;\">0.0</td><td style = \"text-align: right;\">0.0</td><td style = \"text-align: right;\">0.0</td><td style = \"text-align: right;\">0.0</td><td style = \"text-align: right;\">0.0</td><td style = \"text-align: right;\">0.0</td><td style = \"text-align: right;\">1.0</td><td style = \"text-align: right;\">92.5</td><td style = \"text-align: right;\">36.0</td><td style = \"text-align: right;\">113.0</td><td style = \"text-align: right;\">20.0</td><td style = \"text-align: right;\">0.0</td><td style = \"text-align: right;\">0.0</td><td style = \"text-align: right;\">0.0</td><td style = \"text-align: right;\">0.0</td><td style = \"text-align: right;\">0.0</td><td style = \"text-align: right;\">0.0</td><td style = \"text-align: right;\">1.0</td><td style = \"text-align: right;\">36.0</td><td style = \"text-align: right;\">1.0</td><td style = \"text-align: right;\">113.0</td><td style = \"text-align: right;\">-1.0</td><td style = \"text-align: right;\">-1.0</td><td style = \"text-align: right;\">0.0</td><td style = \"text-align: right;\">20.0</td><td style = \"text-align: right;\">0.0</td><td style = \"text-align: right;\">0.0</td><td style = \"text-align: right;\">0.0</td><td style = \"text-align: right;\">0.0</td><td style = \"text-align: right;\">0.0</td><td style = \"text-align: right;\">0.0</td><td style = \"text-align: right;\">0.0</td><td style = \"text-align: right;\">0.0</td><td style = \"text-align: left;\">Android_Scareware</td></tr><tr><td class = \"rowNumber\" style = \"font-weight: bold; text-align: right;\">35558</td><td style = \"text-align: right;\">56448</td><td style = \"text-align: right;\">80.0</td><td style = \"text-align: right;\">6.0</td><td style = \"text-align: right;\">13113833</td><td style = \"text-align: right;\">6</td><td style = \"text-align: right;\">5</td><td style = \"text-align: right;\">1228.0</td><td style = \"text-align: right;\">2002.0</td><td style = \"text-align: right;\">780.0</td><td style = \"text-align: right;\">0.0</td><td style = \"text-align: right;\">204.667</td><td style = \"text-align: right;\">333.998</td><td style = \"text-align: right;\">1420.0</td><td style = \"text-align: right;\">0.0</td><td style = \"text-align: right;\">400.4</td><td style = \"text-align: right;\">623.202</td><td style = \"text-align: right;\">246.305</td><td style = \"text-align: right;\">0.838809</td><td style = \"text-align: right;\">1.31138e6</td><td style = \"text-align: right;\">3.14345e6</td><td style = \"text-align: right;\">1.00528e7</td><td style = \"text-align: right;\">604.0</td><td style = \"text-align: right;\">3.06104e6</td><td style = \"text-align: right;\">612208.0</td><td style = \"text-align: right;\">8.98102e5</td><td style = \"text-align: right;\">2.20545e6</td><td style = \"text-align: right;\">16458.0</td><td style = \"text-align: right;\">1.28535e7</td><td style = \"text-align: right;\">3.21338e6</td><td style = \"text-align: right;\">4.69133e6</td><td style = \"text-align: right;\">1.00556e7</td><td style = \"text-align: right;\">604.0</td><td style = \"text-align: right;\">0.0</td><td style = \"text-align: right;\">0.0</td><td style = \"text-align: right;\">0</td><td style = \"text-align: right;\">0</td><td style = \"text-align: right;\">200</td><td style = \"text-align: right;\">168</td><td style = \"text-align: right;\">0.457532</td><td style = \"text-align: right;\">0.381277</td><td style = \"text-align: right;\">0.0</td><td style = \"text-align: right;\">1420.0</td><td style = \"text-align: right;\">269.167</td><td style = \"text-align: right;\">456.749</td><td style = \"text-align: right;\">208620.0</td><td style = \"text-align: right;\">0.0</td><td style = \"text-align: right;\">0.0</td><td style = \"text-align: right;\">0.0</td><td style = \"text-align: right;\">1.0</td><td style = \"text-align: right;\">0.0</td><td style = \"text-align: right;\">0.0</td><td style = \"text-align: right;\">0.0</td><td style = \"text-align: right;\">0.0</td><td style = \"text-align: right;\">0.0</td><td style = \"text-align: right;\">293.636</td><td style = \"text-align: right;\">204.667</td><td style = \"text-align: right;\">400.4</td><td style = \"text-align: right;\">200.0</td><td style = \"text-align: right;\">0.0</td><td style = \"text-align: right;\">0.0</td><td style = \"text-align: right;\">0.0</td><td style = \"text-align: right;\">0.0</td><td style = \"text-align: right;\">0.0</td><td style = \"text-align: right;\">0.0</td><td style = \"text-align: right;\">6.0</td><td style = \"text-align: right;\">1228.0</td><td style = \"text-align: right;\">5.0</td><td style = \"text-align: right;\">2002.0</td><td style = \"text-align: right;\">65535.0</td><td style = \"text-align: right;\">66.0</td><td style = \"text-align: right;\">2.0</td><td style = \"text-align: right;\">32.0</td><td style = \"text-align: right;\">0.0</td><td style = \"text-align: right;\">0.0</td><td style = \"text-align: right;\">0.0</td><td style = \"text-align: right;\">0.0</td><td style = \"text-align: right;\">0.0</td><td style = \"text-align: right;\">0.0</td><td style = \"text-align: right;\">0.0</td><td style = \"text-align: right;\">0.0</td><td style = \"text-align: left;\">Android_Scareware</td></tr><tr><td class = \"rowNumber\" style = \"font-weight: bold; text-align: right;\">35559</td><td style = \"text-align: right;\">52791</td><td style = \"text-align: right;\">443.0</td><td style = \"text-align: right;\">6.0</td><td style = \"text-align: right;\">637558</td><td style = \"text-align: right;\">6</td><td style = \"text-align: right;\">9</td><td style = \"text-align: right;\">829.0</td><td style = \"text-align: right;\">4324.0</td><td style = \"text-align: right;\">517.0</td><td style = \"text-align: right;\">0.0</td><td style = \"text-align: right;\">138.167</td><td style = \"text-align: right;\">211.41</td><td style = \"text-align: right;\">1418.0</td><td style = \"text-align: right;\">0.0</td><td style = \"text-align: right;\">480.444</td><td style = \"text-align: right;\">686.793</td><td style = \"text-align: right;\">8082.4</td><td style = \"text-align: right;\">23.5273</td><td style = \"text-align: right;\">45539.9</td><td style = \"text-align: right;\">79901.3</td><td style = \"text-align: right;\">261757.0</td><td style = \"text-align: right;\">10.0</td><td style = \"text-align: right;\">600138.0</td><td style = \"text-align: right;\">1.20028e5</td><td style = \"text-align: right;\">1.51968e5</td><td style = \"text-align: right;\">337971.0</td><td style = \"text-align: right;\">71.0</td><td style = \"text-align: right;\">600623.0</td><td style = \"text-align: right;\">75077.9</td><td style = \"text-align: right;\">1.27101e5</td><td style = \"text-align: right;\">298390.0</td><td style = \"text-align: right;\">10.0</td><td style = \"text-align: right;\">0.0</td><td style = \"text-align: right;\">0.0</td><td style = \"text-align: right;\">0</td><td style = \"text-align: right;\">0</td><td style = \"text-align: right;\">200</td><td style = \"text-align: right;\">296</td><td style = \"text-align: right;\">9.41091</td><td style = \"text-align: right;\">14.1164</td><td style = \"text-align: right;\">0.0</td><td style = \"text-align: right;\">1418.0</td><td style = \"text-align: right;\">322.062</td><td style = \"text-align: right;\">549.506</td><td style = \"text-align: right;\">3.01956e5</td><td style = \"text-align: right;\">0.0</td><td style = \"text-align: right;\">0.0</td><td style = \"text-align: right;\">0.0</td><td style = \"text-align: right;\">1.0</td><td style = \"text-align: right;\">0.0</td><td style = \"text-align: right;\">0.0</td><td style = \"text-align: right;\">0.0</td><td style = \"text-align: right;\">0.0</td><td style = \"text-align: right;\">1.0</td><td style = \"text-align: right;\">343.533</td><td style = \"text-align: right;\">138.167</td><td style = \"text-align: right;\">480.444</td><td style = \"text-align: right;\">200.0</td><td style = \"text-align: right;\">0.0</td><td style = \"text-align: right;\">0.0</td><td style = \"text-align: right;\">0.0</td><td style = \"text-align: right;\">0.0</td><td style = \"text-align: right;\">0.0</td><td style = \"text-align: right;\">0.0</td><td style = \"text-align: right;\">6.0</td><td style = \"text-align: right;\">829.0</td><td style = \"text-align: right;\">9.0</td><td style = \"text-align: right;\">4324.0</td><td style = \"text-align: right;\">65535.0</td><td style = \"text-align: right;\">349.0</td><td style = \"text-align: right;\">3.0</td><td style = \"text-align: right;\">32.0</td><td style = \"text-align: right;\">0.0</td><td style = \"text-align: right;\">0.0</td><td style = \"text-align: right;\">0.0</td><td style = \"text-align: right;\">0.0</td><td style = \"text-align: right;\">0.0</td><td style = \"text-align: right;\">0.0</td><td style = \"text-align: right;\">0.0</td><td style = \"text-align: right;\">0.0</td><td style = \"text-align: left;\">Android_SMS_Malware</td></tr><tr><td class = \"rowNumber\" style = \"font-weight: bold; text-align: right;\">35560</td><td style = \"text-align: right;\">37547</td><td style = \"text-align: right;\">80.0</td><td style = \"text-align: right;\">6.0</td><td style = \"text-align: right;\">1654271</td><td style = \"text-align: right;\">2</td><td style = \"text-align: right;\">0</td><td style = \"text-align: right;\">0.0</td><td style = \"text-align: right;\">0.0</td><td style = \"text-align: right;\">0.0</td><td style = \"text-align: right;\">0.0</td><td style = \"text-align: right;\">0.0</td><td style = \"text-align: right;\">0.0</td><td style = \"text-align: right;\">0.0</td><td style = \"text-align: right;\">0.0</td><td style = \"text-align: right;\">0.0</td><td style = \"text-align: right;\">0.0</td><td style = \"text-align: right;\">0.0</td><td style = \"text-align: right;\">1.20899</td><td style = \"text-align: right;\">1.65427e6</td><td style = \"text-align: right;\">0.0</td><td style = \"text-align: right;\">1.65427e6</td><td style = \"text-align: right;\">1.65427e6</td><td style = \"text-align: right;\">1.65427e6</td><td style = \"text-align: right;\">1.65427e6</td><td style = \"text-align: right;\">0.0</td><td style = \"text-align: right;\">1.65427e6</td><td style = \"text-align: right;\">1.65427e6</td><td style = \"text-align: right;\">0.0</td><td style = \"text-align: right;\">0.0</td><td style = \"text-align: right;\">0.0</td><td style = \"text-align: right;\">0.0</td><td style = \"text-align: right;\">0.0</td><td style = \"text-align: right;\">0.0</td><td style = \"text-align: right;\">0.0</td><td style = \"text-align: right;\">0</td><td style = \"text-align: right;\">0</td><td style = \"text-align: right;\">40</td><td style = \"text-align: right;\">0</td><td style = \"text-align: right;\">1.20899</td><td style = \"text-align: right;\">0.0</td><td style = \"text-align: right;\">0.0</td><td style = \"text-align: right;\">0.0</td><td style = \"text-align: right;\">0.0</td><td style = \"text-align: right;\">0.0</td><td style = \"text-align: right;\">0.0</td><td style = \"text-align: right;\">0.0</td><td style = \"text-align: right;\">0.0</td><td style = \"text-align: right;\">0.0</td><td style = \"text-align: right;\">0.0</td><td style = \"text-align: right;\">1.0</td><td style = \"text-align: right;\">1.0</td><td style = \"text-align: right;\">0.0</td><td style = \"text-align: right;\">0.0</td><td style = \"text-align: right;\">0.0</td><td style = \"text-align: right;\">0.0</td><td style = \"text-align: right;\">0.0</td><td style = \"text-align: right;\">0.0</td><td style = \"text-align: right;\">40.0</td><td style = \"text-align: right;\">0.0</td><td style = \"text-align: right;\">0.0</td><td style = \"text-align: right;\">0.0</td><td style = \"text-align: right;\">0.0</td><td style = \"text-align: right;\">0.0</td><td style = \"text-align: right;\">0.0</td><td style = \"text-align: right;\">2.0</td><td style = \"text-align: right;\">0.0</td><td style = \"text-align: right;\">0.0</td><td style = \"text-align: right;\">0.0</td><td style = \"text-align: right;\">2919.0</td><td style = \"text-align: right;\">-1.0</td><td style = \"text-align: right;\">0.0</td><td style = \"text-align: right;\">20.0</td><td style = \"text-align: right;\">0.0</td><td style = \"text-align: right;\">0.0</td><td style = \"text-align: right;\">0.0</td><td style = \"text-align: right;\">0.0</td><td style = \"text-align: right;\">0.0</td><td style = \"text-align: right;\">0.0</td><td style = \"text-align: right;\">0.0</td><td style = \"text-align: right;\">0.0</td><td style = \"text-align: left;\">Android_Adware</td></tr><tr><td class = \"rowNumber\" style = \"font-weight: bold; text-align: right;\">35561</td><td style = \"text-align: right;\">53114</td><td style = \"text-align: right;\">80.0</td><td style = \"text-align: right;\">6.0</td><td style = \"text-align: right;\">10642320</td><td style = \"text-align: right;\">4</td><td style = \"text-align: right;\">4</td><td style = \"text-align: right;\">567.0</td><td style = \"text-align: right;\">395.0</td><td style = \"text-align: right;\">567.0</td><td style = \"text-align: right;\">0.0</td><td style = \"text-align: right;\">141.75</td><td style = \"text-align: right;\">283.5</td><td style = \"text-align: right;\">395.0</td><td style = \"text-align: right;\">0.0</td><td style = \"text-align: right;\">98.75</td><td style = \"text-align: right;\">197.5</td><td style = \"text-align: right;\">90.3938</td><td style = \"text-align: right;\">0.751716</td><td style = \"text-align: right;\">1.52033e6</td><td style = \"text-align: right;\">3.74564e6</td><td style = \"text-align: right;\">1.00081e7</td><td style = \"text-align: right;\">857.0</td><td style = \"text-align: right;\">634212.0</td><td style = \"text-align: right;\">211404.0</td><td style = \"text-align: right;\">1.82345e5</td><td style = \"text-align: right;\">318868.0</td><td style = \"text-align: right;\">865.0</td><td style = \"text-align: right;\">1.03257e7</td><td style = \"text-align: right;\">3.44191e6</td><td style = \"text-align: right;\">5.69176e6</td><td style = \"text-align: right;\">1.00117e7</td><td style = \"text-align: right;\">857.0</td><td style = \"text-align: right;\">0.0</td><td style = \"text-align: right;\">0.0</td><td style = \"text-align: right;\">0</td><td style = \"text-align: right;\">0</td><td style = \"text-align: right;\">100</td><td style = \"text-align: right;\">92</td><td style = \"text-align: right;\">0.375858</td><td style = \"text-align: right;\">0.375858</td><td style = \"text-align: right;\">0.0</td><td style = \"text-align: right;\">567.0</td><td style = \"text-align: right;\">106.889</td><td style = \"text-align: right;\">216.416</td><td style = \"text-align: right;\">46835.9</td><td style = \"text-align: right;\">0.0</td><td style = \"text-align: right;\">0.0</td><td style = \"text-align: right;\">0.0</td><td style = \"text-align: right;\">1.0</td><td style = \"text-align: right;\">0.0</td><td style = \"text-align: right;\">0.0</td><td style = \"text-align: right;\">0.0</td><td style = \"text-align: right;\">0.0</td><td style = \"text-align: right;\">1.0</td><td style = \"text-align: right;\">120.25</td><td style = \"text-align: right;\">141.75</td><td style = \"text-align: right;\">98.75</td><td style = \"text-align: right;\">100.0</td><td style = \"text-align: right;\">0.0</td><td style = \"text-align: right;\">0.0</td><td style = \"text-align: right;\">0.0</td><td style = \"text-align: right;\">0.0</td><td style = \"text-align: right;\">0.0</td><td style = \"text-align: right;\">0.0</td><td style = \"text-align: right;\">4.0</td><td style = \"text-align: right;\">567.0</td><td style = \"text-align: right;\">4.0</td><td style = \"text-align: right;\">395.0</td><td style = \"text-align: right;\">65535.0</td><td style = \"text-align: right;\">31.0</td><td style = \"text-align: right;\">1.0</td><td style = \"text-align: right;\">20.0</td><td style = \"text-align: right;\">0.0</td><td style = \"text-align: right;\">0.0</td><td style = \"text-align: right;\">0.0</td><td style = \"text-align: right;\">0.0</td><td style = \"text-align: right;\">0.0</td><td style = \"text-align: right;\">0.0</td><td style = \"text-align: right;\">0.0</td><td style = \"text-align: right;\">0.0</td><td style = \"text-align: left;\">Android_Scareware</td></tr><tr><td class = \"rowNumber\" style = \"font-weight: bold; text-align: right;\">35562</td><td style = \"text-align: right;\">51600</td><td style = \"text-align: right;\">53.0</td><td style = \"text-align: right;\">17.0</td><td style = \"text-align: right;\">2006799</td><td style = \"text-align: right;\">1</td><td style = \"text-align: right;\">1</td><td style = \"text-align: right;\">35.0</td><td style = \"text-align: right;\">82.0</td><td style = \"text-align: right;\">35.0</td><td style = \"text-align: right;\">35.0</td><td style = \"text-align: right;\">35.0</td><td style = \"text-align: right;\">0.0</td><td style = \"text-align: right;\">82.0</td><td style = \"text-align: right;\">82.0</td><td style = \"text-align: right;\">82.0</td><td style = \"text-align: right;\">0.0</td><td style = \"text-align: right;\">58.3018</td><td style = \"text-align: right;\">0.996612</td><td style = \"text-align: right;\">2.0068e6</td><td style = \"text-align: right;\">0.0</td><td style = \"text-align: right;\">2.0068e6</td><td style = \"text-align: right;\">2.0068e6</td><td style = \"text-align: right;\">0.0</td><td style = \"text-align: right;\">0.0</td><td style = \"text-align: right;\">0.0</td><td style = \"text-align: right;\">0.0</td><td style = \"text-align: right;\">0.0</td><td style = \"text-align: right;\">0.0</td><td style = \"text-align: right;\">0.0</td><td style = \"text-align: right;\">0.0</td><td style = \"text-align: right;\">0.0</td><td style = \"text-align: right;\">0.0</td><td style = \"text-align: right;\">0.0</td><td style = \"text-align: right;\">0.0</td><td style = \"text-align: right;\">0</td><td style = \"text-align: right;\">0</td><td style = \"text-align: right;\">20</td><td style = \"text-align: right;\">20</td><td style = \"text-align: right;\">0.498306</td><td style = \"text-align: right;\">0.498306</td><td style = \"text-align: right;\">35.0</td><td style = \"text-align: right;\">82.0</td><td style = \"text-align: right;\">50.6667</td><td style = \"text-align: right;\">27.1355</td><td style = \"text-align: right;\">736.333</td><td style = \"text-align: right;\">0.0</td><td style = \"text-align: right;\">0.0</td><td style = \"text-align: right;\">0.0</td><td style = \"text-align: right;\">0.0</td><td style = \"text-align: right;\">0.0</td><td style = \"text-align: right;\">0.0</td><td style = \"text-align: right;\">0.0</td><td style = \"text-align: right;\">0.0</td><td style = \"text-align: right;\">1.0</td><td style = \"text-align: right;\">76.0</td><td style = \"text-align: right;\">35.0</td><td style = \"text-align: right;\">82.0</td><td style = \"text-align: right;\">20.0</td><td style = \"text-align: right;\">0.0</td><td style = \"text-align: right;\">0.0</td><td style = \"text-align: right;\">0.0</td><td style = \"text-align: right;\">0.0</td><td style = \"text-align: right;\">0.0</td><td style = \"text-align: right;\">0.0</td><td style = \"text-align: right;\">1.0</td><td style = \"text-align: right;\">35.0</td><td style = \"text-align: right;\">1.0</td><td style = \"text-align: right;\">82.0</td><td style = \"text-align: right;\">-1.0</td><td style = \"text-align: right;\">-1.0</td><td style = \"text-align: right;\">0.0</td><td style = \"text-align: right;\">20.0</td><td style = \"text-align: right;\">0.0</td><td style = \"text-align: right;\">0.0</td><td style = \"text-align: right;\">0.0</td><td style = \"text-align: right;\">0.0</td><td style = \"text-align: right;\">0.0</td><td style = \"text-align: right;\">0.0</td><td style = \"text-align: right;\">0.0</td><td style = \"text-align: right;\">0.0</td><td style = \"text-align: left;\">Android_Adware</td></tr><tr><td class = \"rowNumber\" style = \"font-weight: bold; text-align: right;\">35563</td><td style = \"text-align: right;\">26442</td><td style = \"text-align: right;\">53.0</td><td style = \"text-align: right;\">17.0</td><td style = \"text-align: right;\">87781</td><td style = \"text-align: right;\">1</td><td style = \"text-align: right;\">1</td><td style = \"text-align: right;\">35.0</td><td style = \"text-align: right;\">139.0</td><td style = \"text-align: right;\">35.0</td><td style = \"text-align: right;\">35.0</td><td style = \"text-align: right;\">35.0</td><td style = \"text-align: right;\">0.0</td><td style = \"text-align: right;\">139.0</td><td style = \"text-align: right;\">139.0</td><td style = \"text-align: right;\">139.0</td><td style = \"text-align: right;\">0.0</td><td style = \"text-align: right;\">1982.21</td><td style = \"text-align: right;\">22.784</td><td style = \"text-align: right;\">87781.0</td><td style = \"text-align: right;\">0.0</td><td style = \"text-align: right;\">87781.0</td><td style = \"text-align: right;\">87781.0</td><td style = \"text-align: right;\">0.0</td><td style = \"text-align: right;\">0.0</td><td style = \"text-align: right;\">0.0</td><td style = \"text-align: right;\">0.0</td><td style = \"text-align: right;\">0.0</td><td style = \"text-align: right;\">0.0</td><td style = \"text-align: right;\">0.0</td><td style = \"text-align: right;\">0.0</td><td style = \"text-align: right;\">0.0</td><td style = \"text-align: right;\">0.0</td><td style = \"text-align: right;\">0.0</td><td style = \"text-align: right;\">0.0</td><td style = \"text-align: right;\">0</td><td style = \"text-align: right;\">0</td><td style = \"text-align: right;\">20</td><td style = \"text-align: right;\">40</td><td style = \"text-align: right;\">11.392</td><td style = \"text-align: right;\">11.392</td><td style = \"text-align: right;\">35.0</td><td style = \"text-align: right;\">139.0</td><td style = \"text-align: right;\">69.6667</td><td style = \"text-align: right;\">60.0444</td><td style = \"text-align: right;\">3605.33</td><td style = \"text-align: right;\">0.0</td><td style = \"text-align: right;\">0.0</td><td style = \"text-align: right;\">0.0</td><td style = \"text-align: right;\">0.0</td><td style = \"text-align: right;\">0.0</td><td style = \"text-align: right;\">0.0</td><td style = \"text-align: right;\">0.0</td><td style = \"text-align: right;\">0.0</td><td style = \"text-align: right;\">1.0</td><td style = \"text-align: right;\">104.5</td><td style = \"text-align: right;\">35.0</td><td style = \"text-align: right;\">139.0</td><td style = \"text-align: right;\">20.0</td><td style = \"text-align: right;\">0.0</td><td style = \"text-align: right;\">0.0</td><td style = \"text-align: right;\">0.0</td><td style = \"text-align: right;\">0.0</td><td style = \"text-align: right;\">0.0</td><td style = \"text-align: right;\">0.0</td><td style = \"text-align: right;\">1.0</td><td style = \"text-align: right;\">35.0</td><td style = \"text-align: right;\">1.0</td><td style = \"text-align: right;\">139.0</td><td style = \"text-align: right;\">-1.0</td><td style = \"text-align: right;\">-1.0</td><td style = \"text-align: right;\">0.0</td><td style = \"text-align: right;\">20.0</td><td style = \"text-align: right;\">0.0</td><td style = \"text-align: right;\">0.0</td><td style = \"text-align: right;\">0.0</td><td style = \"text-align: right;\">0.0</td><td style = \"text-align: right;\">0.0</td><td style = \"text-align: right;\">0.0</td><td style = \"text-align: right;\">0.0</td><td style = \"text-align: right;\">0.0</td><td style = \"text-align: left;\">Android_Scareware</td></tr></tbody></table></div>"
      ],
      "text/latex": [
       "\\begin{tabular}{r|cccccc}\n",
       "\t&  Source Port &  Destination Port &  Protocol &  Flow Duration &  Total Fwd Packets & \\\\\n",
       "\t\\hline\n",
       "\t& Int64 & Float64 & Float64 & Int64 & Int64 & \\\\\n",
       "\t\\hline\n",
       "\t1 & 58310 & 443.0 & 6.0 & 96170080 & 8 & $\\dots$ \\\\\n",
       "\t2 & 11350 & 53.0 & 17.0 & 109573 & 1 & $\\dots$ \\\\\n",
       "\t3 & 26802 & 53.0 & 17.0 & 47706 & 1 & $\\dots$ \\\\\n",
       "\t4 & 60386 & 443.0 & 6.0 & 20808858 & 8 & $\\dots$ \\\\\n",
       "\t5 & 5177 & 53.0 & 17.0 & 30578 & 1 & $\\dots$ \\\\\n",
       "\t6 & 36339 & 443.0 & 6.0 & 35525 & 1 & $\\dots$ \\\\\n",
       "\t7 & 60460 & 53.0 & 17.0 & 516206 & 1 & $\\dots$ \\\\\n",
       "\t8 & 80 & 59249.0 & 6.0 & 3140 & 1 & $\\dots$ \\\\\n",
       "\t9 & 35722 & 80.0 & 6.0 & 49990 & 2 & $\\dots$ \\\\\n",
       "\t10 & 48452 & 80.0 & 6.0 & 1339275 & 3 & $\\dots$ \\\\\n",
       "\t11 & 47553 & 443.0 & 6.0 & 46239178 & 2 & $\\dots$ \\\\\n",
       "\t12 & 80 & 48808.0 & 6.0 & 11437 & 1 & $\\dots$ \\\\\n",
       "\t13 & 43029 & 80.0 & 6.0 & 10608256 & 3 & $\\dots$ \\\\\n",
       "\t14 & 59742 & 80.0 & 6.0 & 40475267 & 3 & $\\dots$ \\\\\n",
       "\t15 & 49542 & 80.0 & 6.0 & 593681 & 3 & $\\dots$ \\\\\n",
       "\t16 & 57709 & 443.0 & 6.0 & 1706937 & 29 & $\\dots$ \\\\\n",
       "\t17 & 47581 & 80.0 & 6.0 & 10326808 & 3 & $\\dots$ \\\\\n",
       "\t18 & 58834 & 53.0 & 17.0 & 95920 & 1 & $\\dots$ \\\\\n",
       "\t19 & 57413 & 443.0 & 6.0 & 9555689 & 2 & $\\dots$ \\\\\n",
       "\t20 & 42615 & 443.0 & 6.0 & 1943939 & 25 & $\\dots$ \\\\\n",
       "\t21 & 44451 & 80.0 & 6.0 & 558836 & 3 & $\\dots$ \\\\\n",
       "\t22 & 34533 & 443.0 & 6.0 & 312796 & 5 & $\\dots$ \\\\\n",
       "\t23 & 35539 & 80.0 & 6.0 & 34139665 & 11 & $\\dots$ \\\\\n",
       "\t24 & 57443 & 443.0 & 6.0 & 730217 & 26 & $\\dots$ \\\\\n",
       "\t25 & 443 & 40527.0 & 6.0 & 81 & 3 & $\\dots$ \\\\\n",
       "\t26 & 47076 & 443.0 & 6.0 & 9292 & 13 & $\\dots$ \\\\\n",
       "\t27 & 47102 & 80.0 & 6.0 & 59196 & 5 & $\\dots$ \\\\\n",
       "\t28 & 50228 & 443.0 & 6.0 & 49242493 & 2 & $\\dots$ \\\\\n",
       "\t29 & 42085 & 443.0 & 6.0 & 176709 & 8 & $\\dots$ \\\\\n",
       "\t30 & 9578 & 53.0 & 17.0 & 1054 & 1 & $\\dots$ \\\\\n",
       "\t$\\dots$ & $\\dots$ & $\\dots$ & $\\dots$ & $\\dots$ & $\\dots$ &  \\\\\n",
       "\\end{tabular}\n"
      ],
      "text/plain": [
       "\u001b[1m35563×81 DataFrame\u001b[0m\n",
       "\u001b[1m   Row \u001b[0m│\u001b[1m  Source Port \u001b[0m\u001b[1m  Destination Port \u001b[0m\u001b[1m  Protocol \u001b[0m\u001b[1m  Flow Duration \u001b[0m\u001b[1m  Total Fw\u001b[0m ⋯\n",
       "       │\u001b[90m Int64        \u001b[0m\u001b[90m Float64           \u001b[0m\u001b[90m Float64   \u001b[0m\u001b[90m Int64          \u001b[0m\u001b[90m Int64    \u001b[0m ⋯\n",
       "───────┼────────────────────────────────────────────────────────────────────────\n",
       "     1 │        58310              443.0        6.0        96170080            ⋯\n",
       "     2 │        11350               53.0       17.0          109573\n",
       "     3 │        26802               53.0       17.0           47706\n",
       "     4 │        60386              443.0        6.0        20808858\n",
       "     5 │         5177               53.0       17.0           30578            ⋯\n",
       "     6 │        36339              443.0        6.0           35525\n",
       "     7 │        60460               53.0       17.0          516206\n",
       "     8 │           80            59249.0        6.0            3140\n",
       "     9 │        35722               80.0        6.0           49990            ⋯\n",
       "    10 │        48452               80.0        6.0         1339275\n",
       "    11 │        47553              443.0        6.0        46239178\n",
       "   ⋮   │      ⋮                ⋮              ⋮            ⋮                 ⋮ ⋱\n",
       " 35554 │        33413              443.0        6.0         2469448\n",
       " 35555 │        60085              443.0        6.0              63            ⋯\n",
       " 35556 │          443            52915.0        6.0            7196\n",
       " 35557 │        41224               53.0       17.0          389782\n",
       " 35558 │        56448               80.0        6.0        13113833\n",
       " 35559 │        52791              443.0        6.0          637558            ⋯\n",
       " 35560 │        37547               80.0        6.0         1654271\n",
       " 35561 │        53114               80.0        6.0        10642320\n",
       " 35562 │        51600               53.0       17.0         2006799\n",
       " 35563 │        26442               53.0       17.0           87781            ⋯\n",
       "\u001b[36m                                               77 columns and 35542 rows omitted\u001b[0m"
      ]
     },
     "execution_count": 2,
     "metadata": {},
     "output_type": "execute_result"
    }
   ],
   "source": [
    "file_path = \"dataset/simplified_Android_Malware.csv\"\n",
    "\n",
    "data = CSV.File(file_path, header=true) |> DataFrame\n",
    "\n",
    "columns_to_drop = [\"Flow ID\", \" Source IP\", \" Destination IP\", \" Timestamp\"]\n",
    "\n",
    "select!(data, Not(columns_to_drop))\n",
    "dropmissing!(data)"
   ]
  },
  {
   "cell_type": "code",
   "execution_count": 3,
   "id": "dc9fda2c",
   "metadata": {
    "scrolled": true
   },
   "outputs": [
    {
     "data": {
      "text/html": [
       "<div><div style = \"float: left;\"><span>81×7 DataFrame</span></div><div style = \"float: right;\"><span style = \"font-style: italic;\">56 rows omitted</span></div><div style = \"clear: both;\"></div></div><div class = \"data-frame\" style = \"overflow-x: scroll;\"><table class = \"data-frame\" style = \"margin-bottom: 6px;\"><thead><tr class = \"header\"><th class = \"rowNumber\" style = \"font-weight: bold; text-align: right;\">Row</th><th style = \"text-align: left;\">variable</th><th style = \"text-align: left;\">mean</th><th style = \"text-align: left;\">min</th><th style = \"text-align: left;\">median</th><th style = \"text-align: left;\">max</th><th style = \"text-align: left;\">nmissing</th><th style = \"text-align: left;\">eltype</th></tr><tr class = \"subheader headerLastRow\"><th class = \"rowNumber\" style = \"font-weight: bold; text-align: right;\"></th><th title = \"Symbol\" style = \"text-align: left;\">Symbol</th><th title = \"Union{Nothing, Float64}\" style = \"text-align: left;\">Union…</th><th title = \"Any\" style = \"text-align: left;\">Any</th><th title = \"Union{Nothing, Float64}\" style = \"text-align: left;\">Union…</th><th title = \"Any\" style = \"text-align: left;\">Any</th><th title = \"Int64\" style = \"text-align: left;\">Int64</th><th title = \"DataType\" style = \"text-align: left;\">DataType</th></tr></thead><tbody><tr><td class = \"rowNumber\" style = \"font-weight: bold; text-align: right;\">1</td><td style = \"text-align: left;\"> Source Port</td><td style = \"text-align: left;\">39136.0</td><td style = \"text-align: left;\">0</td><td style = \"text-align: left;\">43262.0</td><td style = \"text-align: left;\">65517</td><td style = \"text-align: right;\">0</td><td style = \"text-align: left;\">Int64</td></tr><tr><td class = \"rowNumber\" style = \"font-weight: bold; text-align: right;\">2</td><td style = \"text-align: left;\"> Destination Port</td><td style = \"text-align: left;\">5277.97</td><td style = \"text-align: left;\">0.0</td><td style = \"text-align: left;\">443.0</td><td style = \"text-align: left;\">65165.0</td><td style = \"text-align: right;\">0</td><td style = \"text-align: left;\">Float64</td></tr><tr><td class = \"rowNumber\" style = \"font-weight: bold; text-align: right;\">3</td><td style = \"text-align: left;\"> Protocol</td><td style = \"text-align: left;\">8.33805</td><td style = \"text-align: left;\">0.0</td><td style = \"text-align: left;\">6.0</td><td style = \"text-align: left;\">17.0</td><td style = \"text-align: right;\">0</td><td style = \"text-align: left;\">Float64</td></tr><tr><td class = \"rowNumber\" style = \"font-weight: bold; text-align: right;\">4</td><td style = \"text-align: left;\"> Flow Duration</td><td style = \"text-align: left;\">1.07323e7</td><td style = \"text-align: left;\">2</td><td style = \"text-align: left;\">549353.0</td><td style = \"text-align: left;\">119977227</td><td style = \"text-align: right;\">0</td><td style = \"text-align: left;\">Int64</td></tr><tr><td class = \"rowNumber\" style = \"font-weight: bold; text-align: right;\">5</td><td style = \"text-align: left;\"> Total Fwd Packets</td><td style = \"text-align: left;\">7.11518</td><td style = \"text-align: left;\">1</td><td style = \"text-align: left;\">2.0</td><td style = \"text-align: left;\">3503</td><td style = \"text-align: right;\">0</td><td style = \"text-align: left;\">Int64</td></tr><tr><td class = \"rowNumber\" style = \"font-weight: bold; text-align: right;\">6</td><td style = \"text-align: left;\"> Total Backward Packets</td><td style = \"text-align: left;\">10.6211</td><td style = \"text-align: left;\">0</td><td style = \"text-align: left;\">1.0</td><td style = \"text-align: left;\">15439</td><td style = \"text-align: right;\">0</td><td style = \"text-align: left;\">Int64</td></tr><tr><td class = \"rowNumber\" style = \"font-weight: bold; text-align: right;\">7</td><td style = \"text-align: left;\">Total Length of Fwd Packets</td><td style = \"text-align: left;\">632.24</td><td style = \"text-align: left;\">0.0</td><td style = \"text-align: left;\">31.0</td><td style = \"text-align: left;\">748480.0</td><td style = \"text-align: right;\">0</td><td style = \"text-align: left;\">Float64</td></tr><tr><td class = \"rowNumber\" style = \"font-weight: bold; text-align: right;\">8</td><td style = \"text-align: left;\"> Total Length of Bwd Packets</td><td style = \"text-align: left;\">11585.8</td><td style = \"text-align: left;\">0.0</td><td style = \"text-align: left;\">17.0</td><td style = \"text-align: left;\">2.23272e7</td><td style = \"text-align: right;\">0</td><td style = \"text-align: left;\">Float64</td></tr><tr><td class = \"rowNumber\" style = \"font-weight: bold; text-align: right;\">9</td><td style = \"text-align: left;\"> Fwd Packet Length Max</td><td style = \"text-align: left;\">210.841</td><td style = \"text-align: left;\">0.0</td><td style = \"text-align: left;\">31.0</td><td style = \"text-align: left;\">1460.0</td><td style = \"text-align: right;\">0</td><td style = \"text-align: left;\">Float64</td></tr><tr><td class = \"rowNumber\" style = \"font-weight: bold; text-align: right;\">10</td><td style = \"text-align: left;\"> Fwd Packet Length Min</td><td style = \"text-align: left;\">12.7919</td><td style = \"text-align: left;\">0.0</td><td style = \"text-align: left;\">0.0</td><td style = \"text-align: left;\">1460.0</td><td style = \"text-align: right;\">0</td><td style = \"text-align: left;\">Float64</td></tr><tr><td class = \"rowNumber\" style = \"font-weight: bold; text-align: right;\">11</td><td style = \"text-align: left;\"> Fwd Packet Length Mean</td><td style = \"text-align: left;\">59.8856</td><td style = \"text-align: left;\">0.0</td><td style = \"text-align: left;\">28.0</td><td style = \"text-align: left;\">1460.0</td><td style = \"text-align: right;\">0</td><td style = \"text-align: left;\">Float64</td></tr><tr><td class = \"rowNumber\" style = \"font-weight: bold; text-align: right;\">12</td><td style = \"text-align: left;\"> Fwd Packet Length Std</td><td style = \"text-align: left;\">79.0864</td><td style = \"text-align: left;\">0.0</td><td style = \"text-align: left;\">0.0</td><td style = \"text-align: left;\">963.079</td><td style = \"text-align: right;\">0</td><td style = \"text-align: left;\">Float64</td></tr><tr><td class = \"rowNumber\" style = \"font-weight: bold; text-align: right;\">13</td><td style = \"text-align: left;\">Bwd Packet Length Max</td><td style = \"text-align: left;\">315.744</td><td style = \"text-align: left;\">0.0</td><td style = \"text-align: left;\">17.0</td><td style = \"text-align: left;\">1460.0</td><td style = \"text-align: right;\">0</td><td style = \"text-align: left;\">Float64</td></tr><tr><td style = \"text-align: right;\">&vellip;</td><td style = \"text-align: right;\">&vellip;</td><td style = \"text-align: right;\">&vellip;</td><td style = \"text-align: right;\">&vellip;</td><td style = \"text-align: right;\">&vellip;</td><td style = \"text-align: right;\">&vellip;</td><td style = \"text-align: right;\">&vellip;</td><td style = \"text-align: right;\">&vellip;</td></tr><tr><td class = \"rowNumber\" style = \"font-weight: bold; text-align: right;\">70</td><td style = \"text-align: left;\"> Init_Win_bytes_backward</td><td style = \"text-align: left;\">2065.33</td><td style = \"text-align: left;\">-1.0</td><td style = \"text-align: left;\">-1.0</td><td style = \"text-align: left;\">65535.0</td><td style = \"text-align: right;\">0</td><td style = \"text-align: left;\">Float64</td></tr><tr><td class = \"rowNumber\" style = \"font-weight: bold; text-align: right;\">71</td><td style = \"text-align: left;\"> act_data_pkt_fwd</td><td style = \"text-align: left;\">1.46169</td><td style = \"text-align: left;\">0.0</td><td style = \"text-align: left;\">0.0</td><td style = \"text-align: left;\">579.0</td><td style = \"text-align: right;\">0</td><td style = \"text-align: left;\">Float64</td></tr><tr><td class = \"rowNumber\" style = \"font-weight: bold; text-align: right;\">72</td><td style = \"text-align: left;\"> min_seg_size_forward</td><td style = \"text-align: left;\">-18735.1</td><td style = \"text-align: left;\">-6.67232e8</td><td style = \"text-align: left;\">32.0</td><td style = \"text-align: left;\">172.0</td><td style = \"text-align: right;\">0</td><td style = \"text-align: left;\">Float64</td></tr><tr><td class = \"rowNumber\" style = \"font-weight: bold; text-align: right;\">73</td><td style = \"text-align: left;\">Active Mean</td><td style = \"text-align: left;\">165430.0</td><td style = \"text-align: left;\">0.0</td><td style = \"text-align: left;\">0.0</td><td style = \"text-align: left;\">9.71849e7</td><td style = \"text-align: right;\">0</td><td style = \"text-align: left;\">Float64</td></tr><tr><td class = \"rowNumber\" style = \"font-weight: bold; text-align: right;\">74</td><td style = \"text-align: left;\"> Active Std</td><td style = \"text-align: left;\">19003.5</td><td style = \"text-align: left;\">0.0</td><td style = \"text-align: left;\">0.0</td><td style = \"text-align: left;\">1.2112e7</td><td style = \"text-align: right;\">0</td><td style = \"text-align: left;\">Float64</td></tr><tr><td class = \"rowNumber\" style = \"font-weight: bold; text-align: right;\">75</td><td style = \"text-align: left;\"> Active Max</td><td style = \"text-align: left;\">1.8389e5</td><td style = \"text-align: left;\">0.0</td><td style = \"text-align: left;\">0.0</td><td style = \"text-align: left;\">9.71849e7</td><td style = \"text-align: right;\">0</td><td style = \"text-align: left;\">Float64</td></tr><tr><td class = \"rowNumber\" style = \"font-weight: bold; text-align: right;\">76</td><td style = \"text-align: left;\"> Active Min</td><td style = \"text-align: left;\">1.50245e5</td><td style = \"text-align: left;\">0.0</td><td style = \"text-align: left;\">0.0</td><td style = \"text-align: left;\">9.71849e7</td><td style = \"text-align: right;\">0</td><td style = \"text-align: left;\">Float64</td></tr><tr><td class = \"rowNumber\" style = \"font-weight: bold; text-align: right;\">77</td><td style = \"text-align: left;\">Idle Mean</td><td style = \"text-align: left;\">3.90691e6</td><td style = \"text-align: left;\">0.0</td><td style = \"text-align: left;\">0.0</td><td style = \"text-align: left;\">1.19951e8</td><td style = \"text-align: right;\">0</td><td style = \"text-align: left;\">Float64</td></tr><tr><td class = \"rowNumber\" style = \"font-weight: bold; text-align: right;\">78</td><td style = \"text-align: left;\"> Idle Std</td><td style = \"text-align: left;\">2.93554e5</td><td style = \"text-align: left;\">0.0</td><td style = \"text-align: left;\">0.0</td><td style = \"text-align: left;\">6.96977e7</td><td style = \"text-align: right;\">0</td><td style = \"text-align: left;\">Float64</td></tr><tr><td class = \"rowNumber\" style = \"font-weight: bold; text-align: right;\">79</td><td style = \"text-align: left;\"> Idle Max</td><td style = \"text-align: left;\">4.16931e6</td><td style = \"text-align: left;\">0.0</td><td style = \"text-align: left;\">0.0</td><td style = \"text-align: left;\">1.19951e8</td><td style = \"text-align: right;\">0</td><td style = \"text-align: left;\">Float64</td></tr><tr><td class = \"rowNumber\" style = \"font-weight: bold; text-align: right;\">80</td><td style = \"text-align: left;\"> Idle Min</td><td style = \"text-align: left;\">3.6782e6</td><td style = \"text-align: left;\">0.0</td><td style = \"text-align: left;\">0.0</td><td style = \"text-align: left;\">1.19951e8</td><td style = \"text-align: right;\">0</td><td style = \"text-align: left;\">Float64</td></tr><tr><td class = \"rowNumber\" style = \"font-weight: bold; text-align: right;\">81</td><td style = \"text-align: left;\">Label</td><td style = \"font-style: italic; text-align: left;\"></td><td style = \"text-align: left;\">Android_Adware</td><td style = \"font-style: italic; text-align: left;\"></td><td style = \"text-align: left;\">Benign</td><td style = \"text-align: right;\">0</td><td style = \"text-align: left;\">String31</td></tr></tbody></table></div>"
      ],
      "text/latex": [
       "\\begin{tabular}{r|ccccccc}\n",
       "\t& variable & mean & min & median & max & nmissing & \\\\\n",
       "\t\\hline\n",
       "\t& Symbol & Union… & Any & Union… & Any & Int64 & \\\\\n",
       "\t\\hline\n",
       "\t1 &  Source Port & 39136.0 & 0 & 43262.0 & 65517 & 0 & $\\dots$ \\\\\n",
       "\t2 &  Destination Port & 5277.97 & 0.0 & 443.0 & 65165.0 & 0 & $\\dots$ \\\\\n",
       "\t3 &  Protocol & 8.33805 & 0.0 & 6.0 & 17.0 & 0 & $\\dots$ \\\\\n",
       "\t4 &  Flow Duration & 1.07323e7 & 2 & 549353.0 & 119977227 & 0 & $\\dots$ \\\\\n",
       "\t5 &  Total Fwd Packets & 7.11518 & 1 & 2.0 & 3503 & 0 & $\\dots$ \\\\\n",
       "\t6 &  Total Backward Packets & 10.6211 & 0 & 1.0 & 15439 & 0 & $\\dots$ \\\\\n",
       "\t7 & Total Length of Fwd Packets & 632.24 & 0.0 & 31.0 & 748480.0 & 0 & $\\dots$ \\\\\n",
       "\t8 &  Total Length of Bwd Packets & 11585.8 & 0.0 & 17.0 & 2.23272e7 & 0 & $\\dots$ \\\\\n",
       "\t9 &  Fwd Packet Length Max & 210.841 & 0.0 & 31.0 & 1460.0 & 0 & $\\dots$ \\\\\n",
       "\t10 &  Fwd Packet Length Min & 12.7919 & 0.0 & 0.0 & 1460.0 & 0 & $\\dots$ \\\\\n",
       "\t11 &  Fwd Packet Length Mean & 59.8856 & 0.0 & 28.0 & 1460.0 & 0 & $\\dots$ \\\\\n",
       "\t12 &  Fwd Packet Length Std & 79.0864 & 0.0 & 0.0 & 963.079 & 0 & $\\dots$ \\\\\n",
       "\t13 & Bwd Packet Length Max & 315.744 & 0.0 & 17.0 & 1460.0 & 0 & $\\dots$ \\\\\n",
       "\t14 &  Bwd Packet Length Min & 22.9371 & 0.0 & 0.0 & 1460.0 & 0 & $\\dots$ \\\\\n",
       "\t15 &  Bwd Packet Length Mean & 164.932 & 0.0 & 4.25 & 1460.0 & 0 & $\\dots$ \\\\\n",
       "\t16 &  Bwd Packet Length Std & 121.936 & 0.0 & 0.0 & 823.301 & 0 & $\\dots$ \\\\\n",
       "\t17 & Flow Bytes/s & 79727.3 & 0.0 & 82.995 & 7.4e7 & 0 & $\\dots$ \\\\\n",
       "\t18 &  Flow Packets/s & 5216.45 & 0.0166734 & 7.80921 & 1.0e6 & 0 & $\\dots$ \\\\\n",
       "\t19 &  Flow IAT Mean & 3.13744e6 & 2.0 & 229023.0 & 1.19951e8 & 0 & $\\dots$ \\\\\n",
       "\t20 &  Flow IAT Std & 2.41611e6 & 0.0 & 0.0 & 8.396e7 & 0 & $\\dots$ \\\\\n",
       "\t21 &  Flow IAT Max & 9.30201e6 & 2.0 & 331883.0 & 1.19951e8 & 0 & $\\dots$ \\\\\n",
       "\t22 &  Flow IAT Min & 2.01349e6 & -10.0 & 3592.0 & 1.19951e8 & 0 & $\\dots$ \\\\\n",
       "\t23 & Fwd IAT Total & 7.41911e6 & 0.0 & 245557.0 & 1.19977e8 & 0 & $\\dots$ \\\\\n",
       "\t24 &  Fwd IAT Mean & 3.16333e6 & 0.0 & 43949.5 & 1.19951e8 & 0 & $\\dots$ \\\\\n",
       "\t25 &  Fwd IAT Std & 1.92876e6 & 0.0 & 0.0 & 8.396e7 & 0 & $\\dots$ \\\\\n",
       "\t26 &  Fwd IAT Max & 6.17879e6 & 0.0 & 118526.0 & 1.19951e8 & 0 & $\\dots$ \\\\\n",
       "\t27 &  Fwd IAT Min & 2.03718e6 & 0.0 & 95.0 & 1.19951e8 & 0 & $\\dots$ \\\\\n",
       "\t28 & Bwd IAT Total & 5.42661e6 & 0.0 & 0.0 & 1.19917e8 & 0 & $\\dots$ \\\\\n",
       "\t29 &  Bwd IAT Mean & 9.12693e5 & 0.0 & 0.0 & 1.10958e8 & 0 & $\\dots$ \\\\\n",
       "\t30 &  Bwd IAT Std & 1.36967e6 & 0.0 & 0.0 & 7.80661e7 & 0 & $\\dots$ \\\\\n",
       "\t$\\dots$ & $\\dots$ & $\\dots$ & $\\dots$ & $\\dots$ & $\\dots$ & $\\dots$ &  \\\\\n",
       "\\end{tabular}\n"
      ],
      "text/plain": [
       "\u001b[1m81×7 DataFrame\u001b[0m\n",
       "\u001b[1m Row \u001b[0m│\u001b[1m variable                     \u001b[0m\u001b[1m mean      \u001b[0m\u001b[1m min            \u001b[0m\u001b[1m median   \u001b[0m\u001b[1m max \u001b[0m ⋯\n",
       "     │\u001b[90m Symbol                       \u001b[0m\u001b[90m Union…    \u001b[0m\u001b[90m Any            \u001b[0m\u001b[90m Union…   \u001b[0m\u001b[90m Any \u001b[0m ⋯\n",
       "─────┼──────────────────────────────────────────────────────────────────────────\n",
       "   1 │  Source Port                  39136.0    0               43262.0   6551 ⋯\n",
       "   2 │  Destination Port             5277.97    0.0             443.0     6516\n",
       "   3 │  Protocol                     8.33805    0.0             6.0       17.0\n",
       "   4 │  Flow Duration                1.07323e7  2               549353.0  1199\n",
       "   5 │  Total Fwd Packets            7.11518    1               2.0       3503 ⋯\n",
       "   6 │  Total Backward Packets       10.6211    0               1.0       1543\n",
       "   7 │ Total Length of Fwd Packets   632.24     0.0             31.0      7484\n",
       "   8 │  Total Length of Bwd Packets  11585.8    0.0             17.0      2.23\n",
       "   9 │  Fwd Packet Length Max        210.841    0.0             31.0      1460 ⋯\n",
       "  10 │  Fwd Packet Length Min        12.7919    0.0             0.0       1460\n",
       "  11 │  Fwd Packet Length Mean       59.8856    0.0             28.0      1460\n",
       "  ⋮  │              ⋮                    ⋮            ⋮            ⋮           ⋱\n",
       "  72 │  min_seg_size_forward         -18735.1   -6.67232e8      32.0      172.\n",
       "  73 │ Active Mean                   165430.0   0.0             0.0       9.71 ⋯\n",
       "  74 │  Active Std                   19003.5    0.0             0.0       1.21\n",
       "  75 │  Active Max                   1.8389e5   0.0             0.0       9.71\n",
       "  76 │  Active Min                   1.50245e5  0.0             0.0       9.71\n",
       "  77 │ Idle Mean                     3.90691e6  0.0             0.0       1.19 ⋯\n",
       "  78 │  Idle Std                     2.93554e5  0.0             0.0       6.96\n",
       "  79 │  Idle Max                     4.16931e6  0.0             0.0       1.19\n",
       "  80 │  Idle Min                     3.6782e6   0.0             0.0       1.19\n",
       "  81 │ Label                        \u001b[90m           \u001b[0m Android_Adware \u001b[90m          \u001b[0m Beni ⋯\n",
       "\u001b[36m                                                   3 columns and 60 rows omitted\u001b[0m"
      ]
     },
     "execution_count": 3,
     "metadata": {},
     "output_type": "execute_result"
    }
   ],
   "source": [
    "#show(data, allrows=false)\n",
    "describe(data)"
   ]
  },
  {
   "cell_type": "markdown",
   "id": "686acd66",
   "metadata": {},
   "source": [
    "### First approach: binary classification"
   ]
  },
  {
   "cell_type": "code",
   "execution_count": 4,
   "id": "d2856c53",
   "metadata": {},
   "outputs": [],
   "source": [
    "function transform_binary_class(output_data)\n",
    "    binary_labels = output_data .== \"Benign\"\n",
    "    return binary_labels\n",
    "end\n",
    "\n",
    "input_data = Matrix(data[!, 1:80]);\n",
    "\n",
    "output_data = data[!, :Label];\n",
    "\n",
    "binary_labels = transform_binary_class(output_data)\n",
    "@assert binary_labels isa BitVector\n",
    "@assert input_data isa Matrix"
   ]
  },
  {
   "cell_type": "code",
   "execution_count": 5,
   "id": "58b7af8e",
   "metadata": {},
   "outputs": [],
   "source": [
    "include(\"functions.jl\")\n",
    "using Random\n",
    "\n",
    "Random.seed!(42)\n",
    "\n",
    "train_indexes, test_indexes = holdOut(size(input_data, 1), 0.2)\n",
    "\n",
    "train_input = input_data[train_indexes, :]\n",
    "train_output = binary_labels[train_indexes, :]\n",
    "\n",
    "test_input = input_data[test_indexes, :]\n",
    "test_output = binary_labels[test_indexes, :]\n",
    "\n",
    "@assert size(test_input, 1) == size(test_output, 1)\n",
    "@assert size(train_input, 1) == size(train_output, 1)"
   ]
  },
  {
   "cell_type": "code",
   "execution_count": 6,
   "id": "2448ca83-4861-4a55-bc36-6526d5dd37b4",
   "metadata": {},
   "outputs": [
    {
     "name": "stderr",
     "output_type": "stream",
     "text": [
      "\u001b[36m\u001b[1m[ \u001b[22m\u001b[39m\u001b[36m\u001b[1mInfo: \u001b[22m\u001b[39mmkl not found, proceeding to installing non-mkl versions of sci-kit learn via Conda\n",
      "\u001b[36m\u001b[1m[ \u001b[22m\u001b[39m\u001b[36m\u001b[1mInfo: \u001b[22m\u001b[39mRunning `conda install -y -c conda-forge 'scikit-learn>=1.2,<1.3'` in root environment\n"
     ]
    },
    {
     "name": "stdout",
     "output_type": "stream",
     "text": [
      "Collecting package metadata (current_repodata.json): ...working... done\n",
      "Solving environment: ...working... done\n",
      "\n",
      "# All requested packages already installed.\n",
      "\n"
     ]
    },
    {
     "name": "stderr",
     "output_type": "stream",
     "text": [
      "\n",
      "\n",
      "==> WARNING: A newer version of conda exists. <==\n",
      "  current version: 4.12.0\n",
      "  latest version: 23.10.0\n",
      "\n",
      "Please update conda by running\n",
      "\n",
      "    $ conda update -n base conda\n",
      "\n",
      "\n"
     ]
    }
   ],
   "source": [
    "using ScikitLearn\n",
    "\n",
    "@sk_import svm:SVC;\n",
    "@sk_import tree:DecisionTreeClassifier;\n",
    "@sk_import ensemble:VotingClassifier\n",
    "@sk_import neighbors: KNeighborsClassifier;\n"
   ]
  },
  {
   "cell_type": "code",
   "execution_count": 7,
   "id": "b936a961",
   "metadata": {},
   "outputs": [],
   "source": [
    "# models = Dict( \"SVM\" => SVC(probability=true), \n",
    "#          \"DT\"=> DecisionTreeClassifier(max_depth=4))\n",
    "# base_models =  [ name for name in keys(models)]\n",
    "\n",
    "# for key in keys(models)\n",
    "#     model = models[key]\n",
    "#     fit!(model, train_input, train_output)\n",
    "#     acc = score(model, test_input, test_output)\n",
    "#     println(\"$key: $(round(acc*100, digits=2))%\")\n",
    "# end"
   ]
  },
  {
   "cell_type": "code",
   "execution_count": 8,
   "metadata": {},
   "outputs": [
    {
     "data": {
      "text/plain": [
       "0.9254885421060031"
      ]
     },
     "execution_count": 8,
     "metadata": {},
     "output_type": "execute_result"
    }
   ],
   "source": [
    "dt = DecisionTreeClassifier(max_depth=13)\n",
    "fit!(dt, train_input, train_output)\n",
    "score(dt, test_input, test_output)"
   ]
  },
  {
   "cell_type": "code",
   "execution_count": 9,
   "metadata": {},
   "outputs": [
    {
     "name": "stderr",
     "output_type": "stream",
     "text": [
      "/Users/alexdopico/.julia/conda/3/lib/python3.9/site-packages/sklearn/neighbors/_classification.py:215: DataConversionWarning: A column-vector y was passed when a 1d array was expected. Please change the shape of y to (n_samples,), for example using ravel().\n",
      "  return self._fit(X, y)\n"
     ]
    },
    {
     "data": {
      "text/plain": [
       "0.9320961619569802"
      ]
     },
     "execution_count": 9,
     "metadata": {},
     "output_type": "execute_result"
    }
   ],
   "source": [
    "knn = KNeighborsClassifier(13)\n",
    "fit!(knn, train_input, train_output)\n",
    "score(knn, test_input, test_output)"
   ]
  },
  {
   "cell_type": "code",
   "execution_count": 10,
   "id": "3a472aae",
   "metadata": {},
   "outputs": [
    {
     "name": "stderr",
     "output_type": "stream",
     "text": [
      "/Users/alexdopico/.julia/conda/3/lib/python3.9/site-packages/sklearn/utils/validation.py:1143: DataConversionWarning: A column-vector y was passed when a 1d array was expected. Please change the shape of y to (n_samples, ), for example using ravel().\n",
      "  y = column_or_1d(y, warn=True)\n"
     ]
    },
    {
     "data": {
      "text/plain": [
       "0.9323773372697877"
      ]
     },
     "execution_count": 10,
     "metadata": {},
     "output_type": "execute_result"
    }
   ],
   "source": [
    "svm = SVC(kernel = \"rbf\")\n",
    "fit!(svm, train_input, train_output)\n",
    "score(svm, test_input, test_output)"
   ]
  },
  {
   "cell_type": "code",
   "execution_count": 11,
   "metadata": {},
   "outputs": [
    {
     "data": {
      "text/plain": [
       "28450-element Vector{Int64}:\n",
       " 4\n",
       " 2\n",
       " 5\n",
       " 2\n",
       " 5\n",
       " 5\n",
       " 2\n",
       " 3\n",
       " 5\n",
       " 5\n",
       " 2\n",
       " 4\n",
       " 4\n",
       " ⋮\n",
       " 3\n",
       " 3\n",
       " 2\n",
       " 4\n",
       " 4\n",
       " 3\n",
       " 2\n",
       " 5\n",
       " 4\n",
       " 2\n",
       " 4\n",
       " 4"
      ]
     },
     "execution_count": 11,
     "metadata": {},
     "output_type": "execute_result"
    }
   ],
   "source": [
    "kFolds = 5\n",
    "crossValidationIndexes = crossvalidation(vec(train_output), kFolds)"
   ]
  },
  {
   "cell_type": "code",
   "execution_count": 13,
   "metadata": {},
   "outputs": [
    {
     "name": "stdout",
     "output_type": "stream",
     "text": [
      "0.005291005291005291\n",
      "0.0026455026455026454\n",
      "0.005291005291005291\n",
      "0.007936507936507936\n",
      "0.005291005291005291\n",
      "0.0\n",
      "0.0\n",
      "0.0\n",
      "0.0\n",
      "0.0\n",
      "0.0\n",
      "0.0\n",
      "0.0\n",
      "0.0\n",
      "0.0\n"
     ]
    }
   ],
   "source": [
    "include(\"functions.jl\")\n",
    "#svmParameters = Dict(\"modelType\" => :SVM, \"degree\" => 3, \"gamma\" => 2, \"kernel\" => \"linear\", \"C\" => 0.6)\n",
    "#dtParameters = Dict(\"modelType\" => :DecisionTree, \"maxDepth\" => 2)\n",
    "knnParameters = Dict(\"modelType\" => :kNN, \"numNeighboors\" => 7)\n",
    "\n",
    "# depths = [5, 7, 13, 15, 30, 64, 96, 128]\n",
    "depths = [7, 13, 15]\n",
    "for depth in depths\n",
    "    knnParameters[\"numNeighboors\"] = depth\n",
    "    testAccuracy, testAccuracyStd = modelCrossValidation(knnParameters[\"modelType\"], knnParameters, train_input, vec(train_output), crossValidationIndexes)\n",
    "end"
   ]
  },
  {
   "cell_type": "code",
   "execution_count": 41,
   "metadata": {},
   "outputs": [
    {
     "name": "stdout",
     "output_type": "stream",
     "text": [
      "0.0\n",
      "0.0\n",
      "0.0\n",
      "0.0\n",
      "0.0\n",
      "0.0\n",
      "0.0\n",
      "0.0\n",
      "0.0\n",
      "0.0\n"
     ]
    }
   ],
   "source": [
    "include(\"functions.jl\")\n",
    "\n",
    "#topologies = [[4], [8], [2,4], [12,12]]\n",
    "topologies = [[80], [40, 20]]\n",
    "annParameters = Dict(\"modelType\" => :ANN, \"maxEpochs\" => 1000,\n",
    "    \"learningRate\" => 0.01, \"maxEpochsVal\" => 50,\n",
    "    \"repetitions\" => 50, \"validationRatio\" => 0.0,\n",
    "    \"transferFunctions\" => fill(σ, 2))\n",
    "\n",
    "for topology in topologies\n",
    "    annParameters[\"topology\"] = topology\n",
    "    testAccuracy, testAccuracyStd, testRecall, testRecallStd = modelCrossValidation(annParameters[\"modelType\"], annParameters, train_input, vec(train_output), crossValidationIndexes)\n",
    "    println(\"$topology => $testAccuracy, $testAccuracyStd, $testRecall, $testRecallStd\")\n",
    "end\n"
   ]
  },
  {
   "cell_type": "code",
   "execution_count": 16,
   "metadata": {},
   "outputs": [],
   "source": [
    "svmParameters = Dict(\"modelType\" => :SVM, \"degree\" => 3, \"gamma\" => 2, \"kernel\" => \"linear\", \"C\" => 0.6)\n",
    "testAccuracy, testAccuracyStd = modelCrossValidation(svmParameters[\"modelType\"], svmParameters, train_input, vec(train_output), crossValidationIndexes)\n"
   ]
  },
  {
   "cell_type": "code",
   "execution_count": 9,
   "metadata": {},
   "outputs": [],
   "source": [
    "include(\"functions.jl\")\n",
    "\n",
    "dtParameters = Dict(\"maxDepth\" => 8)\n",
    "knnParameters = Dict(\"numNeighboors\" => 7)\n",
    "svmParameters = Dict(\"kernel\" => \"linear\", \"C\" => 0.5, \"degree\" => 3, \"gamma\" => 2)\n",
    "Random.seed!(42)\n",
    "\n",
    "kFolds = 2\n",
    "crossValidationIndexes = crossvalidation(vec(train_output), kFolds)\n",
    "\n",
    "trainClassEnsemble([:DecisionTree, :kNN, :SVM], [dtParameters, knnParameters, svmParameters], (train_input, train_output), crossValidationIndexes)\n"
   ]
  },
  {
   "cell_type": "code",
   "execution_count": 60,
   "metadata": {},
   "outputs": [
    {
     "data": {
      "text/plain": [
       "20-element Vector{Int64}:\n",
       " 1\n",
       " 2\n",
       " 2\n",
       " 3\n",
       " 1\n",
       " 1\n",
       " 3\n",
       " 1\n",
       " 1\n",
       " 3\n",
       " 2\n",
       " 1\n",
       " 2\n",
       " 3\n",
       " 3\n",
       " 2\n",
       " 1\n",
       " 3\n",
       " 2\n",
       " 2"
      ]
     },
     "execution_count": 60,
     "metadata": {},
     "output_type": "execute_result"
    }
   ],
   "source": [
    "function crossvalidation_without_onehot(targets::AbstractArray{<:Any,1}, k::Int64)\n",
    "    # Get the unique classes in the targets vector\n",
    "    classes = unique(targets)\n",
    "    # Initialize the index vector to zeros\n",
    "    idx = Int.(zeros(length(targets)))\n",
    "    \n",
    "    # Iterate over the classes and perform stratified k-fold cross-validation\n",
    "    for class in classes\n",
    "        # Find the indices of the patterns that belong to the current class\n",
    "        classIdx = (targets .== class)\n",
    "        # Count the number of instances in the current class\n",
    "        numInstances = sum(classIdx)\n",
    "        # Check that there are enough instances per class to perform k-fold cross-validation\n",
    "        @assert (numInstances .>= k) \"There are not enough instances per class to perform a $(k)-fold cross-validation\"\n",
    "        # Perform stratified k-fold cross-validation on the patterns that belong to the current class\n",
    "        classFolds = crossvalidation(numInstances, k)\n",
    "        # Update the index vector with the indices of the folds for the current class\n",
    "        idx[classIdx] .= classFolds\n",
    "    end\n",
    "\n",
    "    return idx\n",
    "end\n",
    "\n",
    "# Generate some test data\n",
    "N = 20\n",
    "targets = rand([\"c1\", \"c2\"], N)\n",
    "\n",
    "\n",
    "# Call the crossvalidation function\n",
    "crossvalidation_without_onehot(targets, 3)\n"
   ]
  },
  {
   "cell_type": "code",
   "execution_count": 65,
   "metadata": {},
   "outputs": [
    {
     "data": {
      "text/plain": [
       "1"
      ]
     },
     "execution_count": 65,
     "metadata": {},
     "output_type": "execute_result"
    }
   ],
   "source": [
    "include(\"functions.jl\")\n",
    "\n",
    "crossValidationIndexes = crossvalidation_without_onehot(vec(train_output), 5)\n",
    "minimum(crossValidationIndexes)"
   ]
  },
  {
   "cell_type": "code",
   "execution_count": 47,
   "metadata": {},
   "outputs": [
    {
     "data": {
      "text/plain": [
       "28450×1 BitMatrix:\n",
       " 1\n",
       " 0\n",
       " 0\n",
       " 0\n",
       " 1\n",
       " 0\n",
       " 0\n",
       " 0\n",
       " 0\n",
       " 0\n",
       " 0\n",
       " 0\n",
       " 0\n",
       " ⋮\n",
       " 0\n",
       " 0\n",
       " 0\n",
       " 0\n",
       " 0\n",
       " 0\n",
       " 0\n",
       " 0\n",
       " 0\n",
       " 1\n",
       " 0\n",
       " 0"
      ]
     },
     "execution_count": 47,
     "metadata": {},
     "output_type": "execute_result"
    }
   ],
   "source": [
    "# for class in 1:size(train_output, 2)\n",
    "oneHotEncoding(vec(train_output))"
   ]
  },
  {
   "cell_type": "code",
   "execution_count": 50,
   "metadata": {},
   "outputs": [
    {
     "data": {
      "text/plain": [
       "false"
      ]
     },
     "execution_count": 50,
     "metadata": {},
     "output_type": "execute_result"
    }
   ],
   "source": [
    "train_output isa AbstractArray{<:Any,1}"
   ]
  }
 ],
 "metadata": {
  "kernelspec": {
   "display_name": "Julia 1.9.3",
   "language": "julia",
   "name": "julia-1.9"
  },
  "language_info": {
   "file_extension": ".jl",
   "mimetype": "application/julia",
   "name": "julia",
   "version": "1.9.3"
  }
 },
 "nbformat": 4,
 "nbformat_minor": 5
}
