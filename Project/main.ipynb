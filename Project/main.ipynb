{
 "cells": [
  {
   "cell_type": "code",
   "execution_count": null,
   "id": "cb44f65c",
   "metadata": {},
   "outputs": [],
   "source": [
    "using CSV\n",
    "using DataFrames\n",
    "using Random\n",
    "\n",
    "include(\"utils.jl\");\n"
   ]
  },
  {
   "cell_type": "code",
   "execution_count": null,
   "metadata": {},
   "outputs": [],
   "source": [
    "using ScikitLearn\n",
    "\n",
    "@sk_import svm:SVC;\n",
    "@sk_import tree:DecisionTreeClassifier;\n",
    "@sk_import ensemble:VotingClassifier\n",
    "@sk_import neighbors: KNeighborsClassifier;\n"
   ]
  },
  {
   "cell_type": "markdown",
   "metadata": {},
   "source": [
    "## Read Data"
   ]
  },
  {
   "cell_type": "code",
   "execution_count": null,
   "id": "d59fb985",
   "metadata": {},
   "outputs": [],
   "source": [
    "file_path = \"dataset/super_simplified_Android_Malware.csv\"\n",
    "\n",
    "data = CSV.File(file_path, header=true) |> DataFrame;"
   ]
  },
  {
   "cell_type": "code",
   "execution_count": null,
   "id": "dc9fda2c",
   "metadata": {
    "scrolled": true
   },
   "outputs": [],
   "source": [
    "describe(data, :all)"
   ]
  },
  {
   "cell_type": "code",
   "execution_count": null,
   "metadata": {},
   "outputs": [],
   "source": [
    "import StatsBase: countmap\n",
    "\n",
    "columns_to_drop = [\"Flow ID\", \" Timestamp\"]\n",
    "columns = names(data)\n",
    "\n",
    "println(\"Size of dataframe before dropping columns $(size(data))\")\n",
    "for column in 1:size(data, 2)\n",
    "    unique_values = countmap(data[:, column])\n",
    "\n",
    "    if length(unique_values) == 1\n",
    "        println(\"Adding column $(columns[column])\")\n",
    "        # println(unique_values)\n",
    "        push!(columns_to_drop, columns[column])\n",
    "    end\n",
    "    \n",
    "end\n",
    "\n",
    "select!(data, Not(columns_to_drop))\n",
    "\n",
    "println(\"Size of dataframe after dropping columns $(size(data))\")\n",
    "\n",
    "dropmissing!(data)\n",
    "\n",
    "println(\"Size of dataframe after dropping nulls $(size(data))\")\n",
    "\n",
    "unique_data = unique(data)\n",
    "\n",
    "println(\"Size of dataframe after dropping duplicating rows $(size(data))\")"
   ]
  },
  {
   "cell_type": "code",
   "execution_count": null,
   "metadata": {},
   "outputs": [],
   "source": [
    "countmap(data[:, :Label])"
   ]
  },
  {
   "cell_type": "code",
   "execution_count": null,
   "metadata": {},
   "outputs": [],
   "source": [
    "function ip_to_decimal(ip)\n",
    "    # Split the IP address into octets\n",
    "    octets = split(ip, '.')\n",
    "    # Convert each octet to binary and combine them into a single 32-bit number\n",
    "    binary = join([string(parse(Int, octet, base=10), base=2, pad=8) for octet in octets])\n",
    "    decimal = parse(Int, binary, base=2) # Convert binary to decimal\n",
    "    return decimal\n",
    "end\n",
    "\n",
    "source_ips = data[!, :\" Source IP\"];\n",
    "destination_ips = data[!, :\" Destination IP\"];\n",
    "\n",
    "data[!, :\"Source IP Decimal\"] = map(ip -> ip_to_decimal(ip), source_ips);\n",
    "data[!, :\"Destination IP Decimal\"] = map(ip -> ip_to_decimal(ip), destination_ips);\n",
    "\n",
    "select!(data, Not([\" Source IP\", \" Destination IP\"]));"
   ]
  },
  {
   "cell_type": "code",
   "execution_count": null,
   "metadata": {},
   "outputs": [],
   "source": [
    "describe(data)"
   ]
  },
  {
   "cell_type": "code",
   "execution_count": null,
   "metadata": {},
   "outputs": [],
   "source": [
    "output_data = data[!, :Label];\n",
    "select!(data, Not(:Label))\n",
    "input_data = Matrix(data[!, 1:size(data, 2)]);"
   ]
  },
  {
   "cell_type": "markdown",
   "id": "686acd66",
   "metadata": {},
   "source": [
    "## First approach: binary classification"
   ]
  },
  {
   "cell_type": "code",
   "execution_count": null,
   "id": "d2856c53",
   "metadata": {},
   "outputs": [],
   "source": [
    "function transform_binary_class(output_data)\n",
    "    binary_labels = output_data .!= \"Benign\"\n",
    "    return binary_labels\n",
    "end\n",
    "\n",
    "binary_labels = transform_binary_class(output_data)\n",
    "@assert binary_labels isa BitVector\n",
    "@assert input_data isa Matrix"
   ]
  },
  {
   "cell_type": "markdown",
   "metadata": {},
   "source": [
    "### Preprocessing"
   ]
  },
  {
   "cell_type": "code",
   "execution_count": null,
   "id": "58b7af8e",
   "metadata": {},
   "outputs": [],
   "source": [
    "Random.seed!(42)\n",
    "\n",
    "train_indexes, test_indexes = holdOut(size(input_data, 1), 0.2)\n",
    "\n",
    "train_input = convert(Array{Float32, 2}, input_data[train_indexes, :])\n",
    "train_binary_output = binary_labels[train_indexes]\n",
    "\n",
    "normalizationParameters = calculateMinMaxNormalizationParameters(train_input)\n",
    "\n",
    "normalizeMinMax!(train_input, normalizationParameters)\n",
    "\n",
    "test_input = convert(Array{Float32, 2}, input_data[test_indexes, :])\n",
    "test_binary_output = binary_labels[test_indexes]\n",
    "\n",
    "normalizeMinMax!(test_input, normalizationParameters)\n",
    "\n",
    "@assert size(test_input, 1) == size(test_binary_output, 1)\n",
    "@assert size(train_input, 1) == size(train_binary_output, 1)"
   ]
  },
  {
   "cell_type": "code",
   "execution_count": null,
   "metadata": {},
   "outputs": [],
   "source": [
    "Random.seed!(42)\n",
    "\n",
    "kFolds = 10\n",
    "crossValidationIndexes = crossvalidation(train_binary_output, kFolds);"
   ]
  },
  {
   "cell_type": "code",
   "execution_count": null,
   "metadata": {},
   "outputs": [],
   "source": [
    "function generate_latex_table(metrics::Dict{String, <: Any}, final::Bool)\n",
    "    \n",
    "    topology = metrics[\"topology\"]\n",
    "    accuracy = metrics[\"accuracy\"]\n",
    "    recall = metrics[\"recall\"]\n",
    "    specificity = metrics[\"specificity\"]\n",
    "    f1_score = metrics[\"f1_score\"]\n",
    "    \n",
    "    if final\n",
    "        confusion_matrix = metrics[\"confusion_matrix\"]\n",
    "        println(\"$topology & $(round(accuracy*100, digits=2))\\\\%  & $(round(recall*100, digits=2))\\\\%  & $(round(specificity*100, digits=2))\\\\%  & $(round(f1_score*100, digits=2))\\\\% & $confusion_matrix \\\\\\\\\")\n",
    "    else\n",
    "        std_accuracy = metrics[\"std_accuracy\"]\n",
    "        std_recall = metrics[\"std_recall\"]\n",
    "        std_specificity = metrics[\"std_specificity\"]\n",
    "        std_f1_score = metrics[\"std_f1_score\"]\n",
    "        println(\"$topology & $(round(accuracy*100, digits=2))\\\\% \\\\textit{($(round(std_accuracy, digits = 2)))} & $(round(recall*100, digits=2))\\\\% \\\\textit{($(round(std_recall, digits = 2)))} & $(round(specificity*100, digits=2))\\\\% \\\\textit{($(round(std_specificity, digits = 2)))} & $(round(f1_score*100, digits=2))\\\\% \\\\textit{($(round(std_f1_score, digits = 2)))} \\\\\\\\\")\n",
    "    end\n",
    "    \n",
    "end"
   ]
  },
  {
   "cell_type": "markdown",
   "metadata": {},
   "source": [
    "### kNN"
   ]
  },
  {
   "cell_type": "code",
   "execution_count": null,
   "metadata": {},
   "outputs": [],
   "source": [
    "include(\"utils.jl\")\n",
    "knnParameters = Dict(\"modelType\" => :kNN, \"numNeighboors\" => 0)\n",
    "\n",
    "ks = [3 , 5, 7, 10, 15, 20]\n",
    "for k in ks\n",
    "    knnParameters[\"numNeighboors\"] = k\n",
    "    metricsCV = (modelCrossValidation(knnParameters[\"modelType\"], knnParameters, train_input, train_binary_output, crossValidationIndexes))\n",
    "    metricsCV[\"topology\"] = k\n",
    "\n",
    "    generate_latex_table(metricsCV, false)\n",
    "end\n",
    "\n",
    "println(\"----------------------------------------------------------------\")\n",
    "for k in ks\n",
    "    knnParameters[\"numNeighboors\"] = k\n",
    "    metrics = createAndTrainFinalModel(knnParameters[\"modelType\"], knnParameters, train_input, train_binary_output, test_input, test_binary_output)\n",
    "    metrics[\"topology\"] = k\n",
    "\n",
    "    generate_latex_table(metrics, true)\n",
    "end"
   ]
  },
  {
   "cell_type": "markdown",
   "metadata": {},
   "source": [
    "### Decision Tree"
   ]
  },
  {
   "cell_type": "code",
   "execution_count": null,
   "metadata": {},
   "outputs": [],
   "source": [
    "include(\"utils.jl\")\n",
    "dtParameters = Dict(\"modelType\" => :DecisionTree, \"maxDepth\" => 1)\n",
    "\n",
    "depths = [3, 5, 7, 10, 15, typemax(Int)]\n",
    "for depth in depths\n",
    "    dtParameters[\"maxDepth\"] = depth\n",
    "    metricsCV = (modelCrossValidation(dtParameters[\"modelType\"], dtParameters, train_input, train_binary_output, crossValidationIndexes))\n",
    "    metricsCV[\"topology\"] = depth\n",
    "\n",
    "    generate_latex_table(metricsCV, false)\n",
    "\n",
    "end\n",
    "\n",
    "println(\"----------------------------------------------------------------\")\n",
    "\n",
    "for depth in depths\n",
    "    dtParameters[\"maxDepth\"] = depth\n",
    "    metrics = createAndTrainFinalModel(dtParameters[\"modelType\"], dtParameters, train_input, train_binary_output, test_input, test_binary_output)\n",
    "    metrics[\"topology\"] = depth\n",
    "\n",
    "    generate_latex_table(metrics, true)\n",
    "\n",
    "end\n"
   ]
  },
  {
   "cell_type": "markdown",
   "metadata": {},
   "source": [
    "### SVM"
   ]
  },
  {
   "cell_type": "code",
   "execution_count": null,
   "metadata": {},
   "outputs": [],
   "source": [
    "include(\"utils.jl\")\n",
    "svmParameters = Dict(\"modelType\" => :SVM, \"C\" => 1, \"kernel\" => \"linear\", \"degree\" => 3, \"gamma\" => \"scale\")\n",
    "\n",
    "svms = [\n",
    "    (\"rbf\", 0.1),\n",
    "    (\"rbf\", 1.0),\n",
    "    (\"rbf\", 10.0),\n",
    "    (\"poly\", 0.1),\n",
    "    (\"poly\", 1.0),\n",
    "    (\"linear\", 0.1),\n",
    "    (\"linear\", 1.0),\n",
    "    (\"linear\", 10.0),\n",
    "]\n",
    "\n",
    "for (kernel, C) in svms\n",
    "    svmParameters[\"kernel\"] = kernel\n",
    "    svmParameters[\"C\"] = C\n",
    "    metricsCV = (modelCrossValidation(svmParameters[\"modelType\"], svmParameters, train_input, train_binary_output, crossValidationIndexes))\n",
    "    metricsCV[\"topology\"] = kernel * string(C)\n",
    "\n",
    "    generate_latex_table(metricsCV, false)\n",
    "\n",
    "end\n",
    "\n",
    "println(\"----------------------------------------------------------------\")\n",
    "\n",
    "for (kernel, C) in svms\n",
    "    svmParameters[\"kernel\"] = kernel\n",
    "    svmParameters[\"C\"] = C\n",
    "    metrics = createAndTrainFinalModel(svmParameters[\"modelType\"], svmParameters, train_input, train_binary_output, test_input, test_binary_output)\n",
    "    metrics[\"topology\"] = kernel * string(C)\n",
    "\n",
    "    generate_latex_table(metrics, true)\n",
    "\n",
    "end\n"
   ]
  },
  {
   "cell_type": "markdown",
   "metadata": {},
   "source": [
    "### ANN"
   ]
  },
  {
   "cell_type": "code",
   "execution_count": null,
   "metadata": {},
   "outputs": [],
   "source": [
    "include(\"utils.jl\")\n",
    "\n",
    "#topologies = [[20], [40], [80], [100]]\n",
    "topologies = [[60, 120], [80, 50], [80, 100], [100, 40]]\n",
    "annParameters = Dict(\"modelType\" => :ANN, \"maxEpochs\" => 200,\n",
    "    \"learningRate\" => 0.01, \"maxEpochsVal\" => 30,\n",
    "    \"repetitions\" => 30, \"validationRatio\" => 0.1,\n",
    "    \"transferFunctions\" => fill(σ, 2))\n",
    "\n",
    "for topology in topologies\n",
    "    annParameters[\"topology\"] = topology\n",
    "    metricsCV = modelCrossValidation(annParameters[\"modelType\"], annParameters, train_input, train_binary_output, crossValidationIndexes)\n",
    "    metricsCV[\"topology\"] = topology \n",
    "\n",
    "    generate_latex_table(metricsCV, false)\n",
    "end\n",
    "\n",
    "for topology in topologies\n",
    "    annParameters[\"topology\"] = topology\n",
    "    metrics = createAndTrainFinalModel(annParameters[\"modelType\"], annParameters, train_input, train_binary_output, test_input, test_binary_output)\n",
    "    metrics[\"topology\"] = topology \n",
    "\n",
    "    generate_latex_table(metrics, true)\n",
    "end"
   ]
  },
  {
   "cell_type": "markdown",
   "metadata": {},
   "source": [
    "### Ensembles"
   ]
  },
  {
   "cell_type": "code",
   "execution_count": null,
   "metadata": {},
   "outputs": [],
   "source": [
    "@sk_import ensemble:StackingClassifier\n",
    "@sk_import ensemble:VotingClassifier\n"
   ]
  },
  {
   "cell_type": "code",
   "execution_count": null,
   "metadata": {},
   "outputs": [],
   "source": [
    "include(\"utils.jl\")\n",
    "\n",
    "dtParameters = Dict(\"modelType\" => :DecisionTree, \"maxDepth\" => 5)\n",
    "knnParameters = Dict(\"modelType\" => :kNN, \"numNeighboors\" => 3)\n",
    "svmParameters = Dict(\"modelType\" => :SVM, \"kernel\" => \"rbf\", \"C\" => 10)\n",
    "Random.seed!(42)\n",
    "\n",
    "ensemble_types = [:VotingHard, :Stacking]\n",
    "final_estimators = [dtParameters, knnParameters, svmParameters]\n",
    "\n",
    "for ensemble_type in ensemble_types\n",
    "    for final_estimator in final_estimators\n",
    "        metricsCV = trainClassEnsemble([:DecisionTree, :kNN, :SVM], [dtParameters, knnParameters, svmParameters], (train_input, train_binary_output), crossValidationIndexes; ensembleType = ensemble_type, final_estimator = final_estimator)\n",
    "        metricsCV[\"topology\"] = final_estimator\n",
    "        generate_latex_table(metricsCV, false)\n",
    "\n",
    "    end\n",
    "end\n",
    "\n",
    "\n",
    "for ensemble_type in ensemble_types\n",
    "    for final_estimator in final_estimators\n",
    "        metrics = createAndTrainFinalEnsemble([:DecisionTree, :kNN, :SVM], [dtParameters, knnParameters, svmParameters], (train_input, train_binary_output), (test_input, test_binary_output); ensembleType = ensemble_type, final_estimator = final_estimator)\n",
    "        metrics[\"topology\"] = final_estimator\n",
    "        generate_latex_table(metrics, true)\n",
    "    end\n",
    "end\n"
   ]
  },
  {
   "cell_type": "markdown",
   "metadata": {},
   "source": [
    "## Second Approach"
   ]
  },
  {
   "cell_type": "markdown",
   "metadata": {},
   "source": [
    "### Data balancing"
   ]
  },
  {
   "cell_type": "code",
   "execution_count": null,
   "metadata": {},
   "outputs": [],
   "source": [
    "using MLDataPattern;\n",
    "Random.seed!(42)\n",
    "X_bal, y_bal = oversample((input_data', binary_labels), shuffle = true)\n",
    "X_bal = getobs(X_bal)'\n",
    "y_bal = getobs(y_bal)"
   ]
  },
  {
   "cell_type": "code",
   "execution_count": null,
   "metadata": {},
   "outputs": [],
   "source": [
    "countmap(y_bal)"
   ]
  },
  {
   "cell_type": "code",
   "execution_count": null,
   "metadata": {},
   "outputs": [],
   "source": [
    "Random.seed!(42)\n",
    "\n",
    "train_indexes, test_indexes = holdOut(size(X_bal, 1), 0.2)\n",
    "\n",
    "train_input = convert(Array{Float32, 2}, X_bal[train_indexes, :])\n",
    "train_balanced_binary_output = y_bal[train_indexes]\n",
    "\n",
    "normalizationParameters = calculateMinMaxNormalizationParameters(train_input)\n",
    "\n",
    "normalizeMinMax!(train_input, normalizationParameters)\n",
    "\n",
    "test_input = convert(Array{Float32, 2}, X_bal[test_indexes, :])\n",
    "test_balanced_binary_output = y_bal[test_indexes]\n",
    "\n",
    "normalizeMinMax!(test_input, normalizationParameters)\n",
    "\n",
    "@assert size(test_input, 1) == size(test_balanced_binary_output, 1)\n",
    "@assert size(train_input, 1) == size(train_balanced_binary_output, 1)"
   ]
  },
  {
   "cell_type": "code",
   "execution_count": null,
   "metadata": {},
   "outputs": [],
   "source": [
    "Random.seed!(42)\n",
    "\n",
    "kFolds = 10\n",
    "crossValidationIndexes = crossvalidation(train_balanced_binary_output, kFolds);"
   ]
  },
  {
   "cell_type": "markdown",
   "metadata": {},
   "source": [
    "### kNN"
   ]
  },
  {
   "cell_type": "code",
   "execution_count": null,
   "metadata": {},
   "outputs": [],
   "source": [
    "include(\"utils.jl\")\n",
    "knnParameters = Dict(\"modelType\" => :kNN, \"numNeighboors\" => 0)\n",
    "\n",
    "ks = [3 , 5, 7, 10, 15, 20]\n",
    "for k in ks\n",
    "    knnParameters[\"numNeighboors\"] = k\n",
    "    metricsCV = (modelCrossValidation(knnParameters[\"modelType\"], knnParameters, train_input, train_balanced_binary_output, crossValidationIndexes))\n",
    "    metricsCV[\"topology\"] = k\n",
    "\n",
    "    generate_latex_table(metricsCV, false)\n",
    "end\n",
    "\n",
    "println(\"----------------------------------------------------------------\")\n",
    "for k in ks\n",
    "    knnParameters[\"numNeighboors\"] = k\n",
    "    metrics = createAndTrainFinalModel(knnParameters[\"modelType\"], knnParameters, train_input, train_balanced_binary_output, test_input, test_balanced_binary_output)\n",
    "    metrics[\"topology\"] = k\n",
    "\n",
    "    generate_latex_table(metrics, true)\n",
    "end"
   ]
  },
  {
   "cell_type": "markdown",
   "metadata": {},
   "source": [
    "### Decision Tree"
   ]
  },
  {
   "cell_type": "code",
   "execution_count": null,
   "metadata": {},
   "outputs": [],
   "source": [
    "include(\"utils.jl\")\n",
    "dtParameters = Dict(\"modelType\" => :DecisionTree, \"maxDepth\" => 1)\n",
    "\n",
    "depths = [3, 5, 7, 10, 15, nothing]\n",
    "for depth in depths\n",
    "    dtParameters[\"maxDepth\"] = depth\n",
    "    metricsCV = (modelCrossValidation(dtParameters[\"modelType\"], dtParameters, train_input, train_balanced_binary_output, crossValidationIndexes))\n",
    "    metricsCV[\"topology\"] = depth\n",
    "\n",
    "    generate_latex_table(metricsCV, false)\n",
    "\n",
    "end\n",
    "\n",
    "println(\"----------------------------------------------------------------\")\n",
    "\n",
    "for depth in depths\n",
    "    dtParameters[\"maxDepth\"] = depth\n",
    "    metrics = createAndTrainFinalModel(dtParameters[\"modelType\"], dtParameters, train_input, train_balanced_binary_output, test_input, test_balanced_binary_output)\n",
    "    metrics[\"topology\"] = depth\n",
    "\n",
    "    generate_latex_table(metrics, true)\n",
    "\n",
    "end\n"
   ]
  },
  {
   "cell_type": "markdown",
   "metadata": {},
   "source": [
    "### SVM"
   ]
  },
  {
   "cell_type": "code",
   "execution_count": null,
   "metadata": {},
   "outputs": [],
   "source": [
    "include(\"utils.jl\")\n",
    "svmParameters = Dict(\"modelType\" => :SVM, \"C\" => 1, \"kernel\" => \"linear\", \"degree\" => 3, \"gamma\" => \"scale\")\n",
    "\n",
    "svms = [\n",
    "    (\"rbf\", 0.1),\n",
    "    (\"rbf\", 1.0),\n",
    "    (\"rbf\", 10.0),\n",
    "    (\"poly\", 0.1),\n",
    "    (\"poly\", 1.0),\n",
    "    (\"linear\", 0.1),\n",
    "    (\"linear\", 1.0),\n",
    "    (\"linear\", 10.0),\n",
    "]\n",
    "\n",
    "for (kernel, C) in svms\n",
    "    svmParameters[\"kernel\"] = kernel\n",
    "    svmParameters[\"C\"] = C\n",
    "    metricsCV = (modelCrossValidation(svmParameters[\"modelType\"], svmParameters, train_input, train_balanced_binary_output, crossValidationIndexes))\n",
    "    metricsCV[\"topology\"] = kernel * \" & \" * string(C)\n",
    "\n",
    "    generate_latex_table(metricsCV, false)\n",
    "\n",
    "end\n",
    "\n",
    "println(\"----------------------------------------------------------------\")\n",
    "\n",
    "for (kernel, C) in svms\n",
    "    svmParameters[\"kernel\"] = kernel\n",
    "    svmParameters[\"C\"] = C\n",
    "    metrics = createAndTrainFinalModel(svmParameters[\"modelType\"], svmParameters, train_input, train_balanced_binary_output, test_input, test_balanced_binary_output)\n",
    "    metrics[\"topology\"] = kernel * \" & \" * string(C)\n",
    "\n",
    "    generate_latex_table(metrics, true)\n",
    "\n",
    "end\n"
   ]
  },
  {
   "cell_type": "markdown",
   "metadata": {},
   "source": [
    "### ANN"
   ]
  },
  {
   "cell_type": "code",
   "execution_count": null,
   "metadata": {},
   "outputs": [],
   "source": [
    "include(\"utils.jl\")\n",
    "\n",
    "topologies = [[20], [40], [80], [100], [60, 120], [80, 50], [80, 100], [100, 40]]\n",
    "annParameters = Dict(\"modelType\" => :ANN, \"maxEpochs\" => 200,\n",
    "    \"learningRate\" => 0.01, \"maxEpochsVal\" => 30,\n",
    "    \"repetitions\" => 30, \"validationRatio\" => 0.1,\n",
    "    \"transferFunctions\" => fill(σ, 2))\n",
    "\n",
    "for topology in topologies\n",
    "    annParameters[\"topology\"] = topology\n",
    "    metricsCV = modelCrossValidation(annParameters[\"modelType\"], annParameters, train_input, train_balanced_binary_output, crossValidationIndexes)\n",
    "    metricsCV[\"topology\"] = topology \n",
    "\n",
    "    generate_latex_table(metricsCV, false)\n",
    "end\n",
    "\n",
    "for topology in topologies\n",
    "    annParameters[\"topology\"] = topology\n",
    "    metrics = createAndTrainFinalModel(annParameters[\"modelType\"], annParameters, train_input, train_balanced_binary_output, test_input, test_balanced_binary_output)\n",
    "    metrics[\"topology\"] = topology \n",
    "\n",
    "    generate_latex_table(metrics, true)\n",
    "end"
   ]
  },
  {
   "cell_type": "code",
   "execution_count": null,
   "metadata": {},
   "outputs": [],
   "source": [
    "metrics = createAndTrainFinalModel(annParameters[\"modelType\"], annParameters, train_input, train_balanced_binary_output, test_input, test_balanced_binary_output)"
   ]
  },
  {
   "cell_type": "markdown",
   "metadata": {},
   "source": [
    "### Ensembles"
   ]
  },
  {
   "cell_type": "code",
   "execution_count": null,
   "metadata": {},
   "outputs": [],
   "source": [
    "include(\"utils.jl\")\n",
    "\n",
    "dtParameters = Dict(\"modelType\" => :DecisionTree, \"maxDepth\" => typemax(Int))\n",
    "knnParameters = Dict(\"modelType\" => :kNN, \"numNeighboors\" => 3)\n",
    "svmParameters = Dict(\"modelType\" => :SVM, \"kernel\" => \"rbf\", \"C\" => 10)\n",
    "Random.seed!(42)\n",
    "\n",
    "ensemble_types = [:VotingHard, :Stacking]\n",
    "final_estimators = [dtParameters, knnParameters, svmParameters]\n",
    "\n",
    "for ensemble_type in ensemble_types\n",
    "    for final_estimator in final_estimators\n",
    "        metricsCV = trainClassEnsemble([:DecisionTree, :kNN, :SVM], [dtParameters, knnParameters, svmParameters], (train_input, train_balanced_binary_output), crossValidationIndexes; ensembleType = ensemble_type, final_estimator = final_estimator)\n",
    "        metricsCV[\"topology\"] = final_estimator\n",
    "        generate_latex_table(metricsCV, false)\n",
    "\n",
    "        if ensemble_type == :VotingHard\n",
    "            break\n",
    "        end\n",
    "\n",
    "    end\n",
    "end\n",
    "\n",
    "\n",
    "for ensemble_type in ensemble_types\n",
    "    for final_estimator in final_estimators\n",
    "        metrics = createAndTrainFinalEnsemble([:DecisionTree, :kNN, :SVM], [dtParameters, knnParameters, svmParameters], (train_input, train_balanced_binary_output), (test_input, test_balanced_binary_output); ensembleType = ensemble_type, final_estimator = final_estimator)\n",
    "        metrics[\"topology\"] = final_estimator\n",
    "        generate_latex_table(metrics, true)\n",
    "\n",
    "        if ensemble_type == :VotingHard\n",
    "            break\n",
    "        end\n",
    "    end\n",
    "end\n"
   ]
  },
  {
   "cell_type": "markdown",
   "metadata": {},
   "source": [
    "## Third approach: multiclass classification"
   ]
  },
  {
   "cell_type": "code",
   "execution_count": null,
   "metadata": {},
   "outputs": [],
   "source": [
    "using MLDataPattern;\n",
    "Random.seed!(42)\n",
    "X_bal, y_bal = oversample((input_data', output_data), shuffle = true)\n",
    "X_bal = getobs(X_bal)'\n",
    "y_bal = getobs(y_bal)"
   ]
  },
  {
   "cell_type": "code",
   "execution_count": null,
   "metadata": {},
   "outputs": [],
   "source": [
    "countmap(y_bal)"
   ]
  },
  {
   "cell_type": "code",
   "execution_count": null,
   "metadata": {},
   "outputs": [],
   "source": [
    "Random.seed!(42)\n",
    "\n",
    "train_indexes, test_indexes = holdOut(size(X_bal, 1), 0.2)\n",
    "\n",
    "train_input = convert(Array{Float32, 2}, X_bal[train_indexes, :])\n",
    "train_balanced_output = y_bal[train_indexes]\n",
    "\n",
    "normalizationParameters = calculateMinMaxNormalizationParameters(train_input)\n",
    "\n",
    "normalizeMinMax!(train_input, normalizationParameters)\n",
    "\n",
    "test_input = convert(Array{Float32, 2}, X_bal[test_indexes, :])\n",
    "test_balanced_output = y_bal[test_indexes]\n",
    "\n",
    "normalizeMinMax!(test_input, normalizationParameters)\n",
    "\n",
    "@assert size(test_input, 1) == size(test_balanced_output, 1)\n",
    "@assert size(train_input, 1) == size(train_balanced_output, 1)"
   ]
  },
  {
   "cell_type": "code",
   "execution_count": null,
   "metadata": {},
   "outputs": [],
   "source": [
    "countmap(test_balanced_output)"
   ]
  },
  {
   "cell_type": "code",
   "execution_count": null,
   "metadata": {},
   "outputs": [],
   "source": [
    "Random.seed!(42)\n",
    "\n",
    "kFolds = 10\n",
    "crossValidationIndexes = crossvalidation(train_balanced_output, kFolds);"
   ]
  },
  {
   "cell_type": "markdown",
   "metadata": {},
   "source": [
    "### kNN"
   ]
  },
  {
   "cell_type": "code",
   "execution_count": null,
   "metadata": {},
   "outputs": [],
   "source": [
    "include(\"utils.jl\")\n",
    "knnParameters = Dict(\"modelType\" => :kNN, \"numNeighboors\" => 0)\n",
    "\n",
    "ks = [3 , 5, 7, 10, 15, 20]\n",
    "for k in ks\n",
    "    knnParameters[\"numNeighboors\"] = k\n",
    "    metricsCV = (modelCrossValidation(knnParameters[\"modelType\"], knnParameters, train_input, train_balanced_output, crossValidationIndexes))\n",
    "    metricsCV[\"topology\"] = k\n",
    "\n",
    "    generate_latex_table(metricsCV, false)\n",
    "end\n",
    "\n",
    "println(\"----------------------------------------------------------------\")\n",
    "for k in ks\n",
    "    knnParameters[\"numNeighboors\"] = k\n",
    "    metrics = createAndTrainFinalModel(knnParameters[\"modelType\"], knnParameters, train_input, train_balanced_output, test_input, test_balanced_output)\n",
    "    metrics[\"topology\"] = k\n",
    "\n",
    "    generate_latex_table(metrics, true)\n",
    "end"
   ]
  },
  {
   "cell_type": "markdown",
   "metadata": {},
   "source": [
    "### Decision Tree"
   ]
  },
  {
   "cell_type": "code",
   "execution_count": null,
   "metadata": {},
   "outputs": [],
   "source": [
    "include(\"utils.jl\")\n",
    "dtParameters = Dict(\"modelType\" => :DecisionTree, \"maxDepth\" => 1)\n",
    "\n",
    "depths = [3, 5, 7, 10, 15, typemax(Int)]\n",
    "for depth in depths\n",
    "    dtParameters[\"maxDepth\"] = depth\n",
    "    metricsCV = (modelCrossValidation(dtParameters[\"modelType\"], dtParameters, train_input, train_balanced_output, crossValidationIndexes))\n",
    "    metricsCV[\"topology\"] = depth\n",
    "\n",
    "    generate_latex_table(metricsCV, false)\n",
    "\n",
    "end\n",
    "\n",
    "println(\"----------------------------------------------------------------\")\n",
    "\n",
    "for depth in depths\n",
    "    dtParameters[\"maxDepth\"] = depth\n",
    "    metrics = createAndTrainFinalModel(dtParameters[\"modelType\"], dtParameters, train_input, train_balanced_output, test_input, test_balanced_output)\n",
    "    metrics[\"topology\"] = depth\n",
    "\n",
    "    generate_latex_table(metrics, true)\n",
    "\n",
    "end\n"
   ]
  },
  {
   "cell_type": "markdown",
   "metadata": {},
   "source": [
    "### SVM"
   ]
  },
  {
   "cell_type": "code",
   "execution_count": null,
   "metadata": {},
   "outputs": [],
   "source": [
    "include(\"utils.jl\")\n",
    "svmParameters = Dict(\"modelType\" => :SVM, \"C\" => 1, \"kernel\" => \"linear\", \"degree\" => 3, \"gamma\" => \"scale\")\n",
    "\n",
    "svms = [\n",
    "    (\"rbf\", 0.1),\n",
    "    (\"rbf\", 1.0),\n",
    "    (\"rbf\", 10.0),\n",
    "    (\"poly\", 0.1),\n",
    "    (\"poly\", 1.0),\n",
    "    (\"linear\", 0.1),\n",
    "    (\"linear\", 1.0),\n",
    "    (\"linear\", 10.0),\n",
    "]\n",
    "\n",
    "for (kernel, C) in svms\n",
    "    svmParameters[\"kernel\"] = kernel\n",
    "    svmParameters[\"C\"] = C\n",
    "    metricsCV = (modelCrossValidation(svmParameters[\"modelType\"], svmParameters, train_input, train_balanced_output, crossValidationIndexes))\n",
    "    metricsCV[\"topology\"] = kernel * \" & \" * string(C)\n",
    "\n",
    "    generate_latex_table(metricsCV, false)\n",
    "\n",
    "end\n",
    "\n",
    "println(\"----------------------------------------------------------------\")\n",
    "\n",
    "for (kernel, C) in svms\n",
    "    svmParameters[\"kernel\"] = kernel\n",
    "    svmParameters[\"C\"] = C\n",
    "    metrics = createAndTrainFinalModel(svmParameters[\"modelType\"], svmParameters, train_input, train_balanced_output, test_input, test_balanced_output)\n",
    "    metrics[\"topology\"] = kernel * \" & \" * string(C)\n",
    "\n",
    "    generate_latex_table(metrics, true)\n",
    "\n",
    "end\n"
   ]
  },
  {
   "cell_type": "markdown",
   "metadata": {},
   "source": [
    "### ANN"
   ]
  },
  {
   "cell_type": "code",
   "execution_count": null,
   "metadata": {},
   "outputs": [],
   "source": [
    "include(\"utils.jl\")\n",
    "\n",
    "topologies = [[20], [40], [80], [100], [60, 120], [80, 50], [80, 100], [100, 40]]\n",
    "annParameters = Dict(\"modelType\" => :ANN, \"maxEpochs\" => 200,\n",
    "    \"learningRate\" => 0.01, \"maxEpochsVal\" => 30,\n",
    "    \"repetitions\" => 30, \"validationRatio\" => 0.1,\n",
    "    \"transferFunctions\" => fill(σ, 2))\n",
    "\n",
    "for topology in topologies\n",
    "    annParameters[\"topology\"] = topology\n",
    "    metricsCV = modelCrossValidation(annParameters[\"modelType\"], annParameters, train_input, train_balanced_output, crossValidationIndexes)\n",
    "    metricsCV[\"topology\"] = topology \n",
    "\n",
    "    generate_latex_table(metricsCV, false)\n",
    "end\n",
    "\n",
    "for topology in topologies\n",
    "    annParameters[\"topology\"] = topology\n",
    "    metrics = createAndTrainFinalModel(annParameters[\"modelType\"], annParameters, train_input, train_balanced_output, test_input, test_balanced_output)\n",
    "    metrics[\"topology\"] = topology \n",
    "\n",
    "    generate_latex_table(metrics, true)\n",
    "end"
   ]
  },
  {
   "cell_type": "code",
   "execution_count": null,
   "id": "6c376118",
   "metadata": {},
   "outputs": [],
   "source": [
    "include(\"utils.jl\")\n",
    "\n",
    "annParameters = Dict(\"modelType\" => :ANN, \"maxEpochs\" => 1000,\n",
    "    \"learningRate\" => 0.01, \"maxEpochsVal\" => 30,\n",
    "    \"repetitions\" => 30, \"validationRatio\" => 0.1,\n",
    "    \"transferFunctions\" => fill(σ, 2), \"topology\" => [100, 40])\n",
    "metrics = createAndTrainFinalModel(annParameters[\"modelType\"], annParameters, train_input, train_balanced_output, test_input, test_balanced_output)"
   ]
  },
  {
   "cell_type": "code",
   "execution_count": null,
   "metadata": {},
   "outputs": [],
   "source": [
    "test_balanced_output"
   ]
  },
  {
   "cell_type": "markdown",
   "metadata": {},
   "source": [
    "### Ensembles"
   ]
  },
  {
   "cell_type": "code",
   "execution_count": null,
   "metadata": {},
   "outputs": [],
   "source": [
    "include(\"utils.jl\")\n",
    "\n",
    "dtParameters = Dict(\"modelType\" => :DecisionTree, \"maxDepth\" => typemax(Int))\n",
    "knnParameters = Dict(\"modelType\" => :kNN, \"numNeighboors\" => 3)\n",
    "svmParameters = Dict(\"modelType\" => :SVM, \"kernel\" => \"rbf\", \"C\" => 10)\n",
    "Random.seed!(42)\n",
    "\n",
    "ensemble_types = [:VotingHard, :Stacking]\n",
    "final_estimators = [dtParameters, knnParameters, svmParameters]\n",
    "\n",
    "for ensemble_type in ensemble_types\n",
    "    for final_estimator in final_estimators\n",
    "        metricsCV = trainClassEnsemble([:DecisionTree, :kNN, :SVM], [dtParameters, knnParameters, svmParameters], (train_input, train_balanced_output), crossValidationIndexes; ensembleType = ensemble_type, final_estimator = final_estimator)\n",
    "        metricsCV[\"topology\"] = final_estimator\n",
    "        generate_latex_table(metricsCV, false)\n",
    "\n",
    "        if ensemble_type == :VotingHard\n",
    "            break\n",
    "        end\n",
    "\n",
    "    end\n",
    "end\n",
    "\n",
    "\n",
    "for ensemble_type in ensemble_types\n",
    "    for final_estimator in final_estimators\n",
    "        metrics = createAndTrainFinalEnsemble([:DecisionTree, :kNN, :SVM], [dtParameters, knnParameters, svmParameters], (train_input, train_balanced_output), (test_input, test_balanced_output); ensembleType = ensemble_type, final_estimator = final_estimator)\n",
    "        metrics[\"topology\"] = final_estimator\n",
    "        generate_latex_table(metrics, true)\n",
    "\n",
    "        if ensemble_type == :VotingHard\n",
    "            break\n",
    "        end\n",
    "    end\n",
    "end\n"
   ]
  },
  {
   "cell_type": "code",
   "execution_count": null,
   "metadata": {},
   "outputs": [],
   "source": [
    "countmap(test_balanced_output)"
   ]
  },
  {
   "cell_type": "code",
   "execution_count": null,
   "metadata": {},
   "outputs": [],
   "source": [
    "@sk_import decomposition:PCA\n"
   ]
  },
  {
   "cell_type": "code",
   "execution_count": null,
   "metadata": {},
   "outputs": [],
   "source": [
    "\n",
    "# pcas = 1:20:4\n",
    "pca_value = 10\n",
    "pca = PCA(pca_value)\n",
    "\n",
    "#Ajust the matrix acording to the train data\n",
    "fit!(pca, train_input)\n",
    "\n",
    "#Once it is ajusted it can be used to transform the data\n",
    "pca_train = pca.transform(train_input)\n",
    "pca_test = pca.transform(test_input)\n",
    "\n",
    "@assert (size(train_input)[1],pca_value) == size(pca_train)\n",
    "@assert (size(test_input)[1],pca_value) == size(pca_test)"
   ]
  },
  {
   "cell_type": "code",
   "execution_count": null,
   "metadata": {},
   "outputs": [],
   "source": [
    "size(train_input)[1],2"
   ]
  },
  {
   "cell_type": "code",
   "execution_count": null,
   "metadata": {},
   "outputs": [],
   "source": [
    "# pcas = [2, 6, 10, 15, 20, 25, 30]\n",
    "\n",
    "include(\"utils.jl\")\n",
    "dtParameters = Dict(\"modelType\" => :DecisionTree, \"maxDepth\" => 1)\n",
    "\n",
    "depths = [3, 5, 7, 10, 15, typemax(Int)]\n",
    "\n",
    "pca_value = 5\n",
    "pca = PCA(pca_value)\n",
    "\n",
    "#Ajust the matrix acording to the train data\n",
    "fit!(pca, train_input)\n",
    "\n",
    "#Once it is ajusted it can be used to transform the data\n",
    "pca_train = pca.transform(train_input)\n",
    "pca_test = pca.transform(test_input)\n",
    "\n",
    "@assert (size(train_input)[1],pca_value) == size(pca_train)\n",
    "@assert (size(test_input)[1],pca_value) == size(pca_test)\n",
    "\n",
    "\n",
    "for depth in depths\n",
    "    dtParameters[\"maxDepth\"] = depth\n",
    "    metricsCV = (modelCrossValidation(dtParameters[\"modelType\"], dtParameters, pca_train, train_balanced_output, crossValidationIndexes))\n",
    "    metricsCV[\"topology\"] = depth\n",
    "\n",
    "    generate_latex_table(metricsCV, false)\n",
    "\n",
    "end\n",
    "\n",
    "println(\"----------------------------------------------------------------\")\n",
    "\n",
    "for depth in depths\n",
    "    dtParameters[\"maxDepth\"] = depth\n",
    "    metrics = createAndTrainFinalModel(dtParameters[\"modelType\"], dtParameters, pca_train, train_balanced_output, pca_test, test_balanced_output)\n",
    "    metrics[\"topology\"] = depth\n",
    "\n",
    "    generate_latex_table(metrics, true)\n",
    "\n",
    "end\n"
   ]
  }
 ],
 "metadata": {
  "kernelspec": {
   "display_name": "Julia 1.9.3",
   "language": "julia",
   "name": "julia-1.9"
  },
  "language_info": {
   "file_extension": ".jl",
   "mimetype": "application/julia",
   "name": "julia",
   "version": "1.9.3"
  }
 },
 "nbformat": 4,
 "nbformat_minor": 5
}
