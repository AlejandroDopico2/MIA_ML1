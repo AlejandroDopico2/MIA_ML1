{
 "cells": [
  {
   "cell_type": "markdown",
   "id": "57c56216",
   "metadata": {
    "pycharm": {
     "name": "#%% md\n"
    }
   },
   "source": [
    "# Metrics\n",
    "\n",
    "We have used simple functions in the previous assignments, such as MSE in regression problems or accuracy in classification problems, to quantify the goodness-of-fit of the model. While in regression problems the functions are based on an error calculated in one way or another (mean error, mean square error, etc.), in classification problems other types of metrics can be derived depending on what the problem being solved is like. Many of these metrics, at least those that will be used in practice, are based on the calculation of the confusion matrix.\n",
    "\n",
    "A confusion matrix is a square matrix, with as many rows and columns as classes, showing the distribution of patterns in classes, and the classification performed by the model. Usually the rows show how the model has performed the classification, and the columns show the actual classification values, although this may vary depending on the source consulted.\n",
    "\n",
    "The simplest case corresponds to 2 classes, where one is considered \"negative\" and the other \"positive\". A two-class confusion matrix would be as follows:"
   ]
  },
  {
   "cell_type": "raw",
   "id": "f36c1274",
   "metadata": {
    "pycharm": {
     "name": "#%% raw\n"
    }
   },
   "source": [
    "                         Prediction      \n",
    "                  +----------+----------+\n",
    "                  | Negative | Positive |\n",
    "       +----------+----------+----------+\n",
    "       | Negative |    TN    |    FP    |\n",
    "  Real +----------+----------+----------+\n",
    "       | Positive |    FN    |    TP    |\n",
    "       +----------+----------+----------+"
   ]
  },
  {
   "cell_type": "markdown",
   "id": "43f184c9",
   "metadata": {
    "pycharm": {
     "name": "#%% md\n"
    }
   },
   "source": [
    "This confusion matrix contains 4 values, which can be divided\n",
    "\n",
    "- according to the output of the model: positive or negative.\n",
    "- depending on whether the model is wrong or not: true or false. \n",
    "\n",
    "Thus, these 4 values are called true negatives (TN), false positives (FP), false negatives (FN) and true positives (TP). For example, false negatives would be the number of patterns that the system has classified as negative, and has been wrong because they were actually positive.\n",
    "\n",
    "From this confusion matrix, different metrics can be calculated. Depending on the problem you are working on, it will be more interesting to follow one or the other. Some of the most most commonly used metrics are:\n",
    "\n",
    "- **Accuracy**. Ratio of patterns in which the prediction is correct. Calculated as $$\\frac{TN+TP}{TN+TP+FN+FP}$$\n",
    "- **Error rate**. Ratio of patterns in which the prediction is wrong. Calculated as $$\\frac{FP+FN}{TN+TP+FN+FP}$$\n",
    "- **Sensitivity** or **recall**. Indicates the probability that a positive classification result is obtained for a positive case. It is calculated as $$\\frac{TP}{FN+TP}$$\n",
    "    - In a medical test, the test sensitivity represents the probability that a sick (positive) subject will have a positive test result.\n",
    "- **Specificity**. Indicates the probability that a negative classification result is obatined for a negative case. It is calculated as $$\\frac{TN}{FP+TN}$$\n",
    "    - The specificity of a test represents the probability that a healthy (negative) subject will have a negative test result.\n",
    "- **Precision** or **positive predictive value**. Ratio of positive patterns that have been correctly classified. Calculated as $$\\frac{TP}{TP+FP}$$\n",
    "- **Negative predictive value**. Ratio of positive patterns that have been correctly classified. Calculated as $$\\frac{TN}{TN+FN}$$\n",
    "- **F-score**, **F1-score** or **F-measurement**. It is defined as the harmonic mean of precision and recall.\n",
    "\n",
    "It is worth clarifying that these metrics, as well as others seen in theory class (ROC curve, Kappa index) are used to assess already trained classifiers, not to perform the training process. To be trained, each model has its own function to quantify the error or goodness of fit, such as the cross-entropy function in the case of neural networks.\n",
    "\n",
    "The accuracy is probably the most commonly used value, as it indicates the success rate of the classifier in a simple way. However, depending on the problem you are working with, it may not be the most appropriate metric. For example, in a mass population-based test for a disease where it is known that most people do not have the disease, a model that classifies everyone as negative (healthy) will have a very high accuracy, even though the model does not actually do anything.\n",
    "\n",
    "For this reason, it is necessary to assess which metric or metrics are the most used for each kind of problem. In many problems where the different classes are of equal importance, the accuracy value may be enough. However, in other problems, it may be of more interest to evaluate the situations in which a positive response is or should be produced by the model, as it could indicate something critical, such as detecting a disease or raising some kind of alarm. For this reason, sensitivity and positive predictive value values are often taken into account in addition to accuracy. There is a more extensive discussion of this in the theory notes, but a possible informal guide might be the following:\n",
    "\n",
    "- If you want to minimise the number of positives incorrectly classified as negative (e.g. maximise the number of correctly diagnosed sick subjects, or maximise the number of alarms given for risky situations), the indicated metric is sensitivity (recall).\n",
    "- If one wishes to minimise the number of samples incorrectly classified as positives (false positives, e.g. sick subjects diagnosed as healthy, or situations where an alarm should not has been raised but it was), the indicated metric is the positive predictive value (precision).\n",
    "\n",
    "Therefore, the most appropriate metric depends entirely on the specific problem, according to the relative importance of the classifier output and its behaviour. In this type of problem, the F-score is a metric that may be more useful than accuracy.\n",
    "\n",
    "Another issue to be considered is the data imbalance. Accuracy is a metric that gives a \"global\" view, which can be misleading when the distribution in classes is unbalanced. In these cases, F-score is a better metric. Having unbalanced databases is very common, which provides an extra argument for using F-score rather than accuracy.\n",
    "\n",
    "Finally, if you have more than two classes, it is possible to build a confusion matrix in a similar way by having one row and column per class. For example:\n"
   ]
  },
  {
   "cell_type": "raw",
   "id": "03ce5ee0",
   "metadata": {
    "pycharm": {
     "name": "#%% raw\n"
    }
   },
   "source": [
    "             Prediction \n",
    "           +---+---+---+\n",
    "           | A | B | C |\n",
    "       +---+---+---+---+\n",
    "       | A |   |   |   |\n",
    "       +---+---+---+---+\n",
    "  Real | B |   |   |   |\n",
    "       +---+---+---+---+\n",
    "       | C |   |   |   |\n",
    "       +---+---+---+---+"
   ]
  },
  {
   "cell_type": "markdown",
   "id": "37f6a477",
   "metadata": {
    "pycharm": {
     "name": "#%% md\n"
    }
   },
   "source": [
    "In these cases, it is no longer possible to speak of positive or negative patterns, since there are more than two classes, nor to take values for sensitivity or positive predictive value. However, this confusion matrix can offer very interesting information when it comes to understanding how the model works, assessing which are the classes between which the model finds it easiest and most difficult to separate.\n",
    "\n",
    "### Question\n",
    "If the pattern set has been divided into training and test subsets, which subset should be used to calculated the confusion matrix?"
   ]
  },
  {
   "cell_type": "markdown",
   "id": "fdc6397f",
   "metadata": {
    "pycharm": {
     "name": "#%% md\n"
    }
   },
   "source": [
    "**The test subset to see how the model performs on real world.**"
   ]
  },
  {
   "cell_type": "markdown",
   "id": "8354cd47",
   "metadata": {
    "pycharm": {
     "name": "#%% md\n"
    }
   },
   "source": [
    "In this assignment, you are asked to:\n",
    "\n",
    "1. Develop a function called `confusionMatrix` which takes two vectors of equal length (the number of patterns), the first one containing the outputs obtained by a model (`outputs`) and the second with the desired outputs (`targets`), both of type `AbstractArray{Bool,1}`. This function should return:\n",
    "    - Accuracy\n",
    "    - Error rate\n",
    "    - Sensitivity\n",
    "    - Specificity\n",
    "    - Positive predicitive value\n",
    "    - Negative predicitve value\n",
    "    - F-score\n",
    "    - Confusion matrix, as an object of type `Array{Int64,2}` with two rows and two columns\n",
    "    \n",
    "    As this function is being fed with boolean-valued vectors, it will be applicable to problems with two classes (positive and negative cases).\n",
    "\n",
    "    It is necessary to consider some particular situations when calculated the required classification metrics.\n",
    "    \n",
    "        - If every pattern is a true negative, neither the sensitivity nor the positive predictive value can be calculated. In this case the system works correctly, so these two metrics will be 1.\n",
    "        - Similarly, neither the specificity nor the negative predictive value can be obtained and if every pattern is a true positive, so both metrics have to be manually set to 1.\n",
    "        - If neither of these two cases has occurred and there is still any metric which cannot be calculated, it will take the value of 0. For example, if the sensitivity could not be calculated, it means that there was no pattern with a positive desired output.\n",
    "        - It both sensitivity and positive predictive values are equal to 0, the value of F-score cannot be obtained, and thus it will be 0.\n",
    "        \n",
    "    Do not use loops inside the developed function.\n"
   ]
  },
  {
   "cell_type": "code",
   "execution_count": 1,
   "id": "bd4df5f7",
   "metadata": {
    "pycharm": {
     "name": "#%%\n"
    }
   },
   "outputs": [
    {
     "data": {
      "text/plain": [
       "confusionMatrix (generic function with 1 method)"
      ]
     },
     "execution_count": 1,
     "metadata": {},
     "output_type": "execute_result"
    }
   ],
   "source": [
    "function confusionMatrix(outputs::AbstractArray{Bool,1}, targets::AbstractArray{Bool,1})\n",
    "    \n",
    "    @assert(length(outputs) == length(targets))\n",
    "    \n",
    "    tp = sum(outputs .& targets)\n",
    "    tn = sum(.!outputs .& .!targets)\n",
    "    fp = sum(outputs .& .!targets)\n",
    "    fn = sum(.!outputs .& targets)\n",
    "\n",
    "    nPatterns = length(targets)\n",
    "\n",
    "    accuracy = (tp + tn) / nPatterns\n",
    "    errorRate = 1 - accuracy\n",
    "\n",
    "    sensitivity = tp / (tp + fn)\n",
    "    specificity = tn / (tn + fp)\n",
    "\n",
    "    precision = tp / (tp + fp)\n",
    "    negative_predictive_value = tn / (tn + fn)\n",
    "\n",
    "    if isnan(sensitivity) && isnan(precision)\n",
    "        sensitivity = 1.\n",
    "        precision = 1.\n",
    "    elseif isnan(specificity) && isnan(negative_predictive_value)\n",
    "        specificity = 1.\n",
    "        negative_predictive_value = 1.\n",
    "    end\n",
    "\n",
    "    sensitivity = isnan(sensitivity) ? 0. : sensitivity\n",
    "    precision = isnan(precision) ? 0. : precision\n",
    "    specificity = isnan(specificity) ? 0. : specificity\n",
    "    negative_predictive_value = isnan(negative_predictive_value) ? 0. : negative_predictive_value\n",
    "\n",
    "    confusion_matrix = [tp fp; fn tn]\n",
    "\n",
    "    fScore = (precision == sensitivity == 0) ? 0 : 2 * (precision * sensitivity) / (precision + sensitivity)\n",
    "\n",
    "    return (accuracy=accuracy,\n",
    "            errorRate=errorRate,\n",
    "            sensitivity=sensitivity,\n",
    "            specificity=specificity,\n",
    "            precision=precision,\n",
    "            negative_predictive_value=negative_predictive_value,\n",
    "            fScore=fScore,\n",
    "            confusion_matrix=confusion_matrix)\n",
    "end\n"
   ]
  },
  {
   "cell_type": "code",
   "execution_count": 2,
   "id": "b115ea78-963b-4dbe-bfbf-78fff3f7fe53",
   "metadata": {},
   "outputs": [
    {
     "name": "stdout",
     "output_type": "stream",
     "text": [
      "(accuracy = 1.0, errorRate = 0.0, sensitivity = 1.0, specificity = 1.0, precision = 1.0, negative_predictive_value = 1.0, fScore = 1.0, confusion_matrix = [0 0; 0 5])\n",
      "(accuracy = 1.0, errorRate = 0.0, sensitivity = 1.0, specificity = 1.0, precision = 1.0, negative_predictive_value = 1.0, fScore = 1.0, confusion_matrix = [5 0; 0 0])\n",
      "(accuracy = 0.8, errorRate = 0.19999999999999996, sensitivity = 0.0, specificity = 1.0, precision = 0.0, negative_predictive_value = 0.8, fScore = 0, confusion_matrix = [0 0; 1 4])\n",
      "(accuracy = 0.8, errorRate = 0.19999999999999996, sensitivity = 1.0, specificity = 0.0, precision = 0.8, negative_predictive_value = 0.0, fScore = 0.888888888888889, confusion_matrix = [4 1; 0 0])\n",
      "(accuracy = 0.0, errorRate = 1.0, sensitivity = 0.0, specificity = 0.0, precision = 0.0, negative_predictive_value = 0.0, fScore = 0, confusion_matrix = [0 1; 4 0])\n"
     ]
    }
   ],
   "source": [
    "outputs_true_negative = [false, false, false, false, false]\n",
    "targets_true_negative = [false, false, false, false, false]\n",
    "\n",
    "print(confusionMatrix(outputs_true_negative, targets_true_negative), \"\\n\")\n",
    "\n",
    "outputs_true_positive = [true, true, true, true, true]\n",
    "targets_true_positive = [true, true, true, true, true]\n",
    "\n",
    "print(confusionMatrix(outputs_true_positive, targets_true_positive), \"\\n\")\n",
    "\n",
    "outputs_no_positive = [false, false, false, false, false]\n",
    "targets_no_positive = [false, false, false, false, true]\n",
    "\n",
    "print(confusionMatrix(outputs_no_positive, targets_no_positive), \"\\n\")\n",
    "\n",
    "outputs_no_negative = [true, true, true, true, true]\n",
    "targets_no_negative = [true, true, true, true, false]\n",
    "\n",
    "print(confusionMatrix(outputs_no_negative, targets_no_negative), \"\\n\")\n",
    "\n",
    "outputs_zero_sensitivity_ppv = [false, false, false, false, true]\n",
    "targets_zero_sensitivity_ppv = [true, true, true, true, false]\n",
    "\n",
    "print(confusionMatrix(outputs_zero_sensitivity_ppv, targets_zero_sensitivity_ppv), \"\\n\")\n"
   ]
  },
  {
   "cell_type": "markdown",
   "id": "720b35e9",
   "metadata": {
    "pycharm": {
     "name": "#%% md\n"
    }
   },
   "source": [
    "2. Many models (e.g. artificial neural networks) do not return a categorial output for each pattern, but the probability that it is \"positive\". For this reason, it is requested to develop a function with the same name as the previous one, whose first parameter is not a vector of boolean values but a vector of real values (of type `AbstractArray{<:Real}`). It also receives an optional third parameter with a threshold, with a default value, which is used to apply the previous function and return, therefore, the same values."
   ]
  },
  {
   "cell_type": "code",
   "execution_count": 3,
   "id": "2b7712ee",
   "metadata": {
    "pycharm": {
     "name": "#%%\n"
    }
   },
   "outputs": [
    {
     "data": {
      "text/plain": [
       "confusionMatrix (generic function with 2 methods)"
      ]
     },
     "execution_count": 3,
     "metadata": {},
     "output_type": "execute_result"
    }
   ],
   "source": [
    "function confusionMatrix(outputs::AbstractArray{<:Real,1},targets::AbstractArray{Bool,1}; threshold::Real=0.5)\n",
    "    outputs = outputs .> threshold\n",
    "    return confusionMatrix(outputs, targets)\n",
    "end"
   ]
  },
  {
   "cell_type": "code",
   "execution_count": 4,
   "id": "69201ad3-6981-43e7-84b0-a51f3210602a",
   "metadata": {},
   "outputs": [
    {
     "name": "stdout",
     "output_type": "stream",
     "text": [
      "(accuracy = 0.6, errorRate = 0.4, sensitivity = 0.6666666666666666, specificity = 0.5, precision = 0.6666666666666666, negative_predictive_value = 0.5, fScore = 0.6666666666666666, confusion_matrix = [2 1; 1 1])\n"
     ]
    }
   ],
   "source": [
    "outputs_true_negative = [0.7, 0.2, 0.55, 0.6, 0.1]\n",
    "targets_true_negative = [true, false, true, false, true]\n",
    "\n",
    "print(confusionMatrix(outputs_true_negative, targets_true_negative), \"\\n\")"
   ]
  },
  {
   "cell_type": "markdown",
   "id": "3b1b8dad",
   "metadata": {
    "pycharm": {
     "name": "#%% md\n"
    }
   },
   "source": [
    "3. Develop two functions with the same name, `printConfusionMatrix`, that receive the model outputs and the desired outputs, call the previous functions and display the results obtained, including the confusion matrix. One of these functions shall receive a vector of model classifications (`outputs`) of type `AbstractArray{Bool,1}`, while for the other one this parameter shall be a vector of real values (of type `AbstractArray{<:Real}`). These functions will make calls to the previous functions."
   ]
  },
  {
   "cell_type": "code",
   "execution_count": 36,
   "id": "90e01e78",
   "metadata": {
    "pycharm": {
     "name": "#%%\n"
    }
   },
   "outputs": [
    {
     "data": {
      "text/plain": [
       "printConfusionMatrix (generic function with 2 methods)"
      ]
     },
     "execution_count": 36,
     "metadata": {},
     "output_type": "execute_result"
    }
   ],
   "source": [
    "function printConfusionMatrix(outputs::AbstractArray{Bool,1}, targets::AbstractArray{Bool,1})\n",
    "    results = confusionMatrix(outputs, targets)\n",
    "\n",
    "    accuracy = results.accuracy\n",
    "    errorRate = results.errorRate\n",
    "    sensitivity = results.sensitivity\n",
    "    specificity = results.specificity\n",
    "    precision = results.precision\n",
    "    negative_predictive_value = results.negative_predictive_value\n",
    "    fScore = results.fScore\n",
    "    confusion_matrix = results.confusion_matrix\n",
    "\n",
    "    println(\"Confusion Matrix:\")\n",
    "    println(\"True Positives:   \", confusion_matrix[1, 1])\n",
    "    println(\"False Negatives:  \", confusion_matrix[2, 1])\n",
    "    println(\"True Negatives:   \", confusion_matrix[2, 2])\n",
    "    println(\"False Positives:  \", confusion_matrix[1, 2])\n",
    "\n",
    "    println(\"\\t\\t\\t\\tActual\")\n",
    "    println(\"\\t\\t\\t+----------+----------+\")\n",
    "    println(\"\\t\\t\\t| Positive | Negative |\")\n",
    "    println(\"\\t\\t+------- +----------+----------+\")\n",
    "    println(\"\\t\\t| Positive|    \", confusion_matrix[1,1], \"    |    \", confusion_matrix[1, 2], \"    |\")\n",
    "    println(\"Predicted\\t +----------+----------+----------+\")\n",
    "    println(\"\\t\\t| Negative|    \", confusion_matrix[2, 1], \"    |    \", confusion_matrix[2,2], \"    |\")\n",
    "    println(\"\\t\\t+----------+----------+----------+\")\n",
    "\n",
    "    print(\"Accuracy: \", round(accuracy * 100, digits=2), \"% \")\n",
    "    print(\"Error Rate: \", round(errorRate * 100, digits=2), \"% \")\n",
    "    print(\"Sensitivity (True Positive Rate): \", round(sensitivity * 100, digits=2), \"% \")\n",
    "    print(\"Specificity (True Negative Rate): \", round(specificity * 100, digits=2), \"% \")\n",
    "    print(\"Precision (Positive Predictive Value): \", round(precision * 100, digits=2), \"% \")\n",
    "    print(\"Negative Predictive Value: \", round(negative_predictive_value * 100, digits=2), \"% \")\n",
    "    print(\"F1 Score: \", round(fScore, digits=2))\n",
    "\n",
    "end"
   ]
  },
  {
   "cell_type": "code",
   "execution_count": 37,
   "id": "06459ff2-6727-4ef2-ba10-dc6e931590ee",
   "metadata": {},
   "outputs": [
    {
     "name": "stdout",
     "output_type": "stream",
     "text": [
      "Confusion Matrix:\n",
      "True Positives:   3\n",
      "False Negatives:  1\n",
      "True Negatives:   2\n",
      "False Positives:  1\n",
      "\t\t\t\tActual\n",
      "\t\t\t+----------+----------+\n",
      "\t\t\t| Positive | Negative |\n",
      "\t\t+------- +----------+----------+\n",
      "\t\t| Positive|    3    |    1    |\n",
      "Predicted\t +----------+----------+----------+\n",
      "\t\t| Negative|    1    |    2    |\n",
      "\t\t+----------+----------+----------+\n",
      "Accuracy: 71.43% Error Rate: 28.57% Sensitivity (True Positive Rate): 75.0% Specificity (True Negative Rate): 66.67% Precision (Positive Predictive Value): 75.0% Negative Predictive Value: 66.67% F1 Score: 0.75"
     ]
    }
   ],
   "source": [
    "outputs = [true, true, false, false, true, false, true]\n",
    "targets = [true, false, false, false, true, true, true]\n",
    "\n",
    "printConfusionMatrix(outputs, targets)"
   ]
  },
  {
   "cell_type": "code",
   "execution_count": 38,
   "id": "13c6f9c8",
   "metadata": {
    "pycharm": {
     "name": "#%%\n"
    }
   },
   "outputs": [
    {
     "data": {
      "text/plain": [
       "printConfusionMatrix (generic function with 2 methods)"
      ]
     },
     "execution_count": 38,
     "metadata": {},
     "output_type": "execute_result"
    }
   ],
   "source": [
    "function printConfusionMatrix(outputs::AbstractArray{<:Real,1},targets::AbstractArray{Bool,1}; threshold::Real=0.5)\n",
    "    outputs = outputs .> threshold\n",
    "    return printConfusionMatrix(outputs, targets)\n",
    "end"
   ]
  },
  {
   "cell_type": "code",
   "execution_count": 39,
   "id": "d4a116ec-e302-40a4-b9b0-f0c7049f50d4",
   "metadata": {},
   "outputs": [
    {
     "name": "stdout",
     "output_type": "stream",
     "text": [
      "Confusion Matrix:\n",
      "True Positives:   3\n",
      "False Negatives:  1\n",
      "True Negatives:   2\n",
      "False Positives:  1\n",
      "\t\t\t\tActual\n",
      "\t\t\t+----------+----------+\n",
      "\t\t\t| Positive | Negative |\n",
      "\t\t+------- +----------+----------+\n",
      "\t\t| Positive|    3    |    1    |\n",
      "Predicted\t +----------+----------+----------+\n",
      "\t\t| Negative|    1    |    2    |\n",
      "\t\t+----------+----------+----------+\n",
      "Accuracy: 71.43% Error Rate: 28.57% Sensitivity (True Positive Rate): 75.0% Specificity (True Negative Rate): 66.67% Precision (Positive Predictive Value): 75.0% Negative Predictive Value: 66.67% F1 Score: 0.75"
     ]
    }
   ],
   "source": [
    "outputs = [0.7, 0.8, 0.4, 0.3, 0.6, 0.1, 0.8]\n",
    "targets = [true, false, false, false, true, true, true]\n",
    "\n",
    "printConfusionMatrix(outputs, targets)"
   ]
  }
 ],
 "metadata": {
  "kernelspec": {
   "display_name": "Julia 1.9.3",
   "language": "julia",
   "name": "julia-1.9"
  },
  "language_info": {
   "file_extension": ".jl",
   "mimetype": "application/julia",
   "name": "julia",
   "version": "1.9.3"
  }
 },
 "nbformat": 4,
 "nbformat_minor": 5
}
