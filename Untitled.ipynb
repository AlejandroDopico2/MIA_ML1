{
 "cells": [
  {
   "cell_type": "code",
   "execution_count": 12,
   "id": "70e6caea-a561-4057-8fce-1e919df5ef88",
   "metadata": {},
   "outputs": [
    {
     "data": {
      "text/plain": [
       "5×3 BitMatrix:\n",
       " 1  0  0\n",
       " 1  0  0\n",
       " 1  0  0\n",
       " 0  1  0\n",
       " 1  0  0"
      ]
     },
     "execution_count": 12,
     "metadata": {},
     "output_type": "execute_result"
    }
   ],
   "source": [
    "a = ['a', 'b', 'c'] \n",
    "permutedims(a) .== ['a', 'a', 'a', 'b', 'a']"
   ]
  }
 ],
 "metadata": {
  "kernelspec": {
   "display_name": "Julia 1.9.3",
   "language": "julia",
   "name": "julia-1.9"
  },
  "language_info": {
   "file_extension": ".jl",
   "mimetype": "application/julia",
   "name": "julia",
   "version": "1.9.3"
  }
 },
 "nbformat": 4,
 "nbformat_minor": 5
}
